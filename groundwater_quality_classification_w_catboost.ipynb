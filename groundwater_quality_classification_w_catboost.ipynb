{
  "cells": [
    {
      "cell_type": "markdown",
      "metadata": {
        "id": "J_CQ0Oq9Pd5g"
      },
      "source": [
        "<b>The dataset is very unbalanced. </b> For example, C3S4 and C3S4 classes have only one sample. This situation is not good in respect of  using the oversampling methods. <br>\n",
        "\n",
        "I tried to create a new class (called the other) by combining other classes which have a small sample size.\n",
        "Finally, there are six classes to classify, named 'C2S1', 'C3S1', 'C3S2', 'C4S1', 'C4S2', 'Other'.\n",
        "\n",
        "\n",
        "## Results\n",
        "\n",
        "I have used optima for optimizing the model. The results were not very good. Although our model gained reasonable precision/recall scores in a few classes, some classes have bad scores.<br>\n",
        "\n",
        "- (Test Set) R2 score : 82.851\n",
        "- (Test Set) MAE : 0.207831\n",
        "\n",
        "| class        \t| precision \t| recall \t| f1-score \t| support \t|\n",
        "|--------------\t|-----------\t|--------\t|----------\t|---------\t|\n",
        "| 0            \t| 1.00      \t| 0.97   \t| 0.99     \t| 76      \t|\n",
        "| 1            \t| 0.97      \t| 0.99   \t| 0.98     \t| 204     \t|\n",
        "| 2            \t| 0.25      \t| 0.17   \t| 0.20     \t| 6       \t|\n",
        "| 3            \t| 0.88      \t| 0.88   \t| 0.88     \t| 26      \t|\n",
        "| 4            \t| 0.73      \t| 0.67   \t| 0.70     \t| 12      \t|\n",
        "| 5            \t| 0.62      \t| 0.62   \t| 0.62     \t| 8       \t|\n",
        "| accuracy     \t|           \t|        \t| 0.94     \t| 332     \t|\n",
        "| macro avg    \t| 0.74      \t| 0.72   \t| 0.73     \t| 332     \t|\n",
        "| weighted avg \t| 0.94      \t| 0.94   \t| 0.94     \t| 332     \t|"
      ]
    },
    {
      "cell_type": "code",
      "execution_count": 45,
      "metadata": {
        "colab": {
          "base_uri": "https://localhost:8080/"
        },
        "id": "kgIS3TbPPum0",
        "outputId": "2943e2ad-aa3f-40db-c225-ebf8f005f841"
      },
      "outputs": [
        {
          "name": "stdout",
          "output_type": "stream",
          "text": [
            "Requirement already satisfied: catboost in d:\\program\\miniconda3\\envs\\sister\\lib\\site-packages (1.2.2)\n",
            "Requirement already satisfied: graphviz in d:\\program\\miniconda3\\envs\\sister\\lib\\site-packages (from catboost) (0.20.1)\n",
            "Requirement already satisfied: matplotlib in d:\\program\\miniconda3\\envs\\sister\\lib\\site-packages (from catboost) (3.8.0)\n",
            "Requirement already satisfied: numpy>=1.16.0 in d:\\program\\miniconda3\\envs\\sister\\lib\\site-packages (from catboost) (1.26.0)\n",
            "Requirement already satisfied: pandas>=0.24 in d:\\program\\miniconda3\\envs\\sister\\lib\\site-packages (from catboost) (2.1.1)\n",
            "Requirement already satisfied: scipy in d:\\program\\miniconda3\\envs\\sister\\lib\\site-packages (from catboost) (1.11.3)\n",
            "Requirement already satisfied: plotly in d:\\program\\miniconda3\\envs\\sister\\lib\\site-packages (from catboost) (5.17.0)\n",
            "Requirement already satisfied: six in d:\\program\\miniconda3\\envs\\sister\\lib\\site-packages (from catboost) (1.16.0)\n",
            "Requirement already satisfied: python-dateutil>=2.8.2 in d:\\program\\miniconda3\\envs\\sister\\lib\\site-packages (from pandas>=0.24->catboost) (2.8.2)\n",
            "Requirement already satisfied: pytz>=2020.1 in d:\\program\\miniconda3\\envs\\sister\\lib\\site-packages (from pandas>=0.24->catboost) (2023.3.post1)\n",
            "Requirement already satisfied: tzdata>=2022.1 in d:\\program\\miniconda3\\envs\\sister\\lib\\site-packages (from pandas>=0.24->catboost) (2023.3)\n",
            "Requirement already satisfied: contourpy>=1.0.1 in d:\\program\\miniconda3\\envs\\sister\\lib\\site-packages (from matplotlib->catboost) (1.1.1)\n",
            "Requirement already satisfied: cycler>=0.10 in d:\\program\\miniconda3\\envs\\sister\\lib\\site-packages (from matplotlib->catboost) (0.12.1)\n",
            "Requirement already satisfied: fonttools>=4.22.0 in d:\\program\\miniconda3\\envs\\sister\\lib\\site-packages (from matplotlib->catboost) (4.43.1)\n",
            "Requirement already satisfied: kiwisolver>=1.0.1 in d:\\program\\miniconda3\\envs\\sister\\lib\\site-packages (from matplotlib->catboost) (1.4.5)\n",
            "Requirement already satisfied: packaging>=20.0 in d:\\program\\miniconda3\\envs\\sister\\lib\\site-packages (from matplotlib->catboost) (23.2)\n",
            "Requirement already satisfied: pillow>=6.2.0 in d:\\program\\miniconda3\\envs\\sister\\lib\\site-packages (from matplotlib->catboost) (10.1.0)\n",
            "Requirement already satisfied: pyparsing>=2.3.1 in d:\\program\\miniconda3\\envs\\sister\\lib\\site-packages (from matplotlib->catboost) (3.1.1)\n",
            "Requirement already satisfied: tenacity>=6.2.0 in d:\\program\\miniconda3\\envs\\sister\\lib\\site-packages (from plotly->catboost) (8.2.3)\n",
            "Note: you may need to restart the kernel to use updated packages.\n",
            "Requirement already satisfied: scikit-learn in d:\\program\\miniconda3\\envs\\sister\\lib\\site-packages (1.3.1)\n",
            "Requirement already satisfied: numpy<2.0,>=1.17.3 in d:\\program\\miniconda3\\envs\\sister\\lib\\site-packages (from scikit-learn) (1.26.0)\n",
            "Requirement already satisfied: scipy>=1.5.0 in d:\\program\\miniconda3\\envs\\sister\\lib\\site-packages (from scikit-learn) (1.11.3)\n",
            "Requirement already satisfied: joblib>=1.1.1 in d:\\program\\miniconda3\\envs\\sister\\lib\\site-packages (from scikit-learn) (1.3.2)\n",
            "Requirement already satisfied: threadpoolctl>=2.0.0 in d:\\program\\miniconda3\\envs\\sister\\lib\\site-packages (from scikit-learn) (3.2.0)\n",
            "Note: you may need to restart the kernel to use updated packages.\n",
            "Requirement already satisfied: seaborn in d:\\program\\miniconda3\\envs\\sister\\lib\\site-packages (0.13.0)\n",
            "Requirement already satisfied: numpy!=1.24.0,>=1.20 in d:\\program\\miniconda3\\envs\\sister\\lib\\site-packages (from seaborn) (1.26.0)\n",
            "Requirement already satisfied: pandas>=1.2 in d:\\program\\miniconda3\\envs\\sister\\lib\\site-packages (from seaborn) (2.1.1)\n",
            "Requirement already satisfied: matplotlib!=3.6.1,>=3.3 in d:\\program\\miniconda3\\envs\\sister\\lib\\site-packages (from seaborn) (3.8.0)\n",
            "Requirement already satisfied: contourpy>=1.0.1 in d:\\program\\miniconda3\\envs\\sister\\lib\\site-packages (from matplotlib!=3.6.1,>=3.3->seaborn) (1.1.1)\n",
            "Requirement already satisfied: cycler>=0.10 in d:\\program\\miniconda3\\envs\\sister\\lib\\site-packages (from matplotlib!=3.6.1,>=3.3->seaborn) (0.12.1)\n",
            "Requirement already satisfied: fonttools>=4.22.0 in d:\\program\\miniconda3\\envs\\sister\\lib\\site-packages (from matplotlib!=3.6.1,>=3.3->seaborn) (4.43.1)\n",
            "Requirement already satisfied: kiwisolver>=1.0.1 in d:\\program\\miniconda3\\envs\\sister\\lib\\site-packages (from matplotlib!=3.6.1,>=3.3->seaborn) (1.4.5)\n",
            "Requirement already satisfied: packaging>=20.0 in d:\\program\\miniconda3\\envs\\sister\\lib\\site-packages (from matplotlib!=3.6.1,>=3.3->seaborn) (23.2)\n",
            "Requirement already satisfied: pillow>=6.2.0 in d:\\program\\miniconda3\\envs\\sister\\lib\\site-packages (from matplotlib!=3.6.1,>=3.3->seaborn) (10.1.0)\n",
            "Requirement already satisfied: pyparsing>=2.3.1 in d:\\program\\miniconda3\\envs\\sister\\lib\\site-packages (from matplotlib!=3.6.1,>=3.3->seaborn) (3.1.1)\n",
            "Requirement already satisfied: python-dateutil>=2.7 in d:\\program\\miniconda3\\envs\\sister\\lib\\site-packages (from matplotlib!=3.6.1,>=3.3->seaborn) (2.8.2)\n",
            "Requirement already satisfied: pytz>=2020.1 in d:\\program\\miniconda3\\envs\\sister\\lib\\site-packages (from pandas>=1.2->seaborn) (2023.3.post1)\n",
            "Requirement already satisfied: tzdata>=2022.1 in d:\\program\\miniconda3\\envs\\sister\\lib\\site-packages (from pandas>=1.2->seaborn) (2023.3)\n",
            "Requirement already satisfied: six>=1.5 in d:\\program\\miniconda3\\envs\\sister\\lib\\site-packages (from python-dateutil>=2.7->matplotlib!=3.6.1,>=3.3->seaborn) (1.16.0)\n",
            "Note: you may need to restart the kernel to use updated packages.\n",
            "Requirement already satisfied: numpy in d:\\program\\miniconda3\\envs\\sister\\lib\\site-packages (1.26.0)\n",
            "Note: you may need to restart the kernel to use updated packages.\n",
            "Requirement already satisfied: pandas in d:\\program\\miniconda3\\envs\\sister\\lib\\site-packages (2.1.1)\n",
            "Requirement already satisfied: numpy>=1.22.4 in d:\\program\\miniconda3\\envs\\sister\\lib\\site-packages (from pandas) (1.26.0)\n",
            "Requirement already satisfied: python-dateutil>=2.8.2 in d:\\program\\miniconda3\\envs\\sister\\lib\\site-packages (from pandas) (2.8.2)\n",
            "Requirement already satisfied: pytz>=2020.1 in d:\\program\\miniconda3\\envs\\sister\\lib\\site-packages (from pandas) (2023.3.post1)\n",
            "Requirement already satisfied: tzdata>=2022.1 in d:\\program\\miniconda3\\envs\\sister\\lib\\site-packages (from pandas) (2023.3)\n",
            "Requirement already satisfied: six>=1.5 in d:\\program\\miniconda3\\envs\\sister\\lib\\site-packages (from python-dateutil>=2.8.2->pandas) (1.16.0)\n",
            "Note: you may need to restart the kernel to use updated packages.\n",
            "Requirement already satisfied: mealpy in d:\\program\\miniconda3\\envs\\sister\\lib\\site-packages (3.0.0)Note: you may need to restart the kernel to use updated packages.\n",
            "\n",
            "Requirement already satisfied: numpy>=1.17.5 in d:\\program\\miniconda3\\envs\\sister\\lib\\site-packages (from mealpy) (1.26.0)\n",
            "Requirement already satisfied: matplotlib>=3.3.0 in d:\\program\\miniconda3\\envs\\sister\\lib\\site-packages (from mealpy) (3.8.0)\n",
            "Requirement already satisfied: scipy>=1.7.1 in d:\\program\\miniconda3\\envs\\sister\\lib\\site-packages (from mealpy) (1.11.3)\n",
            "Requirement already satisfied: pandas>=1.2.0 in d:\\program\\miniconda3\\envs\\sister\\lib\\site-packages (from mealpy) (2.1.1)\n",
            "Requirement already satisfied: opfunu>=1.0.0 in d:\\program\\miniconda3\\envs\\sister\\lib\\site-packages (from mealpy) (1.0.1)\n",
            "Requirement already satisfied: contourpy>=1.0.1 in d:\\program\\miniconda3\\envs\\sister\\lib\\site-packages (from matplotlib>=3.3.0->mealpy) (1.1.1)\n",
            "Requirement already satisfied: cycler>=0.10 in d:\\program\\miniconda3\\envs\\sister\\lib\\site-packages (from matplotlib>=3.3.0->mealpy) (0.12.1)\n",
            "Requirement already satisfied: fonttools>=4.22.0 in d:\\program\\miniconda3\\envs\\sister\\lib\\site-packages (from matplotlib>=3.3.0->mealpy) (4.43.1)\n",
            "Requirement already satisfied: kiwisolver>=1.0.1 in d:\\program\\miniconda3\\envs\\sister\\lib\\site-packages (from matplotlib>=3.3.0->mealpy) (1.4.5)\n",
            "Requirement already satisfied: packaging>=20.0 in d:\\program\\miniconda3\\envs\\sister\\lib\\site-packages (from matplotlib>=3.3.0->mealpy) (23.2)\n",
            "Requirement already satisfied: pillow>=6.2.0 in d:\\program\\miniconda3\\envs\\sister\\lib\\site-packages (from matplotlib>=3.3.0->mealpy) (10.1.0)\n",
            "Requirement already satisfied: pyparsing>=2.3.1 in d:\\program\\miniconda3\\envs\\sister\\lib\\site-packages (from matplotlib>=3.3.0->mealpy) (3.1.1)\n",
            "Requirement already satisfied: python-dateutil>=2.7 in d:\\program\\miniconda3\\envs\\sister\\lib\\site-packages (from matplotlib>=3.3.0->mealpy) (2.8.2)\n",
            "Requirement already satisfied: requests>=2.27.0 in d:\\program\\miniconda3\\envs\\sister\\lib\\site-packages (from opfunu>=1.0.0->mealpy) (2.31.0)\n",
            "Requirement already satisfied: pytz>=2020.1 in d:\\program\\miniconda3\\envs\\sister\\lib\\site-packages (from pandas>=1.2.0->mealpy) (2023.3.post1)\n",
            "Requirement already satisfied: tzdata>=2022.1 in d:\\program\\miniconda3\\envs\\sister\\lib\\site-packages (from pandas>=1.2.0->mealpy) (2023.3)\n",
            "Requirement already satisfied: six>=1.5 in d:\\program\\miniconda3\\envs\\sister\\lib\\site-packages (from python-dateutil>=2.7->matplotlib>=3.3.0->mealpy) (1.16.0)\n",
            "Requirement already satisfied: charset-normalizer<4,>=2 in d:\\program\\miniconda3\\envs\\sister\\lib\\site-packages (from requests>=2.27.0->opfunu>=1.0.0->mealpy) (3.3.0)\n",
            "Requirement already satisfied: idna<4,>=2.5 in d:\\program\\miniconda3\\envs\\sister\\lib\\site-packages (from requests>=2.27.0->opfunu>=1.0.0->mealpy) (3.4)\n",
            "Requirement already satisfied: urllib3<3,>=1.21.1 in d:\\program\\miniconda3\\envs\\sister\\lib\\site-packages (from requests>=2.27.0->opfunu>=1.0.0->mealpy) (2.0.5)\n",
            "Requirement already satisfied: certifi>=2017.4.17 in d:\\program\\miniconda3\\envs\\sister\\lib\\site-packages (from requests>=2.27.0->opfunu>=1.0.0->mealpy) (2023.7.22)\n",
            "Requirement already satisfied: pyswarms in d:\\program\\miniconda3\\envs\\sister\\lib\\site-packages (1.3.0)\n",
            "Requirement already satisfied: scipy in d:\\program\\miniconda3\\envs\\sister\\lib\\site-packages (from pyswarms) (1.11.3)\n",
            "Requirement already satisfied: numpy in d:\\program\\miniconda3\\envs\\sister\\lib\\site-packages (from pyswarms) (1.26.0)\n",
            "Requirement already satisfied: matplotlib>=1.3.1 in d:\\program\\miniconda3\\envs\\sister\\lib\\site-packages (from pyswarms) (3.8.0)\n",
            "Requirement already satisfied: attrs in d:\\program\\miniconda3\\envs\\sister\\lib\\site-packages (from pyswarms) (23.1.0)\n",
            "Requirement already satisfied: tqdm in d:\\program\\miniconda3\\envs\\sister\\lib\\site-packages (from pyswarms) (4.66.1)\n",
            "Requirement already satisfied: future in d:\\program\\miniconda3\\envs\\sister\\lib\\site-packages (from pyswarms) (0.18.3)\n",
            "Requirement already satisfied: pyyaml in d:\\program\\miniconda3\\envs\\sister\\lib\\site-packages (from pyswarms) (6.0.1)\n",
            "Requirement already satisfied: contourpy>=1.0.1 in d:\\program\\miniconda3\\envs\\sister\\lib\\site-packages (from matplotlib>=1.3.1->pyswarms) (1.1.1)\n",
            "Requirement already satisfied: cycler>=0.10 in d:\\program\\miniconda3\\envs\\sister\\lib\\site-packages (from matplotlib>=1.3.1->pyswarms) (0.12.1)\n",
            "Requirement already satisfied: fonttools>=4.22.0 in d:\\program\\miniconda3\\envs\\sister\\lib\\site-packages (from matplotlib>=1.3.1->pyswarms) (4.43.1)\n",
            "Requirement already satisfied: kiwisolver>=1.0.1 in d:\\program\\miniconda3\\envs\\sister\\lib\\site-packages (from matplotlib>=1.3.1->pyswarms) (1.4.5)\n",
            "Requirement already satisfied: packaging>=20.0 in d:\\program\\miniconda3\\envs\\sister\\lib\\site-packages (from matplotlib>=1.3.1->pyswarms) (23.2)\n",
            "Requirement already satisfied: pillow>=6.2.0 in d:\\program\\miniconda3\\envs\\sister\\lib\\site-packages (from matplotlib>=1.3.1->pyswarms) (10.1.0)\n",
            "Requirement already satisfied: pyparsing>=2.3.1 in d:\\program\\miniconda3\\envs\\sister\\lib\\site-packages (from matplotlib>=1.3.1->pyswarms) (3.1.1)\n",
            "Requirement already satisfied: python-dateutil>=2.7 in d:\\program\\miniconda3\\envs\\sister\\lib\\site-packages (from matplotlib>=1.3.1->pyswarms) (2.8.2)\n",
            "Requirement already satisfied: colorama in d:\\program\\miniconda3\\envs\\sister\\lib\\site-packages (from tqdm->pyswarms) (0.4.6)\n",
            "Requirement already satisfied: six>=1.5 in d:\\program\\miniconda3\\envs\\sister\\lib\\site-packages (from python-dateutil>=2.7->matplotlib>=1.3.1->pyswarms) (1.16.0)\n",
            "Note: you may need to restart the kernel to use updated packages.\n",
            "Requirement already satisfied: gdown in d:\\program\\miniconda3\\envs\\sister\\lib\\site-packages (4.7.1)\n",
            "Requirement already satisfied: filelock in d:\\program\\miniconda3\\envs\\sister\\lib\\site-packages (from gdown) (3.13.0)\n",
            "Requirement already satisfied: requests[socks] in d:\\program\\miniconda3\\envs\\sister\\lib\\site-packages (from gdown) (2.31.0)\n",
            "Requirement already satisfied: six in d:\\program\\miniconda3\\envs\\sister\\lib\\site-packages (from gdown) (1.16.0)\n",
            "Requirement already satisfied: tqdm in d:\\program\\miniconda3\\envs\\sister\\lib\\site-packages (from gdown) (4.66.1)\n",
            "Requirement already satisfied: beautifulsoup4 in d:\\program\\miniconda3\\envs\\sister\\lib\\site-packages (from gdown) (4.12.2)\n",
            "Requirement already satisfied: soupsieve>1.2 in d:\\program\\miniconda3\\envs\\sister\\lib\\site-packages (from beautifulsoup4->gdown) (2.5)\n",
            "Requirement already satisfied: charset-normalizer<4,>=2 in d:\\program\\miniconda3\\envs\\sister\\lib\\site-packages (from requests[socks]->gdown) (3.3.0)\n",
            "Requirement already satisfied: idna<4,>=2.5 in d:\\program\\miniconda3\\envs\\sister\\lib\\site-packages (from requests[socks]->gdown) (3.4)\n",
            "Requirement already satisfied: urllib3<3,>=1.21.1 in d:\\program\\miniconda3\\envs\\sister\\lib\\site-packages (from requests[socks]->gdown) (2.0.5)\n",
            "Requirement already satisfied: certifi>=2017.4.17 in d:\\program\\miniconda3\\envs\\sister\\lib\\site-packages (from requests[socks]->gdown) (2023.7.22)\n",
            "Requirement already satisfied: PySocks!=1.5.7,>=1.5.6 in d:\\program\\miniconda3\\envs\\sister\\lib\\site-packages (from requests[socks]->gdown) (1.7.1)\n",
            "Requirement already satisfied: colorama in d:\\program\\miniconda3\\envs\\sister\\lib\\site-packages (from tqdm->gdown) (0.4.6)\n",
            "Note: you may need to restart the kernel to use updated packages.\n"
          ]
        }
      ],
      "source": [
        "%pip install catboost\n",
        "%pip install scikit-learn\n",
        "%pip install seaborn\n",
        "%pip install numpy\n",
        "%pip install pandas\n",
        "%pip install mealpy\n",
        "%pip install pyswarms\n",
        "%pip install gdown"
      ]
    },
    {
      "cell_type": "code",
      "execution_count": 46,
      "metadata": {
        "id": "i-ELspnDPd5m"
      },
      "outputs": [],
      "source": [
        "# Importing dependencies\n",
        "\n",
        "import warnings\n",
        "warnings.filterwarnings('ignore')\n",
        "\n",
        "import numpy as np\n",
        "import pandas as pd\n",
        "\n",
        "from sklearn.model_selection import train_test_split\n",
        "from sklearn.impute import KNNImputer, SimpleImputer\n",
        "from sklearn.preprocessing import LabelEncoder, StandardScaler, MinMaxScaler\n",
        "from sklearn.metrics import r2_score, mean_squared_error, classification_report\n",
        "from sklearn.utils.class_weight import compute_class_weight\n",
        "from sklearn.metrics import accuracy_score\n",
        "\n",
        "from catboost import CatBoostClassifier, Pool"
      ]
    },
    {
      "cell_type": "markdown",
      "metadata": {
        "id": "A0wgVzF2Pd5p"
      },
      "source": [
        "# <span style=\"color:#e74c3c;\"> Reading </span> Data\n"
      ]
    },
    {
      "cell_type": "code",
      "execution_count": 47,
      "metadata": {
        "colab": {
          "base_uri": "https://localhost:8080/"
        },
        "id": "fgZKwf_GQy-p",
        "outputId": "458f5be2-a69c-4805-e6ac-c17e2039cec8"
      },
      "outputs": [
        {
          "name": "stderr",
          "output_type": "stream",
          "text": [
            "Downloading...\n",
            "From: https://drive.google.com/uc?id=1SaxJ8KPMrV37ZsVTv5F5ava5aXtGRiSn\n",
            "To: d:\\projects\\python\\groundwater\\ground_water_quality_2019_post.csv\n",
            "\n",
            "  0%|          | 0.00/66.7k [00:00<?, ?B/s]\n",
            "100%|██████████| 66.7k/66.7k [00:00<00:00, 1.80MB/s]\n",
            "Downloading...\n",
            "From: https://drive.google.com/uc?id=1E6BZ-AEncUOWlsK96SFz5wBK8w7XjmVB\n",
            "To: d:\\projects\\python\\groundwater\\ground_water_quality_2020_post.csv\n",
            "\n",
            "  0%|          | 0.00/68.1k [00:00<?, ?B/s]\n",
            "100%|██████████| 68.1k/68.1k [00:00<00:00, 1.94MB/s]\n",
            "Downloading...\n",
            "From: https://drive.google.com/uc?id=195J88Onvr23J8HdFtO3D_Yezi97clcZ9\n",
            "To: d:\\projects\\python\\groundwater\\ground_water_quality_2018_post.csv\n",
            "\n",
            "  0%|          | 0.00/72.8k [00:00<?, ?B/s]\n",
            "100%|██████████| 72.8k/72.8k [00:00<00:00, 2.43MB/s]\n"
          ]
        }
      ],
      "source": [
        "!gdown 1SaxJ8KPMrV37ZsVTv5F5ava5aXtGRiSn\n",
        "!gdown 1E6BZ-AEncUOWlsK96SFz5wBK8w7XjmVB\n",
        "!gdown 195J88Onvr23J8HdFtO3D_Yezi97clcZ9"
      ]
    },
    {
      "cell_type": "code",
      "execution_count": 48,
      "metadata": {
        "id": "efuW4HT3Pd5q"
      },
      "outputs": [],
      "source": [
        "# Reading data and cleaning, renaming and other data cleaning applications\n",
        "\n",
        "data1 = pd.read_csv('./ground_water_quality_2018_post.csv')\n",
        "data2 = pd.read_csv('./ground_water_quality_2019_post.csv')\n",
        "data3 = pd.read_csv('./ground_water_quality_2020_post.csv')\n",
        "\n",
        "\n",
        "\n",
        "data2.rename( columns ={ 'EC' : 'E.C', 'CO_-2 ' : 'CO3', 'HCO_ - ' :'HCO3', 'Cl -' : 'Cl',\n",
        "                        'F -' : 'F', 'NO3- ': 'NO3 ' , 'SO4-2':'SO4' , 'Na+':'Na', 'K+':'K',\n",
        "                        'Ca+2' : 'Ca', 'Mg+2':'Mg'}, inplace = True)\n",
        "\n",
        "\n",
        "# dropping redundant columns\n",
        "data1.drop(['sno','season'], axis = 1, inplace = True)\n",
        "data2.drop(['sno','season'], axis = 1, inplace = True)\n",
        "data3.drop(['sno','Unnamed: 8', 'season'], axis = 1, inplace = True)\n",
        "\n",
        "\n",
        "# creating new columns\n",
        "data1['year'] = 2018\n",
        "data2['year'] = 2019\n",
        "data3['year'] = 2020\n",
        "\n",
        "\n",
        "# handling and fixing outliers\n",
        "data3['pH'].iloc[261] = data3['pH'].iloc[261].replace('8..05', '8.05')\n",
        "data3['pH'] = data3['pH'].apply(pd.to_numeric)\n",
        "\n",
        "data3['Classification'].iloc[178] = data3['Classification'].iloc[178].replace('O.G', 'OG')\n",
        "data3['Classification'].iloc[208] = data3['Classification'].iloc[208].replace('O.G', 'OG')\n"
      ]
    },
    {
      "cell_type": "code",
      "execution_count": 49,
      "metadata": {
        "id": "gA_PBJQXPd5r"
      },
      "outputs": [],
      "source": [
        "# creating and applying the new_class function\n",
        "\n",
        "def new_class(X):\n",
        "    if (X == 'C3S4') | (X == 'C2S2') | (X == 'C4S4') | (X == 'C3S3') | (X == 'C4S3') | (X == 'OG')  | (X == 'C1S1')  :\n",
        "        return 'Other'\n",
        "    else:\n",
        "        return X\n",
        "\n",
        "data1['Classification'] = data1['Classification'].apply(new_class)\n",
        "data2['Classification'] = data2['Classification'].apply(new_class)\n",
        "data3['Classification'] = data3['Classification'].apply(new_class)\n",
        "\n",
        "data_full = pd.concat([data1, data2, data3], axis = 0)"
      ]
    },
    {
      "cell_type": "code",
      "execution_count": 50,
      "metadata": {
        "colab": {
          "base_uri": "https://localhost:8080/"
        },
        "id": "HRjFR5C0Pd5s",
        "outputId": "fdba3f81-c10f-4817-d5a3-42adf0f65285"
      },
      "outputs": [
        {
          "data": {
            "text/plain": [
              "gwl     11\n",
              "CO3    160\n",
              "dtype: int64"
            ]
          },
          "execution_count": 50,
          "metadata": {},
          "output_type": "execute_result"
        }
      ],
      "source": [
        "# total null elements\n",
        "\n",
        "data_full.isnull().sum()[data_full.isnull().sum() > 0]"
      ]
    },
    {
      "cell_type": "code",
      "execution_count": 51,
      "metadata": {
        "id": "DKCPkaD3Pd5s"
      },
      "outputs": [],
      "source": [
        "# imputing null values\n",
        "\n",
        "imp_knn = KNNImputer(n_neighbors=3)\n",
        "\n",
        "data_full['CO3'] = imp_knn.fit_transform(np.array(data_full['CO3']).reshape(-1,1) )\n",
        "data_full['gwl'] = imp_knn.fit_transform(np.array(data_full['gwl']).reshape(-1,1) )"
      ]
    },
    {
      "cell_type": "code",
      "execution_count": 52,
      "metadata": {
        "colab": {
          "base_uri": "https://localhost:8080/"
        },
        "id": "toq1tT6wPd5t",
        "outputId": "b887cc0f-f4a1-49cc-cb90-b13acbd9a4fa"
      },
      "outputs": [
        {
          "data": {
            "text/plain": [
              "Series([], dtype: int64)"
            ]
          },
          "execution_count": 52,
          "metadata": {},
          "output_type": "execute_result"
        }
      ],
      "source": [
        "data_full.isnull().sum()[data_full.isnull().sum() > 0]"
      ]
    },
    {
      "cell_type": "code",
      "execution_count": 53,
      "metadata": {
        "colab": {
          "base_uri": "https://localhost:8080/",
          "height": 273
        },
        "id": "lkHQRdqyPd5u",
        "outputId": "c2c40539-38ab-4846-86ce-79a34664ab9e"
      },
      "outputs": [
        {
          "data": {
            "text/html": [
              "<div>\n",
              "<style scoped>\n",
              "    .dataframe tbody tr th:only-of-type {\n",
              "        vertical-align: middle;\n",
              "    }\n",
              "\n",
              "    .dataframe tbody tr th {\n",
              "        vertical-align: top;\n",
              "    }\n",
              "\n",
              "    .dataframe thead th {\n",
              "        text-align: right;\n",
              "    }\n",
              "</style>\n",
              "<table border=\"1\" class=\"dataframe\">\n",
              "  <thead>\n",
              "    <tr style=\"text-align: right;\">\n",
              "      <th></th>\n",
              "      <th>district</th>\n",
              "      <th>mandal</th>\n",
              "      <th>village</th>\n",
              "      <th>lat_gis</th>\n",
              "      <th>long_gis</th>\n",
              "      <th>gwl</th>\n",
              "      <th>pH</th>\n",
              "      <th>E.C</th>\n",
              "      <th>TDS</th>\n",
              "      <th>CO3</th>\n",
              "      <th>...</th>\n",
              "      <th>Na</th>\n",
              "      <th>K</th>\n",
              "      <th>Ca</th>\n",
              "      <th>Mg</th>\n",
              "      <th>T.H</th>\n",
              "      <th>SAR</th>\n",
              "      <th>Classification</th>\n",
              "      <th>RSC  meq  / L</th>\n",
              "      <th>Classification.1</th>\n",
              "      <th>year</th>\n",
              "    </tr>\n",
              "  </thead>\n",
              "  <tbody>\n",
              "    <tr>\n",
              "      <th>0</th>\n",
              "      <td>ADILABAD</td>\n",
              "      <td>Adilabad</td>\n",
              "      <td>Adilabad</td>\n",
              "      <td>19.668300</td>\n",
              "      <td>78.524700</td>\n",
              "      <td>5.09</td>\n",
              "      <td>8.28</td>\n",
              "      <td>745</td>\n",
              "      <td>476.80</td>\n",
              "      <td>0.0</td>\n",
              "      <td>...</td>\n",
              "      <td>49.0</td>\n",
              "      <td>4.0</td>\n",
              "      <td>48.0</td>\n",
              "      <td>38.896</td>\n",
              "      <td>279.934211</td>\n",
              "      <td>1.273328</td>\n",
              "      <td>C2S1</td>\n",
              "      <td>-1.198684</td>\n",
              "      <td>P.S.</td>\n",
              "      <td>2018</td>\n",
              "    </tr>\n",
              "    <tr>\n",
              "      <th>1</th>\n",
              "      <td>ADILABAD</td>\n",
              "      <td>Bazarhatnur</td>\n",
              "      <td>Bazarhatnur</td>\n",
              "      <td>19.458888</td>\n",
              "      <td>78.350833</td>\n",
              "      <td>5.10</td>\n",
              "      <td>8.29</td>\n",
              "      <td>921</td>\n",
              "      <td>589.44</td>\n",
              "      <td>0.0</td>\n",
              "      <td>...</td>\n",
              "      <td>42.0</td>\n",
              "      <td>5.0</td>\n",
              "      <td>56.0</td>\n",
              "      <td>63.206</td>\n",
              "      <td>399.893092</td>\n",
              "      <td>0.913166</td>\n",
              "      <td>C3S1</td>\n",
              "      <td>-3.397862</td>\n",
              "      <td>P.S.</td>\n",
              "      <td>2018</td>\n",
              "    </tr>\n",
              "    <tr>\n",
              "      <th>2</th>\n",
              "      <td>ADILABAD</td>\n",
              "      <td>Gudihatnoor</td>\n",
              "      <td>Gudihatnoor</td>\n",
              "      <td>19.525555</td>\n",
              "      <td>78.512222</td>\n",
              "      <td>4.98</td>\n",
              "      <td>7.69</td>\n",
              "      <td>510</td>\n",
              "      <td>326.40</td>\n",
              "      <td>0.0</td>\n",
              "      <td>...</td>\n",
              "      <td>45.0</td>\n",
              "      <td>2.0</td>\n",
              "      <td>24.0</td>\n",
              "      <td>38.896</td>\n",
              "      <td>219.934211</td>\n",
              "      <td>1.319284</td>\n",
              "      <td>C2S1</td>\n",
              "      <td>-0.398684</td>\n",
              "      <td>P.S.</td>\n",
              "      <td>2018</td>\n",
              "    </tr>\n",
              "    <tr>\n",
              "      <th>3</th>\n",
              "      <td>ADILABAD</td>\n",
              "      <td>Jainath</td>\n",
              "      <td>Jainath</td>\n",
              "      <td>19.730555</td>\n",
              "      <td>78.640000</td>\n",
              "      <td>5.75</td>\n",
              "      <td>8.09</td>\n",
              "      <td>422</td>\n",
              "      <td>270.08</td>\n",
              "      <td>0.0</td>\n",
              "      <td>...</td>\n",
              "      <td>27.0</td>\n",
              "      <td>1.0</td>\n",
              "      <td>32.0</td>\n",
              "      <td>19.448</td>\n",
              "      <td>159.967105</td>\n",
              "      <td>0.928155</td>\n",
              "      <td>C2S1</td>\n",
              "      <td>0.000658</td>\n",
              "      <td>P.S.</td>\n",
              "      <td>2018</td>\n",
              "    </tr>\n",
              "    <tr>\n",
              "      <th>4</th>\n",
              "      <td>ADILABAD</td>\n",
              "      <td>Narnoor</td>\n",
              "      <td>Narnoor</td>\n",
              "      <td>19.495665</td>\n",
              "      <td>78.852654</td>\n",
              "      <td>2.15</td>\n",
              "      <td>8.21</td>\n",
              "      <td>2321</td>\n",
              "      <td>1485.44</td>\n",
              "      <td>0.0</td>\n",
              "      <td>...</td>\n",
              "      <td>298.0</td>\n",
              "      <td>5.0</td>\n",
              "      <td>56.0</td>\n",
              "      <td>92.378</td>\n",
              "      <td>519.843750</td>\n",
              "      <td>5.682664</td>\n",
              "      <td>C4S2</td>\n",
              "      <td>-4.396875</td>\n",
              "      <td>P.S.</td>\n",
              "      <td>2018</td>\n",
              "    </tr>\n",
              "  </tbody>\n",
              "</table>\n",
              "<p>5 rows × 25 columns</p>\n",
              "</div>"
            ],
            "text/plain": [
              "   district       mandal      village    lat_gis   long_gis   gwl    pH   E.C  \\\n",
              "0  ADILABAD     Adilabad     Adilabad  19.668300  78.524700  5.09  8.28   745   \n",
              "1  ADILABAD  Bazarhatnur  Bazarhatnur  19.458888  78.350833  5.10  8.29   921   \n",
              "2  ADILABAD  Gudihatnoor  Gudihatnoor  19.525555  78.512222  4.98  7.69   510   \n",
              "3  ADILABAD      Jainath      Jainath  19.730555  78.640000  5.75  8.09   422   \n",
              "4  ADILABAD      Narnoor      Narnoor  19.495665  78.852654  2.15  8.21  2321   \n",
              "\n",
              "       TDS  CO3  ...     Na    K    Ca      Mg         T.H       SAR  \\\n",
              "0   476.80  0.0  ...   49.0  4.0  48.0  38.896  279.934211  1.273328   \n",
              "1   589.44  0.0  ...   42.0  5.0  56.0  63.206  399.893092  0.913166   \n",
              "2   326.40  0.0  ...   45.0  2.0  24.0  38.896  219.934211  1.319284   \n",
              "3   270.08  0.0  ...   27.0  1.0  32.0  19.448  159.967105  0.928155   \n",
              "4  1485.44  0.0  ...  298.0  5.0  56.0  92.378  519.843750  5.682664   \n",
              "\n",
              "   Classification  RSC  meq  / L  Classification.1  year  \n",
              "0            C2S1      -1.198684              P.S.  2018  \n",
              "1            C3S1      -3.397862              P.S.  2018  \n",
              "2            C2S1      -0.398684              P.S.  2018  \n",
              "3            C2S1       0.000658              P.S.  2018  \n",
              "4            C4S2      -4.396875              P.S.  2018  \n",
              "\n",
              "[5 rows x 25 columns]"
            ]
          },
          "execution_count": 53,
          "metadata": {},
          "output_type": "execute_result"
        }
      ],
      "source": [
        "data_full.head()"
      ]
    },
    {
      "cell_type": "code",
      "execution_count": 54,
      "metadata": {
        "id": "K1XXNGupPd5v"
      },
      "outputs": [],
      "source": [
        "# creating train data and target\n",
        "\n",
        "X = data_full.copy()\n",
        "X.drop('Classification', axis= 1, inplace = True)\n",
        "\n",
        "y = data_full['Classification']"
      ]
    },
    {
      "cell_type": "code",
      "execution_count": 55,
      "metadata": {
        "colab": {
          "base_uri": "https://localhost:8080/"
        },
        "id": "poUi6FwbPd5w",
        "outputId": "abfa39b6-c264-421f-e4c7-a0b33330f751"
      },
      "outputs": [
        {
          "data": {
            "text/plain": [
              "array(['C2S1', 'C3S1', 'C3S2', 'C4S1', 'C4S2', 'Other'], dtype=object)"
            ]
          },
          "execution_count": 55,
          "metadata": {},
          "output_type": "execute_result"
        }
      ],
      "source": [
        "LB = LabelEncoder()\n",
        "y = LB.fit_transform(y)\n",
        "LB.classes_"
      ]
    },
    {
      "cell_type": "code",
      "execution_count": 56,
      "metadata": {
        "colab": {
          "base_uri": "https://localhost:8080/"
        },
        "id": "_pVWhXdQPd5w",
        "outputId": "7b745270-e64d-46a3-b27a-bbd934c89489"
      },
      "outputs": [
        {
          "data": {
            "text/plain": [
              "array([ 0,  1,  2, 22], dtype=int64)"
            ]
          },
          "execution_count": 56,
          "metadata": {},
          "output_type": "execute_result"
        }
      ],
      "source": [
        "# categorical features\n",
        "\n",
        "cat_feat_idx =  np.where(X.dtypes == 'object')[0]\n",
        "cat_feat_idx"
      ]
    },
    {
      "cell_type": "code",
      "execution_count": 57,
      "metadata": {
        "id": "MDLJYzGBPd5x"
      },
      "outputs": [],
      "source": [
        "# scaling numerical data\n",
        "\n",
        "MX = MinMaxScaler()\n",
        "X.iloc[:, 3:21] = MX.fit_transform(X.iloc[:, 3:21])"
      ]
    },
    {
      "cell_type": "code",
      "execution_count": 58,
      "metadata": {
        "colab": {
          "base_uri": "https://localhost:8080/"
        },
        "id": "8YsIRO15Pd5y",
        "outputId": "accbbe7d-933b-4838-9ebb-eb8fedb8d420"
      },
      "outputs": [
        {
          "name": "stdout",
          "output_type": "stream",
          "text": [
            "(774, 24)\n",
            "(332, 24)\n"
          ]
        }
      ],
      "source": [
        "X_train, X_test, y_train, y_test = train_test_split(X,y, test_size = 0.3 , shuffle = True, stratify=y , random_state= 2)\n",
        "\n",
        "print(X_train.shape)\n",
        "print(X_test.shape)"
      ]
    },
    {
      "cell_type": "code",
      "execution_count": 59,
      "metadata": {
        "colab": {
          "base_uri": "https://localhost:8080/"
        },
        "id": "TCPEy5BCPd5z",
        "outputId": "48a19531-6e50-403d-ea57-d1aaa97000d6"
      },
      "outputs": [
        {
          "data": {
            "text/plain": [
              "{0: 0.7413793103448276,\n",
              " 1: 0.2648870636550308,\n",
              " 2: 16.125,\n",
              " 3: 2.1147540983606556,\n",
              " 4: 5.16,\n",
              " 5: 6.7894736842105265}"
            ]
          },
          "execution_count": 59,
          "metadata": {},
          "output_type": "execute_result"
        }
      ],
      "source": [
        "# creating class weights\n",
        "\n",
        "unique_classes = np.unique(y)\n",
        "weights = compute_class_weight(class_weight='balanced', classes=unique_classes, y=y_train)\n",
        "class_weights = dict(zip(unique_classes, weights))\n",
        "class_weights"
      ]
    },
    {
      "cell_type": "markdown",
      "metadata": {
        "id": "pEvnthqQPd5z"
      },
      "source": [
        "# <span style=\"color:#e74c3c;\"> CatBoost </span> Classifier\n"
      ]
    },
    {
      "cell_type": "code",
      "execution_count": 60,
      "metadata": {
        "id": "QnOsbuVSPd50"
      },
      "outputs": [],
      "source": [
        "# creating pools for training and testing\n",
        "\n",
        "train_pool = Pool(X_train, y_train, cat_features = cat_feat_idx)\n",
        "test_pool = Pool(X_test, y_test, cat_features = cat_feat_idx)"
      ]
    },
    {
      "cell_type": "code",
      "execution_count": 61,
      "metadata": {
        "id": "rNki7Eu4Pd50"
      },
      "outputs": [],
      "source": [
        "# tuned with optima\n",
        "\n",
        "model = CatBoostClassifier(iterations= 14400, task_type=\"GPU\", devices='0:1', learning_rate =0.0029536992550707585 , min_data_in_leaf = 27 , class_weights=class_weights)\n",
        "\n",
        "# model.fit(train_pool , verbose = 1000 )"
      ]
    },
    {
      "cell_type": "markdown",
      "metadata": {
        "id": "gokQWeUG_KO0"
      },
      "source": [
        "## Swarm Intelligence"
      ]
    },
    {
      "cell_type": "code",
      "execution_count": 62,
      "metadata": {
        "id": "hXotDRTg3INJ"
      },
      "outputs": [],
      "source": [
        "import pyswarms as ps"
      ]
    },
    {
      "cell_type": "code",
      "execution_count": 63,
      "metadata": {
        "id": "th9fcuGREipa"
      },
      "outputs": [],
      "source": [
        "# Define the hyperparameter search space\n",
        "hyperparameter_ranges = {\n",
        "    'iterations': (1000, 5000),  # Reduce the range of boosting iterations\n",
        "    'depth': (3, 10),           # Reduce the range of tree depth\n",
        "    'learning_rate': (0.0001, 0.1),  # Reduce the learning rate range\n",
        "    'min_data_in_leaf': (20, 40),\n",
        "    'l2_leaf_reg': (1, 5),      # Reduce the range of regularization strength\n",
        "}"
      ]
    },
    {
      "cell_type": "code",
      "execution_count": 69,
      "metadata": {
        "id": "AT4EMj7l6bRr"
      },
      "outputs": [],
      "source": [
        "def objective_function(x):\n",
        "    # Round the elements of x to integers\n",
        "    x = x.reshape(-1)  # Ensure x is a 1D array\n",
        "    params = {\n",
        "        'iterations': int(x[0]),\n",
        "        'depth': int(x[1]),\n",
        "        'learning_rate': float(x[2]),\n",
        "        'min_data_in_leaf': int(x[3]),\n",
        "        'l2_leaf_reg': int(x[4]),  \n",
        "        'class_weights': class_weights,\n",
        "        'task_type': 'GPU',\n",
        "        'devices': '0:1',\n",
        "        'cat_features': cat_feat_idx,\n",
        "        'verbose': 0,\n",
        "    }\n",
        "\n",
        "    model = CatBoostClassifier(**params)\n",
        "    model.fit(train_pool, verbose = 1000)\n",
        "    y_pred = model.predict(X_test)\n",
        "    accuracy = accuracy_score(y_test, y_pred)\n",
        "    return -accuracy"
      ]
    },
    {
      "cell_type": "code",
      "execution_count": 70,
      "metadata": {
        "id": "-nM93MH1AT-6"
      },
      "outputs": [],
      "source": [
        "n_particles = 50\n",
        "n_dimensions = len(hyperparameter_ranges)\n",
        "# bounds = (np.array([100, 3, 0.01, 1]), np.array([500, 8, 0.1, 5]))\n",
        "bounds = (np.array([1000, 3, 0.0001, 10,1]), np.array([5000, 12, 0.1, 50, 20]))\n",
        "\n",
        "\n",
        "\n",
        "optimizer = ps.single.GlobalBestPSO(n_particles=n_particles,\n",
        "                                     dimensions=n_dimensions,\n",
        "                                     bounds=bounds,\n",
        "                                     options={'c1': 1.8, 'c2': 1.4, 'w': 0.6})\n"
      ]
    },
    {
      "cell_type": "code",
      "execution_count": 72,
      "metadata": {
        "colab": {
          "base_uri": "https://localhost:8080/"
        },
        "id": "CDF2XwlGE5sr",
        "outputId": "b8ee879c-dfbd-4ffe-ff7b-7487555b6401"
      },
      "outputs": [
        {
          "name": "stderr",
          "output_type": "stream",
          "text": [
            "2023-11-05 15:39:08,920 - pyswarms.single.global_best - INFO - Optimize for 50 iters with {'c1': 1.8, 'c2': 1.4, 'w': 0.6}\n",
            "pyswarms.single.global_best:   0%|          |0/50\n"
          ]
        },
        {
          "ename": "CatBoostError",
          "evalue": "C:/Go_Agent/pipelines/BuildMaster/catboost.git/catboost/private/libs/options/boosting_options.cpp:79: Learning rate should be non-zero",
          "output_type": "error",
          "traceback": [
            "\u001b[1;31m---------------------------------------------------------------------------\u001b[0m",
            "\u001b[1;31mCatBoostError\u001b[0m                             Traceback (most recent call last)",
            "\u001b[1;32md:\\projects\\python\\groundwater\\groundwater_quality_classification_w_catboost.ipynb Cell 26\u001b[0m line \u001b[0;36m1\n\u001b[1;32m----> <a href='vscode-notebook-cell:/d%3A/projects/python/groundwater/groundwater_quality_classification_w_catboost.ipynb#X34sZmlsZQ%3D%3D?line=0'>1</a>\u001b[0m best_hyperparameters \u001b[39m=\u001b[39m optimizer\u001b[39m.\u001b[39;49moptimize(objective_function, iters\u001b[39m=\u001b[39;49m\u001b[39m50\u001b[39;49m)\n",
            "File \u001b[1;32md:\\Program\\miniconda3\\envs\\sister\\lib\\site-packages\\pyswarms\\single\\global_best.py:209\u001b[0m, in \u001b[0;36mGlobalBestPSO.optimize\u001b[1;34m(self, objective_func, iters, n_processes, verbose, **kwargs)\u001b[0m\n\u001b[0;32m    205\u001b[0m ftol_history \u001b[39m=\u001b[39m deque(maxlen\u001b[39m=\u001b[39m\u001b[39mself\u001b[39m\u001b[39m.\u001b[39mftol_iter)\n\u001b[0;32m    206\u001b[0m \u001b[39mfor\u001b[39;00m i \u001b[39min\u001b[39;00m \u001b[39mself\u001b[39m\u001b[39m.\u001b[39mrep\u001b[39m.\u001b[39mpbar(iters, \u001b[39mself\u001b[39m\u001b[39m.\u001b[39mname) \u001b[39mif\u001b[39;00m verbose \u001b[39melse\u001b[39;00m \u001b[39mrange\u001b[39m(iters):\n\u001b[0;32m    207\u001b[0m     \u001b[39m# Compute cost for current position and personal best\u001b[39;00m\n\u001b[0;32m    208\u001b[0m     \u001b[39m# fmt: off\u001b[39;00m\n\u001b[1;32m--> 209\u001b[0m     \u001b[39mself\u001b[39m\u001b[39m.\u001b[39mswarm\u001b[39m.\u001b[39mcurrent_cost \u001b[39m=\u001b[39m compute_objective_function(\u001b[39mself\u001b[39m\u001b[39m.\u001b[39mswarm, objective_func, pool\u001b[39m=\u001b[39mpool, \u001b[39m*\u001b[39m\u001b[39m*\u001b[39mkwargs)\n\u001b[0;32m    210\u001b[0m     \u001b[39mself\u001b[39m\u001b[39m.\u001b[39mswarm\u001b[39m.\u001b[39mpbest_pos, \u001b[39mself\u001b[39m\u001b[39m.\u001b[39mswarm\u001b[39m.\u001b[39mpbest_cost \u001b[39m=\u001b[39m compute_pbest(\u001b[39mself\u001b[39m\u001b[39m.\u001b[39mswarm)\n\u001b[0;32m    211\u001b[0m     \u001b[39m# Set best_cost_yet_found for ftol\u001b[39;00m\n",
            "File \u001b[1;32md:\\Program\\miniconda3\\envs\\sister\\lib\\site-packages\\pyswarms\\backend\\operators.py:239\u001b[0m, in \u001b[0;36mcompute_objective_function\u001b[1;34m(swarm, objective_func, pool, **kwargs)\u001b[0m\n\u001b[0;32m    214\u001b[0m \u001b[39m\u001b[39m\u001b[39m\"\"\"Evaluate particles using the objective function\u001b[39;00m\n\u001b[0;32m    215\u001b[0m \n\u001b[0;32m    216\u001b[0m \u001b[39mThis method evaluates each particle in the swarm according to the objective\u001b[39;00m\n\u001b[1;32m   (...)\u001b[0m\n\u001b[0;32m    236\u001b[0m \u001b[39m    Cost-matrix for the given swarm\u001b[39;00m\n\u001b[0;32m    237\u001b[0m \u001b[39m\"\"\"\u001b[39;00m\n\u001b[0;32m    238\u001b[0m \u001b[39mif\u001b[39;00m pool \u001b[39mis\u001b[39;00m \u001b[39mNone\u001b[39;00m:\n\u001b[1;32m--> 239\u001b[0m     \u001b[39mreturn\u001b[39;00m objective_func(swarm\u001b[39m.\u001b[39mposition, \u001b[39m*\u001b[39m\u001b[39m*\u001b[39mkwargs)\n\u001b[0;32m    240\u001b[0m \u001b[39melse\u001b[39;00m:\n\u001b[0;32m    241\u001b[0m     results \u001b[39m=\u001b[39m pool\u001b[39m.\u001b[39mmap(\n\u001b[0;32m    242\u001b[0m         partial(objective_func, \u001b[39m*\u001b[39m\u001b[39m*\u001b[39mkwargs),\n\u001b[0;32m    243\u001b[0m         np\u001b[39m.\u001b[39marray_split(swarm\u001b[39m.\u001b[39mposition, pool\u001b[39m.\u001b[39m_processes),\n\u001b[0;32m    244\u001b[0m     )\n",
            "\u001b[1;32md:\\projects\\python\\groundwater\\groundwater_quality_classification_w_catboost.ipynb Cell 26\u001b[0m line \u001b[0;36m1\n\u001b[0;32m      <a href='vscode-notebook-cell:/d%3A/projects/python/groundwater/groundwater_quality_classification_w_catboost.ipynb#X34sZmlsZQ%3D%3D?line=4'>5</a>\u001b[0m params \u001b[39m=\u001b[39m {\n\u001b[0;32m      <a href='vscode-notebook-cell:/d%3A/projects/python/groundwater/groundwater_quality_classification_w_catboost.ipynb#X34sZmlsZQ%3D%3D?line=5'>6</a>\u001b[0m     \u001b[39m'\u001b[39m\u001b[39miterations\u001b[39m\u001b[39m'\u001b[39m: \u001b[39mint\u001b[39m(x[\u001b[39m0\u001b[39m]),\n\u001b[0;32m      <a href='vscode-notebook-cell:/d%3A/projects/python/groundwater/groundwater_quality_classification_w_catboost.ipynb#X34sZmlsZQ%3D%3D?line=6'>7</a>\u001b[0m     \u001b[39m'\u001b[39m\u001b[39mdepth\u001b[39m\u001b[39m'\u001b[39m: \u001b[39mint\u001b[39m(x[\u001b[39m1\u001b[39m]),\n\u001b[1;32m   (...)\u001b[0m\n\u001b[0;32m     <a href='vscode-notebook-cell:/d%3A/projects/python/groundwater/groundwater_quality_classification_w_catboost.ipynb#X34sZmlsZQ%3D%3D?line=14'>15</a>\u001b[0m     \u001b[39m'\u001b[39m\u001b[39mverbose\u001b[39m\u001b[39m'\u001b[39m: \u001b[39m0\u001b[39m,\n\u001b[0;32m     <a href='vscode-notebook-cell:/d%3A/projects/python/groundwater/groundwater_quality_classification_w_catboost.ipynb#X34sZmlsZQ%3D%3D?line=15'>16</a>\u001b[0m }\n\u001b[0;32m     <a href='vscode-notebook-cell:/d%3A/projects/python/groundwater/groundwater_quality_classification_w_catboost.ipynb#X34sZmlsZQ%3D%3D?line=17'>18</a>\u001b[0m model \u001b[39m=\u001b[39m CatBoostClassifier(\u001b[39m*\u001b[39m\u001b[39m*\u001b[39mparams)\n\u001b[1;32m---> <a href='vscode-notebook-cell:/d%3A/projects/python/groundwater/groundwater_quality_classification_w_catboost.ipynb#X34sZmlsZQ%3D%3D?line=18'>19</a>\u001b[0m model\u001b[39m.\u001b[39;49mfit(train_pool, verbose \u001b[39m=\u001b[39;49m \u001b[39m1000\u001b[39;49m)\n\u001b[0;32m     <a href='vscode-notebook-cell:/d%3A/projects/python/groundwater/groundwater_quality_classification_w_catboost.ipynb#X34sZmlsZQ%3D%3D?line=19'>20</a>\u001b[0m y_pred \u001b[39m=\u001b[39m model\u001b[39m.\u001b[39mpredict(X_test)\n\u001b[0;32m     <a href='vscode-notebook-cell:/d%3A/projects/python/groundwater/groundwater_quality_classification_w_catboost.ipynb#X34sZmlsZQ%3D%3D?line=20'>21</a>\u001b[0m accuracy \u001b[39m=\u001b[39m accuracy_score(y_test, y_pred)\n",
            "File \u001b[1;32md:\\Program\\miniconda3\\envs\\sister\\lib\\site-packages\\catboost\\core.py:5100\u001b[0m, in \u001b[0;36mCatBoostClassifier.fit\u001b[1;34m(self, X, y, cat_features, text_features, embedding_features, sample_weight, baseline, use_best_model, eval_set, verbose, logging_level, plot, plot_file, column_description, verbose_eval, metric_period, silent, early_stopping_rounds, save_snapshot, snapshot_file, snapshot_interval, init_model, callbacks, log_cout, log_cerr)\u001b[0m\n\u001b[0;32m   5097\u001b[0m \u001b[39mif\u001b[39;00m \u001b[39m'\u001b[39m\u001b[39mloss_function\u001b[39m\u001b[39m'\u001b[39m \u001b[39min\u001b[39;00m params:\n\u001b[0;32m   5098\u001b[0m     CatBoostClassifier\u001b[39m.\u001b[39m_check_is_compatible_loss(params[\u001b[39m'\u001b[39m\u001b[39mloss_function\u001b[39m\u001b[39m'\u001b[39m])\n\u001b[1;32m-> 5100\u001b[0m \u001b[39mself\u001b[39;49m\u001b[39m.\u001b[39;49m_fit(X, y, cat_features, text_features, embedding_features, \u001b[39mNone\u001b[39;49;00m, sample_weight, \u001b[39mNone\u001b[39;49;00m, \u001b[39mNone\u001b[39;49;00m, \u001b[39mNone\u001b[39;49;00m, \u001b[39mNone\u001b[39;49;00m, baseline, use_best_model,\n\u001b[0;32m   5101\u001b[0m           eval_set, verbose, logging_level, plot, plot_file, column_description, verbose_eval, metric_period,\n\u001b[0;32m   5102\u001b[0m           silent, early_stopping_rounds, save_snapshot, snapshot_file, snapshot_interval, init_model, callbacks, log_cout, log_cerr)\n\u001b[0;32m   5103\u001b[0m \u001b[39mreturn\u001b[39;00m \u001b[39mself\u001b[39m\n",
            "File \u001b[1;32md:\\Program\\miniconda3\\envs\\sister\\lib\\site-packages\\catboost\\core.py:2303\u001b[0m, in \u001b[0;36mCatBoost._fit\u001b[1;34m(self, X, y, cat_features, text_features, embedding_features, pairs, sample_weight, group_id, group_weight, subgroup_id, pairs_weight, baseline, use_best_model, eval_set, verbose, logging_level, plot, plot_file, column_description, verbose_eval, metric_period, silent, early_stopping_rounds, save_snapshot, snapshot_file, snapshot_interval, init_model, callbacks, log_cout, log_cerr)\u001b[0m\n\u001b[0;32m   2300\u001b[0m \u001b[39mif\u001b[39;00m y \u001b[39mis\u001b[39;00m \u001b[39mNone\u001b[39;00m \u001b[39mand\u001b[39;00m \u001b[39mnot\u001b[39;00m \u001b[39misinstance\u001b[39m(X, PATH_TYPES \u001b[39m+\u001b[39m (Pool,)):\n\u001b[0;32m   2301\u001b[0m     \u001b[39mraise\u001b[39;00m CatBoostError(\u001b[39m\"\u001b[39m\u001b[39my may be None only when X is an instance of catboost.Pool or string\u001b[39m\u001b[39m\"\u001b[39m)\n\u001b[1;32m-> 2303\u001b[0m train_params \u001b[39m=\u001b[39m \u001b[39mself\u001b[39;49m\u001b[39m.\u001b[39;49m_prepare_train_params(\n\u001b[0;32m   2304\u001b[0m     X\u001b[39m=\u001b[39;49mX, y\u001b[39m=\u001b[39;49my, cat_features\u001b[39m=\u001b[39;49mcat_features, text_features\u001b[39m=\u001b[39;49mtext_features, embedding_features\u001b[39m=\u001b[39;49membedding_features,\n\u001b[0;32m   2305\u001b[0m     pairs\u001b[39m=\u001b[39;49mpairs, sample_weight\u001b[39m=\u001b[39;49msample_weight, group_id\u001b[39m=\u001b[39;49mgroup_id, group_weight\u001b[39m=\u001b[39;49mgroup_weight,\n\u001b[0;32m   2306\u001b[0m     subgroup_id\u001b[39m=\u001b[39;49msubgroup_id, pairs_weight\u001b[39m=\u001b[39;49mpairs_weight, baseline\u001b[39m=\u001b[39;49mbaseline, use_best_model\u001b[39m=\u001b[39;49muse_best_model,\n\u001b[0;32m   2307\u001b[0m     eval_set\u001b[39m=\u001b[39;49meval_set, verbose\u001b[39m=\u001b[39;49mverbose, logging_level\u001b[39m=\u001b[39;49mlogging_level, plot\u001b[39m=\u001b[39;49mplot, plot_file\u001b[39m=\u001b[39;49mplot_file,\n\u001b[0;32m   2308\u001b[0m     column_description\u001b[39m=\u001b[39;49mcolumn_description, verbose_eval\u001b[39m=\u001b[39;49mverbose_eval, metric_period\u001b[39m=\u001b[39;49mmetric_period,\n\u001b[0;32m   2309\u001b[0m     silent\u001b[39m=\u001b[39;49msilent, early_stopping_rounds\u001b[39m=\u001b[39;49mearly_stopping_rounds, save_snapshot\u001b[39m=\u001b[39;49msave_snapshot,\n\u001b[0;32m   2310\u001b[0m     snapshot_file\u001b[39m=\u001b[39;49msnapshot_file, snapshot_interval\u001b[39m=\u001b[39;49msnapshot_interval, init_model\u001b[39m=\u001b[39;49minit_model,\n\u001b[0;32m   2311\u001b[0m     callbacks\u001b[39m=\u001b[39;49mcallbacks\n\u001b[0;32m   2312\u001b[0m )\n\u001b[0;32m   2313\u001b[0m params \u001b[39m=\u001b[39m train_params[\u001b[39m\"\u001b[39m\u001b[39mparams\u001b[39m\u001b[39m\"\u001b[39m]\n\u001b[0;32m   2314\u001b[0m train_pool \u001b[39m=\u001b[39m train_params[\u001b[39m\"\u001b[39m\u001b[39mtrain_pool\u001b[39m\u001b[39m\"\u001b[39m]\n",
            "File \u001b[1;32md:\\Program\\miniconda3\\envs\\sister\\lib\\site-packages\\catboost\\core.py:2230\u001b[0m, in \u001b[0;36mCatBoost._prepare_train_params\u001b[1;34m(self, X, y, cat_features, text_features, embedding_features, pairs, sample_weight, group_id, group_weight, subgroup_id, pairs_weight, baseline, use_best_model, eval_set, verbose, logging_level, plot, plot_file, column_description, verbose_eval, metric_period, silent, early_stopping_rounds, save_snapshot, snapshot_file, snapshot_interval, init_model, callbacks)\u001b[0m\n\u001b[0;32m   2228\u001b[0m _check_param_types(params)\n\u001b[0;32m   2229\u001b[0m params \u001b[39m=\u001b[39m _params_type_cast(params)\n\u001b[1;32m-> 2230\u001b[0m _check_train_params(params)\n\u001b[0;32m   2232\u001b[0m \u001b[39mif\u001b[39;00m params\u001b[39m.\u001b[39mget(\u001b[39m'\u001b[39m\u001b[39meval_fraction\u001b[39m\u001b[39m'\u001b[39m, \u001b[39m0.0\u001b[39m) \u001b[39m!=\u001b[39m \u001b[39m0.0\u001b[39m:\n\u001b[0;32m   2233\u001b[0m     \u001b[39mif\u001b[39;00m eval_set \u001b[39mis\u001b[39;00m \u001b[39mnot\u001b[39;00m \u001b[39mNone\u001b[39;00m:\n",
            "File \u001b[1;32m_catboost.pyx:6105\u001b[0m, in \u001b[0;36m_catboost._check_train_params\u001b[1;34m()\u001b[0m\n",
            "File \u001b[1;32m_catboost.pyx:6124\u001b[0m, in \u001b[0;36m_catboost._check_train_params\u001b[1;34m()\u001b[0m\n",
            "\u001b[1;31mCatBoostError\u001b[0m: C:/Go_Agent/pipelines/BuildMaster/catboost.git/catboost/private/libs/options/boosting_options.cpp:79: Learning rate should be non-zero"
          ]
        }
      ],
      "source": [
        "best_hyperparameters = optimizer.optimize(objective_function, iters=50)"
      ]
    },
    {
      "cell_type": "code",
      "execution_count": null,
      "metadata": {
        "id": "GwWGoZVyS2sy"
      },
      "outputs": [],
      "source": [
        "len(hyperparameter_ranges)"
      ]
    },
    {
      "cell_type": "code",
      "execution_count": null,
      "metadata": {
        "id": "plxwoIEySyrc"
      },
      "outputs": [],
      "source": [
        "len(best_hyperparameters)"
      ]
    },
    {
      "cell_type": "code",
      "execution_count": null,
      "metadata": {
        "id": "sAcB9AJMTWAs"
      },
      "outputs": [],
      "source": [
        "best_hyperparameters"
      ]
    },
    {
      "cell_type": "code",
      "execution_count": null,
      "metadata": {
        "id": "zL9ZUXWHO5QF"
      },
      "outputs": [],
      "source": [
        "best_accuracy, best_hyperparameter_values = best_hyperparameters\n",
        "\n",
        "# Now, best_hyperparameter_values is an array of hyperparameter values\n",
        "# You can print it to see the best hyperparameters\n",
        "print(\"Best accuracy:\", -best_accuracy)\n",
        "print(\"Best hyperparameters:\", best_hyperparameter_values)"
      ]
    },
    {
      "cell_type": "code",
      "execution_count": null,
      "metadata": {
        "id": "MPhHWVAiTulR"
      },
      "outputs": [],
      "source": [
        "# Define the best hyperparameters as a dictionary\n",
        "best_hyperparameters = {\n",
        "    'iterations': best_hyperparameter_values[0],\n",
        "    'depth': best_hyperparameter_values[1],\n",
        "    'learning_rate': best_hyperparameter_values[2],\n",
        "    'l2_leaf_reg': best_hyperparameter_values[3],\n",
        "    'class_weights': class_weights,  # Assuming you have class_weights defined\n",
        "    'task_type': 'GPU',\n",
        "    'devices': '0:1',\n",
        "    'cat_features': cat_feat_idx,\n",
        "    'verbose': 0,\n",
        "}"
      ]
    },
    {
      "cell_type": "code",
      "execution_count": null,
      "metadata": {
        "id": "8JBBVKkGE9a3"
      },
      "outputs": [],
      "source": [
        "# Create a CatBoost classifier with the best hyperparameters\n",
        "model = CatBoostClassifier(**best_hyperparameters)\n",
        "\n",
        "# Train the model on your training data\n",
        "model.fit(train_pool , verbose = 1000 )"
      ]
    },
    {
      "cell_type": "markdown",
      "metadata": {
        "id": "KeCYSwJ8Pd51"
      },
      "source": [
        "# <span style=\"color:#e74c3c;\"> Results </span>\n"
      ]
    },
    {
      "cell_type": "code",
      "execution_count": null,
      "metadata": {
        "id": "lCqFV0bQPd51"
      },
      "outputs": [],
      "source": [
        "# predictions and scores\n",
        "\n",
        "pred = model.predict(test_pool)\n",
        "\n",
        "r2_sr = r2_score(y_test, pred)\n",
        "mse = mean_squared_error(y_test, pred)\n",
        "\n",
        "print('R2 Score :{0:.5f}'.format(r2_sr))\n",
        "print('Mean Squared Error :{0:.5f}'.format(mse))"
      ]
    },
    {
      "cell_type": "code",
      "execution_count": null,
      "metadata": {
        "id": "M2qxa64xPd52"
      },
      "outputs": [],
      "source": [
        "# classification report\n",
        "\n",
        "clf_report = classification_report(pred, y_test )\n",
        "\n",
        "print(clf_report)"
      ]
    }
  ],
  "metadata": {
    "accelerator": "GPU",
    "colab": {
      "gpuType": "T4",
      "provenance": []
    },
    "kernelspec": {
      "display_name": "Python 3",
      "name": "python3"
    },
    "language_info": {
      "codemirror_mode": {
        "name": "ipython",
        "version": 3
      },
      "file_extension": ".py",
      "mimetype": "text/x-python",
      "name": "python",
      "nbconvert_exporter": "python",
      "pygments_lexer": "ipython3",
      "version": "3.10.13"
    }
  },
  "nbformat": 4,
  "nbformat_minor": 0
}
