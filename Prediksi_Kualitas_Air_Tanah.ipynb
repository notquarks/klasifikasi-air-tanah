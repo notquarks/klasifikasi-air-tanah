{
  "cells": [
    {
      "cell_type": "markdown",
      "metadata": {
        "id": "J_CQ0Oq9Pd5g"
      },
      "source": [
        "<b>The dataset is very unbalanced. </b> For example, C3S4 and C3S4 classes have only one sample. This situation is not good in respect of  using the oversampling methods. <br>\n",
        "\n",
        "I tried to create a new class (called the other) by combining other classes which have a small sample size.\n",
        "Finally, there are six classes to classify, named 'C2S1', 'C3S1', 'C3S2', 'C4S1', 'C4S2', 'Other'.\n",
        "\n",
        "\n",
        "## Results\n",
        "\n",
        "I have used optima for optimizing the model. The results were not very good. Although our model gained reasonable precision/recall scores in a few classes, some classes have bad scores.<br>\n",
        "\n",
        "- (Test Set) R2 score : 82.851\n",
        "- (Test Set) MAE : 0.207831\n",
        "\n",
        "| class        \t| precision \t| recall \t| f1-score \t| support \t|\n",
        "|--------------\t|-----------\t|--------\t|----------\t|---------\t|\n",
        "| 0            \t| 1.00      \t| 0.97   \t| 0.99     \t| 76      \t|\n",
        "| 1            \t| 0.97      \t| 0.99   \t| 0.98     \t| 204     \t|\n",
        "| 2            \t| 0.25      \t| 0.17   \t| 0.20     \t| 6       \t|\n",
        "| 3            \t| 0.88      \t| 0.88   \t| 0.88     \t| 26      \t|\n",
        "| 4            \t| 0.73      \t| 0.67   \t| 0.70     \t| 12      \t|\n",
        "| 5            \t| 0.62      \t| 0.62   \t| 0.62     \t| 8       \t|\n",
        "| accuracy     \t|           \t|        \t| 0.94     \t| 332     \t|\n",
        "| macro avg    \t| 0.74      \t| 0.72   \t| 0.73     \t| 332     \t|\n",
        "| weighted avg \t| 0.94      \t| 0.94   \t| 0.94     \t| 332     \t|"
      ]
    },
    {
      "cell_type": "code",
      "execution_count": null,
      "metadata": {
        "colab": {
          "base_uri": "https://localhost:8080/"
        },
        "id": "kgIS3TbPPum0",
        "outputId": "379ad9a1-0c8c-431a-81ad-0dbd5c89e5f6"
      },
      "outputs": [
        {
          "output_type": "stream",
          "name": "stdout",
          "text": [
            "Requirement already satisfied: catboost in /usr/local/lib/python3.10/dist-packages (1.2.2)\n",
            "Requirement already satisfied: graphviz in /usr/local/lib/python3.10/dist-packages (from catboost) (0.20.1)\n",
            "Requirement already satisfied: matplotlib in /usr/local/lib/python3.10/dist-packages (from catboost) (3.7.1)\n",
            "Requirement already satisfied: numpy>=1.16.0 in /usr/local/lib/python3.10/dist-packages (from catboost) (1.23.5)\n",
            "Requirement already satisfied: pandas>=0.24 in /usr/local/lib/python3.10/dist-packages (from catboost) (1.5.3)\n",
            "Requirement already satisfied: scipy in /usr/local/lib/python3.10/dist-packages (from catboost) (1.11.3)\n",
            "Requirement already satisfied: plotly in /usr/local/lib/python3.10/dist-packages (from catboost) (5.15.0)\n",
            "Requirement already satisfied: six in /usr/local/lib/python3.10/dist-packages (from catboost) (1.16.0)\n",
            "Requirement already satisfied: python-dateutil>=2.8.1 in /usr/local/lib/python3.10/dist-packages (from pandas>=0.24->catboost) (2.8.2)\n",
            "Requirement already satisfied: pytz>=2020.1 in /usr/local/lib/python3.10/dist-packages (from pandas>=0.24->catboost) (2023.3.post1)\n",
            "Requirement already satisfied: contourpy>=1.0.1 in /usr/local/lib/python3.10/dist-packages (from matplotlib->catboost) (1.1.1)\n",
            "Requirement already satisfied: cycler>=0.10 in /usr/local/lib/python3.10/dist-packages (from matplotlib->catboost) (0.12.1)\n",
            "Requirement already satisfied: fonttools>=4.22.0 in /usr/local/lib/python3.10/dist-packages (from matplotlib->catboost) (4.43.1)\n",
            "Requirement already satisfied: kiwisolver>=1.0.1 in /usr/local/lib/python3.10/dist-packages (from matplotlib->catboost) (1.4.5)\n",
            "Requirement already satisfied: packaging>=20.0 in /usr/local/lib/python3.10/dist-packages (from matplotlib->catboost) (23.2)\n",
            "Requirement already satisfied: pillow>=6.2.0 in /usr/local/lib/python3.10/dist-packages (from matplotlib->catboost) (9.4.0)\n",
            "Requirement already satisfied: pyparsing>=2.3.1 in /usr/local/lib/python3.10/dist-packages (from matplotlib->catboost) (3.1.1)\n",
            "Requirement already satisfied: tenacity>=6.2.0 in /usr/local/lib/python3.10/dist-packages (from plotly->catboost) (8.2.3)\n",
            "Requirement already satisfied: scikit-learn in /usr/local/lib/python3.10/dist-packages (1.2.2)\n",
            "Requirement already satisfied: numpy>=1.17.3 in /usr/local/lib/python3.10/dist-packages (from scikit-learn) (1.23.5)\n",
            "Requirement already satisfied: scipy>=1.3.2 in /usr/local/lib/python3.10/dist-packages (from scikit-learn) (1.11.3)\n",
            "Requirement already satisfied: joblib>=1.1.1 in /usr/local/lib/python3.10/dist-packages (from scikit-learn) (1.3.2)\n",
            "Requirement already satisfied: threadpoolctl>=2.0.0 in /usr/local/lib/python3.10/dist-packages (from scikit-learn) (3.2.0)\n",
            "Requirement already satisfied: seaborn in /usr/local/lib/python3.10/dist-packages (0.12.2)\n",
            "Requirement already satisfied: numpy!=1.24.0,>=1.17 in /usr/local/lib/python3.10/dist-packages (from seaborn) (1.23.5)\n",
            "Requirement already satisfied: pandas>=0.25 in /usr/local/lib/python3.10/dist-packages (from seaborn) (1.5.3)\n",
            "Requirement already satisfied: matplotlib!=3.6.1,>=3.1 in /usr/local/lib/python3.10/dist-packages (from seaborn) (3.7.1)\n",
            "Requirement already satisfied: contourpy>=1.0.1 in /usr/local/lib/python3.10/dist-packages (from matplotlib!=3.6.1,>=3.1->seaborn) (1.1.1)\n",
            "Requirement already satisfied: cycler>=0.10 in /usr/local/lib/python3.10/dist-packages (from matplotlib!=3.6.1,>=3.1->seaborn) (0.12.1)\n",
            "Requirement already satisfied: fonttools>=4.22.0 in /usr/local/lib/python3.10/dist-packages (from matplotlib!=3.6.1,>=3.1->seaborn) (4.43.1)\n",
            "Requirement already satisfied: kiwisolver>=1.0.1 in /usr/local/lib/python3.10/dist-packages (from matplotlib!=3.6.1,>=3.1->seaborn) (1.4.5)\n",
            "Requirement already satisfied: packaging>=20.0 in /usr/local/lib/python3.10/dist-packages (from matplotlib!=3.6.1,>=3.1->seaborn) (23.2)\n",
            "Requirement already satisfied: pillow>=6.2.0 in /usr/local/lib/python3.10/dist-packages (from matplotlib!=3.6.1,>=3.1->seaborn) (9.4.0)\n",
            "Requirement already satisfied: pyparsing>=2.3.1 in /usr/local/lib/python3.10/dist-packages (from matplotlib!=3.6.1,>=3.1->seaborn) (3.1.1)\n",
            "Requirement already satisfied: python-dateutil>=2.7 in /usr/local/lib/python3.10/dist-packages (from matplotlib!=3.6.1,>=3.1->seaborn) (2.8.2)\n",
            "Requirement already satisfied: pytz>=2020.1 in /usr/local/lib/python3.10/dist-packages (from pandas>=0.25->seaborn) (2023.3.post1)\n",
            "Requirement already satisfied: six>=1.5 in /usr/local/lib/python3.10/dist-packages (from python-dateutil>=2.7->matplotlib!=3.6.1,>=3.1->seaborn) (1.16.0)\n",
            "Requirement already satisfied: numpy in /usr/local/lib/python3.10/dist-packages (1.23.5)\n",
            "Requirement already satisfied: pandas in /usr/local/lib/python3.10/dist-packages (1.5.3)\n",
            "Requirement already satisfied: python-dateutil>=2.8.1 in /usr/local/lib/python3.10/dist-packages (from pandas) (2.8.2)\n",
            "Requirement already satisfied: pytz>=2020.1 in /usr/local/lib/python3.10/dist-packages (from pandas) (2023.3.post1)\n",
            "Requirement already satisfied: numpy>=1.21.0 in /usr/local/lib/python3.10/dist-packages (from pandas) (1.23.5)\n",
            "Requirement already satisfied: six>=1.5 in /usr/local/lib/python3.10/dist-packages (from python-dateutil>=2.8.1->pandas) (1.16.0)\n",
            "Requirement already satisfied: mealpy in /usr/local/lib/python3.10/dist-packages (3.0.1)\n",
            "Requirement already satisfied: numpy>=1.17.5 in /usr/local/lib/python3.10/dist-packages (from mealpy) (1.23.5)\n",
            "Requirement already satisfied: matplotlib>=3.3.0 in /usr/local/lib/python3.10/dist-packages (from mealpy) (3.7.1)\n",
            "Requirement already satisfied: scipy>=1.7.1 in /usr/local/lib/python3.10/dist-packages (from mealpy) (1.11.3)\n",
            "Requirement already satisfied: pandas>=1.2.0 in /usr/local/lib/python3.10/dist-packages (from mealpy) (1.5.3)\n",
            "Requirement already satisfied: opfunu>=1.0.0 in /usr/local/lib/python3.10/dist-packages (from mealpy) (1.0.1)\n",
            "Requirement already satisfied: contourpy>=1.0.1 in /usr/local/lib/python3.10/dist-packages (from matplotlib>=3.3.0->mealpy) (1.1.1)\n",
            "Requirement already satisfied: cycler>=0.10 in /usr/local/lib/python3.10/dist-packages (from matplotlib>=3.3.0->mealpy) (0.12.1)\n",
            "Requirement already satisfied: fonttools>=4.22.0 in /usr/local/lib/python3.10/dist-packages (from matplotlib>=3.3.0->mealpy) (4.43.1)\n",
            "Requirement already satisfied: kiwisolver>=1.0.1 in /usr/local/lib/python3.10/dist-packages (from matplotlib>=3.3.0->mealpy) (1.4.5)\n",
            "Requirement already satisfied: packaging>=20.0 in /usr/local/lib/python3.10/dist-packages (from matplotlib>=3.3.0->mealpy) (23.2)\n",
            "Requirement already satisfied: pillow>=6.2.0 in /usr/local/lib/python3.10/dist-packages (from matplotlib>=3.3.0->mealpy) (9.4.0)\n",
            "Requirement already satisfied: pyparsing>=2.3.1 in /usr/local/lib/python3.10/dist-packages (from matplotlib>=3.3.0->mealpy) (3.1.1)\n",
            "Requirement already satisfied: python-dateutil>=2.7 in /usr/local/lib/python3.10/dist-packages (from matplotlib>=3.3.0->mealpy) (2.8.2)\n",
            "Requirement already satisfied: requests>=2.27.0 in /usr/local/lib/python3.10/dist-packages (from opfunu>=1.0.0->mealpy) (2.31.0)\n",
            "Requirement already satisfied: pytz>=2020.1 in /usr/local/lib/python3.10/dist-packages (from pandas>=1.2.0->mealpy) (2023.3.post1)\n",
            "Requirement already satisfied: six>=1.5 in /usr/local/lib/python3.10/dist-packages (from python-dateutil>=2.7->matplotlib>=3.3.0->mealpy) (1.16.0)\n",
            "Requirement already satisfied: charset-normalizer<4,>=2 in /usr/local/lib/python3.10/dist-packages (from requests>=2.27.0->opfunu>=1.0.0->mealpy) (3.3.1)\n",
            "Requirement already satisfied: idna<4,>=2.5 in /usr/local/lib/python3.10/dist-packages (from requests>=2.27.0->opfunu>=1.0.0->mealpy) (3.4)\n",
            "Requirement already satisfied: urllib3<3,>=1.21.1 in /usr/local/lib/python3.10/dist-packages (from requests>=2.27.0->opfunu>=1.0.0->mealpy) (2.0.7)\n",
            "Requirement already satisfied: certifi>=2017.4.17 in /usr/local/lib/python3.10/dist-packages (from requests>=2.27.0->opfunu>=1.0.0->mealpy) (2023.7.22)\n",
            "Requirement already satisfied: pyswarms in /usr/local/lib/python3.10/dist-packages (1.3.0)\n",
            "Requirement already satisfied: scipy in /usr/local/lib/python3.10/dist-packages (from pyswarms) (1.11.3)\n",
            "Requirement already satisfied: numpy in /usr/local/lib/python3.10/dist-packages (from pyswarms) (1.23.5)\n",
            "Requirement already satisfied: matplotlib>=1.3.1 in /usr/local/lib/python3.10/dist-packages (from pyswarms) (3.7.1)\n",
            "Requirement already satisfied: attrs in /usr/local/lib/python3.10/dist-packages (from pyswarms) (23.1.0)\n",
            "Requirement already satisfied: tqdm in /usr/local/lib/python3.10/dist-packages (from pyswarms) (4.66.1)\n",
            "Requirement already satisfied: future in /usr/local/lib/python3.10/dist-packages (from pyswarms) (0.18.3)\n",
            "Requirement already satisfied: pyyaml in /usr/local/lib/python3.10/dist-packages (from pyswarms) (6.0.1)\n",
            "Requirement already satisfied: contourpy>=1.0.1 in /usr/local/lib/python3.10/dist-packages (from matplotlib>=1.3.1->pyswarms) (1.1.1)\n",
            "Requirement already satisfied: cycler>=0.10 in /usr/local/lib/python3.10/dist-packages (from matplotlib>=1.3.1->pyswarms) (0.12.1)\n",
            "Requirement already satisfied: fonttools>=4.22.0 in /usr/local/lib/python3.10/dist-packages (from matplotlib>=1.3.1->pyswarms) (4.43.1)\n",
            "Requirement already satisfied: kiwisolver>=1.0.1 in /usr/local/lib/python3.10/dist-packages (from matplotlib>=1.3.1->pyswarms) (1.4.5)\n",
            "Requirement already satisfied: packaging>=20.0 in /usr/local/lib/python3.10/dist-packages (from matplotlib>=1.3.1->pyswarms) (23.2)\n",
            "Requirement already satisfied: pillow>=6.2.0 in /usr/local/lib/python3.10/dist-packages (from matplotlib>=1.3.1->pyswarms) (9.4.0)\n",
            "Requirement already satisfied: pyparsing>=2.3.1 in /usr/local/lib/python3.10/dist-packages (from matplotlib>=1.3.1->pyswarms) (3.1.1)\n",
            "Requirement already satisfied: python-dateutil>=2.7 in /usr/local/lib/python3.10/dist-packages (from matplotlib>=1.3.1->pyswarms) (2.8.2)\n",
            "Requirement already satisfied: six>=1.5 in /usr/local/lib/python3.10/dist-packages (from python-dateutil>=2.7->matplotlib>=1.3.1->pyswarms) (1.16.0)\n",
            "Requirement already satisfied: imbalanced-learn in /usr/local/lib/python3.10/dist-packages (0.10.1)\n",
            "Requirement already satisfied: numpy>=1.17.3 in /usr/local/lib/python3.10/dist-packages (from imbalanced-learn) (1.23.5)\n",
            "Requirement already satisfied: scipy>=1.3.2 in /usr/local/lib/python3.10/dist-packages (from imbalanced-learn) (1.11.3)\n",
            "Requirement already satisfied: scikit-learn>=1.0.2 in /usr/local/lib/python3.10/dist-packages (from imbalanced-learn) (1.2.2)\n",
            "Requirement already satisfied: joblib>=1.1.1 in /usr/local/lib/python3.10/dist-packages (from imbalanced-learn) (1.3.2)\n",
            "Requirement already satisfied: threadpoolctl>=2.0.0 in /usr/local/lib/python3.10/dist-packages (from imbalanced-learn) (3.2.0)\n"
          ]
        }
      ],
      "source": [
        "!pip install catboost\n",
        "!pip install scikit-learn\n",
        "!pip install seaborn\n",
        "!pip install numpy\n",
        "!pip install pandas\n",
        "!pip install mealpy\n",
        "!pip install pyswarms\n",
        "!pip install imbalanced-learn"
      ]
    },
    {
      "cell_type": "code",
      "execution_count": null,
      "metadata": {
        "id": "i-ELspnDPd5m"
      },
      "outputs": [],
      "source": [
        "# Importing dependencies\n",
        "\n",
        "import warnings\n",
        "warnings.filterwarnings('ignore')\n",
        "\n",
        "import numpy as np\n",
        "import pandas as pd\n",
        "\n",
        "from sklearn.model_selection import train_test_split\n",
        "from sklearn.impute import KNNImputer, SimpleImputer\n",
        "from sklearn.preprocessing import LabelEncoder, StandardScaler, MinMaxScaler\n",
        "from sklearn.metrics import r2_score, mean_squared_error, classification_report\n",
        "from sklearn.utils.class_weight import compute_class_weight\n",
        "from sklearn.metrics import accuracy_score\n",
        "\n",
        "from catboost import CatBoostClassifier, Pool"
      ]
    },
    {
      "cell_type": "markdown",
      "metadata": {
        "id": "A0wgVzF2Pd5p"
      },
      "source": [
        "# <span style=\"color:#e74c3c;\"> Reading </span> Data\n"
      ]
    },
    {
      "cell_type": "code",
      "execution_count": null,
      "metadata": {
        "colab": {
          "base_uri": "https://localhost:8080/"
        },
        "id": "fgZKwf_GQy-p",
        "outputId": "74c5b072-f589-44af-86fd-fe4cd8b7aaf4"
      },
      "outputs": [
        {
          "output_type": "stream",
          "name": "stdout",
          "text": [
            "Downloading...\n",
            "From: https://drive.google.com/uc?id=1SaxJ8KPMrV37ZsVTv5F5ava5aXtGRiSn\n",
            "To: /content/ground_water_quality_2019_post.csv\n",
            "100% 66.7k/66.7k [00:00<00:00, 72.1MB/s]\n",
            "Downloading...\n",
            "From: https://drive.google.com/uc?id=1E6BZ-AEncUOWlsK96SFz5wBK8w7XjmVB\n",
            "To: /content/ground_water_quality_2020_post.csv\n",
            "100% 68.1k/68.1k [00:00<00:00, 71.0MB/s]\n",
            "Downloading...\n",
            "From: https://drive.google.com/uc?id=195J88Onvr23J8HdFtO3D_Yezi97clcZ9\n",
            "To: /content/ground_water_quality_2018_post.csv\n",
            "100% 72.8k/72.8k [00:00<00:00, 74.2MB/s]\n",
            "Downloading...\n",
            "From: https://drive.google.com/uc?id=1C4ERjxVqEnxTGxwQVz98u3gaxA_hnzrH\n",
            "To: /content/ground_water_quality_2021_post.csv\n",
            "100% 145k/145k [00:00<00:00, 91.7MB/s]\n",
            "Downloading...\n",
            "From: https://drive.google.com/uc?id=10KFETqq39CXdFP2zTqPgRKOGqFuVlhL9\n",
            "To: /content/ground_water_quality_2022_post.csv\n",
            "100% 144k/144k [00:00<00:00, 91.1MB/s]\n"
          ]
        }
      ],
      "source": [
        "!gdown 1SaxJ8KPMrV37ZsVTv5F5ava5aXtGRiSn\n",
        "!gdown 1E6BZ-AEncUOWlsK96SFz5wBK8w7XjmVB\n",
        "!gdown 195J88Onvr23J8HdFtO3D_Yezi97clcZ9\n",
        "!gdown 1C4ERjxVqEnxTGxwQVz98u3gaxA_hnzrH\n",
        "!gdown 10KFETqq39CXdFP2zTqPgRKOGqFuVlhL9"
      ]
    },
    {
      "cell_type": "code",
      "execution_count": null,
      "metadata": {
        "id": "efuW4HT3Pd5q"
      },
      "outputs": [],
      "source": [
        "# Reading data and cleaning, renaming and other data cleaning applications\n",
        "\n",
        "data1 = pd.read_csv('/content/ground_water_quality_2018_post.csv')\n",
        "data2 = pd.read_csv('/content/ground_water_quality_2019_post.csv')\n",
        "data3 = pd.read_csv('/content/ground_water_quality_2020_post.csv')\n",
        "data4 = pd.read_csv('/content/ground_water_quality_2020_post.csv')\n",
        "data5 = pd.read_csv('/content/ground_water_quality_2020_post.csv')\n",
        "\n",
        "\n",
        "\n",
        "data2.rename( columns ={ 'EC' : 'E.C', 'CO_-2 ' : 'CO3', 'HCO_ - ' :'HCO3', 'Cl -' : 'Cl',\n",
        "                        'F -' : 'F', 'NO3- ': 'NO3 ' , 'SO4-2':'SO4' , 'Na+':'Na', 'K+':'K',\n",
        "                        'Ca+2' : 'Ca', 'Mg+2':'Mg'}, inplace = True)\n",
        "\n",
        "\n",
        "# dropping redundant columns\n",
        "data1.drop(['sno','season'], axis = 1, inplace = True)\n",
        "data2.drop(['sno','season'], axis = 1, inplace = True)\n",
        "data3.drop(['sno','Unnamed: 8', 'season'], axis = 1, inplace = True)\n",
        "data4.drop(['sno','season'], axis = 1, inplace = True)\n",
        "data5.drop(['sno','season'], axis = 1, inplace = True)\n",
        "\n",
        "\n",
        "# creating new columns\n",
        "data1['year'] = 2018\n",
        "data2['year'] = 2019\n",
        "data3['year'] = 2020\n",
        "data4['year'] = 2021\n",
        "data5['year'] = 2022\n",
        "\n",
        "\n",
        "\n",
        "# handling and fixing outliers\n",
        "data3['pH'].iloc[261] = data3['pH'].iloc[261].replace('8..05', '8.05')\n",
        "data3['pH'] = data3['pH'].apply(pd.to_numeric)\n",
        "\n",
        "data3['Classification'].iloc[178] = data3['Classification'].iloc[178].replace('O.G', 'OG')\n",
        "data3['Classification'].iloc[208] = data3['Classification'].iloc[208].replace('O.G', 'OG')\n",
        "\n",
        "data4['Classification'] = data4['Classification'].replace(['O.G'], 'OG')\n",
        "data5['Classification'] = data5['Classification'].replace(['O.G'], 'OG')\n",
        "\n"
      ]
    },
    {
      "cell_type": "code",
      "execution_count": null,
      "metadata": {
        "id": "gA_PBJQXPd5r"
      },
      "outputs": [],
      "source": [
        "# creating and applying the new_class function\n",
        "\n",
        "def new_class(X):\n",
        "    # if (X == 'C3S4') | (X == 'C2S2') | (X == 'C4S4') | (X == 'C3S3') | (X == 'C4S3') | (X == 'OG')  | (X == 'C1S1')  :\n",
        "    if (X == 'C1S1') | (X == 'C2S2') | (X == 'OG'):\n",
        "        return 'Other'\n",
        "    elif (X == 'C3S4') | (X == 'C3S3') :\n",
        "        return 'C3S2'\n",
        "    elif (X == 'C4S4') | (X == 'C4S3') :\n",
        "        return 'C4S2'\n",
        "    else:\n",
        "        return X\n",
        "\n",
        "data1['Classification'] = data1['Classification'].apply(new_class)\n",
        "data2['Classification'] = data2['Classification'].apply(new_class)\n",
        "data3['Classification'] = data3['Classification'].apply(new_class)\n",
        "data4['Classification'] = data4['Classification'].apply(new_class)\n",
        "data5['Classification'] = data5['Classification'].apply(new_class)\n"
      ]
    },
    {
      "cell_type": "code",
      "execution_count": null,
      "metadata": {
        "id": "mQ_ouD5oX9G6"
      },
      "outputs": [],
      "source": [
        "data_full = pd.concat([data1, data2, data3, data4, data5], axis = 0)"
      ]
    },
    {
      "cell_type": "code",
      "execution_count": null,
      "metadata": {
        "colab": {
          "base_uri": "https://localhost:8080/",
          "height": 424
        },
        "id": "koc3FHsnXvlN",
        "outputId": "e8057aec-91c6-48b7-b338-e31934392dfd"
      },
      "outputs": [
        {
          "output_type": "execute_result",
          "data": {
            "text/plain": [
              "     district        mandal       village    lat_gis   long_gis   gwl    pH  \\\n",
              "0    ADILABAD      Adilabad      Adilabad  19.668300  78.524700  5.09  8.28   \n",
              "1    ADILABAD   Bazarhatnur   Bazarhatnur  19.458888  78.350833  5.10  8.29   \n",
              "2    ADILABAD   Gudihatnoor   Gudihatnoor  19.525555  78.512222  4.98  7.69   \n",
              "3    ADILABAD       Jainath       Jainath  19.730555  78.640000  5.75  8.09   \n",
              "4    ADILABAD       Narnoor       Narnoor  19.495665  78.852654  2.15  8.21   \n",
              "..        ...           ...           ...        ...        ...   ...   ...   \n",
              "363   YADADRI  S.Narayanpur  S.Narayanpur  17.144719  78.860010  9.90   7.8   \n",
              "364   YADADRI   Thurkapally    Gandamalla  17.733101  78.853831  5.74  8.26   \n",
              "365   YADADRI     Valigonda    T. somaram  17.399953  78.952290  1.72  8.77   \n",
              "366   YADADRI     Valigonda   Vemulakonda  17.347782  79.143433  1.65  7.76   \n",
              "367   YADADRI       Y.Gutta    Mallapuram  17.633555  78.911638  4.92  8.13   \n",
              "\n",
              "      E.C      TDS   CO3  ...      K     Ca       Mg          T.H       SAR  \\\n",
              "0     745   476.80   0.0  ...   4.00   48.0   38.896   279.934211  1.273328   \n",
              "1     921   589.44   0.0  ...   5.00   56.0   63.206   399.893092  0.913166   \n",
              "2     510   326.40   0.0  ...   2.00   24.0   38.896   219.934211  1.319284   \n",
              "3     422   270.08   0.0  ...   1.00   32.0   19.448   159.967105  0.928155   \n",
              "4    2321  1485.44   0.0  ...   5.00   56.0   92.378   519.843750  5.682664   \n",
              "..    ...      ...   ...  ...    ...    ...      ...          ...       ...   \n",
              "363  2324  1487.36   0.0  ...   2.60  160.0   97.240   799.835526  2.602728   \n",
              "364  2109  1349.76   0.0  ...  43.30   48.0  116.688   599.802632  3.751176   \n",
              "365  1115   713.60  20.0  ...   3.04   80.0   53.482   419.909539  1.282386   \n",
              "366  5053  3233.92   0.0  ...   3.30  400.0   92.378  1379.843750  5.444988   \n",
              "367  2280  1459.20   0.0  ...   5.60  152.0   97.240   779.835526  2.657689   \n",
              "\n",
              "     Classification  RSC  meq  / L  Classification.1  year  Unnamed: 8  \n",
              "0              C2S1      -1.198684              P.S.  2018         NaN  \n",
              "1              C3S1      -3.397862              P.S.  2018         NaN  \n",
              "2              C2S1      -0.398684              P.S.  2018         NaN  \n",
              "3              C2S1       0.000658              P.S.  2018         NaN  \n",
              "4              C4S2      -4.396875              P.S.  2018         NaN  \n",
              "..              ...            ...               ...   ...         ...  \n",
              "363            C4S1      -8.596711              P.S.  2022         NaN  \n",
              "364            C3S1      -3.396053              P.S.  2022         NaN  \n",
              "365            C3S1      -4.398191              P.S.  2022         NaN  \n",
              "366            C4S1     -21.996875              P.S.  2022         NaN  \n",
              "367            C4S1     -11.596711              P.S.  2022         NaN  \n",
              "\n",
              "[1842 rows x 26 columns]"
            ],
            "text/html": [
              "\n",
              "  <div id=\"df-48e9cb97-0188-4684-ac21-c204d1e9371f\" class=\"colab-df-container\">\n",
              "    <div>\n",
              "<style scoped>\n",
              "    .dataframe tbody tr th:only-of-type {\n",
              "        vertical-align: middle;\n",
              "    }\n",
              "\n",
              "    .dataframe tbody tr th {\n",
              "        vertical-align: top;\n",
              "    }\n",
              "\n",
              "    .dataframe thead th {\n",
              "        text-align: right;\n",
              "    }\n",
              "</style>\n",
              "<table border=\"1\" class=\"dataframe\">\n",
              "  <thead>\n",
              "    <tr style=\"text-align: right;\">\n",
              "      <th></th>\n",
              "      <th>district</th>\n",
              "      <th>mandal</th>\n",
              "      <th>village</th>\n",
              "      <th>lat_gis</th>\n",
              "      <th>long_gis</th>\n",
              "      <th>gwl</th>\n",
              "      <th>pH</th>\n",
              "      <th>E.C</th>\n",
              "      <th>TDS</th>\n",
              "      <th>CO3</th>\n",
              "      <th>...</th>\n",
              "      <th>K</th>\n",
              "      <th>Ca</th>\n",
              "      <th>Mg</th>\n",
              "      <th>T.H</th>\n",
              "      <th>SAR</th>\n",
              "      <th>Classification</th>\n",
              "      <th>RSC  meq  / L</th>\n",
              "      <th>Classification.1</th>\n",
              "      <th>year</th>\n",
              "      <th>Unnamed: 8</th>\n",
              "    </tr>\n",
              "  </thead>\n",
              "  <tbody>\n",
              "    <tr>\n",
              "      <th>0</th>\n",
              "      <td>ADILABAD</td>\n",
              "      <td>Adilabad</td>\n",
              "      <td>Adilabad</td>\n",
              "      <td>19.668300</td>\n",
              "      <td>78.524700</td>\n",
              "      <td>5.09</td>\n",
              "      <td>8.28</td>\n",
              "      <td>745</td>\n",
              "      <td>476.80</td>\n",
              "      <td>0.0</td>\n",
              "      <td>...</td>\n",
              "      <td>4.00</td>\n",
              "      <td>48.0</td>\n",
              "      <td>38.896</td>\n",
              "      <td>279.934211</td>\n",
              "      <td>1.273328</td>\n",
              "      <td>C2S1</td>\n",
              "      <td>-1.198684</td>\n",
              "      <td>P.S.</td>\n",
              "      <td>2018</td>\n",
              "      <td>NaN</td>\n",
              "    </tr>\n",
              "    <tr>\n",
              "      <th>1</th>\n",
              "      <td>ADILABAD</td>\n",
              "      <td>Bazarhatnur</td>\n",
              "      <td>Bazarhatnur</td>\n",
              "      <td>19.458888</td>\n",
              "      <td>78.350833</td>\n",
              "      <td>5.10</td>\n",
              "      <td>8.29</td>\n",
              "      <td>921</td>\n",
              "      <td>589.44</td>\n",
              "      <td>0.0</td>\n",
              "      <td>...</td>\n",
              "      <td>5.00</td>\n",
              "      <td>56.0</td>\n",
              "      <td>63.206</td>\n",
              "      <td>399.893092</td>\n",
              "      <td>0.913166</td>\n",
              "      <td>C3S1</td>\n",
              "      <td>-3.397862</td>\n",
              "      <td>P.S.</td>\n",
              "      <td>2018</td>\n",
              "      <td>NaN</td>\n",
              "    </tr>\n",
              "    <tr>\n",
              "      <th>2</th>\n",
              "      <td>ADILABAD</td>\n",
              "      <td>Gudihatnoor</td>\n",
              "      <td>Gudihatnoor</td>\n",
              "      <td>19.525555</td>\n",
              "      <td>78.512222</td>\n",
              "      <td>4.98</td>\n",
              "      <td>7.69</td>\n",
              "      <td>510</td>\n",
              "      <td>326.40</td>\n",
              "      <td>0.0</td>\n",
              "      <td>...</td>\n",
              "      <td>2.00</td>\n",
              "      <td>24.0</td>\n",
              "      <td>38.896</td>\n",
              "      <td>219.934211</td>\n",
              "      <td>1.319284</td>\n",
              "      <td>C2S1</td>\n",
              "      <td>-0.398684</td>\n",
              "      <td>P.S.</td>\n",
              "      <td>2018</td>\n",
              "      <td>NaN</td>\n",
              "    </tr>\n",
              "    <tr>\n",
              "      <th>3</th>\n",
              "      <td>ADILABAD</td>\n",
              "      <td>Jainath</td>\n",
              "      <td>Jainath</td>\n",
              "      <td>19.730555</td>\n",
              "      <td>78.640000</td>\n",
              "      <td>5.75</td>\n",
              "      <td>8.09</td>\n",
              "      <td>422</td>\n",
              "      <td>270.08</td>\n",
              "      <td>0.0</td>\n",
              "      <td>...</td>\n",
              "      <td>1.00</td>\n",
              "      <td>32.0</td>\n",
              "      <td>19.448</td>\n",
              "      <td>159.967105</td>\n",
              "      <td>0.928155</td>\n",
              "      <td>C2S1</td>\n",
              "      <td>0.000658</td>\n",
              "      <td>P.S.</td>\n",
              "      <td>2018</td>\n",
              "      <td>NaN</td>\n",
              "    </tr>\n",
              "    <tr>\n",
              "      <th>4</th>\n",
              "      <td>ADILABAD</td>\n",
              "      <td>Narnoor</td>\n",
              "      <td>Narnoor</td>\n",
              "      <td>19.495665</td>\n",
              "      <td>78.852654</td>\n",
              "      <td>2.15</td>\n",
              "      <td>8.21</td>\n",
              "      <td>2321</td>\n",
              "      <td>1485.44</td>\n",
              "      <td>0.0</td>\n",
              "      <td>...</td>\n",
              "      <td>5.00</td>\n",
              "      <td>56.0</td>\n",
              "      <td>92.378</td>\n",
              "      <td>519.843750</td>\n",
              "      <td>5.682664</td>\n",
              "      <td>C4S2</td>\n",
              "      <td>-4.396875</td>\n",
              "      <td>P.S.</td>\n",
              "      <td>2018</td>\n",
              "      <td>NaN</td>\n",
              "    </tr>\n",
              "    <tr>\n",
              "      <th>...</th>\n",
              "      <td>...</td>\n",
              "      <td>...</td>\n",
              "      <td>...</td>\n",
              "      <td>...</td>\n",
              "      <td>...</td>\n",
              "      <td>...</td>\n",
              "      <td>...</td>\n",
              "      <td>...</td>\n",
              "      <td>...</td>\n",
              "      <td>...</td>\n",
              "      <td>...</td>\n",
              "      <td>...</td>\n",
              "      <td>...</td>\n",
              "      <td>...</td>\n",
              "      <td>...</td>\n",
              "      <td>...</td>\n",
              "      <td>...</td>\n",
              "      <td>...</td>\n",
              "      <td>...</td>\n",
              "      <td>...</td>\n",
              "      <td>...</td>\n",
              "    </tr>\n",
              "    <tr>\n",
              "      <th>363</th>\n",
              "      <td>YADADRI</td>\n",
              "      <td>S.Narayanpur</td>\n",
              "      <td>S.Narayanpur</td>\n",
              "      <td>17.144719</td>\n",
              "      <td>78.860010</td>\n",
              "      <td>9.90</td>\n",
              "      <td>7.8</td>\n",
              "      <td>2324</td>\n",
              "      <td>1487.36</td>\n",
              "      <td>0.0</td>\n",
              "      <td>...</td>\n",
              "      <td>2.60</td>\n",
              "      <td>160.0</td>\n",
              "      <td>97.240</td>\n",
              "      <td>799.835526</td>\n",
              "      <td>2.602728</td>\n",
              "      <td>C4S1</td>\n",
              "      <td>-8.596711</td>\n",
              "      <td>P.S.</td>\n",
              "      <td>2022</td>\n",
              "      <td>NaN</td>\n",
              "    </tr>\n",
              "    <tr>\n",
              "      <th>364</th>\n",
              "      <td>YADADRI</td>\n",
              "      <td>Thurkapally</td>\n",
              "      <td>Gandamalla</td>\n",
              "      <td>17.733101</td>\n",
              "      <td>78.853831</td>\n",
              "      <td>5.74</td>\n",
              "      <td>8.26</td>\n",
              "      <td>2109</td>\n",
              "      <td>1349.76</td>\n",
              "      <td>0.0</td>\n",
              "      <td>...</td>\n",
              "      <td>43.30</td>\n",
              "      <td>48.0</td>\n",
              "      <td>116.688</td>\n",
              "      <td>599.802632</td>\n",
              "      <td>3.751176</td>\n",
              "      <td>C3S1</td>\n",
              "      <td>-3.396053</td>\n",
              "      <td>P.S.</td>\n",
              "      <td>2022</td>\n",
              "      <td>NaN</td>\n",
              "    </tr>\n",
              "    <tr>\n",
              "      <th>365</th>\n",
              "      <td>YADADRI</td>\n",
              "      <td>Valigonda</td>\n",
              "      <td>T. somaram</td>\n",
              "      <td>17.399953</td>\n",
              "      <td>78.952290</td>\n",
              "      <td>1.72</td>\n",
              "      <td>8.77</td>\n",
              "      <td>1115</td>\n",
              "      <td>713.60</td>\n",
              "      <td>20.0</td>\n",
              "      <td>...</td>\n",
              "      <td>3.04</td>\n",
              "      <td>80.0</td>\n",
              "      <td>53.482</td>\n",
              "      <td>419.909539</td>\n",
              "      <td>1.282386</td>\n",
              "      <td>C3S1</td>\n",
              "      <td>-4.398191</td>\n",
              "      <td>P.S.</td>\n",
              "      <td>2022</td>\n",
              "      <td>NaN</td>\n",
              "    </tr>\n",
              "    <tr>\n",
              "      <th>366</th>\n",
              "      <td>YADADRI</td>\n",
              "      <td>Valigonda</td>\n",
              "      <td>Vemulakonda</td>\n",
              "      <td>17.347782</td>\n",
              "      <td>79.143433</td>\n",
              "      <td>1.65</td>\n",
              "      <td>7.76</td>\n",
              "      <td>5053</td>\n",
              "      <td>3233.92</td>\n",
              "      <td>0.0</td>\n",
              "      <td>...</td>\n",
              "      <td>3.30</td>\n",
              "      <td>400.0</td>\n",
              "      <td>92.378</td>\n",
              "      <td>1379.843750</td>\n",
              "      <td>5.444988</td>\n",
              "      <td>C4S1</td>\n",
              "      <td>-21.996875</td>\n",
              "      <td>P.S.</td>\n",
              "      <td>2022</td>\n",
              "      <td>NaN</td>\n",
              "    </tr>\n",
              "    <tr>\n",
              "      <th>367</th>\n",
              "      <td>YADADRI</td>\n",
              "      <td>Y.Gutta</td>\n",
              "      <td>Mallapuram</td>\n",
              "      <td>17.633555</td>\n",
              "      <td>78.911638</td>\n",
              "      <td>4.92</td>\n",
              "      <td>8.13</td>\n",
              "      <td>2280</td>\n",
              "      <td>1459.20</td>\n",
              "      <td>0.0</td>\n",
              "      <td>...</td>\n",
              "      <td>5.60</td>\n",
              "      <td>152.0</td>\n",
              "      <td>97.240</td>\n",
              "      <td>779.835526</td>\n",
              "      <td>2.657689</td>\n",
              "      <td>C4S1</td>\n",
              "      <td>-11.596711</td>\n",
              "      <td>P.S.</td>\n",
              "      <td>2022</td>\n",
              "      <td>NaN</td>\n",
              "    </tr>\n",
              "  </tbody>\n",
              "</table>\n",
              "<p>1842 rows × 26 columns</p>\n",
              "</div>\n",
              "    <div class=\"colab-df-buttons\">\n",
              "\n",
              "  <div class=\"colab-df-container\">\n",
              "    <button class=\"colab-df-convert\" onclick=\"convertToInteractive('df-48e9cb97-0188-4684-ac21-c204d1e9371f')\"\n",
              "            title=\"Convert this dataframe to an interactive table.\"\n",
              "            style=\"display:none;\">\n",
              "\n",
              "  <svg xmlns=\"http://www.w3.org/2000/svg\" height=\"24px\" viewBox=\"0 -960 960 960\">\n",
              "    <path d=\"M120-120v-720h720v720H120Zm60-500h600v-160H180v160Zm220 220h160v-160H400v160Zm0 220h160v-160H400v160ZM180-400h160v-160H180v160Zm440 0h160v-160H620v160ZM180-180h160v-160H180v160Zm440 0h160v-160H620v160Z\"/>\n",
              "  </svg>\n",
              "    </button>\n",
              "\n",
              "  <style>\n",
              "    .colab-df-container {\n",
              "      display:flex;\n",
              "      gap: 12px;\n",
              "    }\n",
              "\n",
              "    .colab-df-convert {\n",
              "      background-color: #E8F0FE;\n",
              "      border: none;\n",
              "      border-radius: 50%;\n",
              "      cursor: pointer;\n",
              "      display: none;\n",
              "      fill: #1967D2;\n",
              "      height: 32px;\n",
              "      padding: 0 0 0 0;\n",
              "      width: 32px;\n",
              "    }\n",
              "\n",
              "    .colab-df-convert:hover {\n",
              "      background-color: #E2EBFA;\n",
              "      box-shadow: 0px 1px 2px rgba(60, 64, 67, 0.3), 0px 1px 3px 1px rgba(60, 64, 67, 0.15);\n",
              "      fill: #174EA6;\n",
              "    }\n",
              "\n",
              "    .colab-df-buttons div {\n",
              "      margin-bottom: 4px;\n",
              "    }\n",
              "\n",
              "    [theme=dark] .colab-df-convert {\n",
              "      background-color: #3B4455;\n",
              "      fill: #D2E3FC;\n",
              "    }\n",
              "\n",
              "    [theme=dark] .colab-df-convert:hover {\n",
              "      background-color: #434B5C;\n",
              "      box-shadow: 0px 1px 3px 1px rgba(0, 0, 0, 0.15);\n",
              "      filter: drop-shadow(0px 1px 2px rgba(0, 0, 0, 0.3));\n",
              "      fill: #FFFFFF;\n",
              "    }\n",
              "  </style>\n",
              "\n",
              "    <script>\n",
              "      const buttonEl =\n",
              "        document.querySelector('#df-48e9cb97-0188-4684-ac21-c204d1e9371f button.colab-df-convert');\n",
              "      buttonEl.style.display =\n",
              "        google.colab.kernel.accessAllowed ? 'block' : 'none';\n",
              "\n",
              "      async function convertToInteractive(key) {\n",
              "        const element = document.querySelector('#df-48e9cb97-0188-4684-ac21-c204d1e9371f');\n",
              "        const dataTable =\n",
              "          await google.colab.kernel.invokeFunction('convertToInteractive',\n",
              "                                                    [key], {});\n",
              "        if (!dataTable) return;\n",
              "\n",
              "        const docLinkHtml = 'Like what you see? Visit the ' +\n",
              "          '<a target=\"_blank\" href=https://colab.research.google.com/notebooks/data_table.ipynb>data table notebook</a>'\n",
              "          + ' to learn more about interactive tables.';\n",
              "        element.innerHTML = '';\n",
              "        dataTable['output_type'] = 'display_data';\n",
              "        await google.colab.output.renderOutput(dataTable, element);\n",
              "        const docLink = document.createElement('div');\n",
              "        docLink.innerHTML = docLinkHtml;\n",
              "        element.appendChild(docLink);\n",
              "      }\n",
              "    </script>\n",
              "  </div>\n",
              "\n",
              "\n",
              "<div id=\"df-6a20b979-07d4-4313-96d7-934c2383568b\">\n",
              "  <button class=\"colab-df-quickchart\" onclick=\"quickchart('df-6a20b979-07d4-4313-96d7-934c2383568b')\"\n",
              "            title=\"Suggest charts.\"\n",
              "            style=\"display:none;\">\n",
              "\n",
              "<svg xmlns=\"http://www.w3.org/2000/svg\" height=\"24px\"viewBox=\"0 0 24 24\"\n",
              "     width=\"24px\">\n",
              "    <g>\n",
              "        <path d=\"M19 3H5c-1.1 0-2 .9-2 2v14c0 1.1.9 2 2 2h14c1.1 0 2-.9 2-2V5c0-1.1-.9-2-2-2zM9 17H7v-7h2v7zm4 0h-2V7h2v10zm4 0h-2v-4h2v4z\"/>\n",
              "    </g>\n",
              "</svg>\n",
              "  </button>\n",
              "\n",
              "<style>\n",
              "  .colab-df-quickchart {\n",
              "      --bg-color: #E8F0FE;\n",
              "      --fill-color: #1967D2;\n",
              "      --hover-bg-color: #E2EBFA;\n",
              "      --hover-fill-color: #174EA6;\n",
              "      --disabled-fill-color: #AAA;\n",
              "      --disabled-bg-color: #DDD;\n",
              "  }\n",
              "\n",
              "  [theme=dark] .colab-df-quickchart {\n",
              "      --bg-color: #3B4455;\n",
              "      --fill-color: #D2E3FC;\n",
              "      --hover-bg-color: #434B5C;\n",
              "      --hover-fill-color: #FFFFFF;\n",
              "      --disabled-bg-color: #3B4455;\n",
              "      --disabled-fill-color: #666;\n",
              "  }\n",
              "\n",
              "  .colab-df-quickchart {\n",
              "    background-color: var(--bg-color);\n",
              "    border: none;\n",
              "    border-radius: 50%;\n",
              "    cursor: pointer;\n",
              "    display: none;\n",
              "    fill: var(--fill-color);\n",
              "    height: 32px;\n",
              "    padding: 0;\n",
              "    width: 32px;\n",
              "  }\n",
              "\n",
              "  .colab-df-quickchart:hover {\n",
              "    background-color: var(--hover-bg-color);\n",
              "    box-shadow: 0 1px 2px rgba(60, 64, 67, 0.3), 0 1px 3px 1px rgba(60, 64, 67, 0.15);\n",
              "    fill: var(--button-hover-fill-color);\n",
              "  }\n",
              "\n",
              "  .colab-df-quickchart-complete:disabled,\n",
              "  .colab-df-quickchart-complete:disabled:hover {\n",
              "    background-color: var(--disabled-bg-color);\n",
              "    fill: var(--disabled-fill-color);\n",
              "    box-shadow: none;\n",
              "  }\n",
              "\n",
              "  .colab-df-spinner {\n",
              "    border: 2px solid var(--fill-color);\n",
              "    border-color: transparent;\n",
              "    border-bottom-color: var(--fill-color);\n",
              "    animation:\n",
              "      spin 1s steps(1) infinite;\n",
              "  }\n",
              "\n",
              "  @keyframes spin {\n",
              "    0% {\n",
              "      border-color: transparent;\n",
              "      border-bottom-color: var(--fill-color);\n",
              "      border-left-color: var(--fill-color);\n",
              "    }\n",
              "    20% {\n",
              "      border-color: transparent;\n",
              "      border-left-color: var(--fill-color);\n",
              "      border-top-color: var(--fill-color);\n",
              "    }\n",
              "    30% {\n",
              "      border-color: transparent;\n",
              "      border-left-color: var(--fill-color);\n",
              "      border-top-color: var(--fill-color);\n",
              "      border-right-color: var(--fill-color);\n",
              "    }\n",
              "    40% {\n",
              "      border-color: transparent;\n",
              "      border-right-color: var(--fill-color);\n",
              "      border-top-color: var(--fill-color);\n",
              "    }\n",
              "    60% {\n",
              "      border-color: transparent;\n",
              "      border-right-color: var(--fill-color);\n",
              "    }\n",
              "    80% {\n",
              "      border-color: transparent;\n",
              "      border-right-color: var(--fill-color);\n",
              "      border-bottom-color: var(--fill-color);\n",
              "    }\n",
              "    90% {\n",
              "      border-color: transparent;\n",
              "      border-bottom-color: var(--fill-color);\n",
              "    }\n",
              "  }\n",
              "</style>\n",
              "\n",
              "  <script>\n",
              "    async function quickchart(key) {\n",
              "      const quickchartButtonEl =\n",
              "        document.querySelector('#' + key + ' button');\n",
              "      quickchartButtonEl.disabled = true;  // To prevent multiple clicks.\n",
              "      quickchartButtonEl.classList.add('colab-df-spinner');\n",
              "      try {\n",
              "        const charts = await google.colab.kernel.invokeFunction(\n",
              "            'suggestCharts', [key], {});\n",
              "      } catch (error) {\n",
              "        console.error('Error during call to suggestCharts:', error);\n",
              "      }\n",
              "      quickchartButtonEl.classList.remove('colab-df-spinner');\n",
              "      quickchartButtonEl.classList.add('colab-df-quickchart-complete');\n",
              "    }\n",
              "    (() => {\n",
              "      let quickchartButtonEl =\n",
              "        document.querySelector('#df-6a20b979-07d4-4313-96d7-934c2383568b button');\n",
              "      quickchartButtonEl.style.display =\n",
              "        google.colab.kernel.accessAllowed ? 'block' : 'none';\n",
              "    })();\n",
              "  </script>\n",
              "</div>\n",
              "    </div>\n",
              "  </div>\n"
            ]
          },
          "metadata": {},
          "execution_count": 280
        }
      ],
      "source": [
        "data_full"
      ]
    },
    {
      "cell_type": "code",
      "execution_count": null,
      "metadata": {
        "colab": {
          "base_uri": "https://localhost:8080/"
        },
        "id": "BQZV8TftKYEk",
        "outputId": "50201f26-d7fd-4fbd-ee78-7d9f2938056d"
      },
      "outputs": [
        {
          "output_type": "stream",
          "name": "stdout",
          "text": [
            "C3S1    1152\n",
            "C2S1     412\n",
            "C4S1     151\n",
            "C4S2      78\n",
            "C3S2      37\n",
            "Name: Classification, dtype: int64\n"
          ]
        }
      ],
      "source": [
        "# cols2drop = ['district','mandal', 'village', 'lat_gis', 'long_gis', 'Classification.1', 'Unnamed: 8']\n",
        "cols2drop = ['Classification.1', 'Unnamed: 8']\n",
        "\n",
        "\n",
        "data_full = data_full[data_full['Classification'] != 'Other']\n",
        "data_full['pH'] = data_full['pH'].replace('8..05', '8.05')\n",
        "data_full['pH'] = data_full['pH'].apply(pd.to_numeric)\n",
        "\n",
        "data_full = data_full.drop(cols2drop, axis=1)\n",
        "class_distribution = data_full['Classification'].value_counts()\n",
        "# check class distribution\n",
        "print(class_distribution)"
      ]
    },
    {
      "cell_type": "code",
      "execution_count": null,
      "metadata": {
        "colab": {
          "base_uri": "https://localhost:8080/"
        },
        "id": "HRjFR5C0Pd5s",
        "outputId": "801df57c-7136-42b5-83c1-ddcbccc3ae1f"
      },
      "outputs": [
        {
          "output_type": "execute_result",
          "data": {
            "text/plain": [
              "gwl     17\n",
              "CO3    159\n",
              "dtype: int64"
            ]
          },
          "metadata": {},
          "execution_count": 282
        }
      ],
      "source": [
        "# total null elements\n",
        "\n",
        "data_full.isnull().sum()[data_full.isnull().sum() > 0]"
      ]
    },
    {
      "cell_type": "code",
      "execution_count": null,
      "metadata": {
        "id": "DKCPkaD3Pd5s"
      },
      "outputs": [],
      "source": [
        "# imputing null values\n",
        "\n",
        "imp_knn = KNNImputer(n_neighbors=3)\n",
        "\n",
        "data_full['CO3'] = imp_knn.fit_transform(np.array(data_full['CO3']).reshape(-1,1) )\n",
        "data_full['gwl'] = imp_knn.fit_transform(np.array(data_full['gwl']).reshape(-1,1) )"
      ]
    },
    {
      "cell_type": "code",
      "execution_count": null,
      "metadata": {
        "colab": {
          "base_uri": "https://localhost:8080/"
        },
        "id": "toq1tT6wPd5t",
        "outputId": "f188d89c-4a77-4616-a4cb-a77bf3e3a650"
      },
      "outputs": [
        {
          "output_type": "execute_result",
          "data": {
            "text/plain": [
              "Series([], dtype: int64)"
            ]
          },
          "metadata": {},
          "execution_count": 284
        }
      ],
      "source": [
        "data_full.isnull().sum()[data_full.isnull().sum() > 0]"
      ]
    },
    {
      "cell_type": "code",
      "execution_count": null,
      "metadata": {
        "colab": {
          "base_uri": "https://localhost:8080/",
          "height": 236
        },
        "id": "lkHQRdqyPd5u",
        "outputId": "dac0d9ad-d0e8-479c-842f-e54d3f63a3fc"
      },
      "outputs": [
        {
          "output_type": "execute_result",
          "data": {
            "text/plain": [
              "   district       mandal      village    lat_gis   long_gis   gwl    pH   E.C  \\\n",
              "0  ADILABAD     Adilabad     Adilabad  19.668300  78.524700  5.09  8.28   745   \n",
              "1  ADILABAD  Bazarhatnur  Bazarhatnur  19.458888  78.350833  5.10  8.29   921   \n",
              "2  ADILABAD  Gudihatnoor  Gudihatnoor  19.525555  78.512222  4.98  7.69   510   \n",
              "3  ADILABAD      Jainath      Jainath  19.730555  78.640000  5.75  8.09   422   \n",
              "4  ADILABAD      Narnoor      Narnoor  19.495665  78.852654  2.15  8.21  2321   \n",
              "\n",
              "       TDS  CO3  ...    SO4     Na    K    Ca      Mg         T.H       SAR  \\\n",
              "0   476.80  0.0  ...   46.0   49.0  4.0  48.0  38.896  279.934211  1.273328   \n",
              "1   589.44  0.0  ...   68.0   42.0  5.0  56.0  63.206  399.893092  0.913166   \n",
              "2   326.40  0.0  ...   44.0   45.0  2.0  24.0  38.896  219.934211  1.319284   \n",
              "3   270.08  0.0  ...   35.0   27.0  1.0  32.0  19.448  159.967105  0.928155   \n",
              "4  1485.44  0.0  ...  280.0  298.0  5.0  56.0  92.378  519.843750  5.682664   \n",
              "\n",
              "   Classification  RSC  meq  / L  year  \n",
              "0            C2S1      -1.198684  2018  \n",
              "1            C3S1      -3.397862  2018  \n",
              "2            C2S1      -0.398684  2018  \n",
              "3            C2S1       0.000658  2018  \n",
              "4            C4S2      -4.396875  2018  \n",
              "\n",
              "[5 rows x 24 columns]"
            ],
            "text/html": [
              "\n",
              "  <div id=\"df-6a1c2c5e-fb6e-41ca-9bdd-63771fc5d81b\" class=\"colab-df-container\">\n",
              "    <div>\n",
              "<style scoped>\n",
              "    .dataframe tbody tr th:only-of-type {\n",
              "        vertical-align: middle;\n",
              "    }\n",
              "\n",
              "    .dataframe tbody tr th {\n",
              "        vertical-align: top;\n",
              "    }\n",
              "\n",
              "    .dataframe thead th {\n",
              "        text-align: right;\n",
              "    }\n",
              "</style>\n",
              "<table border=\"1\" class=\"dataframe\">\n",
              "  <thead>\n",
              "    <tr style=\"text-align: right;\">\n",
              "      <th></th>\n",
              "      <th>district</th>\n",
              "      <th>mandal</th>\n",
              "      <th>village</th>\n",
              "      <th>lat_gis</th>\n",
              "      <th>long_gis</th>\n",
              "      <th>gwl</th>\n",
              "      <th>pH</th>\n",
              "      <th>E.C</th>\n",
              "      <th>TDS</th>\n",
              "      <th>CO3</th>\n",
              "      <th>...</th>\n",
              "      <th>SO4</th>\n",
              "      <th>Na</th>\n",
              "      <th>K</th>\n",
              "      <th>Ca</th>\n",
              "      <th>Mg</th>\n",
              "      <th>T.H</th>\n",
              "      <th>SAR</th>\n",
              "      <th>Classification</th>\n",
              "      <th>RSC  meq  / L</th>\n",
              "      <th>year</th>\n",
              "    </tr>\n",
              "  </thead>\n",
              "  <tbody>\n",
              "    <tr>\n",
              "      <th>0</th>\n",
              "      <td>ADILABAD</td>\n",
              "      <td>Adilabad</td>\n",
              "      <td>Adilabad</td>\n",
              "      <td>19.668300</td>\n",
              "      <td>78.524700</td>\n",
              "      <td>5.09</td>\n",
              "      <td>8.28</td>\n",
              "      <td>745</td>\n",
              "      <td>476.80</td>\n",
              "      <td>0.0</td>\n",
              "      <td>...</td>\n",
              "      <td>46.0</td>\n",
              "      <td>49.0</td>\n",
              "      <td>4.0</td>\n",
              "      <td>48.0</td>\n",
              "      <td>38.896</td>\n",
              "      <td>279.934211</td>\n",
              "      <td>1.273328</td>\n",
              "      <td>C2S1</td>\n",
              "      <td>-1.198684</td>\n",
              "      <td>2018</td>\n",
              "    </tr>\n",
              "    <tr>\n",
              "      <th>1</th>\n",
              "      <td>ADILABAD</td>\n",
              "      <td>Bazarhatnur</td>\n",
              "      <td>Bazarhatnur</td>\n",
              "      <td>19.458888</td>\n",
              "      <td>78.350833</td>\n",
              "      <td>5.10</td>\n",
              "      <td>8.29</td>\n",
              "      <td>921</td>\n",
              "      <td>589.44</td>\n",
              "      <td>0.0</td>\n",
              "      <td>...</td>\n",
              "      <td>68.0</td>\n",
              "      <td>42.0</td>\n",
              "      <td>5.0</td>\n",
              "      <td>56.0</td>\n",
              "      <td>63.206</td>\n",
              "      <td>399.893092</td>\n",
              "      <td>0.913166</td>\n",
              "      <td>C3S1</td>\n",
              "      <td>-3.397862</td>\n",
              "      <td>2018</td>\n",
              "    </tr>\n",
              "    <tr>\n",
              "      <th>2</th>\n",
              "      <td>ADILABAD</td>\n",
              "      <td>Gudihatnoor</td>\n",
              "      <td>Gudihatnoor</td>\n",
              "      <td>19.525555</td>\n",
              "      <td>78.512222</td>\n",
              "      <td>4.98</td>\n",
              "      <td>7.69</td>\n",
              "      <td>510</td>\n",
              "      <td>326.40</td>\n",
              "      <td>0.0</td>\n",
              "      <td>...</td>\n",
              "      <td>44.0</td>\n",
              "      <td>45.0</td>\n",
              "      <td>2.0</td>\n",
              "      <td>24.0</td>\n",
              "      <td>38.896</td>\n",
              "      <td>219.934211</td>\n",
              "      <td>1.319284</td>\n",
              "      <td>C2S1</td>\n",
              "      <td>-0.398684</td>\n",
              "      <td>2018</td>\n",
              "    </tr>\n",
              "    <tr>\n",
              "      <th>3</th>\n",
              "      <td>ADILABAD</td>\n",
              "      <td>Jainath</td>\n",
              "      <td>Jainath</td>\n",
              "      <td>19.730555</td>\n",
              "      <td>78.640000</td>\n",
              "      <td>5.75</td>\n",
              "      <td>8.09</td>\n",
              "      <td>422</td>\n",
              "      <td>270.08</td>\n",
              "      <td>0.0</td>\n",
              "      <td>...</td>\n",
              "      <td>35.0</td>\n",
              "      <td>27.0</td>\n",
              "      <td>1.0</td>\n",
              "      <td>32.0</td>\n",
              "      <td>19.448</td>\n",
              "      <td>159.967105</td>\n",
              "      <td>0.928155</td>\n",
              "      <td>C2S1</td>\n",
              "      <td>0.000658</td>\n",
              "      <td>2018</td>\n",
              "    </tr>\n",
              "    <tr>\n",
              "      <th>4</th>\n",
              "      <td>ADILABAD</td>\n",
              "      <td>Narnoor</td>\n",
              "      <td>Narnoor</td>\n",
              "      <td>19.495665</td>\n",
              "      <td>78.852654</td>\n",
              "      <td>2.15</td>\n",
              "      <td>8.21</td>\n",
              "      <td>2321</td>\n",
              "      <td>1485.44</td>\n",
              "      <td>0.0</td>\n",
              "      <td>...</td>\n",
              "      <td>280.0</td>\n",
              "      <td>298.0</td>\n",
              "      <td>5.0</td>\n",
              "      <td>56.0</td>\n",
              "      <td>92.378</td>\n",
              "      <td>519.843750</td>\n",
              "      <td>5.682664</td>\n",
              "      <td>C4S2</td>\n",
              "      <td>-4.396875</td>\n",
              "      <td>2018</td>\n",
              "    </tr>\n",
              "  </tbody>\n",
              "</table>\n",
              "<p>5 rows × 24 columns</p>\n",
              "</div>\n",
              "    <div class=\"colab-df-buttons\">\n",
              "\n",
              "  <div class=\"colab-df-container\">\n",
              "    <button class=\"colab-df-convert\" onclick=\"convertToInteractive('df-6a1c2c5e-fb6e-41ca-9bdd-63771fc5d81b')\"\n",
              "            title=\"Convert this dataframe to an interactive table.\"\n",
              "            style=\"display:none;\">\n",
              "\n",
              "  <svg xmlns=\"http://www.w3.org/2000/svg\" height=\"24px\" viewBox=\"0 -960 960 960\">\n",
              "    <path d=\"M120-120v-720h720v720H120Zm60-500h600v-160H180v160Zm220 220h160v-160H400v160Zm0 220h160v-160H400v160ZM180-400h160v-160H180v160Zm440 0h160v-160H620v160ZM180-180h160v-160H180v160Zm440 0h160v-160H620v160Z\"/>\n",
              "  </svg>\n",
              "    </button>\n",
              "\n",
              "  <style>\n",
              "    .colab-df-container {\n",
              "      display:flex;\n",
              "      gap: 12px;\n",
              "    }\n",
              "\n",
              "    .colab-df-convert {\n",
              "      background-color: #E8F0FE;\n",
              "      border: none;\n",
              "      border-radius: 50%;\n",
              "      cursor: pointer;\n",
              "      display: none;\n",
              "      fill: #1967D2;\n",
              "      height: 32px;\n",
              "      padding: 0 0 0 0;\n",
              "      width: 32px;\n",
              "    }\n",
              "\n",
              "    .colab-df-convert:hover {\n",
              "      background-color: #E2EBFA;\n",
              "      box-shadow: 0px 1px 2px rgba(60, 64, 67, 0.3), 0px 1px 3px 1px rgba(60, 64, 67, 0.15);\n",
              "      fill: #174EA6;\n",
              "    }\n",
              "\n",
              "    .colab-df-buttons div {\n",
              "      margin-bottom: 4px;\n",
              "    }\n",
              "\n",
              "    [theme=dark] .colab-df-convert {\n",
              "      background-color: #3B4455;\n",
              "      fill: #D2E3FC;\n",
              "    }\n",
              "\n",
              "    [theme=dark] .colab-df-convert:hover {\n",
              "      background-color: #434B5C;\n",
              "      box-shadow: 0px 1px 3px 1px rgba(0, 0, 0, 0.15);\n",
              "      filter: drop-shadow(0px 1px 2px rgba(0, 0, 0, 0.3));\n",
              "      fill: #FFFFFF;\n",
              "    }\n",
              "  </style>\n",
              "\n",
              "    <script>\n",
              "      const buttonEl =\n",
              "        document.querySelector('#df-6a1c2c5e-fb6e-41ca-9bdd-63771fc5d81b button.colab-df-convert');\n",
              "      buttonEl.style.display =\n",
              "        google.colab.kernel.accessAllowed ? 'block' : 'none';\n",
              "\n",
              "      async function convertToInteractive(key) {\n",
              "        const element = document.querySelector('#df-6a1c2c5e-fb6e-41ca-9bdd-63771fc5d81b');\n",
              "        const dataTable =\n",
              "          await google.colab.kernel.invokeFunction('convertToInteractive',\n",
              "                                                    [key], {});\n",
              "        if (!dataTable) return;\n",
              "\n",
              "        const docLinkHtml = 'Like what you see? Visit the ' +\n",
              "          '<a target=\"_blank\" href=https://colab.research.google.com/notebooks/data_table.ipynb>data table notebook</a>'\n",
              "          + ' to learn more about interactive tables.';\n",
              "        element.innerHTML = '';\n",
              "        dataTable['output_type'] = 'display_data';\n",
              "        await google.colab.output.renderOutput(dataTable, element);\n",
              "        const docLink = document.createElement('div');\n",
              "        docLink.innerHTML = docLinkHtml;\n",
              "        element.appendChild(docLink);\n",
              "      }\n",
              "    </script>\n",
              "  </div>\n",
              "\n",
              "\n",
              "<div id=\"df-ece825b6-bbf6-43b9-b901-85d254b717fd\">\n",
              "  <button class=\"colab-df-quickchart\" onclick=\"quickchart('df-ece825b6-bbf6-43b9-b901-85d254b717fd')\"\n",
              "            title=\"Suggest charts.\"\n",
              "            style=\"display:none;\">\n",
              "\n",
              "<svg xmlns=\"http://www.w3.org/2000/svg\" height=\"24px\"viewBox=\"0 0 24 24\"\n",
              "     width=\"24px\">\n",
              "    <g>\n",
              "        <path d=\"M19 3H5c-1.1 0-2 .9-2 2v14c0 1.1.9 2 2 2h14c1.1 0 2-.9 2-2V5c0-1.1-.9-2-2-2zM9 17H7v-7h2v7zm4 0h-2V7h2v10zm4 0h-2v-4h2v4z\"/>\n",
              "    </g>\n",
              "</svg>\n",
              "  </button>\n",
              "\n",
              "<style>\n",
              "  .colab-df-quickchart {\n",
              "      --bg-color: #E8F0FE;\n",
              "      --fill-color: #1967D2;\n",
              "      --hover-bg-color: #E2EBFA;\n",
              "      --hover-fill-color: #174EA6;\n",
              "      --disabled-fill-color: #AAA;\n",
              "      --disabled-bg-color: #DDD;\n",
              "  }\n",
              "\n",
              "  [theme=dark] .colab-df-quickchart {\n",
              "      --bg-color: #3B4455;\n",
              "      --fill-color: #D2E3FC;\n",
              "      --hover-bg-color: #434B5C;\n",
              "      --hover-fill-color: #FFFFFF;\n",
              "      --disabled-bg-color: #3B4455;\n",
              "      --disabled-fill-color: #666;\n",
              "  }\n",
              "\n",
              "  .colab-df-quickchart {\n",
              "    background-color: var(--bg-color);\n",
              "    border: none;\n",
              "    border-radius: 50%;\n",
              "    cursor: pointer;\n",
              "    display: none;\n",
              "    fill: var(--fill-color);\n",
              "    height: 32px;\n",
              "    padding: 0;\n",
              "    width: 32px;\n",
              "  }\n",
              "\n",
              "  .colab-df-quickchart:hover {\n",
              "    background-color: var(--hover-bg-color);\n",
              "    box-shadow: 0 1px 2px rgba(60, 64, 67, 0.3), 0 1px 3px 1px rgba(60, 64, 67, 0.15);\n",
              "    fill: var(--button-hover-fill-color);\n",
              "  }\n",
              "\n",
              "  .colab-df-quickchart-complete:disabled,\n",
              "  .colab-df-quickchart-complete:disabled:hover {\n",
              "    background-color: var(--disabled-bg-color);\n",
              "    fill: var(--disabled-fill-color);\n",
              "    box-shadow: none;\n",
              "  }\n",
              "\n",
              "  .colab-df-spinner {\n",
              "    border: 2px solid var(--fill-color);\n",
              "    border-color: transparent;\n",
              "    border-bottom-color: var(--fill-color);\n",
              "    animation:\n",
              "      spin 1s steps(1) infinite;\n",
              "  }\n",
              "\n",
              "  @keyframes spin {\n",
              "    0% {\n",
              "      border-color: transparent;\n",
              "      border-bottom-color: var(--fill-color);\n",
              "      border-left-color: var(--fill-color);\n",
              "    }\n",
              "    20% {\n",
              "      border-color: transparent;\n",
              "      border-left-color: var(--fill-color);\n",
              "      border-top-color: var(--fill-color);\n",
              "    }\n",
              "    30% {\n",
              "      border-color: transparent;\n",
              "      border-left-color: var(--fill-color);\n",
              "      border-top-color: var(--fill-color);\n",
              "      border-right-color: var(--fill-color);\n",
              "    }\n",
              "    40% {\n",
              "      border-color: transparent;\n",
              "      border-right-color: var(--fill-color);\n",
              "      border-top-color: var(--fill-color);\n",
              "    }\n",
              "    60% {\n",
              "      border-color: transparent;\n",
              "      border-right-color: var(--fill-color);\n",
              "    }\n",
              "    80% {\n",
              "      border-color: transparent;\n",
              "      border-right-color: var(--fill-color);\n",
              "      border-bottom-color: var(--fill-color);\n",
              "    }\n",
              "    90% {\n",
              "      border-color: transparent;\n",
              "      border-bottom-color: var(--fill-color);\n",
              "    }\n",
              "  }\n",
              "</style>\n",
              "\n",
              "  <script>\n",
              "    async function quickchart(key) {\n",
              "      const quickchartButtonEl =\n",
              "        document.querySelector('#' + key + ' button');\n",
              "      quickchartButtonEl.disabled = true;  // To prevent multiple clicks.\n",
              "      quickchartButtonEl.classList.add('colab-df-spinner');\n",
              "      try {\n",
              "        const charts = await google.colab.kernel.invokeFunction(\n",
              "            'suggestCharts', [key], {});\n",
              "      } catch (error) {\n",
              "        console.error('Error during call to suggestCharts:', error);\n",
              "      }\n",
              "      quickchartButtonEl.classList.remove('colab-df-spinner');\n",
              "      quickchartButtonEl.classList.add('colab-df-quickchart-complete');\n",
              "    }\n",
              "    (() => {\n",
              "      let quickchartButtonEl =\n",
              "        document.querySelector('#df-ece825b6-bbf6-43b9-b901-85d254b717fd button');\n",
              "      quickchartButtonEl.style.display =\n",
              "        google.colab.kernel.accessAllowed ? 'block' : 'none';\n",
              "    })();\n",
              "  </script>\n",
              "</div>\n",
              "    </div>\n",
              "  </div>\n"
            ]
          },
          "metadata": {},
          "execution_count": 285
        }
      ],
      "source": [
        "data_full.head()"
      ]
    },
    {
      "cell_type": "code",
      "execution_count": null,
      "metadata": {
        "id": "K1XXNGupPd5v"
      },
      "outputs": [],
      "source": [
        "# creating train data and target\n",
        "\n",
        "X = data_full.copy()\n",
        "X.drop('Classification', axis= 1, inplace = True)\n",
        "\n",
        "y = data_full['Classification']"
      ]
    },
    {
      "cell_type": "code",
      "execution_count": null,
      "metadata": {
        "id": "OiD8oErKUj7Q"
      },
      "outputs": [],
      "source": [
        "# # balancing class\n",
        "# from imblearn.over_sampling import SMOTE\n",
        "\n",
        "# smote = SMOTE(k_neighbors=2)\n",
        "# X, y = smote.fit_resample(X, data_full['Classification'].values)\n",
        "# #SMOTE Training data\n",
        "# X, y = smote.fit_resample(X, y)"
      ]
    },
    {
      "cell_type": "code",
      "execution_count": null,
      "metadata": {
        "colab": {
          "base_uri": "https://localhost:8080/"
        },
        "id": "L5PkSPLaVfTX",
        "outputId": "03c5cced-a705-46a8-e79a-9b5aa49218a9"
      },
      "outputs": [
        {
          "output_type": "execute_result",
          "data": {
            "text/plain": [
              "C3S1    1152\n",
              "C2S1     412\n",
              "C4S1     151\n",
              "C4S2      78\n",
              "C3S2      37\n",
              "Name: Classification, dtype: int64"
            ]
          },
          "metadata": {},
          "execution_count": 288
        }
      ],
      "source": [
        "pd.value_counts(y)"
      ]
    },
    {
      "cell_type": "code",
      "execution_count": null,
      "metadata": {
        "colab": {
          "base_uri": "https://localhost:8080/"
        },
        "id": "poUi6FwbPd5w",
        "outputId": "2a26cc4e-0036-4a8d-be4a-a1bce3d29e23"
      },
      "outputs": [
        {
          "output_type": "execute_result",
          "data": {
            "text/plain": [
              "array(['C2S1', 'C3S1', 'C3S2', 'C4S1', 'C4S2'], dtype=object)"
            ]
          },
          "metadata": {},
          "execution_count": 289
        }
      ],
      "source": [
        "LB = LabelEncoder()\n",
        "y = LB.fit_transform(y)\n",
        "LB.classes_"
      ]
    },
    {
      "cell_type": "code",
      "execution_count": null,
      "metadata": {
        "colab": {
          "base_uri": "https://localhost:8080/"
        },
        "id": "_pVWhXdQPd5w",
        "outputId": "091be148-04d1-4b77-a9ce-21bc56f024c9"
      },
      "outputs": [
        {
          "output_type": "execute_result",
          "data": {
            "text/plain": [
              "array([0, 1, 2])"
            ]
          },
          "metadata": {},
          "execution_count": 290
        }
      ],
      "source": [
        "# categorical features\n",
        "\n",
        "cat_feat_idx =  np.where(X.dtypes == 'object')[0]\n",
        "cat_feat_idx"
      ]
    },
    {
      "cell_type": "code",
      "execution_count": null,
      "metadata": {
        "id": "MDLJYzGBPd5x"
      },
      "outputs": [],
      "source": [
        "# scaling numerical data\n",
        "\n",
        "MX = MinMaxScaler()\n",
        "X.iloc[:, 3:21] = MX.fit_transform(X.iloc[:, 3:21])"
      ]
    },
    {
      "cell_type": "code",
      "execution_count": null,
      "metadata": {
        "colab": {
          "base_uri": "https://localhost:8080/"
        },
        "id": "8YsIRO15Pd5y",
        "outputId": "9cb15435-493b-4e72-d64c-277afb4df336"
      },
      "outputs": [
        {
          "output_type": "stream",
          "name": "stdout",
          "text": [
            "(1281, 23)\n",
            "(549, 23)\n"
          ]
        }
      ],
      "source": [
        "X_train, X_test, y_train, y_test = train_test_split(X,y, test_size = 0.3 , shuffle = True, stratify=y , random_state= 2)\n",
        "\n",
        "print(X_train.shape)\n",
        "print(X_test.shape)"
      ]
    },
    {
      "cell_type": "code",
      "execution_count": null,
      "metadata": {
        "colab": {
          "base_uri": "https://localhost:8080/"
        },
        "id": "TCPEy5BCPd5z",
        "outputId": "d3a2bfe7-de52-4f34-b8dd-206c2b3a0cc0"
      },
      "outputs": [
        {
          "output_type": "execute_result",
          "data": {
            "text/plain": [
              "{0: 0.8895833333333333,\n",
              " 1: 0.31786600496277917,\n",
              " 2: 9.853846153846154,\n",
              " 3: 2.4169811320754717,\n",
              " 4: 4.658181818181818}"
            ]
          },
          "metadata": {},
          "execution_count": 293
        }
      ],
      "source": [
        "# creating class weights\n",
        "\n",
        "unique_classes = np.unique(y)\n",
        "weights = compute_class_weight(class_weight='balanced', classes=unique_classes, y=y_train)\n",
        "class_weights = dict(zip(unique_classes, weights))\n",
        "class_weights"
      ]
    },
    {
      "cell_type": "markdown",
      "metadata": {
        "id": "pEvnthqQPd5z"
      },
      "source": [
        "# <span style=\"color:#e74c3c;\"> CatBoost </span> Classifier\n"
      ]
    },
    {
      "cell_type": "code",
      "execution_count": null,
      "metadata": {
        "id": "QnOsbuVSPd50"
      },
      "outputs": [],
      "source": [
        "# creating pools for training and testing\n",
        "\n",
        "train_pool = Pool(X_train, y_train, cat_features = cat_feat_idx)\n",
        "test_pool = Pool(X_test, y_test, cat_features = cat_feat_idx)"
      ]
    },
    {
      "cell_type": "code",
      "execution_count": null,
      "metadata": {
        "colab": {
          "base_uri": "https://localhost:8080/"
        },
        "id": "rNki7Eu4Pd50",
        "outputId": "919926f2-e6d8-44c0-9731-92209a475b2c"
      },
      "outputs": [
        {
          "output_type": "stream",
          "name": "stdout",
          "text": [
            "0:\tlearn: 1.6019024\ttotal: 43.6ms\tremaining: 3m 37s\n",
            "1000:\tlearn: 0.2282235\ttotal: 1m 3s\tremaining: 4m 13s\n",
            "2000:\tlearn: 0.1249715\ttotal: 1m 54s\tremaining: 2m 50s\n",
            "3000:\tlearn: 0.0785173\ttotal: 2m 50s\tremaining: 1m 53s\n",
            "4000:\tlearn: 0.0530350\ttotal: 3m 42s\tremaining: 55.5s\n",
            "4999:\tlearn: 0.0401662\ttotal: 4m 34s\tremaining: 0us\n"
          ]
        },
        {
          "output_type": "execute_result",
          "data": {
            "text/plain": [
              "<catboost.core.CatBoostClassifier at 0x7e20181b0370>"
            ]
          },
          "metadata": {},
          "execution_count": 295
        }
      ],
      "source": [
        "# tuned with optima\n",
        "\n",
        "base_model = CatBoostClassifier(iterations= 5000, task_type=\"CPU\", devices='0:1', learning_rate =0.0029536992550707585 , min_data_in_leaf = 27 , class_weights=class_weights)\n",
        "\n",
        "base_model.fit(train_pool , verbose = 1000 )"
      ]
    },
    {
      "cell_type": "markdown",
      "metadata": {
        "id": "gokQWeUG_KO0"
      },
      "source": [
        "## Swarm Intelligence"
      ]
    },
    {
      "cell_type": "markdown",
      "metadata": {
        "id": "arC8ECety4qC"
      },
      "source": [
        "### PSO"
      ]
    },
    {
      "cell_type": "code",
      "execution_count": null,
      "metadata": {
        "id": "hXotDRTg3INJ"
      },
      "outputs": [],
      "source": [
        "import pyswarms as ps"
      ]
    },
    {
      "cell_type": "code",
      "execution_count": null,
      "metadata": {
        "id": "5NIlg_vh1SVH"
      },
      "outputs": [],
      "source": [
        "pso_iteration = 30"
      ]
    },
    {
      "cell_type": "code",
      "execution_count": null,
      "metadata": {
        "id": "th9fcuGREipa"
      },
      "outputs": [],
      "source": [
        "# Define the hyperparameter search space\n",
        "hyperparameter_ranges = {\n",
        "    'iterations': (1000, 5000),  # Reduce the range of boosting iterations\n",
        "    'depth': (3, 10),           # Reduce the range of tree depth\n",
        "    'learning_rate': (0.0001, 0.1),  # Reduce the learning rate range\n",
        "    'min_data_in_leaf': (25, 35),\n",
        "    'l2_leaf_reg': (1, 10),      # Reduce the range of regularization strength\n",
        "}"
      ]
    },
    {
      "cell_type": "code",
      "execution_count": null,
      "metadata": {
        "id": "AT4EMj7l6bRr"
      },
      "outputs": [],
      "source": [
        "def objective_function(x):\n",
        "    # Round the elements of x to integers\n",
        "    # x = x.astype(int)\n",
        "    x = x.reshape(-1)  # Ensure x is a 1D array\n",
        "    params = {\n",
        "        'iterations': int(x[0]),\n",
        "        'depth': int(x[1]),\n",
        "        'learning_rate': float(x[2]),\n",
        "        'min_data_in_leaf': int(x[3]),\n",
        "        'l2_leaf_reg': int(x[4]),\n",
        "        'class_weights': class_weights,\n",
        "        'task_type': 'CPU',\n",
        "        'devices': '0:1',\n",
        "        'cat_features': cat_feat_idx,\n",
        "        'verbose': 0,\n",
        "    }\n",
        "\n",
        "    model = CatBoostClassifier(**params)\n",
        "    model.fit(train_pool, verbose = 1000)\n",
        "    y_pred = model.predict(X_test)\n",
        "    accuracy = accuracy_score(y_test, y_pred)\n",
        "    return -accuracy"
      ]
    },
    {
      "cell_type": "code",
      "execution_count": null,
      "metadata": {
        "id": "-nM93MH1AT-6"
      },
      "outputs": [],
      "source": [
        "n_particles = 25\n",
        "n_dimensions = len(hyperparameter_ranges)\n",
        "# bounds = (np.array([100, 3, 0.01, 1]), np.array([500, 8, 0.1, 5]))\n",
        "bounds = (np.array([1000, 3, 0.0001, 20, 1]), np.array([5000, 12, 0.1, 35, 10]))\n",
        "\n",
        "\n",
        "\n",
        "optimizer = ps.single.GlobalBestPSO(n_particles=n_particles,\n",
        "                                     dimensions=n_dimensions,\n",
        "                                     bounds=bounds,\n",
        "                                     options={'c1': 1.8, 'c2': 1.4, 'w': 0.6})\n"
      ]
    },
    {
      "cell_type": "code",
      "execution_count": null,
      "metadata": {
        "colab": {
          "base_uri": "https://localhost:8080/",
          "height": 497
        },
        "id": "CDF2XwlGE5sr",
        "outputId": "bb81e6c2-1448-407e-eec4-4daffbd43070"
      },
      "outputs": [
        {
          "name": "stderr",
          "output_type": "stream",
          "text": [
            "2023-11-05 12:25:24,131 - pyswarms.single.global_best - INFO - Optimize for 30 iters with {'c1': 1.8, 'c2': 1.4, 'w': 0.6}\n",
            "pyswarms.single.global_best:   0%|          |0/30"
          ]
        },
        {
          "name": "stdout",
          "output_type": "stream",
          "text": [
            "0:\tlearn: 1.6829339\ttotal: 1.69s\tremaining: 1h 44m 30s\n"
          ]
        },
        {
          "name": "stderr",
          "output_type": "stream",
          "text": [
            "\rpyswarms.single.global_best:   0%|          |0/30\n"
          ]
        },
        {
          "ename": "KeyboardInterrupt",
          "evalue": "ignored",
          "output_type": "error",
          "traceback": [
            "\u001b[0;31m---------------------------------------------------------------------------\u001b[0m",
            "\u001b[0;31mKeyboardInterrupt\u001b[0m                         Traceback (most recent call last)",
            "\u001b[0;32m<ipython-input-86-9fcf52b13616>\u001b[0m in \u001b[0;36m<cell line: 1>\u001b[0;34m()\u001b[0m\n\u001b[0;32m----> 1\u001b[0;31m \u001b[0mbest_hyperparameters\u001b[0m \u001b[0;34m=\u001b[0m \u001b[0moptimizer\u001b[0m\u001b[0;34m.\u001b[0m\u001b[0moptimize\u001b[0m\u001b[0;34m(\u001b[0m\u001b[0mobjective_function\u001b[0m\u001b[0;34m,\u001b[0m \u001b[0miters\u001b[0m\u001b[0;34m=\u001b[0m\u001b[0mpso_iteration\u001b[0m\u001b[0;34m)\u001b[0m\u001b[0;34m\u001b[0m\u001b[0;34m\u001b[0m\u001b[0m\n\u001b[0m",
            "\u001b[0;32m/usr/local/lib/python3.10/dist-packages/pyswarms/single/global_best.py\u001b[0m in \u001b[0;36moptimize\u001b[0;34m(self, objective_func, iters, n_processes, verbose, **kwargs)\u001b[0m\n\u001b[1;32m    207\u001b[0m             \u001b[0;31m# Compute cost for current position and personal best\u001b[0m\u001b[0;34m\u001b[0m\u001b[0;34m\u001b[0m\u001b[0m\n\u001b[1;32m    208\u001b[0m             \u001b[0;31m# fmt: off\u001b[0m\u001b[0;34m\u001b[0m\u001b[0;34m\u001b[0m\u001b[0m\n\u001b[0;32m--> 209\u001b[0;31m             \u001b[0mself\u001b[0m\u001b[0;34m.\u001b[0m\u001b[0mswarm\u001b[0m\u001b[0;34m.\u001b[0m\u001b[0mcurrent_cost\u001b[0m \u001b[0;34m=\u001b[0m \u001b[0mcompute_objective_function\u001b[0m\u001b[0;34m(\u001b[0m\u001b[0mself\u001b[0m\u001b[0;34m.\u001b[0m\u001b[0mswarm\u001b[0m\u001b[0;34m,\u001b[0m \u001b[0mobjective_func\u001b[0m\u001b[0;34m,\u001b[0m \u001b[0mpool\u001b[0m\u001b[0;34m=\u001b[0m\u001b[0mpool\u001b[0m\u001b[0;34m,\u001b[0m \u001b[0;34m**\u001b[0m\u001b[0mkwargs\u001b[0m\u001b[0;34m)\u001b[0m\u001b[0;34m\u001b[0m\u001b[0;34m\u001b[0m\u001b[0m\n\u001b[0m\u001b[1;32m    210\u001b[0m             \u001b[0mself\u001b[0m\u001b[0;34m.\u001b[0m\u001b[0mswarm\u001b[0m\u001b[0;34m.\u001b[0m\u001b[0mpbest_pos\u001b[0m\u001b[0;34m,\u001b[0m \u001b[0mself\u001b[0m\u001b[0;34m.\u001b[0m\u001b[0mswarm\u001b[0m\u001b[0;34m.\u001b[0m\u001b[0mpbest_cost\u001b[0m \u001b[0;34m=\u001b[0m \u001b[0mcompute_pbest\u001b[0m\u001b[0;34m(\u001b[0m\u001b[0mself\u001b[0m\u001b[0;34m.\u001b[0m\u001b[0mswarm\u001b[0m\u001b[0;34m)\u001b[0m\u001b[0;34m\u001b[0m\u001b[0;34m\u001b[0m\u001b[0m\n\u001b[1;32m    211\u001b[0m             \u001b[0;31m# Set best_cost_yet_found for ftol\u001b[0m\u001b[0;34m\u001b[0m\u001b[0;34m\u001b[0m\u001b[0m\n",
            "\u001b[0;32m/usr/local/lib/python3.10/dist-packages/pyswarms/backend/operators.py\u001b[0m in \u001b[0;36mcompute_objective_function\u001b[0;34m(swarm, objective_func, pool, **kwargs)\u001b[0m\n\u001b[1;32m    237\u001b[0m     \"\"\"\n\u001b[1;32m    238\u001b[0m     \u001b[0;32mif\u001b[0m \u001b[0mpool\u001b[0m \u001b[0;32mis\u001b[0m \u001b[0;32mNone\u001b[0m\u001b[0;34m:\u001b[0m\u001b[0;34m\u001b[0m\u001b[0;34m\u001b[0m\u001b[0m\n\u001b[0;32m--> 239\u001b[0;31m         \u001b[0;32mreturn\u001b[0m \u001b[0mobjective_func\u001b[0m\u001b[0;34m(\u001b[0m\u001b[0mswarm\u001b[0m\u001b[0;34m.\u001b[0m\u001b[0mposition\u001b[0m\u001b[0;34m,\u001b[0m \u001b[0;34m**\u001b[0m\u001b[0mkwargs\u001b[0m\u001b[0;34m)\u001b[0m\u001b[0;34m\u001b[0m\u001b[0;34m\u001b[0m\u001b[0m\n\u001b[0m\u001b[1;32m    240\u001b[0m     \u001b[0;32melse\u001b[0m\u001b[0;34m:\u001b[0m\u001b[0;34m\u001b[0m\u001b[0;34m\u001b[0m\u001b[0m\n\u001b[1;32m    241\u001b[0m         results = pool.map(\n",
            "\u001b[0;32m<ipython-input-84-5eacb221eabb>\u001b[0m in \u001b[0;36mobjective_function\u001b[0;34m(x)\u001b[0m\n\u001b[1;32m     17\u001b[0m \u001b[0;34m\u001b[0m\u001b[0m\n\u001b[1;32m     18\u001b[0m     \u001b[0mmodel\u001b[0m \u001b[0;34m=\u001b[0m \u001b[0mCatBoostClassifier\u001b[0m\u001b[0;34m(\u001b[0m\u001b[0;34m**\u001b[0m\u001b[0mparams\u001b[0m\u001b[0;34m)\u001b[0m\u001b[0;34m\u001b[0m\u001b[0;34m\u001b[0m\u001b[0m\n\u001b[0;32m---> 19\u001b[0;31m     \u001b[0mmodel\u001b[0m\u001b[0;34m.\u001b[0m\u001b[0mfit\u001b[0m\u001b[0;34m(\u001b[0m\u001b[0mtrain_pool\u001b[0m\u001b[0;34m,\u001b[0m \u001b[0mverbose\u001b[0m \u001b[0;34m=\u001b[0m \u001b[0;36m1000\u001b[0m\u001b[0;34m)\u001b[0m\u001b[0;34m\u001b[0m\u001b[0;34m\u001b[0m\u001b[0m\n\u001b[0m\u001b[1;32m     20\u001b[0m     \u001b[0my_pred\u001b[0m \u001b[0;34m=\u001b[0m \u001b[0mmodel\u001b[0m\u001b[0;34m.\u001b[0m\u001b[0mpredict\u001b[0m\u001b[0;34m(\u001b[0m\u001b[0mX_test\u001b[0m\u001b[0;34m)\u001b[0m\u001b[0;34m\u001b[0m\u001b[0;34m\u001b[0m\u001b[0m\n\u001b[1;32m     21\u001b[0m     \u001b[0maccuracy\u001b[0m \u001b[0;34m=\u001b[0m \u001b[0maccuracy_score\u001b[0m\u001b[0;34m(\u001b[0m\u001b[0my_test\u001b[0m\u001b[0;34m,\u001b[0m \u001b[0my_pred\u001b[0m\u001b[0;34m)\u001b[0m\u001b[0;34m\u001b[0m\u001b[0;34m\u001b[0m\u001b[0m\n",
            "\u001b[0;32m/usr/local/lib/python3.10/dist-packages/catboost/core.py\u001b[0m in \u001b[0;36mfit\u001b[0;34m(self, X, y, cat_features, text_features, embedding_features, sample_weight, baseline, use_best_model, eval_set, verbose, logging_level, plot, plot_file, column_description, verbose_eval, metric_period, silent, early_stopping_rounds, save_snapshot, snapshot_file, snapshot_interval, init_model, callbacks, log_cout, log_cerr)\u001b[0m\n\u001b[1;32m   5098\u001b[0m             \u001b[0mCatBoostClassifier\u001b[0m\u001b[0;34m.\u001b[0m\u001b[0m_check_is_compatible_loss\u001b[0m\u001b[0;34m(\u001b[0m\u001b[0mparams\u001b[0m\u001b[0;34m[\u001b[0m\u001b[0;34m'loss_function'\u001b[0m\u001b[0;34m]\u001b[0m\u001b[0;34m)\u001b[0m\u001b[0;34m\u001b[0m\u001b[0;34m\u001b[0m\u001b[0m\n\u001b[1;32m   5099\u001b[0m \u001b[0;34m\u001b[0m\u001b[0m\n\u001b[0;32m-> 5100\u001b[0;31m         self._fit(X, y, cat_features, text_features, embedding_features, None, sample_weight, None, None, None, None, baseline, use_best_model,\n\u001b[0m\u001b[1;32m   5101\u001b[0m                   \u001b[0meval_set\u001b[0m\u001b[0;34m,\u001b[0m \u001b[0mverbose\u001b[0m\u001b[0;34m,\u001b[0m \u001b[0mlogging_level\u001b[0m\u001b[0;34m,\u001b[0m \u001b[0mplot\u001b[0m\u001b[0;34m,\u001b[0m \u001b[0mplot_file\u001b[0m\u001b[0;34m,\u001b[0m \u001b[0mcolumn_description\u001b[0m\u001b[0;34m,\u001b[0m \u001b[0mverbose_eval\u001b[0m\u001b[0;34m,\u001b[0m \u001b[0mmetric_period\u001b[0m\u001b[0;34m,\u001b[0m\u001b[0;34m\u001b[0m\u001b[0;34m\u001b[0m\u001b[0m\n\u001b[1;32m   5102\u001b[0m                   silent, early_stopping_rounds, save_snapshot, snapshot_file, snapshot_interval, init_model, callbacks, log_cout, log_cerr)\n",
            "\u001b[0;32m/usr/local/lib/python3.10/dist-packages/catboost/core.py\u001b[0m in \u001b[0;36m_fit\u001b[0;34m(self, X, y, cat_features, text_features, embedding_features, pairs, sample_weight, group_id, group_weight, subgroup_id, pairs_weight, baseline, use_best_model, eval_set, verbose, logging_level, plot, plot_file, column_description, verbose_eval, metric_period, silent, early_stopping_rounds, save_snapshot, snapshot_file, snapshot_interval, init_model, callbacks, log_cout, log_cerr)\u001b[0m\n\u001b[1;32m   2317\u001b[0m         \u001b[0;32mwith\u001b[0m \u001b[0mlog_fixup\u001b[0m\u001b[0;34m(\u001b[0m\u001b[0mlog_cout\u001b[0m\u001b[0;34m,\u001b[0m \u001b[0mlog_cerr\u001b[0m\u001b[0;34m)\u001b[0m\u001b[0;34m,\u001b[0m\u001b[0;31m \u001b[0m\u001b[0;31m\\\u001b[0m\u001b[0;34m\u001b[0m\u001b[0;34m\u001b[0m\u001b[0m\n\u001b[1;32m   2318\u001b[0m             \u001b[0mplot_wrapper\u001b[0m\u001b[0;34m(\u001b[0m\u001b[0mplot\u001b[0m\u001b[0;34m,\u001b[0m \u001b[0mplot_file\u001b[0m\u001b[0;34m,\u001b[0m \u001b[0;34m'Training plots'\u001b[0m\u001b[0;34m,\u001b[0m \u001b[0;34m[\u001b[0m\u001b[0m_get_train_dir\u001b[0m\u001b[0;34m(\u001b[0m\u001b[0mself\u001b[0m\u001b[0;34m.\u001b[0m\u001b[0mget_params\u001b[0m\u001b[0;34m(\u001b[0m\u001b[0;34m)\u001b[0m\u001b[0;34m)\u001b[0m\u001b[0;34m]\u001b[0m\u001b[0;34m)\u001b[0m\u001b[0;34m:\u001b[0m\u001b[0;34m\u001b[0m\u001b[0;34m\u001b[0m\u001b[0m\n\u001b[0;32m-> 2319\u001b[0;31m             self._train(\n\u001b[0m\u001b[1;32m   2320\u001b[0m                 \u001b[0mtrain_pool\u001b[0m\u001b[0;34m,\u001b[0m\u001b[0;34m\u001b[0m\u001b[0;34m\u001b[0m\u001b[0m\n\u001b[1;32m   2321\u001b[0m                 \u001b[0mtrain_params\u001b[0m\u001b[0;34m[\u001b[0m\u001b[0;34m\"eval_sets\"\u001b[0m\u001b[0;34m]\u001b[0m\u001b[0;34m,\u001b[0m\u001b[0;34m\u001b[0m\u001b[0;34m\u001b[0m\u001b[0m\n",
            "\u001b[0;32m/usr/local/lib/python3.10/dist-packages/catboost/core.py\u001b[0m in \u001b[0;36m_train\u001b[0;34m(self, train_pool, test_pool, params, allow_clear_pool, init_model)\u001b[0m\n\u001b[1;32m   1721\u001b[0m \u001b[0;34m\u001b[0m\u001b[0m\n\u001b[1;32m   1722\u001b[0m     \u001b[0;32mdef\u001b[0m \u001b[0m_train\u001b[0m\u001b[0;34m(\u001b[0m\u001b[0mself\u001b[0m\u001b[0;34m,\u001b[0m \u001b[0mtrain_pool\u001b[0m\u001b[0;34m,\u001b[0m \u001b[0mtest_pool\u001b[0m\u001b[0;34m,\u001b[0m \u001b[0mparams\u001b[0m\u001b[0;34m,\u001b[0m \u001b[0mallow_clear_pool\u001b[0m\u001b[0;34m,\u001b[0m \u001b[0minit_model\u001b[0m\u001b[0;34m)\u001b[0m\u001b[0;34m:\u001b[0m\u001b[0;34m\u001b[0m\u001b[0;34m\u001b[0m\u001b[0m\n\u001b[0;32m-> 1723\u001b[0;31m         \u001b[0mself\u001b[0m\u001b[0;34m.\u001b[0m\u001b[0m_object\u001b[0m\u001b[0;34m.\u001b[0m\u001b[0m_train\u001b[0m\u001b[0;34m(\u001b[0m\u001b[0mtrain_pool\u001b[0m\u001b[0;34m,\u001b[0m \u001b[0mtest_pool\u001b[0m\u001b[0;34m,\u001b[0m \u001b[0mparams\u001b[0m\u001b[0;34m,\u001b[0m \u001b[0mallow_clear_pool\u001b[0m\u001b[0;34m,\u001b[0m \u001b[0minit_model\u001b[0m\u001b[0;34m.\u001b[0m\u001b[0m_object\u001b[0m \u001b[0;32mif\u001b[0m \u001b[0minit_model\u001b[0m \u001b[0;32melse\u001b[0m \u001b[0;32mNone\u001b[0m\u001b[0;34m)\u001b[0m\u001b[0;34m\u001b[0m\u001b[0;34m\u001b[0m\u001b[0m\n\u001b[0m\u001b[1;32m   1724\u001b[0m         \u001b[0mself\u001b[0m\u001b[0;34m.\u001b[0m\u001b[0m_set_trained_model_attributes\u001b[0m\u001b[0;34m(\u001b[0m\u001b[0;34m)\u001b[0m\u001b[0;34m\u001b[0m\u001b[0;34m\u001b[0m\u001b[0m\n\u001b[1;32m   1725\u001b[0m \u001b[0;34m\u001b[0m\u001b[0m\n",
            "\u001b[0;32m_catboost.pyx\u001b[0m in \u001b[0;36m_catboost._CatBoost._train\u001b[0;34m()\u001b[0m\n",
            "\u001b[0;32m_catboost.pyx\u001b[0m in \u001b[0;36m_catboost._CatBoost._train\u001b[0;34m()\u001b[0m\n",
            "\u001b[0;31mKeyboardInterrupt\u001b[0m: "
          ]
        }
      ],
      "source": [
        "best_hyperparameters = optimizer.optimize(objective_function, iters=pso_iteration)\n"
      ]
    },
    {
      "cell_type": "code",
      "execution_count": null,
      "metadata": {
        "id": "GwWGoZVyS2sy"
      },
      "outputs": [],
      "source": [
        "len(hyperparameter_ranges)"
      ]
    },
    {
      "cell_type": "code",
      "execution_count": null,
      "metadata": {
        "id": "plxwoIEySyrc"
      },
      "outputs": [],
      "source": [
        "len(best_hyperparameters)"
      ]
    },
    {
      "cell_type": "code",
      "execution_count": null,
      "metadata": {
        "id": "sAcB9AJMTWAs"
      },
      "outputs": [],
      "source": [
        "best_hyperparameter_values"
      ]
    },
    {
      "cell_type": "code",
      "execution_count": null,
      "metadata": {
        "id": "zL9ZUXWHO5QF"
      },
      "outputs": [],
      "source": [
        "best_accuracy, best_hyperparameter_values = best_hyperparameters\n"
      ]
    },
    {
      "cell_type": "code",
      "execution_count": null,
      "metadata": {
        "id": "LOKmIRfv002E"
      },
      "outputs": [],
      "source": [
        "# Now, best_hyperparameter_values is an array of hyperparameter values\n",
        "# You can print it to see the best hyperparameters\n",
        "print(\"Best accuracy:\", -best_accuracy)\n",
        "print(\"Best hyperparameters:\", best_hyperparameter_values)\n",
        "print(\"iteration:\", int(best_hyperparameter_values[0]))\n",
        "print(\"depth:\", int(best_hyperparameter_values[1]))\n",
        "print(\"learning_rate:\", float(best_hyperparameter_values[2]))\n",
        "print(\"min_data_in_leaf:\", int(best_hyperparameter_values[3]))"
      ]
    },
    {
      "cell_type": "code",
      "execution_count": null,
      "metadata": {
        "id": "MPhHWVAiTulR"
      },
      "outputs": [],
      "source": [
        "# Define the best hyperparameters as a dictionary\n",
        "best_hyperparameters = {\n",
        "    'iterations': int(best_hyperparameter_values[0]),\n",
        "    'depth': int(best_hyperparameter_values[1]),\n",
        "    'learning_rate': best_hyperparameter_values[2],\n",
        "    'min_data_in_leaf': int(best_hyperparameter_values[3]),\n",
        "    'class_weights': class_weights,  # Assuming you have class_weights defined\n",
        "    'task_type': 'GPU',\n",
        "    'devices': '0:1',\n",
        "    'cat_features': cat_feat_idx,\n",
        "    'verbose': 0,\n",
        "}"
      ]
    },
    {
      "cell_type": "code",
      "execution_count": null,
      "metadata": {
        "id": "8JBBVKkGE9a3"
      },
      "outputs": [],
      "source": [
        "# Create a CatBoost classifier with the best hyperparameters\n",
        "model = CatBoostClassifier(**best_hyperparameters)\n",
        "\n",
        "# Train the model on your training data\n",
        "model.fit(train_pool , verbose = 1000 )"
      ]
    },
    {
      "cell_type": "markdown",
      "metadata": {
        "id": "Hb6mJOlzy7a8"
      },
      "source": [
        "### SSA"
      ]
    },
    {
      "cell_type": "code",
      "execution_count": null,
      "metadata": {
        "id": "GkXXKlhAzM0a"
      },
      "outputs": [],
      "source": []
    },
    {
      "cell_type": "markdown",
      "metadata": {
        "id": "KeCYSwJ8Pd51"
      },
      "source": [
        "# <span style=\"color:#e74c3c;\"> Results </span>\n"
      ]
    },
    {
      "cell_type": "markdown",
      "metadata": {
        "id": "QERybE9yzOde"
      },
      "source": [
        "### Base Model"
      ]
    },
    {
      "cell_type": "code",
      "execution_count": null,
      "metadata": {
        "colab": {
          "base_uri": "https://localhost:8080/"
        },
        "id": "jIJLHxWfzYBc",
        "outputId": "4adf3a37-3b14-4dbd-f327-dcf72c9d63aa"
      },
      "outputs": [
        {
          "output_type": "stream",
          "name": "stdout",
          "text": [
            "R2 Score :0.88999\n",
            "Mean Squared Error :0.10383\n"
          ]
        }
      ],
      "source": [
        "# predictions and scores\n",
        "\n",
        "pred = base_model.predict(test_pool)\n",
        "\n",
        "r2_sr = r2_score(y_test, pred)\n",
        "mse = mean_squared_error(y_test, pred)\n",
        "\n",
        "print('R2 Score :{0:.5f}'.format(r2_sr))\n",
        "print('Mean Squared Error :{0:.5f}'.format(mse))"
      ]
    },
    {
      "cell_type": "code",
      "execution_count": null,
      "metadata": {
        "colab": {
          "base_uri": "https://localhost:8080/"
        },
        "id": "GGkk5yRjzZ4v",
        "outputId": "0d6b5a37-c5b3-46f8-ab2a-9b8f56f1353c"
      },
      "outputs": [
        {
          "output_type": "stream",
          "name": "stdout",
          "text": [
            "              precision    recall  f1-score   support\n",
            "\n",
            "           0       1.00      0.98      0.99       127\n",
            "           1       0.96      1.00      0.98       334\n",
            "           2       1.00      0.65      0.79        17\n",
            "           3       0.93      1.00      0.97        42\n",
            "           4       0.96      0.76      0.85        29\n",
            "\n",
            "    accuracy                           0.97       549\n",
            "   macro avg       0.97      0.88      0.91       549\n",
            "weighted avg       0.97      0.97      0.97       549\n",
            "\n"
          ]
        }
      ],
      "source": [
        "# classification report\n",
        "\n",
        "clf_report = classification_report(pred, y_test )\n",
        "\n",
        "print(clf_report)"
      ]
    },
    {
      "cell_type": "markdown",
      "metadata": {
        "id": "0MitoU71zQDU"
      },
      "source": [
        "### Base With SI"
      ]
    },
    {
      "cell_type": "code",
      "execution_count": null,
      "metadata": {
        "id": "lCqFV0bQPd51",
        "colab": {
          "base_uri": "https://localhost:8080/",
          "height": 245
        },
        "outputId": "6c10e9e7-9509-4d86-a2f8-04036bc33022"
      },
      "outputs": [
        {
          "output_type": "error",
          "ename": "NameError",
          "evalue": "ignored",
          "traceback": [
            "\u001b[0;31m---------------------------------------------------------------------------\u001b[0m",
            "\u001b[0;31mNameError\u001b[0m                                 Traceback (most recent call last)",
            "\u001b[0;32m<ipython-input-193-3a8bb895fe0f>\u001b[0m in \u001b[0;36m<cell line: 3>\u001b[0;34m()\u001b[0m\n\u001b[1;32m      1\u001b[0m \u001b[0;31m# predictions and scores\u001b[0m\u001b[0;34m\u001b[0m\u001b[0;34m\u001b[0m\u001b[0m\n\u001b[1;32m      2\u001b[0m \u001b[0;34m\u001b[0m\u001b[0m\n\u001b[0;32m----> 3\u001b[0;31m \u001b[0mpred\u001b[0m \u001b[0;34m=\u001b[0m \u001b[0mmodel\u001b[0m\u001b[0;34m.\u001b[0m\u001b[0mpredict\u001b[0m\u001b[0;34m(\u001b[0m\u001b[0mtest_pool\u001b[0m\u001b[0;34m)\u001b[0m\u001b[0;34m\u001b[0m\u001b[0;34m\u001b[0m\u001b[0m\n\u001b[0m\u001b[1;32m      4\u001b[0m \u001b[0;34m\u001b[0m\u001b[0m\n\u001b[1;32m      5\u001b[0m \u001b[0mr2_sr\u001b[0m \u001b[0;34m=\u001b[0m \u001b[0mr2_score\u001b[0m\u001b[0;34m(\u001b[0m\u001b[0my_test\u001b[0m\u001b[0;34m,\u001b[0m \u001b[0mpred\u001b[0m\u001b[0;34m)\u001b[0m\u001b[0;34m\u001b[0m\u001b[0;34m\u001b[0m\u001b[0m\n",
            "\u001b[0;31mNameError\u001b[0m: name 'model' is not defined"
          ]
        }
      ],
      "source": [
        "# predictions and scores\n",
        "\n",
        "pred = model.predict(test_pool)\n",
        "\n",
        "r2_sr = r2_score(y_test, pred)\n",
        "mse = mean_squared_error(y_test, pred)\n",
        "\n",
        "print('R2 Score :{0:.5f}'.format(r2_sr))\n",
        "print('Mean Squared Error :{0:.5f}'.format(mse))"
      ]
    },
    {
      "cell_type": "code",
      "execution_count": null,
      "metadata": {
        "id": "M2qxa64xPd52"
      },
      "outputs": [],
      "source": [
        "# classification report\n",
        "\n",
        "clf_report = classification_report(pred, y_test )\n",
        "\n",
        "print(clf_report)"
      ]
    },
    {
      "cell_type": "markdown",
      "metadata": {
        "id": "i92q2dzeyOBB"
      },
      "source": [
        "## Save Model"
      ]
    },
    {
      "cell_type": "markdown",
      "metadata": {
        "id": "oIKamVaizi8n"
      },
      "source": [
        "### Base Model"
      ]
    },
    {
      "cell_type": "code",
      "execution_count": null,
      "metadata": {
        "id": "ozKvWE__zknd"
      },
      "outputs": [],
      "source": [
        "base_model.save_model('model_catboost.cbm',format=\"cbm\")"
      ]
    },
    {
      "cell_type": "markdown",
      "metadata": {
        "id": "1t_MqOp_zgDS"
      },
      "source": [
        "### Base with SI"
      ]
    },
    {
      "cell_type": "code",
      "execution_count": null,
      "metadata": {
        "id": "NBDRx_ZIyNEC"
      },
      "outputs": [],
      "source": [
        "model.save_model(f'model_pso_catboost_{pso_iteration}iter.cbm', format=\"cbm\")"
      ]
    }
  ],
  "metadata": {
    "accelerator": "GPU",
    "colab": {
      "provenance": []
    },
    "kernelspec": {
      "display_name": "Python 3",
      "name": "python3"
    },
    "language_info": {
      "codemirror_mode": {
        "name": "ipython",
        "version": 3
      },
      "file_extension": ".py",
      "mimetype": "text/x-python",
      "name": "python",
      "nbconvert_exporter": "python",
      "pygments_lexer": "ipython3",
      "version": "3.6.4"
    }
  },
  "nbformat": 4,
  "nbformat_minor": 0
}