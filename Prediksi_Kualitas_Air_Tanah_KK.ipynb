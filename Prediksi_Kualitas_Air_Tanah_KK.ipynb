{
  "cells": [
    {
      "cell_type": "markdown",
      "metadata": {
        "id": "vp-pb3LBSG9W"
      },
      "source": [
        "# Desc"
      ]
    },
    {
      "cell_type": "markdown",
      "metadata": {
        "id": "J_CQ0Oq9Pd5g"
      },
      "source": [
        "<b>The dataset is very unbalanced. </b> For example, C3S4 and C3S4 classes have only one sample. This situation is not good in respect of  using the oversampling methods. <br>\n",
        "\n",
        "I tried to create a new class (called the other) by combining other classes which have a small sample size.\n",
        "Finally, there are six classes to classify, named 'C2S1', 'C3S1', 'C3S2', 'C4S1', 'C4S2', 'Other'.\n",
        "\n",
        "\n",
        "## Results\n",
        "\n",
        "I have used optima for optimizing the model. The results were not very good. Although our model gained reasonable precision/recall scores in a few classes, some classes have bad scores.<br>\n",
        "\n",
        "- (Test Set) R2 score : 82.851\n",
        "- (Test Set) MAE : 0.207831\n",
        "\n",
        "| class        \t| precision \t| recall \t| f1-score \t| support \t|\n",
        "|--------------\t|-----------\t|--------\t|----------\t|---------\t|\n",
        "| 0            \t| 1.00      \t| 0.97   \t| 0.99     \t| 76      \t|\n",
        "| 1            \t| 0.97      \t| 0.99   \t| 0.98     \t| 204     \t|\n",
        "| 2            \t| 0.25      \t| 0.17   \t| 0.20     \t| 6       \t|\n",
        "| 3            \t| 0.88      \t| 0.88   \t| 0.88     \t| 26      \t|\n",
        "| 4            \t| 0.73      \t| 0.67   \t| 0.70     \t| 12      \t|\n",
        "| 5            \t| 0.62      \t| 0.62   \t| 0.62     \t| 8       \t|\n",
        "| accuracy     \t|           \t|        \t| 0.94     \t| 332     \t|\n",
        "| macro avg    \t| 0.74      \t| 0.72   \t| 0.73     \t| 332     \t|\n",
        "| weighted avg \t| 0.94      \t| 0.94   \t| 0.94     \t| 332     \t|"
      ]
    },
    {
      "cell_type": "markdown",
      "metadata": {
        "id": "sZX52tKQSSVC"
      },
      "source": [
        "# Install"
      ]
    },
    {
      "cell_type": "code",
      "execution_count": 84,
      "metadata": {
        "colab": {
          "base_uri": "https://localhost:8080/",
          "height": 1000
        },
        "id": "kgIS3TbPPum0",
        "outputId": "81178c8c-3e1b-4fe2-afbf-ae7a99a44d81"
      },
      "outputs": [],
      "source": [
        "# !pip install catboost\n",
        "# !pip install scikit-learn\n",
        "# !pip install seaborn\n",
        "# !pip install numpy\n",
        "# !pip install pandas\n",
        "# !pip install mealpy\n",
        "# !pip install pyswarms\n",
        "# !pip install imbalanced-learn\n",
        "# !pip install jupyterlab\n",
        "# !pip install jupyter_http_over_ws\n",
        "# !pip install xgboost\n",
        "# # !pip install https://s3-us-west-2.amazonaws.com/xgboost-nightly-builds/release_2.0.0/xgboost-2.0.1%2Ba408254c2f0c4a39a04430f9894579038414cb31-py3-none-manylinux2014_x86_64.whl\n",
        "# !pip install --upgrade --no-cache-dir gdown\n",
        "# # !jupyter serverextension enable --py jupyter_http_over_ws"
      ]
    },
    {
      "cell_type": "markdown",
      "metadata": {
        "id": "oYfAu2JASLnv"
      },
      "source": [
        "# Code"
      ]
    },
    {
      "cell_type": "code",
      "execution_count": 85,
      "metadata": {
        "id": "i-ELspnDPd5m"
      },
      "outputs": [],
      "source": [
        "# Importing dependencies\n",
        "\n",
        "import warnings\n",
        "warnings.filterwarnings('ignore')\n",
        "import re\n",
        "import numpy as np\n",
        "import pandas as pd\n",
        "\n",
        "from sklearn.model_selection import train_test_split\n",
        "from sklearn.impute import KNNImputer, SimpleImputer\n",
        "from sklearn.preprocessing import LabelEncoder, StandardScaler, MinMaxScaler\n",
        "from sklearn.metrics import r2_score, mean_squared_error, classification_report\n",
        "from sklearn.utils.class_weight import compute_class_weight\n",
        "from sklearn.metrics import accuracy_score, precision_score, recall_score, f1_score\n",
        "\n",
        "from catboost import CatBoostClassifier, Pool"
      ]
    },
    {
      "cell_type": "markdown",
      "metadata": {
        "id": "A0wgVzF2Pd5p"
      },
      "source": [
        "# <span style=\"color:#e74c3c;\"> Reading </span> Data\n"
      ]
    },
    {
      "cell_type": "code",
      "execution_count": 86,
      "metadata": {
        "colab": {
          "base_uri": "https://localhost:8080/"
        },
        "id": "fgZKwf_GQy-p",
        "outputId": "d08e46e1-77f3-4cc0-8de0-77289e7c5cbe"
      },
      "outputs": [],
      "source": [
        "# !gdown 1SaxJ8KPMrV37ZsVTv5F5ava5aXtGRiSn\n",
        "# !gdown 1E6BZ-AEncUOWlsK96SFz5wBK8w7XjmVB\n",
        "# !gdown 195J88Onvr23J8HdFtO3D_Yezi97clcZ9\n",
        "# !gdown 1C4ERjxVqEnxTGxwQVz98u3gaxA_hnzrH\n",
        "# !gdown 10KFETqq39CXdFP2zTqPgRKOGqFuVlhL9\n",
        "# !gdown 1I5c33LgqPIjtSFAThzIYFYllWgrzNTT0\n",
        "# !gdown 1S6YYB6ew3CdlIT8YtMCLw-g0WJlmV6D1\n",
        "# !gdown 1Xnhm2FD-mDuX6AQ-Nqs-OHd5s5zWyn3e\n",
        "# !gdown 1oykno6YaFS6Fx9G8sI4RlqVnu36x693F\n",
        "# !gdown 1wDqaIzte9f5KLfEOTa0r9a6QrKZ34_Yx"
      ]
    },
    {
      "cell_type": "code",
      "execution_count": 87,
      "metadata": {
        "id": "BLVp95uFl-3_"
      },
      "outputs": [],
      "source": [
        "# Reading data\n",
        "\n",
        "data1 = pd.read_csv('./ground_water_quality_2018_post.csv')\n",
        "data2 = pd.read_csv('./ground_water_quality_2019_post.csv')\n",
        "data3 = pd.read_csv('./ground_water_quality_2020_post.csv')\n",
        "data4 = pd.read_csv('./ground_water_quality_2020_post.csv')\n",
        "data5 = pd.read_csv('./ground_water_quality_2020_post.csv')\n",
        "data6 = pd.read_csv('./ground_water_quality_2018_pre.csv')\n",
        "data7 = pd.read_csv('./ground_water_quality_2019_pre.csv')\n",
        "data8 = pd.read_csv('./ground_water_quality_2020_pre.csv')\n",
        "data9 = pd.read_csv('./ground_water_quality_2020_pre.csv')\n",
        "data10 = pd.read_csv('./ground_water_quality_2020_pre.csv')"
      ]
    },
    {
      "cell_type": "code",
      "execution_count": 88,
      "metadata": {
        "id": "efuW4HT3Pd5q"
      },
      "outputs": [],
      "source": [
        "\n",
        "data2.rename( columns ={ 'EC' : 'E.C', 'CO_-2 ' : 'CO3', 'HCO_ - ' :'HCO3', 'Cl -' : 'Cl',\n",
        "                        'F -' : 'F', 'NO3- ': 'NO3 ' , 'SO4-2':'SO4' , 'Na+':'Na', 'K+':'K',\n",
        "                        'Ca+2' : 'Ca', 'Mg+2':'Mg'}, inplace = True)\n",
        "\n",
        "# Create a list of column names to drop\n",
        "columns_to_drop = ['sno', 'season', 'Unnamed: 8']\n",
        "list_data = [data1, data2, data3, data4, data5, data6, data7, data8, data9, data10]\n",
        "\n",
        "# Loop through your dataframes and drop the columns if they exist\n",
        "for df in list_data:\n",
        "    for col in columns_to_drop:\n",
        "        if col in df.columns:\n",
        "            df.drop(col, axis=1, inplace=True)\n",
        "\n",
        "# creating new columns\n",
        "data1['year'] = 2018\n",
        "data2['year'] = 2019\n",
        "data3['year'] = 2020\n",
        "data4['year'] = 2021\n",
        "data5['year'] = 2022\n",
        "data6['year'] = 2018\n",
        "data7['year'] = 2019\n",
        "data8['year'] = 2020\n",
        "data9['year'] = 2021\n",
        "data10['year'] = 2022\n",
        "\n",
        "\n",
        "\n",
        "# handling and fixing outliers\n",
        "data3['pH'].iloc[261] = data3['pH'].iloc[261].replace('8..05', '8.05')\n",
        "data3['pH'] = data3['pH'].apply(pd.to_numeric)\n",
        "\n",
        "for df in list_data:\n",
        "    df['Classification'] = df['Classification'].replace(['O.G'], 'OG')"
      ]
    },
    {
      "cell_type": "code",
      "execution_count": 89,
      "metadata": {
        "id": "BHQb33xPJhPB"
      },
      "outputs": [],
      "source": [
        "data_full = pd.concat([data1, data2, data3, data4, data5, data6, data7, data8, data9, data10], axis = 0)\n",
        "data_full.to_csv('ground_water_merge.csv', index=False)"
      ]
    },
    {
      "cell_type": "code",
      "execution_count": 90,
      "metadata": {
        "colab": {
          "base_uri": "https://localhost:8080/"
        },
        "id": "eZnsMYsFRnjh",
        "outputId": "f2854309-ffb9-4658-c5ac-56c2a48bf6b1"
      },
      "outputs": [
        {
          "data": {
            "text/plain": [
              "3645"
            ]
          },
          "execution_count": 90,
          "metadata": {},
          "output_type": "execute_result"
        }
      ],
      "source": [
        "len(data_full)"
      ]
    },
    {
      "cell_type": "code",
      "execution_count": 91,
      "metadata": {
        "id": "gA_PBJQXPd5r"
      },
      "outputs": [],
      "source": [
        "# creating and applying the new_class function\n",
        "\n",
        "def new_class(X):\n",
        "    # if (X == 'C3S4') | (X == 'C2S2') | (X == 'C4S4') | (X == 'C3S3') | (X == 'C4S3') | (X == 'OG')  | (X == 'C1S1')  :\n",
        "    if (X == 'C1S1'):\n",
        "        return 'Sangat Baik'\n",
        "    elif (X == 'C1S2') | (X == 'C2S1') | (X == 'C2S2'):\n",
        "        return 'Baik'\n",
        "    elif (X == 'C1S3') | (X == 'C3S1'):\n",
        "        return 'Boleh Digunakan'\n",
        "    elif (X == 'C2S3') | (X == 'C3S2') | (X == 'C3S3'):\n",
        "        return 'Marginal'\n",
        "    elif (X == 'C1S4') | (X == 'C2S4') | (X == 'C3S4') | (X == 'C4S1') | (X == 'C4S2'):\n",
        "        return 'Buruk'\n",
        "    elif  (X == 'C4S3') | (X == 'C4S4') :\n",
        "        return 'Sangat Buruk'\n",
        "    elif ( X == 'OG') | (X == \"BELOW THE GRAPH\") :\n",
        "        return 'Other'\n",
        "    else:\n",
        "        return X\n",
        "\n",
        "data_full['Classification'] = data_full['Classification'].apply(new_class)"
      ]
    },
    {
      "cell_type": "code",
      "execution_count": 92,
      "metadata": {
        "id": "i068MshDhNpy"
      },
      "outputs": [],
      "source": [
        "def rsc_class(x):\n",
        "    if x < 1.25:\n",
        "        return 2\n",
        "    elif 1.25 <= x <= 2.5:\n",
        "        return 1\n",
        "    else:\n",
        "        return 0\n",
        "\n",
        "data_full['rsc_class'] = data_full['RSC  meq  / L'].apply(rsc_class)"
      ]
    },
    {
      "cell_type": "code",
      "execution_count": 93,
      "metadata": {
        "id": "bJXrN0mBhOP9"
      },
      "outputs": [],
      "source": [
        "def tds_class(x):\n",
        "    if x < 1000:\n",
        "        return 5\n",
        "    elif 1000 <= x < 3000:\n",
        "        return 4\n",
        "    elif 3000 <= x < 5000:\n",
        "        return 3\n",
        "    elif 5000 <= x < 7000:\n",
        "        return 2\n",
        "    elif 7000 <= x < 10000:\n",
        "        return 1\n",
        "    else:\n",
        "        return 0\n",
        "\n",
        "data_full['tds_class'] = data_full['TDS'].apply(tds_class)"
      ]
    },
    {
      "cell_type": "code",
      "execution_count": 94,
      "metadata": {
        "id": "BQZV8TftKYEk"
      },
      "outputs": [],
      "source": [
        "# cols2drop = ['district','mandal', 'village', 'lat_gis', 'long_gis', 'Classification.1', 'Unnamed: 8']\n",
        "cols2drop = ['district', 'mandal', 'village', 'Classification.1', 'temp_id', 'E.C', 'TDS', 'T.H']\n",
        "# cols2drop = ['Classification.1', 'Unnamed: 8']\n",
        "data_full_copy = data_full\n",
        "data_full = data_full[data_full['Classification'] != 'Other']\n",
        "data_full = data_full[data_full['pH'] != \"Sample Leaked Out\"]\n",
        "data_full['pH'] = data_full['pH'].replace('8..05', '8.05')\n",
        "data_full['pH'] = data_full['pH'].apply(pd.to_numeric)\n",
        "\n",
        "data_full = data_full.drop(cols2drop, axis=1)"
      ]
    },
    {
      "cell_type": "code",
      "execution_count": 95,
      "metadata": {
        "colab": {
          "base_uri": "https://localhost:8080/"
        },
        "id": "2ciKld5ILHG7",
        "outputId": "8b07afea-6127-4442-96f8-45edb62f2ba0"
      },
      "outputs": [
        {
          "data": {
            "text/plain": [
              "3630"
            ]
          },
          "execution_count": 95,
          "metadata": {},
          "output_type": "execute_result"
        }
      ],
      "source": [
        "len(data_full)"
      ]
    },
    {
      "cell_type": "code",
      "execution_count": 96,
      "metadata": {
        "colab": {
          "base_uri": "https://localhost:8080/"
        },
        "id": "koc3FHsnXvlN",
        "outputId": "c4a553ce-9019-408a-a515-7bbd62ac0a98"
      },
      "outputs": [
        {
          "name": "stdout",
          "output_type": "stream",
          "text": [
            "Classification\n",
            "Boleh Digunakan    2314\n",
            "Baik                796\n",
            "Buruk               356\n",
            "Marginal            104\n",
            "Sangat Buruk         43\n",
            "Sangat Baik          16\n",
            "Name: count, dtype: int64\n"
          ]
        }
      ],
      "source": [
        "class_distribution = data_full['Classification'].value_counts()\n",
        "# check class distribution\n",
        "print(class_distribution)"
      ]
    },
    {
      "cell_type": "code",
      "execution_count": 97,
      "metadata": {
        "colab": {
          "base_uri": "https://localhost:8080/"
        },
        "id": "HRjFR5C0Pd5s",
        "outputId": "0412d808-997f-4dfb-be16-a488934d2f29"
      },
      "outputs": [
        {
          "data": {
            "text/plain": [
              "gwl                48\n",
              "CO3               161\n",
              "HCO3                1\n",
              "Cl                  1\n",
              "F                   1\n",
              "NO3                 1\n",
              "SO4                 1\n",
              "Na                  1\n",
              "K                   1\n",
              "Ca                  1\n",
              "Mg                  1\n",
              "SAR                 1\n",
              "Classification      1\n",
              "RSC  meq  / L       1\n",
              "dtype: int64"
            ]
          },
          "execution_count": 97,
          "metadata": {},
          "output_type": "execute_result"
        }
      ],
      "source": [
        "# total null elements\n",
        "\n",
        "data_full.isnull().sum()[data_full.isnull().sum() > 0]"
      ]
    },
    {
      "cell_type": "code",
      "execution_count": 98,
      "metadata": {
        "id": "DKCPkaD3Pd5s"
      },
      "outputs": [],
      "source": [
        "# imputing null values\n",
        "\n",
        "imp_knn = KNNImputer(n_neighbors=3)\n",
        "\n",
        "data_full['CO3'] = imp_knn.fit_transform(np.array(data_full['CO3']).reshape(-1,1) )\n",
        "data_full['gwl'] = imp_knn.fit_transform(np.array(data_full['gwl']).reshape(-1,1) )"
      ]
    },
    {
      "cell_type": "code",
      "execution_count": 99,
      "metadata": {
        "colab": {
          "base_uri": "https://localhost:8080/"
        },
        "id": "toq1tT6wPd5t",
        "outputId": "2c524cca-649c-4383-d010-3139e43eff1d"
      },
      "outputs": [
        {
          "data": {
            "text/plain": [
              "HCO3              1\n",
              "Cl                1\n",
              "F                 1\n",
              "NO3               1\n",
              "SO4               1\n",
              "Na                1\n",
              "K                 1\n",
              "Ca                1\n",
              "Mg                1\n",
              "SAR               1\n",
              "Classification    1\n",
              "RSC  meq  / L     1\n",
              "dtype: int64"
            ]
          },
          "execution_count": 99,
          "metadata": {},
          "output_type": "execute_result"
        }
      ],
      "source": [
        "data_full.isnull().sum()[data_full.isnull().sum() > 0]"
      ]
    },
    {
      "cell_type": "code",
      "execution_count": 100,
      "metadata": {
        "id": "5Mx9LcyxnXxi"
      },
      "outputs": [],
      "source": [
        "data_full = data_full.dropna()"
      ]
    },
    {
      "cell_type": "code",
      "execution_count": 101,
      "metadata": {
        "colab": {
          "base_uri": "https://localhost:8080/",
          "height": 206
        },
        "id": "lkHQRdqyPd5u",
        "outputId": "b5d549b4-124f-4793-e6d5-32d7679826cb"
      },
      "outputs": [
        {
          "data": {
            "text/html": [
              "<div>\n",
              "<style scoped>\n",
              "    .dataframe tbody tr th:only-of-type {\n",
              "        vertical-align: middle;\n",
              "    }\n",
              "\n",
              "    .dataframe tbody tr th {\n",
              "        vertical-align: top;\n",
              "    }\n",
              "\n",
              "    .dataframe thead th {\n",
              "        text-align: right;\n",
              "    }\n",
              "</style>\n",
              "<table border=\"1\" class=\"dataframe\">\n",
              "  <thead>\n",
              "    <tr style=\"text-align: right;\">\n",
              "      <th></th>\n",
              "      <th>lat_gis</th>\n",
              "      <th>long_gis</th>\n",
              "      <th>gwl</th>\n",
              "      <th>pH</th>\n",
              "      <th>CO3</th>\n",
              "      <th>HCO3</th>\n",
              "      <th>Cl</th>\n",
              "      <th>F</th>\n",
              "      <th>NO3</th>\n",
              "      <th>SO4</th>\n",
              "      <th>Na</th>\n",
              "      <th>K</th>\n",
              "      <th>Ca</th>\n",
              "      <th>Mg</th>\n",
              "      <th>SAR</th>\n",
              "      <th>Classification</th>\n",
              "      <th>RSC  meq  / L</th>\n",
              "      <th>year</th>\n",
              "      <th>rsc_class</th>\n",
              "      <th>tds_class</th>\n",
              "    </tr>\n",
              "  </thead>\n",
              "  <tbody>\n",
              "    <tr>\n",
              "      <th>0</th>\n",
              "      <td>19.668300</td>\n",
              "      <td>78.524700</td>\n",
              "      <td>5.09</td>\n",
              "      <td>8.28</td>\n",
              "      <td>0.0</td>\n",
              "      <td>220.0</td>\n",
              "      <td>60.0</td>\n",
              "      <td>0.44</td>\n",
              "      <td>42.276818</td>\n",
              "      <td>46.0</td>\n",
              "      <td>49.0</td>\n",
              "      <td>4.0</td>\n",
              "      <td>48.0</td>\n",
              "      <td>38.896</td>\n",
              "      <td>1.273328</td>\n",
              "      <td>Baik</td>\n",
              "      <td>-1.198684</td>\n",
              "      <td>2018</td>\n",
              "      <td>2</td>\n",
              "      <td>5</td>\n",
              "    </tr>\n",
              "    <tr>\n",
              "      <th>1</th>\n",
              "      <td>19.458888</td>\n",
              "      <td>78.350833</td>\n",
              "      <td>5.10</td>\n",
              "      <td>8.29</td>\n",
              "      <td>0.0</td>\n",
              "      <td>230.0</td>\n",
              "      <td>80.0</td>\n",
              "      <td>0.56</td>\n",
              "      <td>100.659091</td>\n",
              "      <td>68.0</td>\n",
              "      <td>42.0</td>\n",
              "      <td>5.0</td>\n",
              "      <td>56.0</td>\n",
              "      <td>63.206</td>\n",
              "      <td>0.913166</td>\n",
              "      <td>Boleh Digunakan</td>\n",
              "      <td>-3.397862</td>\n",
              "      <td>2018</td>\n",
              "      <td>2</td>\n",
              "      <td>5</td>\n",
              "    </tr>\n",
              "    <tr>\n",
              "      <th>2</th>\n",
              "      <td>19.525555</td>\n",
              "      <td>78.512222</td>\n",
              "      <td>4.98</td>\n",
              "      <td>7.69</td>\n",
              "      <td>0.0</td>\n",
              "      <td>200.0</td>\n",
              "      <td>30.0</td>\n",
              "      <td>0.66</td>\n",
              "      <td>41.471545</td>\n",
              "      <td>44.0</td>\n",
              "      <td>45.0</td>\n",
              "      <td>2.0</td>\n",
              "      <td>24.0</td>\n",
              "      <td>38.896</td>\n",
              "      <td>1.319284</td>\n",
              "      <td>Baik</td>\n",
              "      <td>-0.398684</td>\n",
              "      <td>2018</td>\n",
              "      <td>2</td>\n",
              "      <td>5</td>\n",
              "    </tr>\n",
              "    <tr>\n",
              "      <th>3</th>\n",
              "      <td>19.730555</td>\n",
              "      <td>78.640000</td>\n",
              "      <td>5.75</td>\n",
              "      <td>8.09</td>\n",
              "      <td>0.0</td>\n",
              "      <td>160.0</td>\n",
              "      <td>10.0</td>\n",
              "      <td>0.58</td>\n",
              "      <td>10.669864</td>\n",
              "      <td>35.0</td>\n",
              "      <td>27.0</td>\n",
              "      <td>1.0</td>\n",
              "      <td>32.0</td>\n",
              "      <td>19.448</td>\n",
              "      <td>0.928155</td>\n",
              "      <td>Baik</td>\n",
              "      <td>0.000658</td>\n",
              "      <td>2018</td>\n",
              "      <td>2</td>\n",
              "      <td>5</td>\n",
              "    </tr>\n",
              "    <tr>\n",
              "      <th>4</th>\n",
              "      <td>19.495665</td>\n",
              "      <td>78.852654</td>\n",
              "      <td>2.15</td>\n",
              "      <td>8.21</td>\n",
              "      <td>0.0</td>\n",
              "      <td>300.0</td>\n",
              "      <td>340.0</td>\n",
              "      <td>2.56</td>\n",
              "      <td>128.843636</td>\n",
              "      <td>280.0</td>\n",
              "      <td>298.0</td>\n",
              "      <td>5.0</td>\n",
              "      <td>56.0</td>\n",
              "      <td>92.378</td>\n",
              "      <td>5.682664</td>\n",
              "      <td>Buruk</td>\n",
              "      <td>-4.396875</td>\n",
              "      <td>2018</td>\n",
              "      <td>2</td>\n",
              "      <td>4</td>\n",
              "    </tr>\n",
              "  </tbody>\n",
              "</table>\n",
              "</div>"
            ],
            "text/plain": [
              "     lat_gis   long_gis   gwl    pH  CO3   HCO3     Cl     F        NO3   \\\n",
              "0  19.668300  78.524700  5.09  8.28  0.0  220.0   60.0  0.44   42.276818   \n",
              "1  19.458888  78.350833  5.10  8.29  0.0  230.0   80.0  0.56  100.659091   \n",
              "2  19.525555  78.512222  4.98  7.69  0.0  200.0   30.0  0.66   41.471545   \n",
              "3  19.730555  78.640000  5.75  8.09  0.0  160.0   10.0  0.58   10.669864   \n",
              "4  19.495665  78.852654  2.15  8.21  0.0  300.0  340.0  2.56  128.843636   \n",
              "\n",
              "     SO4     Na    K    Ca      Mg       SAR   Classification  RSC  meq  / L  \\\n",
              "0   46.0   49.0  4.0  48.0  38.896  1.273328             Baik      -1.198684   \n",
              "1   68.0   42.0  5.0  56.0  63.206  0.913166  Boleh Digunakan      -3.397862   \n",
              "2   44.0   45.0  2.0  24.0  38.896  1.319284             Baik      -0.398684   \n",
              "3   35.0   27.0  1.0  32.0  19.448  0.928155             Baik       0.000658   \n",
              "4  280.0  298.0  5.0  56.0  92.378  5.682664            Buruk      -4.396875   \n",
              "\n",
              "   year  rsc_class  tds_class  \n",
              "0  2018          2          5  \n",
              "1  2018          2          5  \n",
              "2  2018          2          5  \n",
              "3  2018          2          5  \n",
              "4  2018          2          4  "
            ]
          },
          "execution_count": 101,
          "metadata": {},
          "output_type": "execute_result"
        }
      ],
      "source": [
        "data_full.head()"
      ]
    },
    {
      "cell_type": "code",
      "execution_count": 102,
      "metadata": {
        "id": "K1XXNGupPd5v"
      },
      "outputs": [],
      "source": [
        "# creating train data and target\n",
        "\n",
        "X = data_full.copy()\n",
        "X.drop('Classification', axis= 1, inplace = True)\n",
        "\n",
        "y = data_full['Classification']"
      ]
    },
    {
      "cell_type": "code",
      "execution_count": 103,
      "metadata": {
        "colab": {
          "base_uri": "https://localhost:8080/"
        },
        "id": "hDNGUrC9dCcr",
        "outputId": "0f4fd337-4318-4081-9fed-d936315f3942"
      },
      "outputs": [
        {
          "data": {
            "text/plain": [
              "lat_gis          float64\n",
              "long_gis         float64\n",
              "gwl              float64\n",
              "pH               float64\n",
              "CO3              float64\n",
              "HCO3             float64\n",
              "Cl               float64\n",
              "F                float64\n",
              "NO3              float64\n",
              "SO4              float64\n",
              "Na               float64\n",
              "K                float64\n",
              "Ca               float64\n",
              "Mg               float64\n",
              "SAR              float64\n",
              "RSC  meq  / L    float64\n",
              "year               int64\n",
              "rsc_class          int64\n",
              "tds_class          int64\n",
              "dtype: object"
            ]
          },
          "execution_count": 103,
          "metadata": {},
          "output_type": "execute_result"
        }
      ],
      "source": [
        "X.dtypes"
      ]
    },
    {
      "cell_type": "code",
      "execution_count": 104,
      "metadata": {
        "colab": {
          "base_uri": "https://localhost:8080/"
        },
        "id": "L5PkSPLaVfTX",
        "outputId": "fa99d76b-0346-4939-feff-d780422cf550"
      },
      "outputs": [
        {
          "data": {
            "text/plain": [
              "Classification\n",
              "Boleh Digunakan    2314\n",
              "Baik                796\n",
              "Buruk               356\n",
              "Marginal            104\n",
              "Sangat Buruk         43\n",
              "Sangat Baik          16\n",
              "Name: count, dtype: int64"
            ]
          },
          "execution_count": 104,
          "metadata": {},
          "output_type": "execute_result"
        }
      ],
      "source": [
        "pd.value_counts(y)"
      ]
    },
    {
      "cell_type": "code",
      "execution_count": 105,
      "metadata": {
        "colab": {
          "base_uri": "https://localhost:8080/"
        },
        "id": "poUi6FwbPd5w",
        "outputId": "eb4e50e6-1f99-4a50-b4b0-5dfa79156730"
      },
      "outputs": [
        {
          "data": {
            "text/plain": [
              "array(['Baik', 'Boleh Digunakan', 'Buruk', 'Marginal', 'Sangat Baik',\n",
              "       'Sangat Buruk'], dtype=object)"
            ]
          },
          "execution_count": 105,
          "metadata": {},
          "output_type": "execute_result"
        }
      ],
      "source": [
        "LB = LabelEncoder()\n",
        "y = LB.fit_transform(y)\n",
        "LB.classes_"
      ]
    },
    {
      "cell_type": "code",
      "execution_count": 106,
      "metadata": {
        "colab": {
          "base_uri": "https://localhost:8080/"
        },
        "id": "hXfWrh9Bk_Ym",
        "outputId": "d4617b8e-15df-497b-8051-97b914b3f730"
      },
      "outputs": [
        {
          "data": {
            "text/plain": [
              "array(['Baik', 'Boleh Digunakan', 'Buruk', 'Marginal', 'Sangat Baik',\n",
              "       'Sangat Buruk'], dtype=object)"
            ]
          },
          "execution_count": 106,
          "metadata": {},
          "output_type": "execute_result"
        }
      ],
      "source": [
        "original_classes = LB.inverse_transform(y)\n",
        "np.unique(original_classes)"
      ]
    },
    {
      "cell_type": "code",
      "execution_count": 107,
      "metadata": {
        "colab": {
          "base_uri": "https://localhost:8080/"
        },
        "id": "_pVWhXdQPd5w",
        "outputId": "312d2e8c-6724-4832-e682-2d4cf1179051"
      },
      "outputs": [
        {
          "data": {
            "text/plain": [
              "array([], dtype=int64)"
            ]
          },
          "execution_count": 107,
          "metadata": {},
          "output_type": "execute_result"
        }
      ],
      "source": [
        "# categorical features\n",
        "\n",
        "cat_feat_idx =  np.where(X.dtypes == 'object')[0]\n",
        "cat_feat_idx"
      ]
    },
    {
      "cell_type": "code",
      "execution_count": 108,
      "metadata": {
        "id": "MDLJYzGBPd5x"
      },
      "outputs": [],
      "source": [
        "# scaling numerical data\n",
        "\n",
        "MX = MinMaxScaler()\n",
        "X.iloc[:, 3:21] = MX.fit_transform(X.iloc[:, 3:21])"
      ]
    },
    {
      "cell_type": "code",
      "execution_count": 109,
      "metadata": {
        "colab": {
          "base_uri": "https://localhost:8080/"
        },
        "id": "8YsIRO15Pd5y",
        "outputId": "9d62104f-544f-4a20-c60f-f3993efaca9d"
      },
      "outputs": [
        {
          "name": "stdout",
          "output_type": "stream",
          "text": [
            "(2431, 19)\n",
            "(1198, 19)\n"
          ]
        }
      ],
      "source": [
        "X_train, X_test, y_train, y_test = train_test_split(X,y, test_size = 0.33 , shuffle = True, stratify=y, random_state= 42)\n",
        "\n",
        "print(X_train.shape)\n",
        "print(X_test.shape)"
      ]
    },
    {
      "cell_type": "code",
      "execution_count": 110,
      "metadata": {
        "id": "OiD8oErKUj7Q"
      },
      "outputs": [],
      "source": [
        "# balancing class\n",
        "from imblearn.over_sampling import SMOTE\n",
        "from imblearn.combine import SMOTEENN\n",
        "\n",
        "smote = SMOTE()\n",
        "X_train, y_train = smote.fit_resample(X_train, y_train)\n",
        "#SMOTE Training data"
      ]
    },
    {
      "cell_type": "code",
      "execution_count": 111,
      "metadata": {
        "colab": {
          "base_uri": "https://localhost:8080/"
        },
        "id": "LhJ91BNWaIuV",
        "outputId": "90e6621b-59e0-40db-d0e7-9fad4d965951"
      },
      "outputs": [
        {
          "data": {
            "text/plain": [
              "array([0, 1, 2, 3, 4, 5])"
            ]
          },
          "execution_count": 111,
          "metadata": {},
          "output_type": "execute_result"
        }
      ],
      "source": [
        "y_class = np.unique(y_train)\n",
        "y_class"
      ]
    },
    {
      "cell_type": "code",
      "execution_count": 112,
      "metadata": {
        "colab": {
          "base_uri": "https://localhost:8080/"
        },
        "id": "TCPEy5BCPd5z",
        "outputId": "a5547db1-398f-4219-964c-d2fcececeff3"
      },
      "outputs": [
        {
          "data": {
            "text/plain": [
              "{0: 1.0, 1: 1.0, 2: 1.0, 3: 1.0, 4: 1.0, 5: 1.0}"
            ]
          },
          "execution_count": 112,
          "metadata": {},
          "output_type": "execute_result"
        }
      ],
      "source": [
        "# creating class weights\n",
        "\n",
        "unique_classes = np.unique(y)\n",
        "weights = compute_class_weight(class_weight='balanced', classes=unique_classes, y=y_train)\n",
        "class_weights = dict(zip(unique_classes, weights))\n",
        "class_weights"
      ]
    },
    {
      "cell_type": "code",
      "execution_count": 113,
      "metadata": {
        "id": "QnOsbuVSPd50"
      },
      "outputs": [],
      "source": [
        "# creating pools for training and testing\n",
        "\n",
        "train_pool = Pool(X_train, y_train, cat_features = cat_feat_idx)\n",
        "test_pool = Pool(X_test, y_test, cat_features = cat_feat_idx)"
      ]
    },
    {
      "cell_type": "code",
      "execution_count": 114,
      "metadata": {
        "id": "xmGJyYr2qBn2"
      },
      "outputs": [],
      "source": [
        "device_type = 'CPU'"
      ]
    },
    {
      "cell_type": "markdown",
      "metadata": {
        "id": "-7_rRRjAPFFW"
      },
      "source": [
        "## Base"
      ]
    },
    {
      "cell_type": "markdown",
      "metadata": {
        "id": "g3Mm2oJ2ELP5"
      },
      "source": [
        "### XGBoost"
      ]
    },
    {
      "cell_type": "code",
      "execution_count": 115,
      "metadata": {
        "id": "1NuUmNlkENNQ"
      },
      "outputs": [],
      "source": [
        "import xgboost as xgb\n",
        "import matplotlib.pyplot as plt"
      ]
    },
    {
      "cell_type": "code",
      "execution_count": 116,
      "metadata": {
        "id": "jt14cwKCdL_r"
      },
      "outputs": [],
      "source": [
        "# xgb_model = xgb.XGBClassifier(booster='gbtree', n_estimators = 3000, enable_categorical=False, device=\"cuda\", eta=0.02295, subsample=0.6, colsample_bytree=0.6, max_depth=4, gamma=0.4, metrics=['aucpr'], num_class=6)\n",
        "xgb_model = xgb.XGBClassifier()\n"
      ]
    },
    {
      "cell_type": "code",
      "execution_count": 117,
      "metadata": {
        "colab": {
          "base_uri": "https://localhost:8080/",
          "height": 1000
        },
        "id": "fbhAqiJHjv-d",
        "outputId": "7633c907-f433-4449-8076-b85f47fa5546"
      },
      "outputs": [
        {
          "name": "stdout",
          "output_type": "stream",
          "text": [
            "[0]\tvalidation_0-mlogloss:1.14273\n",
            "[1]\tvalidation_0-mlogloss:0.85927\n",
            "[2]\tvalidation_0-mlogloss:0.67559\n",
            "[3]\tvalidation_0-mlogloss:0.55250\n",
            "[4]\tvalidation_0-mlogloss:0.45787\n",
            "[5]\tvalidation_0-mlogloss:0.38928\n",
            "[6]\tvalidation_0-mlogloss:0.33715\n",
            "[7]\tvalidation_0-mlogloss:0.29525\n",
            "[8]\tvalidation_0-mlogloss:0.26428\n",
            "[9]\tvalidation_0-mlogloss:0.24200\n",
            "[10]\tvalidation_0-mlogloss:0.22508\n",
            "[11]\tvalidation_0-mlogloss:0.20998\n",
            "[12]\tvalidation_0-mlogloss:0.19925\n",
            "[13]\tvalidation_0-mlogloss:0.19107\n",
            "[14]\tvalidation_0-mlogloss:0.18377\n",
            "[15]\tvalidation_0-mlogloss:0.17894\n",
            "[16]\tvalidation_0-mlogloss:0.17473\n",
            "[17]\tvalidation_0-mlogloss:0.17184\n",
            "[18]\tvalidation_0-mlogloss:0.16783\n",
            "[19]\tvalidation_0-mlogloss:0.16280\n",
            "[20]\tvalidation_0-mlogloss:0.16027\n",
            "[21]\tvalidation_0-mlogloss:0.15869\n",
            "[22]\tvalidation_0-mlogloss:0.15705\n",
            "[23]\tvalidation_0-mlogloss:0.15583\n",
            "[24]\tvalidation_0-mlogloss:0.15493\n",
            "[25]\tvalidation_0-mlogloss:0.15208\n",
            "[26]\tvalidation_0-mlogloss:0.14929\n",
            "[27]\tvalidation_0-mlogloss:0.14867\n",
            "[28]\tvalidation_0-mlogloss:0.14735\n",
            "[29]\tvalidation_0-mlogloss:0.14619\n",
            "[30]\tvalidation_0-mlogloss:0.14531\n",
            "[31]\tvalidation_0-mlogloss:0.14409\n",
            "[32]\tvalidation_0-mlogloss:0.14325\n",
            "[33]\tvalidation_0-mlogloss:0.14276\n",
            "[34]\tvalidation_0-mlogloss:0.14322\n",
            "[35]\tvalidation_0-mlogloss:0.14317\n",
            "[36]\tvalidation_0-mlogloss:0.14283\n",
            "[37]\tvalidation_0-mlogloss:0.14247\n",
            "[38]\tvalidation_0-mlogloss:0.14274\n",
            "[39]\tvalidation_0-mlogloss:0.14280\n",
            "[40]\tvalidation_0-mlogloss:0.14305\n",
            "[41]\tvalidation_0-mlogloss:0.14251\n",
            "[42]\tvalidation_0-mlogloss:0.14281\n",
            "[43]\tvalidation_0-mlogloss:0.14297\n",
            "[44]\tvalidation_0-mlogloss:0.14314\n",
            "[45]\tvalidation_0-mlogloss:0.14339\n",
            "[46]\tvalidation_0-mlogloss:0.14318\n",
            "[47]\tvalidation_0-mlogloss:0.14397\n",
            "[48]\tvalidation_0-mlogloss:0.14391\n",
            "[49]\tvalidation_0-mlogloss:0.14384\n",
            "[50]\tvalidation_0-mlogloss:0.14397\n",
            "[51]\tvalidation_0-mlogloss:0.14340\n",
            "[52]\tvalidation_0-mlogloss:0.14341\n",
            "[53]\tvalidation_0-mlogloss:0.14379\n",
            "[54]\tvalidation_0-mlogloss:0.14447\n",
            "[55]\tvalidation_0-mlogloss:0.14436\n",
            "[56]\tvalidation_0-mlogloss:0.14454\n"
          ]
        },
        {
          "data": {
            "text/html": [
              "<style>#sk-container-id-2 {color: black;}#sk-container-id-2 pre{padding: 0;}#sk-container-id-2 div.sk-toggleable {background-color: white;}#sk-container-id-2 label.sk-toggleable__label {cursor: pointer;display: block;width: 100%;margin-bottom: 0;padding: 0.3em;box-sizing: border-box;text-align: center;}#sk-container-id-2 label.sk-toggleable__label-arrow:before {content: \"▸\";float: left;margin-right: 0.25em;color: #696969;}#sk-container-id-2 label.sk-toggleable__label-arrow:hover:before {color: black;}#sk-container-id-2 div.sk-estimator:hover label.sk-toggleable__label-arrow:before {color: black;}#sk-container-id-2 div.sk-toggleable__content {max-height: 0;max-width: 0;overflow: hidden;text-align: left;background-color: #f0f8ff;}#sk-container-id-2 div.sk-toggleable__content pre {margin: 0.2em;color: black;border-radius: 0.25em;background-color: #f0f8ff;}#sk-container-id-2 input.sk-toggleable__control:checked~div.sk-toggleable__content {max-height: 200px;max-width: 100%;overflow: auto;}#sk-container-id-2 input.sk-toggleable__control:checked~label.sk-toggleable__label-arrow:before {content: \"▾\";}#sk-container-id-2 div.sk-estimator input.sk-toggleable__control:checked~label.sk-toggleable__label {background-color: #d4ebff;}#sk-container-id-2 div.sk-label input.sk-toggleable__control:checked~label.sk-toggleable__label {background-color: #d4ebff;}#sk-container-id-2 input.sk-hidden--visually {border: 0;clip: rect(1px 1px 1px 1px);clip: rect(1px, 1px, 1px, 1px);height: 1px;margin: -1px;overflow: hidden;padding: 0;position: absolute;width: 1px;}#sk-container-id-2 div.sk-estimator {font-family: monospace;background-color: #f0f8ff;border: 1px dotted black;border-radius: 0.25em;box-sizing: border-box;margin-bottom: 0.5em;}#sk-container-id-2 div.sk-estimator:hover {background-color: #d4ebff;}#sk-container-id-2 div.sk-parallel-item::after {content: \"\";width: 100%;border-bottom: 1px solid gray;flex-grow: 1;}#sk-container-id-2 div.sk-label:hover label.sk-toggleable__label {background-color: #d4ebff;}#sk-container-id-2 div.sk-serial::before {content: \"\";position: absolute;border-left: 1px solid gray;box-sizing: border-box;top: 0;bottom: 0;left: 50%;z-index: 0;}#sk-container-id-2 div.sk-serial {display: flex;flex-direction: column;align-items: center;background-color: white;padding-right: 0.2em;padding-left: 0.2em;position: relative;}#sk-container-id-2 div.sk-item {position: relative;z-index: 1;}#sk-container-id-2 div.sk-parallel {display: flex;align-items: stretch;justify-content: center;background-color: white;position: relative;}#sk-container-id-2 div.sk-item::before, #sk-container-id-2 div.sk-parallel-item::before {content: \"\";position: absolute;border-left: 1px solid gray;box-sizing: border-box;top: 0;bottom: 0;left: 50%;z-index: -1;}#sk-container-id-2 div.sk-parallel-item {display: flex;flex-direction: column;z-index: 1;position: relative;background-color: white;}#sk-container-id-2 div.sk-parallel-item:first-child::after {align-self: flex-end;width: 50%;}#sk-container-id-2 div.sk-parallel-item:last-child::after {align-self: flex-start;width: 50%;}#sk-container-id-2 div.sk-parallel-item:only-child::after {width: 0;}#sk-container-id-2 div.sk-dashed-wrapped {border: 1px dashed gray;margin: 0 0.4em 0.5em 0.4em;box-sizing: border-box;padding-bottom: 0.4em;background-color: white;}#sk-container-id-2 div.sk-label label {font-family: monospace;font-weight: bold;display: inline-block;line-height: 1.2em;}#sk-container-id-2 div.sk-label-container {text-align: center;}#sk-container-id-2 div.sk-container {/* jupyter's `normalize.less` sets `[hidden] { display: none; }` but bootstrap.min.css set `[hidden] { display: none !important; }` so we also need the `!important` here to be able to override the default hidden behavior on the sphinx rendered scikit-learn.org. See: https://github.com/scikit-learn/scikit-learn/issues/21755 */display: inline-block !important;position: relative;}#sk-container-id-2 div.sk-text-repr-fallback {display: none;}</style><div id=\"sk-container-id-2\" class=\"sk-top-container\"><div class=\"sk-text-repr-fallback\"><pre>XGBClassifier(base_score=None, booster=None, callbacks=None,\n",
              "              colsample_bylevel=None, colsample_bynode=None,\n",
              "              colsample_bytree=None, device=None, early_stopping_rounds=None,\n",
              "              enable_categorical=False, eval_metric=None, feature_types=None,\n",
              "              gamma=None, grow_policy=None, importance_type=None,\n",
              "              interaction_constraints=None, learning_rate=None, max_bin=None,\n",
              "              max_cat_threshold=None, max_cat_to_onehot=None,\n",
              "              max_delta_step=None, max_depth=None, max_leaves=None,\n",
              "              min_child_weight=None, missing=nan, monotone_constraints=None,\n",
              "              multi_strategy=None, n_estimators=3000, n_jobs=None,\n",
              "              num_parallel_tree=None, objective=&#x27;multi:softprob&#x27;, ...)</pre><b>In a Jupyter environment, please rerun this cell to show the HTML representation or trust the notebook. <br />On GitHub, the HTML representation is unable to render, please try loading this page with nbviewer.org.</b></div><div class=\"sk-container\" hidden><div class=\"sk-item\"><div class=\"sk-estimator sk-toggleable\"><input class=\"sk-toggleable__control sk-hidden--visually\" id=\"sk-estimator-id-2\" type=\"checkbox\" checked><label for=\"sk-estimator-id-2\" class=\"sk-toggleable__label sk-toggleable__label-arrow\">XGBClassifier</label><div class=\"sk-toggleable__content\"><pre>XGBClassifier(base_score=None, booster=None, callbacks=None,\n",
              "              colsample_bylevel=None, colsample_bynode=None,\n",
              "              colsample_bytree=None, device=None, early_stopping_rounds=None,\n",
              "              enable_categorical=False, eval_metric=None, feature_types=None,\n",
              "              gamma=None, grow_policy=None, importance_type=None,\n",
              "              interaction_constraints=None, learning_rate=None, max_bin=None,\n",
              "              max_cat_threshold=None, max_cat_to_onehot=None,\n",
              "              max_delta_step=None, max_depth=None, max_leaves=None,\n",
              "              min_child_weight=None, missing=nan, monotone_constraints=None,\n",
              "              multi_strategy=None, n_estimators=3000, n_jobs=None,\n",
              "              num_parallel_tree=None, objective=&#x27;multi:softprob&#x27;, ...)</pre></div></div></div></div></div>"
            ],
            "text/plain": [
              "XGBClassifier(base_score=None, booster=None, callbacks=None,\n",
              "              colsample_bylevel=None, colsample_bynode=None,\n",
              "              colsample_bytree=None, device=None, early_stopping_rounds=None,\n",
              "              enable_categorical=False, eval_metric=None, feature_types=None,\n",
              "              gamma=None, grow_policy=None, importance_type=None,\n",
              "              interaction_constraints=None, learning_rate=None, max_bin=None,\n",
              "              max_cat_threshold=None, max_cat_to_onehot=None,\n",
              "              max_delta_step=None, max_depth=None, max_leaves=None,\n",
              "              min_child_weight=None, missing=nan, monotone_constraints=None,\n",
              "              multi_strategy=None, n_estimators=3000, n_jobs=None,\n",
              "              num_parallel_tree=None, objective='multi:softprob', ...)"
            ]
          },
          "execution_count": 117,
          "metadata": {},
          "output_type": "execute_result"
        }
      ],
      "source": [
        "eval_set = [(X_test, y_test)]\n",
        "xgb_model.fit(X_train, y_train, early_stopping_rounds=20, eval_metric=\"mlogloss\", eval_set=eval_set, verbose=True)"
      ]
    },
    {
      "cell_type": "code",
      "execution_count": 118,
      "metadata": {
        "colab": {
          "base_uri": "https://localhost:8080/",
          "height": 355
        },
        "id": "Q3vwivfddVXs",
        "outputId": "aefc7fdb-861f-4711-a0d3-1d9cd4fabb5d"
      },
      "outputs": [],
      "source": [
        "from sklearn.metrics import mean_squared_error\n",
        "\n",
        "preds = xgb_model.predict(X_test)"
      ]
    },
    {
      "cell_type": "code",
      "execution_count": 119,
      "metadata": {
        "colab": {
          "base_uri": "https://localhost:8080/",
          "height": 489
        },
        "id": "EdzkTI1RhhDA",
        "outputId": "e3183980-fd09-4ead-a733-009662f50507"
      },
      "outputs": [
        {
          "data": {
            "image/png": "[encoded data removed]",
            "text/plain": [
              "<Figure size 640x480 with 1 Axes>"
            ]
          },
          "metadata": {},
          "output_type": "display_data"
        },
        {
          "data": {
            "text/plain": [
              "<Figure size 1600x1200 with 0 Axes>"
            ]
          },
          "metadata": {},
          "output_type": "display_data"
        }
      ],
      "source": [
        "xgb.plot_importance(xgb_model)\n",
        "plt.figure(figsize = (16, 12))\n",
        "plt.show()"
      ]
    },
    {
      "cell_type": "code",
      "execution_count": 120,
      "metadata": {
        "colab": {
          "base_uri": "https://localhost:8080/"
        },
        "id": "aFQ5kcjcdW7O",
        "outputId": "37334dbd-73a9-4a44-a4b2-cff7233881d1"
      },
      "outputs": [
        {
          "name": "stdout",
          "output_type": "stream",
          "text": [
            "RMSE of the base model: 0.361\n"
          ]
        }
      ],
      "source": [
        "rmse = mean_squared_error(y_test, preds, squared=False)\n",
        "\n",
        "print(f\"RMSE of the base model: {rmse:.3f}\")"
      ]
    },
    {
      "cell_type": "markdown",
      "metadata": {
        "id": "pEvnthqQPd5z"
      },
      "source": [
        "### <span style=\"color:#e74c3c;\"> CatBoost </span> Classifier\n"
      ]
    },
    {
      "cell_type": "code",
      "execution_count": 121,
      "metadata": {
        "colab": {
          "base_uri": "https://localhost:8080/"
        },
        "id": "rNki7Eu4Pd50",
        "outputId": "cc5ba125-441c-40d4-e37b-ef6027ca4262"
      },
      "outputs": [
        {
          "name": "stdout",
          "output_type": "stream",
          "text": [
            "Learning rate set to 0.035039\n",
            "0:\tlearn: 1.6562694\ttotal: 15.8ms\tremaining: 47.4s\n",
            "1000:\tlearn: 0.0215121\ttotal: 13.3s\tremaining: 26.6s\n",
            "2000:\tlearn: 0.0089326\ttotal: 27s\tremaining: 13.5s\n",
            "2999:\tlearn: 0.0050329\ttotal: 41.6s\tremaining: 0us\n"
          ]
        },
        {
          "data": {
            "text/plain": [
              "<catboost.core.CatBoostClassifier at 0x200a2f29570>"
            ]
          },
          "execution_count": 121,
          "metadata": {},
          "output_type": "execute_result"
        }
      ],
      "source": [
        "# cb_model = CatBoostClassifier(iterations= 6000, task_type=device_type, devices='0:1', learning_rate = 0.0039, depth=5, l2_leaf_reg=0.3, min_data_in_leaf = 27, class_weights=class_weights)\n",
        "cb_model = CatBoostClassifier(task_type=device_type, devices='0:1', class_weights=class_weights)\n",
        "\n",
        "\n",
        "cb_model.fit(train_pool, verbose = 1000 )"
      ]
    },
    {
      "cell_type": "code",
      "execution_count": 122,
      "metadata": {
        "id": "cbc1UrRihqJB"
      },
      "outputs": [],
      "source": [
        "importances = cb_model.get_feature_importance(type='PredictionValuesChange')\n",
        "feature_importances = pd.Series(importances, index=X.columns).sort_values()"
      ]
    },
    {
      "cell_type": "code",
      "execution_count": 123,
      "metadata": {
        "colab": {
          "base_uri": "https://localhost:8080/",
          "height": 564
        },
        "id": "zmF3cQpfhrCB",
        "outputId": "b23a4e21-3d80-4d3f-b11b-8bba776ed289"
      },
      "outputs": [
        {
          "data": {
            "image/png": "[encoded data removed]",
            "text/plain": [
              "<Figure size 1000x600 with 1 Axes>"
            ]
          },
          "metadata": {},
          "output_type": "display_data"
        }
      ],
      "source": [
        "plt.figure(figsize=(10, 6))\n",
        "plt.barh(feature_importances.index, feature_importances.values)\n",
        "plt.title('CatBoost Feature Importance')\n",
        "plt.xlabel('Importance')\n",
        "plt.ylabel('Features')\n",
        "plt.show()"
      ]
    },
    {
      "cell_type": "markdown",
      "metadata": {
        "id": "gokQWeUG_KO0"
      },
      "source": [
        "## Swarm Intelligence"
      ]
    },
    {
      "cell_type": "markdown",
      "metadata": {
        "id": "arC8ECety4qC"
      },
      "source": [
        "### PSO"
      ]
    },
    {
      "cell_type": "code",
      "execution_count": 124,
      "metadata": {
        "id": "hXotDRTg3INJ"
      },
      "outputs": [],
      "source": [
        "import pyswarms as ps\n",
        "from mealpy import FloatVar, PSO"
      ]
    },
    {
      "cell_type": "code",
      "execution_count": 125,
      "metadata": {
        "id": "5NIlg_vh1SVH"
      },
      "outputs": [],
      "source": [
        "pso_iteration = 20"
      ]
    },
    {
      "cell_type": "code",
      "execution_count": 126,
      "metadata": {
        "id": "CdPHGIqQlFX7"
      },
      "outputs": [],
      "source": [
        "# Define the hyperparameter search space\n",
        "hyperparameter_ranges_xgb = {\n",
        "    'n_estimators': (1000, 5000),  # Reduce the range of boosting iterations\n",
        "    'max_depth': (2, 10),           # Reduce the range of tree depth\n",
        "    'learning_rate': (0.001, 0.1),  # Reduce the learning rate range\n",
        "    'subsample': (0.1, 1.0),\n",
        "    'colsample_bytree': (0.1, 1.0),     # Reduce the range of regularization strength\n",
        "    'gamma' : (0.1, 1.0),\n",
        "}"
      ]
    },
    {
      "cell_type": "code",
      "execution_count": 127,
      "metadata": {
        "id": "th9fcuGREipa"
      },
      "outputs": [],
      "source": [
        "# Define the hyperparameter search space\n",
        "hyperparameter_ranges_cb = {\n",
        "    'iterations': (1000, 6000),  # Reduce the range of boosting iterations\n",
        "    'depth': (2, 6),           # Reduce the range of tree depth\n",
        "    'learning_rate': (0.001, 0.1),  # Reduce the learning rate range\n",
        "    'min_data_in_leaf': (25, 35),\n",
        "    'l2_leaf_reg': (1, 16),      # Reduce the range of regularization strength\n",
        "}"
      ]
    },
    {
      "cell_type": "code",
      "execution_count": 128,
      "metadata": {
        "id": "Cdfz8xSLkcE9"
      },
      "outputs": [],
      "source": [
        "def objective_function_xgb(x):\n",
        "    # Round the elements of x to integers\n",
        "    # x = x.astype(int)\n",
        "    x = x.reshape(-1)  # Ensure x is a 1D array\n",
        "    params = {\n",
        "        'n_estimators': int(x[0]),\n",
        "        'max_depth': int(x[1]),\n",
        "        'learning_rate': float(x[2]),\n",
        "        'subsample': float(x[3]),\n",
        "        'colsample_bytree': float(x[4]),\n",
        "        'gamma': float(x[5]),\n",
        "        'min_child_weight': int(x[6]),\n",
        "        'reg_alpha': float(x[7]),\n",
        "        # 'device': 'cuda:0',\n",
        "        # 'tree_method':'gpu_hist',\n",
        "        # 'predictor': 'gpu_predictor',\n",
        "        'verbose': 0,\n",
        "    }\n",
        "\n",
        "    xgbof_model = xgb.XGBClassifier(**params)\n",
        "    xgbof_model.fit(X_train, y_train, verbose = 1000)\n",
        "    y_pred =  xgbof_model.predict(X_test)\n",
        "    #Accuracy\n",
        "    accuracy = accuracy_score(y_test, y_pred)\n",
        "    #Precision\n",
        "    precision = precision_score(y_test, y_pred, average=\"macro\")\n",
        "    #Recall\n",
        "    recall = recall_score(y_test, y_pred, average=\"macro\")\n",
        "    return -precision, -recall, -accuracy"
      ]
    },
    {
      "cell_type": "code",
      "execution_count": 133,
      "metadata": {
        "id": "-sZKAXtirGca"
      },
      "outputs": [],
      "source": [
        "problem_dict_xgb = {\n",
        "    \"bounds\": FloatVar(lb=(100, 2, 0.001, 0.1, 0.1, 0.1, 2, 0.001), ub=(8000, 10, 0.1, 1.0, 1.0, 1.0, 12, 0.1), name=\"delta\"),\n",
        "    \"minmax\": \"min\",\n",
        "    \"obj_func\": objective_function_xgb,\n",
        "    \"obj_weights\": [1.0,1.0,0.7]\n",
        "}"
      ]
    },
    {
      "cell_type": "code",
      "execution_count": 134,
      "metadata": {
        "id": "AT4EMj7l6bRr"
      },
      "outputs": [],
      "source": [
        "def objective_function_cb(x):\n",
        "    # Round the elements of x to integers\n",
        "    # x = x.astype(int)\n",
        "    x = x.reshape(-1)  # Ensure x is a 1D array\n",
        "    params = {\n",
        "        'iterations': int(x[0]),\n",
        "        'depth': int(x[1]),\n",
        "        'learning_rate': float(x[2]),\n",
        "        'min_data_in_leaf': int(x[3]),\n",
        "        'l2_leaf_reg': float(x[4]),\n",
        "        'loss_function': 'MultiClass',\n",
        "        'class_weights': class_weights,\n",
        "        'task_type': device_type,\n",
        "        'devices': '0:1',\n",
        "        'cat_features': cat_feat_idx,\n",
        "        'verbose': 0,\n",
        "    }\n",
        "\n",
        "    cbof_model = CatBoostClassifier(**params)\n",
        "    cbof_model.fit(train_pool)\n",
        "    y_pred = cbof_model.predict(X_test)\n",
        "    #Accuracy\n",
        "    accuracy = accuracy_score(y_test, y_pred)\n",
        "    #Precision\n",
        "    precision = precision_score(y_test, y_pred, average=\"macro\")\n",
        "    #Recall\n",
        "    recall = recall_score(y_test, y_pred, average=\"macro\")\n",
        "    return -precision, -recall, -accuracy"
      ]
    },
    {
      "cell_type": "code",
      "execution_count": 135,
      "metadata": {
        "id": "w3rsHYFGNapv"
      },
      "outputs": [],
      "source": [
        "problem_dict_cb = {\n",
        "    \"bounds\": FloatVar(lb=(100, 3, 0.001, 20, 0.1), ub=(4000, 6, 0.1, 35, 1.0), name=\"delta\"),\n",
        "    \"minmax\": \"min\",\n",
        "    \"obj_func\": objective_function_cb,\n",
        "    \"obj_weights\": [1.0,1.0,0.7]\n",
        "}"
      ]
    },
    {
      "cell_type": "markdown",
      "metadata": {
        "id": "xHKbpIchka9z"
      },
      "source": [
        "#### OF XGBoost"
      ]
    },
    {
      "cell_type": "code",
      "execution_count": 136,
      "metadata": {
        "colab": {
          "base_uri": "https://localhost:8080/"
        },
        "id": "sfLf3njRrHeL",
        "outputId": "79f4625d-4af4-4d47-ca15-00ffd53ba3a9"
      },
      "outputs": [
        {
          "name": "stderr",
          "output_type": "stream",
          "text": [
            "2023-11-09 08:19:48,993 - mealpy.swarm_based.PSO.OriginalPSO - INFO - Solving 3-objective optimization problem with weights: [1.  1.  0.7].\n",
            "2023-11-09 08:28:24,502 - mealpy.swarm_based.PSO.OriginalPSO - INFO - >>>Problem: P, Epoch: 1, Current best: -2.4915108182660606, Global best: -2.4915108182660606, Runtime: 219.80814 seconds\n",
            "2023-11-09 08:32:05,011 - mealpy.swarm_based.PSO.OriginalPSO - INFO - >>>Problem: P, Epoch: 2, Current best: -2.4960652001929984, Global best: -2.4960652001929984, Runtime: 220.50525 seconds\n",
            "2023-11-09 08:36:32,115 - mealpy.swarm_based.PSO.OriginalPSO - INFO - >>>Problem: P, Epoch: 3, Current best: -2.508889254279261, Global best: -2.508889254279261, Runtime: 267.10178 seconds\n",
            "2023-11-09 08:42:14,473 - mealpy.swarm_based.PSO.OriginalPSO - INFO - >>>Problem: P, Epoch: 4, Current best: -2.508889254279261, Global best: -2.508889254279261, Runtime: 342.35501 seconds\n",
            "2023-11-09 08:47:05,821 - mealpy.swarm_based.PSO.OriginalPSO - INFO - >>>Problem: P, Epoch: 5, Current best: -2.508889254279261, Global best: -2.508889254279261, Runtime: 291.34349 seconds\n",
            "2023-11-09 08:52:22,839 - mealpy.swarm_based.PSO.OriginalPSO - INFO - >>>Problem: P, Epoch: 6, Current best: -2.508889254279261, Global best: -2.508889254279261, Runtime: 317.01508 seconds\n",
            "2023-11-09 08:57:22,958 - mealpy.swarm_based.PSO.OriginalPSO - INFO - >>>Problem: P, Epoch: 7, Current best: -2.508889254279261, Global best: -2.508889254279261, Runtime: 300.11641 seconds\n",
            "2023-11-09 09:02:08,543 - mealpy.swarm_based.PSO.OriginalPSO - INFO - >>>Problem: P, Epoch: 8, Current best: -2.508889254279261, Global best: -2.508889254279261, Runtime: 285.58223 seconds\n",
            "2023-11-09 09:09:22,445 - mealpy.swarm_based.PSO.OriginalPSO - INFO - >>>Problem: P, Epoch: 9, Current best: -2.5110971538578424, Global best: -2.5110971538578424, Runtime: 433.89857 seconds\n",
            "2023-11-09 09:14:31,493 - mealpy.swarm_based.PSO.OriginalPSO - INFO - >>>Problem: P, Epoch: 10, Current best: -2.5110971538578424, Global best: -2.5110971538578424, Runtime: 309.04338 seconds\n",
            "2023-11-09 09:19:29,204 - mealpy.swarm_based.PSO.OriginalPSO - INFO - >>>Problem: P, Epoch: 11, Current best: -2.5110971538578424, Global best: -2.5110971538578424, Runtime: 297.70655 seconds\n",
            "2023-11-09 09:24:38,931 - mealpy.swarm_based.PSO.OriginalPSO - INFO - >>>Problem: P, Epoch: 12, Current best: -2.5110971538578424, Global best: -2.5110971538578424, Runtime: 309.72414 seconds\n",
            "2023-11-09 09:29:57,201 - mealpy.swarm_based.PSO.OriginalPSO - INFO - >>>Problem: P, Epoch: 13, Current best: -2.5110971538578424, Global best: -2.5110971538578424, Runtime: 318.26606 seconds\n",
            "2023-11-09 09:35:20,279 - mealpy.swarm_based.PSO.OriginalPSO - INFO - >>>Problem: P, Epoch: 14, Current best: -2.5110971538578424, Global best: -2.5110971538578424, Runtime: 323.07529 seconds\n",
            "2023-11-09 09:40:32,914 - mealpy.swarm_based.PSO.OriginalPSO - INFO - >>>Problem: P, Epoch: 15, Current best: -2.5110971538578424, Global best: -2.5110971538578424, Runtime: 312.63214 seconds\n",
            "2023-11-09 09:45:33,104 - mealpy.swarm_based.PSO.OriginalPSO - INFO - >>>Problem: P, Epoch: 16, Current best: -2.5110971538578424, Global best: -2.5110971538578424, Runtime: 300.09287 seconds\n",
            "2023-11-09 09:50:33,898 - mealpy.swarm_based.PSO.OriginalPSO - INFO - >>>Problem: P, Epoch: 17, Current best: -2.5110971538578424, Global best: -2.5110971538578424, Runtime: 300.79095 seconds\n",
            "2023-11-09 09:56:13,357 - mealpy.swarm_based.PSO.OriginalPSO - INFO - >>>Problem: P, Epoch: 18, Current best: -2.5110971538578424, Global best: -2.5110971538578424, Runtime: 339.45522 seconds\n",
            "2023-11-09 10:00:41,465 - mealpy.swarm_based.PSO.OriginalPSO - INFO - >>>Problem: P, Epoch: 19, Current best: -2.5125187586947635, Global best: -2.5125187586947635, Runtime: 268.10426 seconds\n",
            "2023-11-09 10:06:14,451 - mealpy.swarm_based.PSO.OriginalPSO - INFO - >>>Problem: P, Epoch: 20, Current best: -2.5125187586947635, Global best: -2.5125187586947635, Runtime: 332.98245 seconds\n"
          ]
        }
      ],
      "source": [
        "model_pso_xgb = PSO.OriginalPSO(epoch=20, pop_size=20, c1=2.05, c2=2.05, w=0.7)\n",
        "g_best_pso_xgb = model_pso_xgb.solve(problem_dict_xgb)"
      ]
    },
    {
      "cell_type": "code",
      "execution_count": 137,
      "metadata": {
        "colab": {
          "base_uri": "https://localhost:8080/"
        },
        "id": "EGLLkKgUsB6t",
        "outputId": "eca8408d-5481-4b45-ce07-98190d23013e"
      },
      "outputs": [
        {
          "name": "stdout",
          "output_type": "stream",
          "text": [
            "Solution: [4.85913610e+03 5.23496407e+00 3.59895246e-02 9.65198396e-01\n",
            " 3.40472510e-01 3.58670936e-01 2.29865251e+00 8.06319275e-02], Fitness: -2.5125187586947635\n"
          ]
        }
      ],
      "source": [
        "print(f\"Solution: {g_best_pso_xgb.solution}, Fitness: {g_best_pso_xgb.target.fitness}\")"
      ]
    },
    {
      "cell_type": "code",
      "execution_count": 138,
      "metadata": {
        "colab": {
          "base_uri": "https://localhost:8080/"
        },
        "id": "hIq3HmBDwVGq",
        "outputId": "6e641234-0db3-4263-e6f3-522434212900"
      },
      "outputs": [
        {
          "name": "stdout",
          "output_type": "stream",
          "text": [
            "Best hyperparameters: -2.5125187586947635\n",
            "n_estimators: 4859\n",
            "max_depth: 5\n",
            "learning_rate: 0.03598952458635338\n",
            "subsample: 0.9651983963801276\n",
            "colsample_bytree: 0.3404725104854119\n",
            "gamma: 0.3586709361597144\n",
            "min_child_weight: 2.298652512251719\n",
            "reg_alpha: 0.08063192748775684\n"
          ]
        }
      ],
      "source": [
        "print(\"Best hyperparameters:\", g_best_pso_xgb.target.fitness)\n",
        "print(\"n_estimators:\", int(g_best_pso_xgb.solution[0]))\n",
        "print(\"max_depth:\", int(g_best_pso_xgb.solution[1]))\n",
        "print(\"learning_rate:\", float(g_best_pso_xgb.solution[2]))\n",
        "print(\"subsample:\", float(g_best_pso_xgb.solution[3]))\n",
        "print(\"colsample_bytree:\", float(g_best_pso_xgb.solution[4]))\n",
        "print(\"gamma:\", float(g_best_pso_xgb.solution[5]))\n",
        "print(\"min_child_weight:\", float(g_best_pso_xgb.solution[6]))\n",
        "print(\"reg_alpha:\", float(g_best_pso_xgb.solution[7]))"
      ]
    },
    {
      "cell_type": "code",
      "execution_count": 139,
      "metadata": {
        "id": "ZHn9q-jNXzJw"
      },
      "outputs": [],
      "source": [
        "# Define the best hyperparameters as a dictionary\n",
        "best_hyperparameters_pso_xgb = {\n",
        "    'n_estimators': int(g_best_pso_xgb.solution[0]),\n",
        "    'max_depth': int(g_best_pso_xgb.solution[1]),\n",
        "    'learning_rate': float(g_best_pso_xgb.solution[2]),\n",
        "    'subsample': float(g_best_pso_xgb.solution[3]),\n",
        "    \"colsample_bytree\": float(g_best_pso_xgb.solution[4]),\n",
        "    \"gamma\": float(g_best_pso_xgb.solution[5]),\n",
        "    'min_child_weight': int(g_best_pso_xgb.solution[6]),\n",
        "    'reg_alpha': float(g_best_pso_xgb.solution[7]),\n",
        "    # 'device': 'cuda:0',\n",
        "    # 'tree_method':'gpu_hist',\n",
        "    # 'predictor': 'gpu_predictor',\n",
        "    'verbose': 0,\n",
        "}"
      ]
    },
    {
      "cell_type": "code",
      "execution_count": 140,
      "metadata": {
        "colab": {
          "base_uri": "https://localhost:8080/",
          "height": 252
        },
        "id": "BgO3dlU7XlBv",
        "outputId": "bc68cc7a-7375-4983-856b-ae1b2d85ff46"
      },
      "outputs": [
        {
          "data": {
            "text/html": [
              "<style>#sk-container-id-3 {color: black;}#sk-container-id-3 pre{padding: 0;}#sk-container-id-3 div.sk-toggleable {background-color: white;}#sk-container-id-3 label.sk-toggleable__label {cursor: pointer;display: block;width: 100%;margin-bottom: 0;padding: 0.3em;box-sizing: border-box;text-align: center;}#sk-container-id-3 label.sk-toggleable__label-arrow:before {content: \"▸\";float: left;margin-right: 0.25em;color: #696969;}#sk-container-id-3 label.sk-toggleable__label-arrow:hover:before {color: black;}#sk-container-id-3 div.sk-estimator:hover label.sk-toggleable__label-arrow:before {color: black;}#sk-container-id-3 div.sk-toggleable__content {max-height: 0;max-width: 0;overflow: hidden;text-align: left;background-color: #f0f8ff;}#sk-container-id-3 div.sk-toggleable__content pre {margin: 0.2em;color: black;border-radius: 0.25em;background-color: #f0f8ff;}#sk-container-id-3 input.sk-toggleable__control:checked~div.sk-toggleable__content {max-height: 200px;max-width: 100%;overflow: auto;}#sk-container-id-3 input.sk-toggleable__control:checked~label.sk-toggleable__label-arrow:before {content: \"▾\";}#sk-container-id-3 div.sk-estimator input.sk-toggleable__control:checked~label.sk-toggleable__label {background-color: #d4ebff;}#sk-container-id-3 div.sk-label input.sk-toggleable__control:checked~label.sk-toggleable__label {background-color: #d4ebff;}#sk-container-id-3 input.sk-hidden--visually {border: 0;clip: rect(1px 1px 1px 1px);clip: rect(1px, 1px, 1px, 1px);height: 1px;margin: -1px;overflow: hidden;padding: 0;position: absolute;width: 1px;}#sk-container-id-3 div.sk-estimator {font-family: monospace;background-color: #f0f8ff;border: 1px dotted black;border-radius: 0.25em;box-sizing: border-box;margin-bottom: 0.5em;}#sk-container-id-3 div.sk-estimator:hover {background-color: #d4ebff;}#sk-container-id-3 div.sk-parallel-item::after {content: \"\";width: 100%;border-bottom: 1px solid gray;flex-grow: 1;}#sk-container-id-3 div.sk-label:hover label.sk-toggleable__label {background-color: #d4ebff;}#sk-container-id-3 div.sk-serial::before {content: \"\";position: absolute;border-left: 1px solid gray;box-sizing: border-box;top: 0;bottom: 0;left: 50%;z-index: 0;}#sk-container-id-3 div.sk-serial {display: flex;flex-direction: column;align-items: center;background-color: white;padding-right: 0.2em;padding-left: 0.2em;position: relative;}#sk-container-id-3 div.sk-item {position: relative;z-index: 1;}#sk-container-id-3 div.sk-parallel {display: flex;align-items: stretch;justify-content: center;background-color: white;position: relative;}#sk-container-id-3 div.sk-item::before, #sk-container-id-3 div.sk-parallel-item::before {content: \"\";position: absolute;border-left: 1px solid gray;box-sizing: border-box;top: 0;bottom: 0;left: 50%;z-index: -1;}#sk-container-id-3 div.sk-parallel-item {display: flex;flex-direction: column;z-index: 1;position: relative;background-color: white;}#sk-container-id-3 div.sk-parallel-item:first-child::after {align-self: flex-end;width: 50%;}#sk-container-id-3 div.sk-parallel-item:last-child::after {align-self: flex-start;width: 50%;}#sk-container-id-3 div.sk-parallel-item:only-child::after {width: 0;}#sk-container-id-3 div.sk-dashed-wrapped {border: 1px dashed gray;margin: 0 0.4em 0.5em 0.4em;box-sizing: border-box;padding-bottom: 0.4em;background-color: white;}#sk-container-id-3 div.sk-label label {font-family: monospace;font-weight: bold;display: inline-block;line-height: 1.2em;}#sk-container-id-3 div.sk-label-container {text-align: center;}#sk-container-id-3 div.sk-container {/* jupyter's `normalize.less` sets `[hidden] { display: none; }` but bootstrap.min.css set `[hidden] { display: none !important; }` so we also need the `!important` here to be able to override the default hidden behavior on the sphinx rendered scikit-learn.org. See: https://github.com/scikit-learn/scikit-learn/issues/21755 */display: inline-block !important;position: relative;}#sk-container-id-3 div.sk-text-repr-fallback {display: none;}</style><div id=\"sk-container-id-3\" class=\"sk-top-container\"><div class=\"sk-text-repr-fallback\"><pre>XGBClassifier(base_score=None, booster=None, callbacks=None,\n",
              "              colsample_bylevel=None, colsample_bynode=None,\n",
              "              colsample_bytree=0.3404725104854119, device=None,\n",
              "              early_stopping_rounds=None, enable_categorical=False,\n",
              "              eval_metric=None, feature_types=None, gamma=0.3586709361597144,\n",
              "              grow_policy=None, importance_type=None,\n",
              "              interaction_constraints=None, learning_rate=0.03598952458635338,\n",
              "              max_bin=None, max_cat_threshold=None, max_cat_to_onehot=None,\n",
              "              max_delta_step=None, max_depth=5, max_leaves=None,\n",
              "              min_child_weight=2, missing=nan, monotone_constraints=None,\n",
              "              multi_strategy=None, n_estimators=4859, n_jobs=None,\n",
              "              num_parallel_tree=None, objective=&#x27;multi:softprob&#x27;, ...)</pre><b>In a Jupyter environment, please rerun this cell to show the HTML representation or trust the notebook. <br />On GitHub, the HTML representation is unable to render, please try loading this page with nbviewer.org.</b></div><div class=\"sk-container\" hidden><div class=\"sk-item\"><div class=\"sk-estimator sk-toggleable\"><input class=\"sk-toggleable__control sk-hidden--visually\" id=\"sk-estimator-id-3\" type=\"checkbox\" checked><label for=\"sk-estimator-id-3\" class=\"sk-toggleable__label sk-toggleable__label-arrow\">XGBClassifier</label><div class=\"sk-toggleable__content\"><pre>XGBClassifier(base_score=None, booster=None, callbacks=None,\n",
              "              colsample_bylevel=None, colsample_bynode=None,\n",
              "              colsample_bytree=0.3404725104854119, device=None,\n",
              "              early_stopping_rounds=None, enable_categorical=False,\n",
              "              eval_metric=None, feature_types=None, gamma=0.3586709361597144,\n",
              "              grow_policy=None, importance_type=None,\n",
              "              interaction_constraints=None, learning_rate=0.03598952458635338,\n",
              "              max_bin=None, max_cat_threshold=None, max_cat_to_onehot=None,\n",
              "              max_delta_step=None, max_depth=5, max_leaves=None,\n",
              "              min_child_weight=2, missing=nan, monotone_constraints=None,\n",
              "              multi_strategy=None, n_estimators=4859, n_jobs=None,\n",
              "              num_parallel_tree=None, objective=&#x27;multi:softprob&#x27;, ...)</pre></div></div></div></div></div>"
            ],
            "text/plain": [
              "XGBClassifier(base_score=None, booster=None, callbacks=None,\n",
              "              colsample_bylevel=None, colsample_bynode=None,\n",
              "              colsample_bytree=0.3404725104854119, device=None,\n",
              "              early_stopping_rounds=None, enable_categorical=False,\n",
              "              eval_metric=None, feature_types=None, gamma=0.3586709361597144,\n",
              "              grow_policy=None, importance_type=None,\n",
              "              interaction_constraints=None, learning_rate=0.03598952458635338,\n",
              "              max_bin=None, max_cat_threshold=None, max_cat_to_onehot=None,\n",
              "              max_delta_step=None, max_depth=5, max_leaves=None,\n",
              "              min_child_weight=2, missing=nan, monotone_constraints=None,\n",
              "              multi_strategy=None, n_estimators=4859, n_jobs=None,\n",
              "              num_parallel_tree=None, objective='multi:softprob', ...)"
            ]
          },
          "execution_count": 140,
          "metadata": {},
          "output_type": "execute_result"
        }
      ],
      "source": [
        "# Create a XGB classifier with the best hyperparameters\n",
        "pso_xgb_model = xgb.XGBClassifier(**best_hyperparameters_pso_xgb)\n",
        "\n",
        "# Train the model on your training data\n",
        "pso_xgb_model.fit(X_train, y_train, verbose = 1000 )"
      ]
    },
    {
      "cell_type": "code",
      "execution_count": 141,
      "metadata": {
        "colab": {
          "base_uri": "https://localhost:8080/",
          "height": 489
        },
        "id": "q4Mzr7C1cvxz",
        "outputId": "4b0e93ee-3d2e-4a6b-85c1-33d2b1f6b67c"
      },
      "outputs": [
        {
          "data": {
            "image/png": "[encoded data removed]",
            "text/plain": [
              "<Figure size 640x480 with 1 Axes>"
            ]
          },
          "metadata": {},
          "output_type": "display_data"
        },
        {
          "data": {
            "text/plain": [
              "<Figure size 1600x1200 with 0 Axes>"
            ]
          },
          "metadata": {},
          "output_type": "display_data"
        }
      ],
      "source": [
        "xgb.plot_importance(pso_xgb_model)\n",
        "plt.figure(figsize = (16, 12))\n",
        "plt.show()"
      ]
    },
    {
      "cell_type": "markdown",
      "metadata": {
        "id": "lMSWtCnykQsI"
      },
      "source": [
        "#### OF Catboost"
      ]
    },
    {
      "cell_type": "code",
      "execution_count": 142,
      "metadata": {
        "id": "-nM93MH1AT-6"
      },
      "outputs": [],
      "source": [
        "n_particles = 20\n",
        "n_dimensions = len(hyperparameter_ranges_cb)\n",
        "# bounds = (np.array([100, 3, 0.01, 1]), np.array([500, 8, 0.1, 5]))\n",
        "bounds = (np.array([100, 2, 0.001, 25, 1]), np.array([4000, 16, 0.1, 35, 10]))\n"
      ]
    },
    {
      "cell_type": "code",
      "execution_count": 143,
      "metadata": {
        "id": "CDF2XwlGE5sr"
      },
      "outputs": [],
      "source": [
        "# best_hyperparameters = optimizer.optimize(objective_function, iters=pso_iteration)\n"
      ]
    },
    {
      "cell_type": "code",
      "execution_count": 144,
      "metadata": {
        "colab": {
          "base_uri": "https://localhost:8080/"
        },
        "id": "tXNW3xtW78El",
        "outputId": "e35c1b80-18ec-4cb3-dcf3-a0000057a275"
      },
      "outputs": [
        {
          "name": "stderr",
          "output_type": "stream",
          "text": [
            "2023-11-09 10:06:34,381 - mealpy.swarm_based.PSO.OriginalPSO - INFO - Solving 3-objective optimization problem with weights: [1.  1.  0.7].\n",
            "2023-11-09 10:15:57,818 - mealpy.swarm_based.PSO.OriginalPSO - INFO - >>>Problem: P, Epoch: 1, Current best: -2.5154273730219403, Global best: -2.5154273730219403, Runtime: 264.08663 seconds\n",
            "2023-11-09 10:19:04,084 - mealpy.swarm_based.PSO.OriginalPSO - INFO - >>>Problem: P, Epoch: 2, Current best: -2.5154273730219403, Global best: -2.5154273730219403, Runtime: 186.26220 seconds\n",
            "2023-11-09 10:21:35,639 - mealpy.swarm_based.PSO.OriginalPSO - INFO - >>>Problem: P, Epoch: 3, Current best: -2.519898841787311, Global best: -2.519898841787311, Runtime: 151.55263 seconds\n",
            "2023-11-09 10:24:37,465 - mealpy.swarm_based.PSO.OriginalPSO - INFO - >>>Problem: P, Epoch: 4, Current best: -2.519898841787311, Global best: -2.519898841787311, Runtime: 181.82438 seconds\n",
            "2023-11-09 10:28:24,382 - mealpy.swarm_based.PSO.OriginalPSO - INFO - >>>Problem: P, Epoch: 5, Current best: -2.519898841787311, Global best: -2.519898841787311, Runtime: 226.91495 seconds\n",
            "2023-11-09 10:32:17,836 - mealpy.swarm_based.PSO.OriginalPSO - INFO - >>>Problem: P, Epoch: 6, Current best: -2.5266706236749066, Global best: -2.5266706236749066, Runtime: 233.45129 seconds\n",
            "2023-11-09 10:36:54,827 - mealpy.swarm_based.PSO.OriginalPSO - INFO - >>>Problem: P, Epoch: 7, Current best: -2.5266706236749066, Global best: -2.5266706236749066, Runtime: 276.98975 seconds\n",
            "2023-11-09 10:41:25,524 - mealpy.swarm_based.PSO.OriginalPSO - INFO - >>>Problem: P, Epoch: 8, Current best: -2.5266706236749066, Global best: -2.5266706236749066, Runtime: 270.69343 seconds\n",
            "2023-11-09 10:45:01,878 - mealpy.swarm_based.PSO.OriginalPSO - INFO - >>>Problem: P, Epoch: 9, Current best: -2.5266706236749066, Global best: -2.5266706236749066, Runtime: 216.35160 seconds\n",
            "2023-11-09 10:49:22,506 - mealpy.swarm_based.PSO.OriginalPSO - INFO - >>>Problem: P, Epoch: 10, Current best: -2.5266706236749066, Global best: -2.5266706236749066, Runtime: 260.62586 seconds\n",
            "2023-11-09 10:53:54,457 - mealpy.swarm_based.PSO.OriginalPSO - INFO - >>>Problem: P, Epoch: 11, Current best: -2.5266706236749066, Global best: -2.5266706236749066, Runtime: 271.94870 seconds\n",
            "2023-11-09 10:59:28,975 - mealpy.swarm_based.PSO.OriginalPSO - INFO - >>>Problem: P, Epoch: 12, Current best: -2.5266706236749066, Global best: -2.5266706236749066, Runtime: 334.51537 seconds\n",
            "2023-11-09 11:04:50,957 - mealpy.swarm_based.PSO.OriginalPSO - INFO - >>>Problem: P, Epoch: 13, Current best: -2.5266706236749066, Global best: -2.5266706236749066, Runtime: 321.97993 seconds\n",
            "2023-11-09 11:10:23,624 - mealpy.swarm_based.PSO.OriginalPSO - INFO - >>>Problem: P, Epoch: 14, Current best: -2.5266706236749066, Global best: -2.5266706236749066, Runtime: 332.66476 seconds\n",
            "2023-11-09 11:14:55,694 - mealpy.swarm_based.PSO.OriginalPSO - INFO - >>>Problem: P, Epoch: 15, Current best: -2.5266706236749066, Global best: -2.5266706236749066, Runtime: 272.06656 seconds\n",
            "2023-11-09 11:20:28,457 - mealpy.swarm_based.PSO.OriginalPSO - INFO - >>>Problem: P, Epoch: 16, Current best: -2.5266706236749066, Global best: -2.5266706236749066, Runtime: 332.76156 seconds\n",
            "2023-11-09 11:25:48,533 - mealpy.swarm_based.PSO.OriginalPSO - INFO - >>>Problem: P, Epoch: 17, Current best: -2.5266706236749066, Global best: -2.5266706236749066, Runtime: 320.07401 seconds\n",
            "2023-11-09 11:32:59,298 - mealpy.swarm_based.PSO.OriginalPSO - INFO - >>>Problem: P, Epoch: 18, Current best: -2.5266706236749066, Global best: -2.5266706236749066, Runtime: 430.76199 seconds\n",
            "2023-11-09 11:43:07,370 - mealpy.swarm_based.PSO.OriginalPSO - INFO - >>>Problem: P, Epoch: 19, Current best: -2.5266706236749066, Global best: -2.5266706236749066, Runtime: 608.06911 seconds\n"
          ]
        }
      ],
      "source": [
        "model_pso_cb = PSO.OriginalPSO(epoch=20, pop_size=20, c1=2.05, c2=2.05, w=0.7)\n",
        "g_best_pso_cb = model_pso_cb.solve(problem_dict_cb)"
      ]
    },
    {
      "cell_type": "code",
      "execution_count": null,
      "metadata": {
        "colab": {
          "base_uri": "https://localhost:8080/"
        },
        "id": "5sxFH-BJCFAA",
        "outputId": "47429e70-8ede-4052-8bd1-966557b4eca2"
      },
      "outputs": [
        {
          "name": "stdout",
          "output_type": "stream",
          "text": [
            "Solution: [3.22251053e+03 4.83226958e+00 9.24409951e-02 2.97572993e+01\n",
            " 2.11917090e-01], Fitness: -0.9682804674457429\n"
          ]
        }
      ],
      "source": [
        "print(f\"Solution: {g_best_pso_cb.solution}, Fitness: {g_best_pso_cb.target.fitness}\")"
      ]
    },
    {
      "cell_type": "code",
      "execution_count": null,
      "metadata": {
        "colab": {
          "base_uri": "https://localhost:8080/"
        },
        "id": "GwWGoZVyS2sy",
        "outputId": "20aa8dc8-bdc1-46d8-8a75-b916371cc45b"
      },
      "outputs": [
        {
          "data": {
            "text/plain": [
              "5"
            ]
          },
          "execution_count": 81,
          "metadata": {},
          "output_type": "execute_result"
        }
      ],
      "source": [
        "len(g_best_pso_cb.solution)"
      ]
    },
    {
      "cell_type": "code",
      "execution_count": null,
      "metadata": {
        "id": "zL9ZUXWHO5QF"
      },
      "outputs": [],
      "source": [
        "# best_accuracy, best_hyperparameter_values = best_hyperparameters"
      ]
    },
    {
      "cell_type": "code",
      "execution_count": null,
      "metadata": {
        "colab": {
          "base_uri": "https://localhost:8080/"
        },
        "id": "LOKmIRfv002E",
        "outputId": "2974437e-ebb3-4304-9efc-059f0411b361"
      },
      "outputs": [
        {
          "name": "stdout",
          "output_type": "stream",
          "text": [
            "Best hyperparameters: -0.9682804674457429\n",
            "iteration: 3222\n",
            "depth: 4\n",
            "learning_rate: 0.09244099508093619\n",
            "min_data_in_leaf: 29\n",
            "l2_leaf_reg: 0.21191709049563523\n"
          ]
        }
      ],
      "source": [
        "# Now, best_hyperparameter_values is an array of hyperparameter values\n",
        "# You can print it to see the best hyperparameters\n",
        "# print(\"Best accuracy:\", -best_accuracy)\n",
        "print(\"Best hyperparameters:\", g_best_pso_cb.target.fitness)\n",
        "print(\"iteration:\", int(g_best_pso_cb.solution[0]))\n",
        "print(\"depth:\", int(g_best_pso_cb.solution[1]))\n",
        "print(\"learning_rate:\", float(g_best_pso_cb.solution[2]))\n",
        "print(\"min_data_in_leaf:\", int(g_best_pso_cb.solution[3]))\n",
        "print(\"l2_leaf_reg:\", float(g_best_pso_cb.solution[4]))\n"
      ]
    },
    {
      "cell_type": "code",
      "execution_count": null,
      "metadata": {
        "id": "MPhHWVAiTulR"
      },
      "outputs": [],
      "source": [
        "# Define the best hyperparameters as a dictionary\n",
        "best_hyperparameters_pso_cb = {\n",
        "    'iterations': int(g_best_pso_cb.solution[0]),\n",
        "    'depth': int(g_best_pso_cb.solution[1]),\n",
        "    'learning_rate': float(g_best_pso_cb.solution[2]),\n",
        "    'min_data_in_leaf': int(g_best_pso_cb.solution[3]),\n",
        "    \"l2_leaf_reg\": float(g_best_pso_cb.solution[4]),\n",
        "    'class_weights': class_weights,  # Assuming you have class_weights defined\n",
        "    'task_type': device_type,\n",
        "    'devices': '0:1',\n",
        "    'cat_features': cat_feat_idx,\n",
        "    'verbose': 0,\n",
        "}"
      ]
    },
    {
      "cell_type": "code",
      "execution_count": null,
      "metadata": {
        "colab": {
          "base_uri": "https://localhost:8080/"
        },
        "id": "8JBBVKkGE9a3",
        "outputId": "91011d8b-a1fa-4d59-f7e1-ed37626326e5"
      },
      "outputs": [
        {
          "name": "stdout",
          "output_type": "stream",
          "text": [
            "0:\tlearn: 1.5155937\ttotal: 4.64ms\tremaining: 15s\n",
            "1000:\tlearn: 0.0057943\ttotal: 3.5s\tremaining: 7.78s\n",
            "2000:\tlearn: 0.0015843\ttotal: 9.81s\tremaining: 5.98s\n",
            "3000:\tlearn: 0.0007532\ttotal: 13.6s\tremaining: 1s\n",
            "3221:\tlearn: 0.0006676\ttotal: 14.5s\tremaining: 0us\n"
          ]
        },
        {
          "data": {
            "text/plain": [
              "<catboost.core.CatBoostClassifier at 0x7d7c2ea7c9d0>"
            ]
          },
          "execution_count": 85,
          "metadata": {},
          "output_type": "execute_result"
        }
      ],
      "source": [
        "# Create a CatBoost classifier with the best hyperparameters\n",
        "pso_cb_model = CatBoostClassifier(**best_hyperparameters_pso_cb)\n",
        "\n",
        "# Train the model on your training data\n",
        "pso_cb_model.fit(train_pool , verbose = 1000 )"
      ]
    },
    {
      "cell_type": "code",
      "execution_count": null,
      "metadata": {
        "id": "UN_tthzdc4MS"
      },
      "outputs": [],
      "source": [
        "importances = pso_cb_model.get_feature_importance(type='PredictionValuesChange')\n",
        "feature_importances = pd.Series(importances, index=X.columns).sort_values()"
      ]
    },
    {
      "cell_type": "code",
      "execution_count": null,
      "metadata": {
        "colab": {
          "base_uri": "https://localhost:8080/",
          "height": 564
        },
        "id": "rUk4A-klc_vD",
        "outputId": "3dca98ee-6707-45c8-8b9b-c9d2fc733e53"
      },
      "outputs": [
        {
          "data": {
            "image/png": "[encoded data removed]",
            "text/plain": [
              "<Figure size 1000x600 with 1 Axes>"
            ]
          },
          "metadata": {},
          "output_type": "display_data"
        }
      ],
      "source": [
        "plt.figure(figsize=(10, 6))\n",
        "plt.barh(feature_importances.index, feature_importances.values)\n",
        "plt.title('CatBoost Feature Importance')\n",
        "plt.xlabel('Importance')\n",
        "plt.ylabel('Features')\n",
        "plt.show()"
      ]
    },
    {
      "cell_type": "markdown",
      "metadata": {
        "id": "Hb6mJOlzy7a8"
      },
      "source": [
        "### ABC"
      ]
    },
    {
      "cell_type": "code",
      "execution_count": null,
      "metadata": {
        "id": "k_cmJH_1zj8x"
      },
      "outputs": [],
      "source": [
        "from mealpy import FloatVar, ABC"
      ]
    },
    {
      "cell_type": "markdown",
      "metadata": {
        "id": "B6p2aqp3Zmjn"
      },
      "source": [
        "#### XGB"
      ]
    },
    {
      "cell_type": "code",
      "execution_count": null,
      "metadata": {
        "colab": {
          "base_uri": "https://localhost:8080/"
        },
        "id": "GkXXKlhAzM0a",
        "outputId": "5058f32f-a13e-4d5f-ce57-7cab2f37e338"
      },
      "outputs": [
        {
          "name": "stderr",
          "output_type": "stream",
          "text": [
            "2023-11-08 08:33:54,838 - mealpy.swarm_based.ABC.OriginalABC - INFO - Solving single objective optimization problem.\n",
            "2023-11-08 08:44:12,096 - mealpy.swarm_based.ABC.OriginalABC - INFO - >>>Problem: P, Epoch: 1, Current best: -0.9649415692821369, Global best: -0.9649415692821369, Runtime: 422.44449 seconds\n",
            "2023-11-08 08:53:06,692 - mealpy.swarm_based.ABC.OriginalABC - INFO - >>>Problem: P, Epoch: 2, Current best: -0.9649415692821369, Global best: -0.9649415692821369, Runtime: 534.59311 seconds\n",
            "2023-11-08 09:01:18,585 - mealpy.swarm_based.ABC.OriginalABC - INFO - >>>Problem: P, Epoch: 3, Current best: -0.9666110183639399, Global best: -0.9666110183639399, Runtime: 491.89043 seconds\n",
            "2023-11-08 09:09:05,390 - mealpy.swarm_based.ABC.OriginalABC - INFO - >>>Problem: P, Epoch: 4, Current best: -0.9674457429048414, Global best: -0.9674457429048414, Runtime: 466.79946 seconds\n",
            "2023-11-08 09:16:51,735 - mealpy.swarm_based.ABC.OriginalABC - INFO - >>>Problem: P, Epoch: 5, Current best: -0.9674457429048414, Global best: -0.9674457429048414, Runtime: 466.34148 seconds\n",
            "2023-11-08 09:24:08,847 - mealpy.swarm_based.ABC.OriginalABC - INFO - >>>Problem: P, Epoch: 6, Current best: -0.9674457429048414, Global best: -0.9674457429048414, Runtime: 437.10935 seconds\n",
            "2023-11-08 09:30:19,894 - mealpy.swarm_based.ABC.OriginalABC - INFO - >>>Problem: P, Epoch: 7, Current best: -0.9674457429048414, Global best: -0.9674457429048414, Runtime: 371.04282 seconds\n",
            "2023-11-08 09:36:58,931 - mealpy.swarm_based.ABC.OriginalABC - INFO - >>>Problem: P, Epoch: 8, Current best: -0.9674457429048414, Global best: -0.9674457429048414, Runtime: 399.03450 seconds\n",
            "2023-11-08 09:43:14,955 - mealpy.swarm_based.ABC.OriginalABC - INFO - >>>Problem: P, Epoch: 9, Current best: -0.9674457429048414, Global best: -0.9674457429048414, Runtime: 376.02106 seconds\n",
            "2023-11-08 09:50:12,243 - mealpy.swarm_based.ABC.OriginalABC - INFO - >>>Problem: P, Epoch: 10, Current best: -0.9682804674457429, Global best: -0.9682804674457429, Runtime: 417.28271 seconds\n",
            "2023-11-08 09:56:33,132 - mealpy.swarm_based.ABC.OriginalABC - INFO - >>>Problem: P, Epoch: 11, Current best: -0.9682804674457429, Global best: -0.9682804674457429, Runtime: 380.88577 seconds\n",
            "2023-11-08 10:04:38,463 - mealpy.swarm_based.ABC.OriginalABC - INFO - >>>Problem: P, Epoch: 12, Current best: -0.9682804674457429, Global best: -0.9682804674457429, Runtime: 485.32840 seconds\n",
            "2023-11-08 10:11:41,846 - mealpy.swarm_based.ABC.OriginalABC - INFO - >>>Problem: P, Epoch: 13, Current best: -0.9682804674457429, Global best: -0.9682804674457429, Runtime: 423.37963 seconds\n",
            "2023-11-08 10:18:35,760 - mealpy.swarm_based.ABC.OriginalABC - INFO - >>>Problem: P, Epoch: 14, Current best: -0.9682804674457429, Global best: -0.9682804674457429, Runtime: 413.91183 seconds\n",
            "2023-11-08 10:24:47,345 - mealpy.swarm_based.ABC.OriginalABC - INFO - >>>Problem: P, Epoch: 15, Current best: -0.9682804674457429, Global best: -0.9682804674457429, Runtime: 371.57932 seconds\n",
            "2023-11-08 10:31:49,103 - mealpy.swarm_based.ABC.OriginalABC - INFO - >>>Problem: P, Epoch: 16, Current best: -0.9682804674457429, Global best: -0.9682804674457429, Runtime: 421.75471 seconds\n",
            "2023-11-08 10:38:54,353 - mealpy.swarm_based.ABC.OriginalABC - INFO - >>>Problem: P, Epoch: 17, Current best: -0.9716193656093489, Global best: -0.9716193656093489, Runtime: 425.24698 seconds\n",
            "2023-11-08 10:45:58,520 - mealpy.swarm_based.ABC.OriginalABC - INFO - >>>Problem: P, Epoch: 18, Current best: -0.9716193656093489, Global best: -0.9716193656093489, Runtime: 424.16385 seconds\n",
            "2023-11-08 10:53:12,890 - mealpy.swarm_based.ABC.OriginalABC - INFO - >>>Problem: P, Epoch: 19, Current best: -0.9716193656093489, Global best: -0.9716193656093489, Runtime: 434.36358 seconds\n",
            "2023-11-08 10:59:47,828 - mealpy.swarm_based.ABC.OriginalABC - INFO - >>>Problem: P, Epoch: 20, Current best: -0.9716193656093489, Global best: -0.9716193656093489, Runtime: 394.93615 seconds\n"
          ]
        }
      ],
      "source": [
        "abc_xgb_model = ABC.OriginalABC(epoch=20, pop_size=20, n_limits = 25)\n",
        "g_best_abc_xgb = abc_xgb_model.solve(problem_dict_xgb)\n"
      ]
    },
    {
      "cell_type": "code",
      "execution_count": null,
      "metadata": {
        "colab": {
          "base_uri": "https://localhost:8080/"
        },
        "id": "iTWuQl2VPhLv",
        "outputId": "301d514e-421b-4b14-cc7e-b269e21b78f3"
      },
      "outputs": [
        {
          "name": "stdout",
          "output_type": "stream",
          "text": [
            "Solution: [8.00000000e+03 1.00000000e+01 7.75921449e-02 1.00000000e+00\n",
            " 2.13741214e-01 1.93554796e-01 3.74447029e+00 1.00000000e-01], Fitness: -0.9716193656093489\n"
          ]
        }
      ],
      "source": [
        "print(f\"Solution: {g_best_abc_xgb.solution}, Fitness: {g_best_abc_xgb.target.fitness}\")"
      ]
    },
    {
      "cell_type": "code",
      "execution_count": null,
      "metadata": {
        "colab": {
          "base_uri": "https://localhost:8080/"
        },
        "id": "DjNkcCeHr4wZ",
        "outputId": "c6b9681f-1dbd-4947-b21b-96177d98770a"
      },
      "outputs": [
        {
          "name": "stdout",
          "output_type": "stream",
          "text": [
            "Best hyperparameters: -0.9716193656093489\n",
            "n_estimators: 8000\n",
            "max_depth: 10\n",
            "learning_rate: 0.07759214491264169\n",
            "subsample: 1.0\n",
            "colsample_bytree: 0.21374121352090816\n",
            "gamma: 0.1935547960993547\n",
            "min_child_weight: 3.7444702911596655\n",
            "reg_alpha: 0.1\n"
          ]
        }
      ],
      "source": [
        "print(\"Best hyperparameters:\", g_best_abc_xgb.target.fitness)\n",
        "print(\"n_estimators:\", int(g_best_abc_xgb.solution[0]))\n",
        "print(\"max_depth:\", int(g_best_abc_xgb.solution[1]))\n",
        "print(\"learning_rate:\", float(g_best_abc_xgb.solution[2]))\n",
        "print(\"subsample:\", float(g_best_abc_xgb.solution[3]))\n",
        "print(\"colsample_bytree:\", float(g_best_abc_xgb.solution[4]))\n",
        "print(\"gamma:\", float(g_best_abc_xgb.solution[5]))\n",
        "print(\"min_child_weight:\", float(g_best_abc_xgb.solution[6]))\n",
        "print(\"reg_alpha:\", float(g_best_abc_xgb.solution[7]))"
      ]
    },
    {
      "cell_type": "code",
      "execution_count": null,
      "metadata": {
        "id": "NE0wIcAqRedZ"
      },
      "outputs": [],
      "source": [
        "# Define the best hyperparameters as a dictionary\n",
        "best_hyperparameters_abc_xgb = {\n",
        "    'n_estimators': int(g_best_abc_xgb.solution[0]),\n",
        "    'max_depth': int(g_best_abc_xgb.solution[1]),\n",
        "    'learning_rate': float(g_best_abc_xgb.solution[2]),\n",
        "    'subsample': float(g_best_abc_xgb.solution[3]),\n",
        "    \"colsample_bytree\": float(g_best_abc_xgb.solution[4]),\n",
        "    \"gamma\": float(g_best_abc_xgb.solution[5]),\n",
        "    'min_child_weight': int(g_best_abc_xgb.solution[6]),\n",
        "    'reg_alpha': float(g_best_abc_xgb.solution[7]),\n",
        "    # 'device': 'cuda:0',\n",
        "    # 'tree_method':'gpu_hist',\n",
        "    # 'predictor': 'gpu_predictor',\n",
        "    'verbose': 0,\n",
        "}"
      ]
    },
    {
      "cell_type": "code",
      "execution_count": null,
      "metadata": {
        "colab": {
          "base_uri": "https://localhost:8080/",
          "height": 252
        },
        "id": "jYd9uVSTRbeB",
        "outputId": "f8787f8d-13f1-40f9-e409-edc8e236ab89"
      },
      "outputs": [
        {
          "data": {
            "text/html": [
              "<style>#sk-container-id-1 {color: black;background-color: white;}#sk-container-id-1 pre{padding: 0;}#sk-container-id-1 div.sk-toggleable {background-color: white;}#sk-container-id-1 label.sk-toggleable__label {cursor: pointer;display: block;width: 100%;margin-bottom: 0;padding: 0.3em;box-sizing: border-box;text-align: center;}#sk-container-id-1 label.sk-toggleable__label-arrow:before {content: \"▸\";float: left;margin-right: 0.25em;color: #696969;}#sk-container-id-1 label.sk-toggleable__label-arrow:hover:before {color: black;}#sk-container-id-1 div.sk-estimator:hover label.sk-toggleable__label-arrow:before {color: black;}#sk-container-id-1 div.sk-toggleable__content {max-height: 0;max-width: 0;overflow: hidden;text-align: left;background-color: #f0f8ff;}#sk-container-id-1 div.sk-toggleable__content pre {margin: 0.2em;color: black;border-radius: 0.25em;background-color: #f0f8ff;}#sk-container-id-1 input.sk-toggleable__control:checked~div.sk-toggleable__content {max-height: 200px;max-width: 100%;overflow: auto;}#sk-container-id-1 input.sk-toggleable__control:checked~label.sk-toggleable__label-arrow:before {content: \"▾\";}#sk-container-id-1 div.sk-estimator input.sk-toggleable__control:checked~label.sk-toggleable__label {background-color: #d4ebff;}#sk-container-id-1 div.sk-label input.sk-toggleable__control:checked~label.sk-toggleable__label {background-color: #d4ebff;}#sk-container-id-1 input.sk-hidden--visually {border: 0;clip: rect(1px 1px 1px 1px);clip: rect(1px, 1px, 1px, 1px);height: 1px;margin: -1px;overflow: hidden;padding: 0;position: absolute;width: 1px;}#sk-container-id-1 div.sk-estimator {font-family: monospace;background-color: #f0f8ff;border: 1px dotted black;border-radius: 0.25em;box-sizing: border-box;margin-bottom: 0.5em;}#sk-container-id-1 div.sk-estimator:hover {background-color: #d4ebff;}#sk-container-id-1 div.sk-parallel-item::after {content: \"\";width: 100%;border-bottom: 1px solid gray;flex-grow: 1;}#sk-container-id-1 div.sk-label:hover label.sk-toggleable__label {background-color: #d4ebff;}#sk-container-id-1 div.sk-serial::before {content: \"\";position: absolute;border-left: 1px solid gray;box-sizing: border-box;top: 0;bottom: 0;left: 50%;z-index: 0;}#sk-container-id-1 div.sk-serial {display: flex;flex-direction: column;align-items: center;background-color: white;padding-right: 0.2em;padding-left: 0.2em;position: relative;}#sk-container-id-1 div.sk-item {position: relative;z-index: 1;}#sk-container-id-1 div.sk-parallel {display: flex;align-items: stretch;justify-content: center;background-color: white;position: relative;}#sk-container-id-1 div.sk-item::before, #sk-container-id-1 div.sk-parallel-item::before {content: \"\";position: absolute;border-left: 1px solid gray;box-sizing: border-box;top: 0;bottom: 0;left: 50%;z-index: -1;}#sk-container-id-1 div.sk-parallel-item {display: flex;flex-direction: column;z-index: 1;position: relative;background-color: white;}#sk-container-id-1 div.sk-parallel-item:first-child::after {align-self: flex-end;width: 50%;}#sk-container-id-1 div.sk-parallel-item:last-child::after {align-self: flex-start;width: 50%;}#sk-container-id-1 div.sk-parallel-item:only-child::after {width: 0;}#sk-container-id-1 div.sk-dashed-wrapped {border: 1px dashed gray;margin: 0 0.4em 0.5em 0.4em;box-sizing: border-box;padding-bottom: 0.4em;background-color: white;}#sk-container-id-1 div.sk-label label {font-family: monospace;font-weight: bold;display: inline-block;line-height: 1.2em;}#sk-container-id-1 div.sk-label-container {text-align: center;}#sk-container-id-1 div.sk-container {/* jupyter's `normalize.less` sets `[hidden] { display: none; }` but bootstrap.min.css set `[hidden] { display: none !important; }` so we also need the `!important` here to be able to override the default hidden behavior on the sphinx rendered scikit-learn.org. See: https://github.com/scikit-learn/scikit-learn/issues/21755 */display: inline-block !important;position: relative;}#sk-container-id-1 div.sk-text-repr-fallback {display: none;}</style><div id=\"sk-container-id-1\" class=\"sk-top-container\"><div class=\"sk-text-repr-fallback\"><pre>XGBClassifier(base_score=None, booster=None, callbacks=None,\n",
              "              colsample_bylevel=None, colsample_bynode=None,\n",
              "              colsample_bytree=0.21374121352090816, device=None,\n",
              "              early_stopping_rounds=None, enable_categorical=False,\n",
              "              eval_metric=None, feature_types=None, gamma=0.1935547960993547,\n",
              "              grow_policy=None, importance_type=None,\n",
              "              interaction_constraints=None, learning_rate=0.07759214491264169,\n",
              "              max_bin=None, max_cat_threshold=None, max_cat_to_onehot=None,\n",
              "              max_delta_step=None, max_depth=10, max_leaves=None,\n",
              "              min_child_weight=3, missing=nan, monotone_constraints=None,\n",
              "              multi_strategy=None, n_estimators=8000, n_jobs=None,\n",
              "              num_parallel_tree=None, objective=&#x27;multi:softprob&#x27;, ...)</pre><b>In a Jupyter environment, please rerun this cell to show the HTML representation or trust the notebook. <br />On GitHub, the HTML representation is unable to render, please try loading this page with nbviewer.org.</b></div><div class=\"sk-container\" hidden><div class=\"sk-item\"><div class=\"sk-estimator sk-toggleable\"><input class=\"sk-toggleable__control sk-hidden--visually\" id=\"sk-estimator-id-1\" type=\"checkbox\" checked><label for=\"sk-estimator-id-1\" class=\"sk-toggleable__label sk-toggleable__label-arrow\">XGBClassifier</label><div class=\"sk-toggleable__content\"><pre>XGBClassifier(base_score=None, booster=None, callbacks=None,\n",
              "              colsample_bylevel=None, colsample_bynode=None,\n",
              "              colsample_bytree=0.21374121352090816, device=None,\n",
              "              early_stopping_rounds=None, enable_categorical=False,\n",
              "              eval_metric=None, feature_types=None, gamma=0.1935547960993547,\n",
              "              grow_policy=None, importance_type=None,\n",
              "              interaction_constraints=None, learning_rate=0.07759214491264169,\n",
              "              max_bin=None, max_cat_threshold=None, max_cat_to_onehot=None,\n",
              "              max_delta_step=None, max_depth=10, max_leaves=None,\n",
              "              min_child_weight=3, missing=nan, monotone_constraints=None,\n",
              "              multi_strategy=None, n_estimators=8000, n_jobs=None,\n",
              "              num_parallel_tree=None, objective=&#x27;multi:softprob&#x27;, ...)</pre></div></div></div></div></div>"
            ],
            "text/plain": [
              "XGBClassifier(base_score=None, booster=None, callbacks=None,\n",
              "              colsample_bylevel=None, colsample_bynode=None,\n",
              "              colsample_bytree=0.21374121352090816, device=None,\n",
              "              early_stopping_rounds=None, enable_categorical=False,\n",
              "              eval_metric=None, feature_types=None, gamma=0.1935547960993547,\n",
              "              grow_policy=None, importance_type=None,\n",
              "              interaction_constraints=None, learning_rate=0.07759214491264169,\n",
              "              max_bin=None, max_cat_threshold=None, max_cat_to_onehot=None,\n",
              "              max_delta_step=None, max_depth=10, max_leaves=None,\n",
              "              min_child_weight=3, missing=nan, monotone_constraints=None,\n",
              "              multi_strategy=None, n_estimators=8000, n_jobs=None,\n",
              "              num_parallel_tree=None, objective='multi:softprob', ...)"
            ]
          },
          "execution_count": 88,
          "metadata": {},
          "output_type": "execute_result"
        }
      ],
      "source": [
        "# Create a XGB classifier with the best hyperparameters\n",
        "abc_xgb_model = xgb.XGBClassifier(**best_hyperparameters_abc_xgb)\n",
        "\n",
        "# Train the model on your training data\n",
        "abc_xgb_model.fit(X_train, y_train, verbose = 1000 )"
      ]
    },
    {
      "cell_type": "code",
      "execution_count": null,
      "metadata": {
        "colab": {
          "base_uri": "https://localhost:8080/",
          "height": 489
        },
        "id": "cE5irlfwRopN",
        "outputId": "a54e7a56-6bf6-4697-d91e-171bc5fec5b9"
      },
      "outputs": [
        {
          "data": {
            "image/png": "[encoded data removed]",
            "text/plain": [
              "<Figure size 640x480 with 1 Axes>"
            ]
          },
          "metadata": {},
          "output_type": "display_data"
        },
        {
          "data": {
            "text/plain": [
              "<Figure size 1600x1200 with 0 Axes>"
            ]
          },
          "metadata": {},
          "output_type": "display_data"
        }
      ],
      "source": [
        "xgb.plot_importance(abc_xgb_model)\n",
        "plt.figure(figsize = (16, 12))\n",
        "plt.show()"
      ]
    },
    {
      "cell_type": "markdown",
      "metadata": {
        "id": "v0dQlo_aZo2O"
      },
      "source": [
        "#### CatBoost"
      ]
    },
    {
      "cell_type": "code",
      "execution_count": null,
      "metadata": {
        "colab": {
          "base_uri": "https://localhost:8080/"
        },
        "id": "0kX7jM8_aL0C",
        "outputId": "b550f38d-a4f7-4852-832f-9f259dce0855"
      },
      "outputs": [
        {
          "name": "stdout",
          "output_type": "stream",
          "text": [
            "0:\tlearn: 1.7651375\ttotal: 6.3ms\tremaining: 23.1s\n",
            "1000:\tlearn: 0.1167538\ttotal: 7.75s\tremaining: 20.6s\n",
            "2000:\tlearn: 0.0644135\ttotal: 13.4s\tremaining: 11.2s\n",
            "3000:\tlearn: 0.0443712\ttotal: 21s\tremaining: 4.65s\n"
          ]
        },
        {
          "name": "stderr",
          "output_type": "stream",
          "text": [
            "2023-11-08 11:34:19,317 - mealpy.swarm_based.ABC.OriginalABC - INFO - Solving single objective optimization problem.\n"
          ]
        },
        {
          "name": "stdout",
          "output_type": "stream",
          "text": [
            "3663:\tlearn: 0.0363929\ttotal: 24.8s\tremaining: 0us\n",
            "0:\tlearn: 1.6129865\ttotal: 9.34ms\tremaining: 30.9s\n",
            "1000:\tlearn: 0.0023852\ttotal: 11.3s\tremaining: 26.1s\n",
            "2000:\tlearn: 0.0005723\ttotal: 22.5s\tremaining: 14.7s\n",
            "3000:\tlearn: 0.0002789\ttotal: 31.9s\tremaining: 3.26s\n",
            "3307:\tlearn: 0.0002385\ttotal: 36.5s\tremaining: 0us\n",
            "0:\tlearn: 1.5983763\ttotal: 5.85ms\tremaining: 603ms\n",
            "103:\tlearn: 0.1437445\ttotal: 586ms\tremaining: 0us\n",
            "0:\tlearn: 1.6418696\ttotal: 9.6ms\tremaining: 32.4s\n",
            "1000:\tlearn: 0.0136018\ttotal: 10.9s\tremaining: 25.9s\n",
            "2000:\tlearn: 0.0048197\ttotal: 20.4s\tremaining: 14s\n",
            "3000:\tlearn: 0.0026199\ttotal: 31.3s\tremaining: 3.9s\n",
            "3374:\tlearn: 0.0022074\ttotal: 36s\tremaining: 0us\n",
            "0:\tlearn: 1.6088986\ttotal: 13.7ms\tremaining: 40.2s\n",
            "1000:\tlearn: 0.0057849\ttotal: 10.4s\tremaining: 20s\n",
            "2000:\tlearn: 0.0018188\ttotal: 21.6s\tremaining: 10s\n",
            "2930:\tlearn: 0.0010293\ttotal: 32s\tremaining: 0us\n",
            "0:\tlearn: 1.6043116\ttotal: 6.08ms\tremaining: 10.8s\n",
            "1000:\tlearn: 0.0142123\ttotal: 5.69s\tremaining: 4.45s\n",
            "1783:\tlearn: 0.0060681\ttotal: 12s\tremaining: 0us\n",
            "0:\tlearn: 1.6659817\ttotal: 5.69ms\tremaining: 1.91s\n",
            "336:\tlearn: 0.0633771\ttotal: 1.9s\tremaining: 0us\n",
            "0:\tlearn: 1.6072608\ttotal: 9.33ms\tremaining: 1.08s\n",
            "116:\tlearn: 0.1015617\ttotal: 1.1s\tremaining: 0us\n",
            "0:\tlearn: 1.6226006\ttotal: 3.84ms\tremaining: 845ms\n",
            "220:\tlearn: 0.1112195\ttotal: 827ms\tremaining: 0us\n",
            "0:\tlearn: 1.6580614\ttotal: 3.91ms\tremaining: 4.18s\n",
            "1000:\tlearn: 0.0334512\ttotal: 3.66s\tremaining: 245ms\n",
            "1067:\tlearn: 0.0311130\ttotal: 3.92s\tremaining: 0us\n",
            "0:\tlearn: 1.7244725\ttotal: 5.81ms\tremaining: 2.08s\n",
            "358:\tlearn: 0.1243159\ttotal: 4s\tremaining: 0us\n",
            "0:\tlearn: 1.6249570\ttotal: 7.01ms\tremaining: 7.38s\n",
            "1000:\tlearn: 0.0139416\ttotal: 5.71s\tremaining: 297ms\n",
            "1052:\tlearn: 0.0129348\ttotal: 6.02s\tremaining: 0us\n",
            "0:\tlearn: 1.7309732\ttotal: 6.19ms\tremaining: 22.2s\n",
            "1000:\tlearn: 0.0555048\ttotal: 7.64s\tremaining: 19.7s\n",
            "2000:\tlearn: 0.0272599\ttotal: 13.3s\tremaining: 10.6s\n",
            "3000:\tlearn: 0.0163519\ttotal: 21s\tremaining: 4.09s\n",
            "3586:\tlearn: 0.0126870\ttotal: 24.3s\tremaining: 0us\n",
            "0:\tlearn: 1.6438125\ttotal: 3.87ms\tremaining: 9.32s\n",
            "1000:\tlearn: 0.0234736\ttotal: 3.75s\tremaining: 5.27s\n",
            "2000:\tlearn: 0.0076858\ttotal: 9.47s\tremaining: 1.93s\n",
            "2407:\tlearn: 0.0054526\ttotal: 11s\tremaining: 0us\n",
            "0:\tlearn: 1.7151802\ttotal: 9.34ms\tremaining: 19.3s\n",
            "1000:\tlearn: 0.0173659\ttotal: 11.8s\tremaining: 12.5s\n",
            "2000:\tlearn: 0.0047923\ttotal: 21.1s\tremaining: 686ms\n",
            "2065:\tlearn: 0.0044943\ttotal: 22.4s\tremaining: 0us\n",
            "0:\tlearn: 1.5971742\ttotal: 18.2ms\tremaining: 31s\n",
            "1000:\tlearn: 0.0057017\ttotal: 10.4s\tremaining: 7.34s\n",
            "1704:\tlearn: 0.0023735\ttotal: 18.8s\tremaining: 0us\n",
            "0:\tlearn: 1.6435172\ttotal: 5.89ms\tremaining: 16.6s\n",
            "1000:\tlearn: 0.0125800\ttotal: 5.73s\tremaining: 10.3s\n",
            "2000:\tlearn: 0.0035897\ttotal: 13.4s\tremaining: 5.4s\n",
            "2809:\tlearn: 0.0019589\ttotal: 18s\tremaining: 0us\n",
            "0:\tlearn: 1.7364020\ttotal: 3.95ms\tremaining: 4.38s\n",
            "1000:\tlearn: 0.0728461\ttotal: 5.7s\tremaining: 620ms\n",
            "1109:\tlearn: 0.0658549\ttotal: 6.12s\tremaining: 0us\n",
            "0:\tlearn: 1.6964593\ttotal: 9.29ms\tremaining: 35.8s\n",
            "1000:\tlearn: 0.0142915\ttotal: 9.94s\tremaining: 28.4s\n",
            "2000:\tlearn: 0.0042003\ttotal: 20.7s\tremaining: 19.2s\n",
            "3000:\tlearn: 0.0020252\ttotal: 32s\tremaining: 9.16s\n",
            "3859:\tlearn: 0.0012962\ttotal: 41.9s\tremaining: 0us\n",
            "0:\tlearn: 1.6242566\ttotal: 6.12ms\tremaining: 14.3s\n",
            "1000:\tlearn: 0.0144442\ttotal: 5.71s\tremaining: 7.59s\n",
            "2000:\tlearn: 0.0048895\ttotal: 13.4s\tremaining: 2.2s\n",
            "2329:\tlearn: 0.0038389\ttotal: 15.3s\tremaining: 0us\n",
            "0:\tlearn: 1.6136212\ttotal: 10.7ms\tremaining: 14.4s\n",
            "1000:\tlearn: 0.0056833\ttotal: 11.3s\tremaining: 3.8s\n",
            "1337:\tlearn: 0.0034855\ttotal: 14.5s\tremaining: 0us\n",
            "0:\tlearn: 1.6097345\ttotal: 12.6ms\tremaining: 21.8s\n",
            "1000:\tlearn: 0.0017617\ttotal: 19.9s\tremaining: 14.4s\n",
            "1724:\tlearn: 0.0006689\ttotal: 34.3s\tremaining: 0us\n",
            "0:\tlearn: 1.5902088\ttotal: 12.8ms\tremaining: 1.26s\n",
            "99:\tlearn: 0.1361945\ttotal: 587ms\tremaining: 0us\n",
            "0:\tlearn: 1.5929093\ttotal: 5.83ms\tremaining: 18.8s\n",
            "1000:\tlearn: 0.0142052\ttotal: 5.75s\tremaining: 12.8s\n",
            "2000:\tlearn: 0.0049618\ttotal: 13.4s\tremaining: 8.21s\n",
            "3000:\tlearn: 0.0027006\ttotal: 19.1s\tremaining: 1.43s\n",
            "3224:\tlearn: 0.0024303\ttotal: 20.4s\tremaining: 0us\n",
            "0:\tlearn: 1.6110837\ttotal: 5.77ms\tremaining: 11.2s\n",
            "1000:\tlearn: 0.0132669\ttotal: 7.61s\tremaining: 7.18s\n",
            "1944:\tlearn: 0.0046025\ttotal: 13s\tremaining: 0us\n",
            "0:\tlearn: 1.6279652\ttotal: 3.88ms\tremaining: 6.74s\n",
            "1000:\tlearn: 0.0328922\ttotal: 5.67s\tremaining: 4.18s\n",
            "1737:\tlearn: 0.0173681\ttotal: 8.45s\tremaining: 0us\n",
            "0:\tlearn: 1.7359490\ttotal: 3.98ms\tremaining: 5.9s\n",
            "1000:\tlearn: 0.0770793\ttotal: 3.71s\tremaining: 1.78s\n",
            "1481:\tlearn: 0.0537873\ttotal: 5.5s\tremaining: 0us\n",
            "0:\tlearn: 1.6054542\ttotal: 9.43ms\tremaining: 934ms\n",
            "99:\tlearn: 0.1182035\ttotal: 951ms\tremaining: 0us\n",
            "0:\tlearn: 1.6319502\ttotal: 3.97ms\tremaining: 1.13s\n",
            "285:\tlearn: 0.0908695\ttotal: 1.84s\tremaining: 0us\n",
            "0:\tlearn: 1.6169833\ttotal: 7.65ms\tremaining: 2.72s\n",
            "356:\tlearn: 0.0698934\ttotal: 2.5s\tremaining: 0us\n",
            "0:\tlearn: 1.7896526\ttotal: 9.38ms\tremaining: 5.34s\n",
            "569:\tlearn: 1.0229149\ttotal: 5.41s\tremaining: 0us\n",
            "0:\tlearn: 1.6156740\ttotal: 7.17ms\tremaining: 7.58s\n",
            "1000:\tlearn: 0.0125315\ttotal: 7.68s\tremaining: 437ms\n",
            "1057:\tlearn: 0.0115409\ttotal: 8.01s\tremaining: 0us\n",
            "0:\tlearn: 1.7174454\ttotal: 5.9ms\tremaining: 18.9s\n",
            "1000:\tlearn: 0.0415211\ttotal: 5.64s\tremaining: 12.4s\n",
            "2000:\tlearn: 0.0176430\ttotal: 13.2s\tremaining: 7.94s\n",
            "3000:\tlearn: 0.0096410\ttotal: 18.9s\tremaining: 1.26s\n",
            "3201:\tlearn: 0.0086518\ttotal: 20s\tremaining: 0us\n",
            "0:\tlearn: 1.6686319\ttotal: 4.04ms\tremaining: 12.2s\n",
            "1000:\tlearn: 0.0325143\ttotal: 5.59s\tremaining: 11.2s\n",
            "2000:\tlearn: 0.0124156\ttotal: 9.38s\tremaining: 4.75s\n",
            "3000:\tlearn: 0.0062070\ttotal: 13.1s\tremaining: 52.5ms\n",
            "3012:\tlearn: 0.0061618\ttotal: 13.2s\tremaining: 0us\n",
            "0:\tlearn: 1.7144410\ttotal: 5.8ms\tremaining: 8.06s\n",
            "1000:\tlearn: 0.0294320\ttotal: 7.58s\tremaining: 2.94s\n",
            "1389:\tlearn: 0.0177175\ttotal: 9.79s\tremaining: 0us\n",
            "0:\tlearn: 1.5910495\ttotal: 9.34ms\tremaining: 12.7s\n",
            "1000:\tlearn: 0.0057033\ttotal: 11.3s\tremaining: 4.02s\n",
            "1357:\tlearn: 0.0034841\ttotal: 14.6s\tremaining: 0us\n",
            "0:\tlearn: 1.6366036\ttotal: 4ms\tremaining: 11.1s\n",
            "1000:\tlearn: 0.0177010\ttotal: 3.75s\tremaining: 6.66s\n",
            "2000:\tlearn: 0.0049131\ttotal: 9.46s\tremaining: 3.67s\n",
            "2776:\tlearn: 0.0024237\ttotal: 12.4s\tremaining: 0us\n",
            "0:\tlearn: 1.6903096\ttotal: 5.84ms\tremaining: 4.65s\n",
            "797:\tlearn: 0.0384129\ttotal: 4.56s\tremaining: 0us\n",
            "0:\tlearn: 1.6271641\ttotal: 12.9ms\tremaining: 51.6s\n",
            "1000:\tlearn: 0.0038604\ttotal: 20.4s\tremaining: 1m 1s\n",
            "2000:\tlearn: 0.0012434\ttotal: 38.8s\tremaining: 38.8s\n",
            "3000:\tlearn: 0.0006834\ttotal: 59.1s\tremaining: 19.7s\n",
            "3999:\tlearn: 0.0004596\ttotal: 1m 17s\tremaining: 0us\n",
            "0:\tlearn: 1.6331282\ttotal: 5.79ms\tremaining: 17.5s\n",
            "1000:\tlearn: 0.0155155\ttotal: 7.68s\tremaining: 15.5s\n",
            "2000:\tlearn: 0.0051816\ttotal: 13.4s\tremaining: 6.8s\n",
            "3000:\tlearn: 0.0027103\ttotal: 21.1s\tremaining: 106ms\n",
            "3015:\tlearn: 0.0026868\ttotal: 21.2s\tremaining: 0us\n",
            "0:\tlearn: 1.7281797\ttotal: 12.9ms\tremaining: 25s\n",
            "1000:\tlearn: 0.0158279\ttotal: 18.7s\tremaining: 17.5s\n",
            "1937:\tlearn: 0.0046767\ttotal: 36.4s\tremaining: 0us\n",
            "0:\tlearn: 1.5987801\ttotal: 17.8ms\tremaining: 36.6s\n",
            "1000:\tlearn: 0.0051552\ttotal: 10.9s\tremaining: 11.5s\n",
            "2000:\tlearn: 0.0016406\ttotal: 22.1s\tremaining: 564ms\n",
            "2051:\tlearn: 0.0015743\ttotal: 22.6s\tremaining: 0us\n",
            "0:\tlearn: 1.6902548\ttotal: 12.7ms\tremaining: 8.41s\n",
            "660:\tlearn: 0.0106354\ttotal: 12.9s\tremaining: 0us\n",
            "0:\tlearn: 1.6036115\ttotal: 5.14ms\tremaining: 9.81s\n",
            "1000:\tlearn: 0.0223883\ttotal: 3.71s\tremaining: 3.37s\n",
            "1908:\tlearn: 0.0088388\ttotal: 9.11s\tremaining: 0us\n",
            "0:\tlearn: 1.6132792\ttotal: 12.7ms\tremaining: 8.85s\n",
            "697:\tlearn: 0.0076102\ttotal: 13.5s\tremaining: 0us\n",
            "0:\tlearn: 1.6448497\ttotal: 3.95ms\tremaining: 11.5s\n",
            "1000:\tlearn: 0.0189723\ttotal: 3.75s\tremaining: 7.16s\n",
            "2000:\tlearn: 0.0051390\ttotal: 7.5s\tremaining: 3.41s\n",
            "2910:\tlearn: 0.0022577\ttotal: 12.9s\tremaining: 0us\n",
            "0:\tlearn: 1.6068182\ttotal: 5.87ms\tremaining: 2.06s\n",
            "351:\tlearn: 0.0477196\ttotal: 1.98s\tremaining: 0us\n",
            "0:\tlearn: 1.7212763\ttotal: 3.86ms\tremaining: 383ms\n",
            "99:\tlearn: 0.4160416\ttotal: 373ms\tremaining: 0us\n",
            "0:\tlearn: 1.7149264\ttotal: 9.21ms\tremaining: 26.5s\n",
            "1000:\tlearn: 0.0151676\ttotal: 11.2s\tremaining: 20.9s\n",
            "2000:\tlearn: 0.0037102\ttotal: 22.3s\tremaining: 9.74s\n",
            "2875:\tlearn: 0.0017234\ttotal: 30.6s\tremaining: 0us\n",
            "0:\tlearn: 1.5957249\ttotal: 9.56ms\tremaining: 14.1s\n",
            "1000:\tlearn: 0.0048714\ttotal: 11.3s\tremaining: 5.41s\n",
            "1480:\tlearn: 0.0024574\ttotal: 16.5s\tremaining: 0us\n",
            "0:\tlearn: 1.6820058\ttotal: 15.1ms\tremaining: 22.7s\n",
            "1000:\tlearn: 0.0251313\ttotal: 6.75s\tremaining: 3.41s\n",
            "1506:\tlearn: 0.0142964\ttotal: 9.65s\tremaining: 0us\n",
            "0:\tlearn: 1.6784832\ttotal: 9.37ms\tremaining: 19.4s\n",
            "1000:\tlearn: 0.0125929\ttotal: 11.2s\tremaining: 12s\n",
            "2000:\tlearn: 0.0038156\ttotal: 22.5s\tremaining: 830ms\n",
            "2074:\tlearn: 0.0035812\ttotal: 23.2s\tremaining: 0us\n",
            "0:\tlearn: 1.7496205\ttotal: 12.8ms\tremaining: 34.8s\n",
            "1000:\tlearn: 0.0319989\ttotal: 18.8s\tremaining: 32.3s\n",
            "2000:\tlearn: 0.0108523\ttotal: 39.2s\tremaining: 14.2s\n",
            "2723:\tlearn: 0.0063293\ttotal: 53.2s\tremaining: 0us\n",
            "0:\tlearn: 1.6677771\ttotal: 6.28ms\tremaining: 21s\n",
            "1000:\tlearn: 0.0273791\ttotal: 5.71s\tremaining: 13.4s\n",
            "2000:\tlearn: 0.0109629\ttotal: 13.4s\tremaining: 9.06s\n",
            "3000:\tlearn: 0.0061384\ttotal: 19.2s\tremaining: 2.25s\n",
            "3352:\tlearn: 0.0051941\ttotal: 23.1s\tremaining: 0us\n",
            "0:\tlearn: 1.6120751\ttotal: 9.75ms\tremaining: 32.4s\n",
            "1000:\tlearn: 0.0035713\ttotal: 9.49s\tremaining: 22s\n",
            "2000:\tlearn: 0.0009715\ttotal: 20.7s\tremaining: 13.7s\n",
            "3000:\tlearn: 0.0004924\ttotal: 32s\tremaining: 3.42s\n",
            "3321:\tlearn: 0.0004205\ttotal: 34.9s\tremaining: 0us\n",
            "0:\tlearn: 1.6289232\ttotal: 5.88ms\tremaining: 19.5s\n",
            "1000:\tlearn: 0.0131145\ttotal: 7.65s\tremaining: 17.6s\n",
            "2000:\tlearn: 0.0041709\ttotal: 13.3s\tremaining: 8.71s\n",
            "3000:\tlearn: 0.0021348\ttotal: 21s\tremaining: 2.15s\n",
            "3308:\tlearn: 0.0018188\ttotal: 22.7s\tremaining: 0us\n",
            "0:\tlearn: 1.6769929\ttotal: 9.16ms\tremaining: 3.12s\n",
            "340:\tlearn: 0.0541958\ttotal: 3.19s\tremaining: 0us\n",
            "0:\tlearn: 1.6718201\ttotal: 3.87ms\tremaining: 5.36s\n",
            "1000:\tlearn: 0.0330898\ttotal: 5.67s\tremaining: 2.19s\n",
            "1386:\tlearn: 0.0219465\ttotal: 7.12s\tremaining: 0us\n",
            "0:\tlearn: 1.6125512\ttotal: 5.8ms\tremaining: 574ms\n",
            "99:\tlearn: 0.1529403\ttotal: 566ms\tremaining: 0us\n",
            "0:\tlearn: 1.6405902\ttotal: 11.4ms\tremaining: 26s\n",
            "1000:\tlearn: 0.0074336\ttotal: 11s\tremaining: 14.1s\n",
            "2000:\tlearn: 0.0022153\ttotal: 20.2s\tremaining: 2.83s\n",
            "2280:\tlearn: 0.0017996\ttotal: 24.7s\tremaining: 0us\n",
            "0:\tlearn: 1.7176161\ttotal: 6.25ms\tremaining: 619ms\n"
          ]
        },
        {
          "name": "stderr",
          "output_type": "stream",
          "text": [
            "2023-11-08 11:50:14,177 - mealpy.swarm_based.ABC.OriginalABC - INFO - >>>Problem: P, Epoch: 1, Current best: -0.9674457429048414, Global best: -0.9674457429048414, Runtime: 643.08762 seconds\n"
          ]
        },
        {
          "name": "stdout",
          "output_type": "stream",
          "text": [
            "99:\tlearn: 0.3283538\ttotal: 585ms\tremaining: 0us\n",
            "0:\tlearn: 1.5888200\ttotal: 9.17ms\tremaining: 36.7s\n",
            "1000:\tlearn: 0.0017167\ttotal: 9.87s\tremaining: 29.6s\n",
            "2000:\tlearn: 0.0004263\ttotal: 20.3s\tremaining: 20.3s\n",
            "3000:\tlearn: 0.0002154\ttotal: 31.4s\tremaining: 10.4s\n",
            "3999:\tlearn: 0.0001383\ttotal: 42.3s\tremaining: 0us\n",
            "0:\tlearn: 1.5903066\ttotal: 5.79ms\tremaining: 574ms\n",
            "99:\tlearn: 0.1365900\ttotal: 557ms\tremaining: 0us\n",
            "0:\tlearn: 1.6127995\ttotal: 5.79ms\tremaining: 12.3s\n",
            "1000:\tlearn: 0.0161831\ttotal: 5.6s\tremaining: 6.31s\n",
            "2000:\tlearn: 0.0057918\ttotal: 13.2s\tremaining: 842ms\n",
            "2128:\tlearn: 0.0052752\ttotal: 13.9s\tremaining: 0us\n",
            "0:\tlearn: 1.6856752\ttotal: 5.85ms\tremaining: 23.4s\n",
            "1000:\tlearn: 0.0204470\ttotal: 6.24s\tremaining: 18.7s\n",
            "2000:\tlearn: 0.0062311\ttotal: 13.2s\tremaining: 13.1s\n",
            "3000:\tlearn: 0.0030000\ttotal: 19.3s\tremaining: 6.42s\n",
            "3999:\tlearn: 0.0017598\ttotal: 26.4s\tremaining: 0us\n",
            "0:\tlearn: 1.5933559\ttotal: 4.06ms\tremaining: 4.59s\n",
            "1000:\tlearn: 0.0208711\ttotal: 3.73s\tremaining: 489ms\n",
            "1131:\tlearn: 0.0176812\ttotal: 4.22s\tremaining: 0us\n",
            "0:\tlearn: 1.7149225\ttotal: 3.85ms\tremaining: 6.07s\n",
            "1000:\tlearn: 0.0584767\ttotal: 5.75s\tremaining: 3.31s\n",
            "1576:\tlearn: 0.0371289\ttotal: 7.9s\tremaining: 0us\n",
            "0:\tlearn: 1.5902637\ttotal: 12.9ms\tremaining: 1.28s\n",
            "99:\tlearn: 0.0773513\ttotal: 1.69s\tremaining: 0us\n",
            "0:\tlearn: 1.6072876\ttotal: 3.84ms\tremaining: 380ms\n",
            "99:\tlearn: 0.1978069\ttotal: 379ms\tremaining: 0us\n",
            "0:\tlearn: 1.6742071\ttotal: 9.3ms\tremaining: 17.7s\n",
            "1000:\tlearn: 0.0084525\ttotal: 11.2s\tremaining: 10.2s\n",
            "1908:\tlearn: 0.0024762\ttotal: 21.7s\tremaining: 0us\n",
            "0:\tlearn: 1.7412982\ttotal: 5.78ms\tremaining: 572ms\n",
            "99:\tlearn: 0.4413367\ttotal: 583ms\tremaining: 0us\n",
            "0:\tlearn: 1.5907069\ttotal: 5.91ms\tremaining: 7.32s\n",
            "1000:\tlearn: 0.0090787\ttotal: 5.7s\tremaining: 1.36s\n",
            "1239:\tlearn: 0.0063954\ttotal: 7.06s\tremaining: 0us\n",
            "0:\tlearn: 1.7737227\ttotal: 4.01ms\tremaining: 16s\n",
            "1000:\tlearn: 0.2134687\ttotal: 5.69s\tremaining: 17s\n",
            "2000:\tlearn: 0.1224481\ttotal: 9.37s\tremaining: 9.36s\n",
            "3000:\tlearn: 0.0891383\ttotal: 13.1s\tremaining: 4.36s\n",
            "3999:\tlearn: 0.0708060\ttotal: 18.8s\tremaining: 0us\n",
            "0:\tlearn: 1.6500270\ttotal: 3.97ms\tremaining: 8.54s\n",
            "1000:\tlearn: 0.0222207\ttotal: 3.73s\tremaining: 4.28s\n",
            "2000:\tlearn: 0.0067493\ttotal: 7.47s\tremaining: 557ms\n",
            "2149:\tlearn: 0.0058961\ttotal: 8.04s\tremaining: 0us\n",
            "0:\tlearn: 1.7158490\ttotal: 9.43ms\tremaining: 19.1s\n",
            "1000:\tlearn: 0.0152430\ttotal: 11.2s\tremaining: 11.4s\n",
            "2000:\tlearn: 0.0036095\ttotal: 22.5s\tremaining: 236ms\n",
            "2021:\tlearn: 0.0035238\ttotal: 22.7s\tremaining: 0us\n",
            "0:\tlearn: 1.5943509\ttotal: 12.7ms\tremaining: 22.7s\n",
            "1000:\tlearn: 0.0036477\ttotal: 18.7s\tremaining: 14.6s\n",
            "1782:\tlearn: 0.0015091\ttotal: 35.2s\tremaining: 0us\n",
            "0:\tlearn: 1.6166243\ttotal: 4.04ms\tremaining: 13.4s\n",
            "1000:\tlearn: 0.0213377\ttotal: 3.76s\tremaining: 8.67s\n",
            "2000:\tlearn: 0.0073236\ttotal: 7.52s\tremaining: 4.92s\n",
            "3000:\tlearn: 0.0035913\ttotal: 13.2s\tremaining: 1.36s\n",
            "3309:\tlearn: 0.0030163\ttotal: 14.4s\tremaining: 0us\n",
            "0:\tlearn: 1.6895836\ttotal: 5.95ms\tremaining: 10.1s\n",
            "1000:\tlearn: 0.0269116\ttotal: 5.66s\tremaining: 3.92s\n",
            "1693:\tlearn: 0.0128721\ttotal: 11.1s\tremaining: 0us\n",
            "0:\tlearn: 1.7731832\ttotal: 14.2ms\tremaining: 41.4s\n",
            "1000:\tlearn: 0.1152096\ttotal: 9.84s\tremaining: 18.8s\n",
            "2000:\tlearn: 0.0539850\ttotal: 21.1s\tremaining: 9.59s\n",
            "2911:\tlearn: 0.0340049\ttotal: 31.4s\tremaining: 0us\n",
            "0:\tlearn: 1.6188396\ttotal: 5.99ms\tremaining: 16.2s\n",
            "1000:\tlearn: 0.0122658\ttotal: 5.65s\tremaining: 9.65s\n",
            "2000:\tlearn: 0.0039721\ttotal: 13.2s\tremaining: 4.69s\n",
            "2711:\tlearn: 0.0024003\ttotal: 17.2s\tremaining: 0us\n",
            "0:\tlearn: 1.6001904\ttotal: 10.9ms\tremaining: 21.2s\n",
            "1000:\tlearn: 0.0051243\ttotal: 11.3s\tremaining: 10.5s\n",
            "1935:\tlearn: 0.0016379\ttotal: 21.8s\tremaining: 0us\n",
            "0:\tlearn: 1.5926124\ttotal: 9.29ms\tremaining: 23.8s\n",
            "1000:\tlearn: 0.0085247\ttotal: 11.2s\tremaining: 17.5s\n",
            "2000:\tlearn: 0.0028904\ttotal: 20.5s\tremaining: 5.77s\n",
            "2563:\tlearn: 0.0020140\ttotal: 27.6s\tremaining: 0us\n",
            "0:\tlearn: 1.7107343\ttotal: 6.09ms\tremaining: 6.59s\n",
            "1000:\tlearn: 0.0333406\ttotal: 5.65s\tremaining: 463ms\n",
            "1082:\tlearn: 0.0303238\ttotal: 6.1s\tremaining: 0us\n",
            "0:\tlearn: 1.5917863\ttotal: 5.84ms\tremaining: 17.7s\n",
            "1000:\tlearn: 0.0117403\ttotal: 7.62s\tremaining: 15.5s\n",
            "2000:\tlearn: 0.0039405\ttotal: 13.2s\tremaining: 6.83s\n",
            "3000:\tlearn: 0.0020916\ttotal: 20.8s\tremaining: 222ms\n",
            "3032:\tlearn: 0.0020565\ttotal: 21s\tremaining: 0us\n",
            "0:\tlearn: 1.6846708\ttotal: 12.7ms\tremaining: 30.9s\n",
            "1000:\tlearn: 0.0051402\ttotal: 18.6s\tremaining: 26.5s\n",
            "2000:\tlearn: 0.0013735\ttotal: 38.9s\tremaining: 8.27s\n",
            "2425:\tlearn: 0.0009710\ttotal: 46s\tremaining: 0us\n",
            "0:\tlearn: 1.6267028\ttotal: 4.73ms\tremaining: 13.1s\n",
            "1000:\tlearn: 0.0258562\ttotal: 5.72s\tremaining: 10.1s\n",
            "2000:\tlearn: 0.0096626\ttotal: 9.46s\tremaining: 3.6s\n",
            "2763:\tlearn: 0.0056896\ttotal: 12.3s\tremaining: 0us\n",
            "0:\tlearn: 1.6835337\ttotal: 5.88ms\tremaining: 15.4s\n",
            "1000:\tlearn: 0.0277299\ttotal: 7.58s\tremaining: 12.3s\n",
            "2000:\tlearn: 0.0107340\ttotal: 13.2s\tremaining: 4.11s\n",
            "2623:\tlearn: 0.0070319\ttotal: 18.7s\tremaining: 0us\n",
            "0:\tlearn: 1.5933675\ttotal: 5.83ms\tremaining: 18.4s\n",
            "1000:\tlearn: 0.0042011\ttotal: 5.65s\tremaining: 12.2s\n",
            "2000:\tlearn: 0.0009267\ttotal: 13.2s\tremaining: 7.63s\n",
            "3000:\tlearn: 0.0004102\ttotal: 18.8s\tremaining: 960ms\n",
            "3153:\tlearn: 0.0003724\ttotal: 19.7s\tremaining: 0us\n",
            "0:\tlearn: 1.6693893\ttotal: 5.75ms\tremaining: 13s\n",
            "1000:\tlearn: 0.0195472\ttotal: 7.56s\tremaining: 9.56s\n",
            "2000:\tlearn: 0.0063049\ttotal: 13.3s\tremaining: 1.76s\n",
            "2266:\tlearn: 0.0051861\ttotal: 14.8s\tremaining: 0us\n",
            "0:\tlearn: 1.6084228\ttotal: 9.53ms\tremaining: 4.63s\n",
            "486:\tlearn: 0.0206492\ttotal: 6.4s\tremaining: 0us\n",
            "0:\tlearn: 1.7623294\ttotal: 8.58ms\tremaining: 18.4s\n",
            "1000:\tlearn: 0.0973036\ttotal: 5.65s\tremaining: 6.47s\n",
            "2000:\tlearn: 0.0486066\ttotal: 13.2s\tremaining: 965ms\n",
            "2146:\tlearn: 0.0449038\ttotal: 14.1s\tremaining: 0us\n",
            "0:\tlearn: 1.6373795\ttotal: 3.92ms\tremaining: 13.1s\n",
            "1000:\tlearn: 0.0208615\ttotal: 3.76s\tremaining: 8.78s\n",
            "2000:\tlearn: 0.0064911\ttotal: 8.67s\tremaining: 5.79s\n",
            "3000:\tlearn: 0.0028905\ttotal: 13.3s\tremaining: 1.5s\n",
            "3338:\tlearn: 0.0023287\ttotal: 14.5s\tremaining: 0us\n",
            "0:\tlearn: 1.6267933\ttotal: 5.93ms\tremaining: 7.92s\n",
            "1000:\tlearn: 0.0111381\ttotal: 5.93s\tremaining: 1.98s\n",
            "1334:\tlearn: 0.0069074\ttotal: 9.5s\tremaining: 0us\n",
            "0:\tlearn: 1.5963491\ttotal: 5.91ms\tremaining: 21.2s\n",
            "1000:\tlearn: 0.0109529\ttotal: 5.7s\tremaining: 14.7s\n",
            "2000:\tlearn: 0.0034524\ttotal: 13.3s\tremaining: 10.6s\n",
            "3000:\tlearn: 0.0018200\ttotal: 19s\tremaining: 3.72s\n",
            "3587:\tlearn: 0.0013795\ttotal: 22.3s\tremaining: 0us\n",
            "0:\tlearn: 1.6916178\ttotal: 5.77ms\tremaining: 14.1s\n",
            "1000:\tlearn: 0.0280801\ttotal: 7.61s\tremaining: 10.9s\n",
            "2000:\tlearn: 0.0101884\ttotal: 13.3s\tremaining: 2.93s\n",
            "2440:\tlearn: 0.0074617\ttotal: 17.8s\tremaining: 0us\n",
            "0:\tlearn: 1.7286104\ttotal: 15.3ms\tremaining: 24.2s\n",
            "1000:\tlearn: 0.0225380\ttotal: 9.93s\tremaining: 5.73s\n",
            "1578:\tlearn: 0.0097940\ttotal: 16.7s\tremaining: 0us\n",
            "0:\tlearn: 1.6223201\ttotal: 12.1ms\tremaining: 39.1s\n",
            "1000:\tlearn: 0.0063387\ttotal: 11.1s\tremaining: 24.7s\n",
            "2000:\tlearn: 0.0019592\ttotal: 21.7s\tremaining: 13.3s\n",
            "3000:\tlearn: 0.0010520\ttotal: 31.4s\tremaining: 2.36s\n",
            "3226:\tlearn: 0.0009435\ttotal: 34.5s\tremaining: 0us\n",
            "0:\tlearn: 1.6430180\ttotal: 13.3ms\tremaining: 44.1s\n",
            "1000:\tlearn: 0.0172227\ttotal: 6.41s\tremaining: 14.9s\n",
            "2000:\tlearn: 0.0059015\ttotal: 13.4s\tremaining: 8.86s\n",
            "3000:\tlearn: 0.0030952\ttotal: 19.8s\tremaining: 2.13s\n",
            "3323:\tlearn: 0.0026157\ttotal: 21.7s\tremaining: 0us\n",
            "0:\tlearn: 1.6396042\ttotal: 5.86ms\tremaining: 18.3s\n",
            "1000:\tlearn: 0.0124440\ttotal: 7.68s\tremaining: 16.3s\n",
            "2000:\tlearn: 0.0036911\ttotal: 13.4s\tremaining: 7.49s\n",
            "3000:\tlearn: 0.0018282\ttotal: 21s\tremaining: 831ms\n",
            "3119:\tlearn: 0.0017053\ttotal: 21.6s\tremaining: 0us\n",
            "0:\tlearn: 1.6556252\ttotal: 4.02ms\tremaining: 2.74s\n",
            "682:\tlearn: 0.0449967\ttotal: 2.54s\tremaining: 0us\n",
            "0:\tlearn: 1.5902180\ttotal: 9.59ms\tremaining: 950ms\n"
          ]
        },
        {
          "name": "stderr",
          "output_type": "stream",
          "text": [
            "2023-11-08 12:01:20,488 - mealpy.swarm_based.ABC.OriginalABC - INFO - >>>Problem: P, Epoch: 2, Current best: -0.9674457429048414, Global best: -0.9674457429048414, Runtime: 666.30920 seconds\n"
          ]
        },
        {
          "name": "stdout",
          "output_type": "stream",
          "text": [
            "99:\tlearn: 0.1056601\ttotal: 947ms\tremaining: 0us\n",
            "0:\tlearn: 1.6049481\ttotal: 12.8ms\tremaining: 51.1s\n",
            "1000:\tlearn: 0.0011190\ttotal: 19.1s\tremaining: 57.2s\n",
            "2000:\tlearn: 0.0003012\ttotal: 38.4s\tremaining: 38.3s\n",
            "3000:\tlearn: 0.0001573\ttotal: 56.6s\tremaining: 18.8s\n",
            "3999:\tlearn: 0.0001051\ttotal: 1m 16s\tremaining: 0us\n",
            "0:\tlearn: 1.6082421\ttotal: 5.87ms\tremaining: 15.2s\n",
            "1000:\tlearn: 0.0100475\ttotal: 5.6s\tremaining: 8.88s\n",
            "2000:\tlearn: 0.0030673\ttotal: 13.3s\tremaining: 3.91s\n",
            "2587:\tlearn: 0.0020176\ttotal: 16.7s\tremaining: 0us\n",
            "0:\tlearn: 1.6321017\ttotal: 10ms\tremaining: 30.5s\n",
            "1000:\tlearn: 0.0092341\ttotal: 11.1s\tremaining: 22.6s\n",
            "2000:\tlearn: 0.0030850\ttotal: 22.1s\tremaining: 11.6s\n",
            "3000:\tlearn: 0.0016883\ttotal: 31.3s\tremaining: 522ms\n",
            "3050:\tlearn: 0.0016492\ttotal: 31.8s\tremaining: 0us\n",
            "0:\tlearn: 1.6262668\ttotal: 14.5ms\tremaining: 43s\n",
            "1000:\tlearn: 0.0079075\ttotal: 11.1s\tremaining: 21.8s\n",
            "2000:\tlearn: 0.0025502\ttotal: 22.2s\tremaining: 10.7s\n",
            "2966:\tlearn: 0.0014132\ttotal: 33.1s\tremaining: 0us\n",
            "0:\tlearn: 1.5919166\ttotal: 9.58ms\tremaining: 21.5s\n",
            "1000:\tlearn: 0.0071300\ttotal: 11.1s\tremaining: 13.8s\n",
            "2000:\tlearn: 0.0023632\ttotal: 20.7s\tremaining: 2.52s\n",
            "2243:\tlearn: 0.0019848\ttotal: 24.7s\tremaining: 0us\n",
            "0:\tlearn: 1.7086384\ttotal: 3.93ms\tremaining: 6.48s\n",
            "1000:\tlearn: 0.0583546\ttotal: 3.79s\tremaining: 2.46s\n",
            "1648:\tlearn: 0.0363776\ttotal: 6.22s\tremaining: 0us\n",
            "0:\tlearn: 1.5908904\ttotal: 12.8ms\tremaining: 1.27s\n",
            "99:\tlearn: 0.0804885\ttotal: 1.78s\tremaining: 0us\n",
            "0:\tlearn: 1.7014978\ttotal: 4.14ms\tremaining: 410ms\n",
            "99:\tlearn: 0.3505344\ttotal: 429ms\tremaining: 0us\n",
            "0:\tlearn: 1.6902321\ttotal: 6.64ms\tremaining: 14.4s\n",
            "1000:\tlearn: 0.0271453\ttotal: 8.19s\tremaining: 9.49s\n",
            "2000:\tlearn: 0.0099938\ttotal: 15.2s\tremaining: 1.21s\n",
            "2160:\tlearn: 0.0088660\ttotal: 17.4s\tremaining: 0us\n",
            "0:\tlearn: 1.7267285\ttotal: 11.4ms\tremaining: 1.13s\n",
            "99:\tlearn: 0.4387700\ttotal: 440ms\tremaining: 0us\n",
            "0:\tlearn: 1.6924258\ttotal: 6.06ms\tremaining: 15.9s\n",
            "1000:\tlearn: 0.0285667\ttotal: 6.08s\tremaining: 9.85s\n",
            "2000:\tlearn: 0.0104814\ttotal: 14s\tremaining: 4.34s\n",
            "2621:\tlearn: 0.0067565\ttotal: 17.6s\tremaining: 0us\n",
            "0:\tlearn: 1.7896485\ttotal: 6.37ms\tremaining: 22.6s\n",
            "1000:\tlearn: 0.8163466\ttotal: 7.25s\tremaining: 18.4s\n",
            "2000:\tlearn: 0.5132877\ttotal: 13.9s\tremaining: 10.7s\n",
            "3000:\tlearn: 0.3781422\ttotal: 21.6s\tremaining: 3.89s\n",
            "3540:\tlearn: 0.3323227\ttotal: 25.1s\tremaining: 0us\n",
            "0:\tlearn: 1.6593733\ttotal: 4.2ms\tremaining: 8.04s\n",
            "1000:\tlearn: 0.0267901\ttotal: 4.03s\tremaining: 3.67s\n",
            "1912:\tlearn: 0.0097695\ttotal: 8.9s\tremaining: 0us\n",
            "0:\tlearn: 1.7568033\ttotal: 19.6ms\tremaining: 50.6s\n",
            "1000:\tlearn: 0.0617523\ttotal: 10.2s\tremaining: 16.1s\n",
            "2000:\tlearn: 0.0282378\ttotal: 21.7s\tremaining: 6.25s\n",
            "2577:\tlearn: 0.0200088\ttotal: 29s\tremaining: 0us\n",
            "0:\tlearn: 1.7081567\ttotal: 14.3ms\tremaining: 28.7s\n",
            "1000:\tlearn: 0.0183722\ttotal: 18.8s\tremaining: 19.1s\n",
            "2000:\tlearn: 0.0064951\ttotal: 39.6s\tremaining: 257ms\n",
            "2013:\tlearn: 0.0064342\ttotal: 39.8s\tremaining: 0us\n",
            "0:\tlearn: 1.6826279\ttotal: 5.85ms\tremaining: 23.2s\n",
            "1000:\tlearn: 0.0241910\ttotal: 5.79s\tremaining: 17.1s\n",
            "2000:\tlearn: 0.0084168\ttotal: 13.5s\tremaining: 13.2s\n",
            "3000:\tlearn: 0.0043888\ttotal: 19.2s\tremaining: 6.14s\n",
            "3960:\tlearn: 0.0027565\ttotal: 26.8s\tremaining: 0us\n",
            "0:\tlearn: 1.7264875\ttotal: 5.94ms\tremaining: 13.8s\n",
            "1000:\tlearn: 0.0460538\ttotal: 5.76s\tremaining: 7.66s\n",
            "2000:\tlearn: 0.0197151\ttotal: 13.6s\tremaining: 2.24s\n",
            "2331:\tlearn: 0.0158399\ttotal: 15.5s\tremaining: 0us\n",
            "0:\tlearn: 1.6980860\ttotal: 9.46ms\tremaining: 37.8s\n",
            "1000:\tlearn: 0.0127694\ttotal: 11.5s\tremaining: 34.5s\n",
            "2000:\tlearn: 0.0033589\ttotal: 22.1s\tremaining: 22.1s\n",
            "3000:\tlearn: 0.0015301\ttotal: 32.4s\tremaining: 10.8s\n",
            "3999:\tlearn: 0.0009001\ttotal: 43.8s\tremaining: 0us\n",
            "0:\tlearn: 1.6266668\ttotal: 5.72ms\tremaining: 15.9s\n",
            "1000:\tlearn: 0.0131631\ttotal: 7.74s\tremaining: 13.8s\n",
            "2000:\tlearn: 0.0042545\ttotal: 13.7s\tremaining: 5.36s\n",
            "2783:\tlearn: 0.0024941\ttotal: 20.3s\tremaining: 0us\n",
            "0:\tlearn: 1.6506543\ttotal: 6.18ms\tremaining: 994ms\n",
            "161:\tlearn: 0.1231041\ttotal: 973ms\tremaining: 0us\n",
            "0:\tlearn: 1.6141026\ttotal: 13ms\tremaining: 45.6s\n",
            "1000:\tlearn: 0.0012172\ttotal: 19s\tremaining: 47.6s\n",
            "2000:\tlearn: 0.0003295\ttotal: 39.4s\tremaining: 29.6s\n",
            "3000:\tlearn: 0.0001706\ttotal: 58s\tremaining: 9.73s\n",
            "3504:\tlearn: 0.0001357\ttotal: 1m 8s\tremaining: 0us\n",
            "0:\tlearn: 1.6360764\ttotal: 5.8ms\tremaining: 13.8s\n",
            "1000:\tlearn: 0.0145261\ttotal: 5.69s\tremaining: 7.82s\n",
            "2000:\tlearn: 0.0048206\ttotal: 13.4s\tremaining: 2.5s\n",
            "2375:\tlearn: 0.0036036\ttotal: 15.5s\tremaining: 0us\n",
            "0:\tlearn: 1.7370320\ttotal: 13ms\tremaining: 29.6s\n",
            "1000:\tlearn: 0.0256845\ttotal: 18.9s\tremaining: 24s\n",
            "2000:\tlearn: 0.0092316\ttotal: 39.1s\tremaining: 5.39s\n",
            "2276:\tlearn: 0.0074673\ttotal: 43.7s\tremaining: 0us\n",
            "0:\tlearn: 1.7226362\ttotal: 9.73ms\tremaining: 30.9s\n",
            "1000:\tlearn: 0.0232858\ttotal: 11.4s\tremaining: 24.7s\n",
            "2000:\tlearn: 0.0073626\ttotal: 22.6s\tremaining: 13.3s\n",
            "3000:\tlearn: 0.0035599\ttotal: 33.9s\tremaining: 1.95s\n",
            "3173:\tlearn: 0.0032101\ttotal: 35.5s\tremaining: 0us\n",
            "0:\tlearn: 1.6375228\ttotal: 9.59ms\tremaining: 38.4s\n",
            "1000:\tlearn: 0.0059909\ttotal: 11.3s\tremaining: 33.9s\n",
            "2000:\tlearn: 0.0016944\ttotal: 21.9s\tremaining: 21.9s\n",
            "3000:\tlearn: 0.0008786\ttotal: 31.9s\tremaining: 10.6s\n",
            "3999:\tlearn: 0.0005593\ttotal: 43s\tremaining: 0us\n",
            "0:\tlearn: 1.6676145\ttotal: 5.94ms\tremaining: 7.38s\n",
            "1000:\tlearn: 0.0190384\ttotal: 7.67s\tremaining: 1.86s\n",
            "1243:\tlearn: 0.0138965\ttotal: 9.05s\tremaining: 0us\n",
            "0:\tlearn: 1.6104559\ttotal: 9.4ms\tremaining: 4.19s\n",
            "446:\tlearn: 0.0205125\ttotal: 4.17s\tremaining: 0us\n",
            "0:\tlearn: 1.6103581\ttotal: 9.58ms\tremaining: 4.56s\n",
            "476:\tlearn: 0.0191416\ttotal: 5.84s\tremaining: 0us\n",
            "0:\tlearn: 1.6132616\ttotal: 19.4ms\tremaining: 1m 17s\n",
            "1000:\tlearn: 0.0031907\ttotal: 9.95s\tremaining: 29.8s\n",
            "2000:\tlearn: 0.0008315\ttotal: 21.2s\tremaining: 21.2s\n",
            "3000:\tlearn: 0.0004226\ttotal: 32.4s\tremaining: 10.8s\n",
            "3999:\tlearn: 0.0002668\ttotal: 43.6s\tremaining: 0us\n",
            "0:\tlearn: 1.5909364\ttotal: 13.5ms\tremaining: 29s\n",
            "1000:\tlearn: 0.0033560\ttotal: 18.6s\tremaining: 21.1s\n",
            "2000:\tlearn: 0.0011296\ttotal: 39s\tremaining: 2.71s\n",
            "2139:\tlearn: 0.0010192\ttotal: 41.3s\tremaining: 0us\n",
            "0:\tlearn: 1.6952143\ttotal: 6.28ms\tremaining: 25.1s\n",
            "1000:\tlearn: 0.0232434\ttotal: 5.64s\tremaining: 16.9s\n",
            "2000:\tlearn: 0.0072888\ttotal: 13.3s\tremaining: 13.3s\n",
            "3000:\tlearn: 0.0034295\ttotal: 18.9s\tremaining: 6.3s\n",
            "3999:\tlearn: 0.0020175\ttotal: 26.5s\tremaining: 0us\n",
            "0:\tlearn: 1.6689269\ttotal: 3.89ms\tremaining: 13.7s\n",
            "1000:\tlearn: 0.0307759\ttotal: 3.71s\tremaining: 9.35s\n",
            "2000:\tlearn: 0.0108714\ttotal: 9.13s\tremaining: 6.95s\n",
            "3000:\tlearn: 0.0052489\ttotal: 13.1s\tremaining: 2.29s\n",
            "3523:\tlearn: 0.0038843\ttotal: 15.1s\tremaining: 0us\n",
            "0:\tlearn: 1.6946481\ttotal: 3.98ms\tremaining: 15.9s\n",
            "1000:\tlearn: 0.0427598\ttotal: 3.68s\tremaining: 11s\n",
            "2000:\tlearn: 0.0178044\ttotal: 9.41s\tremaining: 9.4s\n",
            "3000:\tlearn: 0.0093724\ttotal: 13.2s\tremaining: 4.4s\n",
            "3999:\tlearn: 0.0055915\ttotal: 16.9s\tremaining: 0us\n",
            "0:\tlearn: 1.6890295\ttotal: 3.94ms\tremaining: 8.6s\n",
            "1000:\tlearn: 0.0439264\ttotal: 5.68s\tremaining: 6.69s\n",
            "2000:\tlearn: 0.0195711\ttotal: 9.4s\tremaining: 846ms\n",
            "2180:\tlearn: 0.0175007\ttotal: 10.1s\tremaining: 0us\n",
            "0:\tlearn: 1.6758852\ttotal: 9.75ms\tremaining: 39s\n",
            "1000:\tlearn: 0.0098609\ttotal: 11.2s\tremaining: 33.5s\n",
            "2000:\tlearn: 0.0027995\ttotal: 22.3s\tremaining: 22.3s\n",
            "3000:\tlearn: 0.0013560\ttotal: 32.9s\tremaining: 10.9s\n",
            "3999:\tlearn: 0.0008312\ttotal: 42.7s\tremaining: 0us\n",
            "0:\tlearn: 1.7576409\ttotal: 3.91ms\tremaining: 14.9s\n",
            "1000:\tlearn: 0.1218187\ttotal: 5.74s\tremaining: 16.1s\n",
            "2000:\tlearn: 0.0676549\ttotal: 9.45s\tremaining: 8.56s\n",
            "3000:\tlearn: 0.0467926\ttotal: 13.1s\tremaining: 3.55s\n",
            "3812:\tlearn: 0.0366701\ttotal: 18.1s\tremaining: 0us\n",
            "0:\tlearn: 1.7896560\ttotal: 3.97ms\tremaining: 11.5s\n",
            "1000:\tlearn: 0.9048554\ttotal: 3.78s\tremaining: 7.12s\n",
            "2000:\tlearn: 0.6034207\ttotal: 7.53s\tremaining: 3.34s\n",
            "2887:\tlearn: 0.4687471\ttotal: 12.8s\tremaining: 0us\n",
            "0:\tlearn: 1.7628422\ttotal: 3.92ms\tremaining: 15.7s\n",
            "1000:\tlearn: 0.1399129\ttotal: 3.69s\tremaining: 11s\n",
            "2000:\tlearn: 0.0772762\ttotal: 7.4s\tremaining: 7.39s\n",
            "3000:\tlearn: 0.0536996\ttotal: 13.1s\tremaining: 4.35s\n",
            "3999:\tlearn: 0.0401480\ttotal: 16.8s\tremaining: 0us\n",
            "0:\tlearn: 1.6848385\ttotal: 6.01ms\tremaining: 595ms\n",
            "99:\tlearn: 0.2463644\ttotal: 586ms\tremaining: 0us\n",
            "0:\tlearn: 1.6509539\ttotal: 9.46ms\tremaining: 37.8s\n",
            "1000:\tlearn: 0.0099920\ttotal: 11.2s\tremaining: 33.4s\n",
            "2000:\tlearn: 0.0032691\ttotal: 22.1s\tremaining: 22.1s\n",
            "3000:\tlearn: 0.0017463\ttotal: 31.7s\tremaining: 10.6s\n"
          ]
        },
        {
          "name": "stderr",
          "output_type": "stream",
          "text": [
            "2023-11-08 12:17:22,312 - mealpy.swarm_based.ABC.OriginalABC - INFO - >>>Problem: P, Epoch: 3, Current best: -0.9674457429048414, Global best: -0.9674457429048414, Runtime: 961.82145 seconds\n"
          ]
        },
        {
          "name": "stdout",
          "output_type": "stream",
          "text": [
            "3999:\tlearn: 0.0011222\ttotal: 43s\tremaining: 0us\n",
            "0:\tlearn: 1.6125564\ttotal: 5.91ms\tremaining: 21.9s\n",
            "1000:\tlearn: 0.0054835\ttotal: 7.7s\tremaining: 20.9s\n",
            "2000:\tlearn: 0.0011762\ttotal: 13.4s\tremaining: 11.5s\n",
            "3000:\tlearn: 0.0005179\ttotal: 21.1s\tremaining: 5.02s\n",
            "3715:\tlearn: 0.0003402\ttotal: 25.1s\tremaining: 0us\n",
            "0:\tlearn: 1.5901147\ttotal: 6.07ms\tremaining: 20.4s\n",
            "1000:\tlearn: 0.0074832\ttotal: 7.63s\tremaining: 18s\n",
            "2000:\tlearn: 0.0022444\ttotal: 13.3s\tremaining: 9.03s\n",
            "3000:\tlearn: 0.0011102\ttotal: 20.9s\tremaining: 2.5s\n",
            "3359:\tlearn: 0.0009253\ttotal: 22.9s\tremaining: 0us\n",
            "0:\tlearn: 1.6038907\ttotal: 9.58ms\tremaining: 26s\n",
            "1000:\tlearn: 0.0048351\ttotal: 11.4s\tremaining: 19.5s\n",
            "2000:\tlearn: 0.0014779\ttotal: 20.8s\tremaining: 7.41s\n",
            "2714:\tlearn: 0.0009074\ttotal: 29.3s\tremaining: 0us\n",
            "0:\tlearn: 1.6769690\ttotal: 9.34ms\tremaining: 29.6s\n",
            "1000:\tlearn: 0.0133433\ttotal: 11.4s\tremaining: 24.6s\n",
            "2000:\tlearn: 0.0043074\ttotal: 22.6s\tremaining: 13.2s\n",
            "3000:\tlearn: 0.0022524\ttotal: 31.9s\tremaining: 1.78s\n",
            "3167:\tlearn: 0.0020646\ttotal: 35.2s\tremaining: 0us\n",
            "0:\tlearn: 1.6211227\ttotal: 20.9ms\tremaining: 41.5s\n",
            "1000:\tlearn: 0.0091729\ttotal: 9.44s\tremaining: 9.3s\n",
            "1986:\tlearn: 0.0031114\ttotal: 20.6s\tremaining: 0us\n",
            "0:\tlearn: 1.6677915\ttotal: 3.85ms\tremaining: 3.16s\n",
            "821:\tlearn: 0.0437571\ttotal: 3.29s\tremaining: 0us\n",
            "0:\tlearn: 1.6765778\ttotal: 27.3ms\tremaining: 3.33s\n",
            "122:\tlearn: 0.1094259\ttotal: 3.61s\tremaining: 0us\n",
            "0:\tlearn: 1.6444208\ttotal: 3.98ms\tremaining: 12.5s\n",
            "1000:\tlearn: 0.0284800\ttotal: 3.76s\tremaining: 8.08s\n",
            "2000:\tlearn: 0.0106988\ttotal: 7.53s\tremaining: 4.33s\n",
            "3000:\tlearn: 0.0054482\ttotal: 13.3s\tremaining: 669ms\n",
            "3151:\tlearn: 0.0050120\ttotal: 13.9s\tremaining: 0us\n",
            "0:\tlearn: 1.6787132\ttotal: 13ms\tremaining: 37.9s\n",
            "1000:\tlearn: 0.0078728\ttotal: 18.6s\tremaining: 35.6s\n",
            "2000:\tlearn: 0.0024887\ttotal: 38.4s\tremaining: 17.5s\n",
            "2913:\tlearn: 0.0013682\ttotal: 55.7s\tremaining: 0us\n",
            "0:\tlearn: 1.6538999\ttotal: 5.8ms\tremaining: 9.71s\n",
            "1000:\tlearn: 0.0191962\ttotal: 5.63s\tremaining: 3.79s\n",
            "1673:\tlearn: 0.0088964\ttotal: 11.4s\tremaining: 0us\n",
            "0:\tlearn: 1.6278247\ttotal: 3.94ms\tremaining: 10.3s\n",
            "1000:\tlearn: 0.0258562\ttotal: 3.73s\tremaining: 6.04s\n",
            "2000:\tlearn: 0.0095384\ttotal: 7.46s\tremaining: 2.31s\n",
            "2621:\tlearn: 0.0060306\ttotal: 11.6s\tremaining: 0us\n",
            "0:\tlearn: 1.6712242\ttotal: 4.91ms\tremaining: 15.2s\n",
            "1000:\tlearn: 0.0441547\ttotal: 3.78s\tremaining: 7.95s\n",
            "2000:\tlearn: 0.0210113\ttotal: 7.49s\tremaining: 4.14s\n",
            "3000:\tlearn: 0.0121283\ttotal: 12.7s\tremaining: 449ms\n",
            "3106:\tlearn: 0.0115195\ttotal: 13.5s\tremaining: 0us\n",
            "0:\tlearn: 1.6875696\ttotal: 5.95ms\tremaining: 21.5s\n",
            "1000:\tlearn: 0.0237882\ttotal: 5.63s\tremaining: 14.6s\n",
            "2000:\tlearn: 0.0079396\ttotal: 13.2s\tremaining: 10.6s\n",
            "3000:\tlearn: 0.0039642\ttotal: 18.8s\tremaining: 3.79s\n",
            "3603:\tlearn: 0.0028627\ttotal: 22.2s\tremaining: 0us\n",
            "0:\tlearn: 1.6778653\ttotal: 9.64ms\tremaining: 33.1s\n",
            "1000:\tlearn: 0.0068335\ttotal: 11.2s\tremaining: 27.2s\n",
            "2000:\tlearn: 0.0014765\ttotal: 22.2s\tremaining: 16s\n",
            "3000:\tlearn: 0.0006379\ttotal: 33.3s\tremaining: 4.85s\n",
            "3437:\tlearn: 0.0004940\ttotal: 37.3s\tremaining: 0us\n",
            "0:\tlearn: 1.6151878\ttotal: 14.5ms\tremaining: 37.7s\n",
            "1000:\tlearn: 0.0041438\ttotal: 19.9s\tremaining: 31.8s\n",
            "2000:\tlearn: 0.0013820\ttotal: 38.5s\tremaining: 11.5s\n",
            "2600:\tlearn: 0.0009391\ttotal: 50.2s\tremaining: 0us\n",
            "0:\tlearn: 1.7105854\ttotal: 4.04ms\tremaining: 13.4s\n",
            "1000:\tlearn: 0.0560776\ttotal: 3.71s\tremaining: 8.53s\n",
            "2000:\tlearn: 0.0268037\ttotal: 7.82s\tremaining: 5.09s\n",
            "3000:\tlearn: 0.0155548\ttotal: 13.1s\tremaining: 1.32s\n",
            "3302:\tlearn: 0.0133924\ttotal: 14.2s\tremaining: 0us\n",
            "0:\tlearn: 1.7405112\ttotal: 5.79ms\tremaining: 11.4s\n",
            "1000:\tlearn: 0.0543059\ttotal: 5.61s\tremaining: 5.39s\n",
            "1963:\tlearn: 0.0232985\ttotal: 13s\tremaining: 0us\n",
            "0:\tlearn: 1.7017603\ttotal: 9.42ms\tremaining: 37.7s\n",
            "1000:\tlearn: 0.0242165\ttotal: 11.1s\tremaining: 33.2s\n",
            "2000:\tlearn: 0.0088591\ttotal: 20.9s\tremaining: 20.9s\n",
            "3000:\tlearn: 0.0047128\ttotal: 31.3s\tremaining: 10.4s\n",
            "3999:\tlearn: 0.0029608\ttotal: 42.3s\tremaining: 0us\n",
            "0:\tlearn: 1.6212476\ttotal: 9.47ms\tremaining: 37.9s\n",
            "1000:\tlearn: 0.0066623\ttotal: 11.1s\tremaining: 33.2s\n",
            "2000:\tlearn: 0.0020666\ttotal: 22.2s\tremaining: 22.1s\n",
            "3000:\tlearn: 0.0010896\ttotal: 31.7s\tremaining: 10.5s\n",
            "3999:\tlearn: 0.0007082\ttotal: 42.3s\tremaining: 0us\n",
            "0:\tlearn: 1.7207469\ttotal: 6.13ms\tremaining: 19.3s\n",
            "1000:\tlearn: 0.0395151\ttotal: 7.54s\tremaining: 16.1s\n",
            "2000:\tlearn: 0.0153518\ttotal: 13.1s\tremaining: 7.47s\n",
            "3000:\tlearn: 0.0078816\ttotal: 20.7s\tremaining: 961ms\n",
            "3139:\tlearn: 0.0072581\ttotal: 21.5s\tremaining: 0us\n",
            "0:\tlearn: 1.7118336\ttotal: 12.9ms\tremaining: 34.2s\n",
            "1000:\tlearn: 0.0087165\ttotal: 18.5s\tremaining: 30.3s\n",
            "2000:\tlearn: 0.0021859\ttotal: 38.6s\tremaining: 12.4s\n",
            "2645:\tlearn: 0.0012552\ttotal: 51s\tremaining: 0us\n",
            "0:\tlearn: 1.6901672\ttotal: 8.07ms\tremaining: 14.9s\n",
            "1000:\tlearn: 0.0272903\ttotal: 5.67s\tremaining: 4.83s\n",
            "1852:\tlearn: 0.0112842\ttotal: 11.5s\tremaining: 0us\n",
            "0:\tlearn: 1.6335179\ttotal: 14.9ms\tremaining: 3.46s\n",
            "232:\tlearn: 0.0466954\ttotal: 2.89s\tremaining: 0us\n",
            "0:\tlearn: 1.6886451\ttotal: 5.73ms\tremaining: 13.9s\n",
            "1000:\tlearn: 0.0257941\ttotal: 5.74s\tremaining: 8.18s\n",
            "2000:\tlearn: 0.0090531\ttotal: 13.4s\tremaining: 2.86s\n",
            "2427:\tlearn: 0.0066702\ttotal: 15.8s\tremaining: 0us\n",
            "0:\tlearn: 1.5963163\ttotal: 9.44ms\tremaining: 21.4s\n",
            "1000:\tlearn: 0.0060296\ttotal: 11.4s\tremaining: 14.4s\n",
            "2000:\tlearn: 0.0019902\ttotal: 22.7s\tremaining: 3s\n",
            "2264:\tlearn: 0.0016460\ttotal: 25.2s\tremaining: 0us\n",
            "0:\tlearn: 1.7450951\ttotal: 6.09ms\tremaining: 15.7s\n",
            "1000:\tlearn: 0.0670433\ttotal: 5.77s\tremaining: 9.07s\n",
            "2000:\tlearn: 0.0333792\ttotal: 13.5s\tremaining: 3.87s\n",
            "2575:\tlearn: 0.0245315\ttotal: 16.7s\tremaining: 0us\n",
            "0:\tlearn: 1.6165769\ttotal: 5.94ms\tremaining: 8.04s\n",
            "1000:\tlearn: 0.0097119\ttotal: 7.64s\tremaining: 2.7s\n",
            "1354:\tlearn: 0.0057152\ttotal: 9.66s\tremaining: 0us\n",
            "0:\tlearn: 1.6185399\ttotal: 9.37ms\tremaining: 10.6s\n",
            "1000:\tlearn: 0.0059888\ttotal: 11.3s\tremaining: 1.51s\n",
            "1134:\tlearn: 0.0048789\ttotal: 12.6s\tremaining: 0us\n",
            "0:\tlearn: 1.6332969\ttotal: 5.75ms\tremaining: 18.2s\n",
            "1000:\tlearn: 0.0148749\ttotal: 5.67s\tremaining: 12.3s\n",
            "2000:\tlearn: 0.0049228\ttotal: 13.3s\tremaining: 7.74s\n",
            "3000:\tlearn: 0.0025602\ttotal: 19s\tremaining: 1.05s\n",
            "3166:\tlearn: 0.0023303\ttotal: 19.9s\tremaining: 0us\n",
            "0:\tlearn: 1.6432140\ttotal: 7.41ms\tremaining: 9.15s\n",
            "1000:\tlearn: 0.0155308\ttotal: 7.69s\tremaining: 1.8s\n",
            "1235:\tlearn: 0.0113225\ttotal: 9.05s\tremaining: 0us\n",
            "0:\tlearn: 1.6191479\ttotal: 9.5ms\tremaining: 29s\n",
            "1000:\tlearn: 0.0089577\ttotal: 11.3s\tremaining: 23.1s\n",
            "2000:\tlearn: 0.0030091\ttotal: 22.4s\tremaining: 11.8s\n",
            "3000:\tlearn: 0.0016582\ttotal: 31.8s\tremaining: 562ms\n",
            "3053:\tlearn: 0.0016166\ttotal: 32.3s\tremaining: 0us\n",
            "0:\tlearn: 1.5931217\ttotal: 13ms\tremaining: 31s\n",
            "1000:\tlearn: 0.0058400\ttotal: 20.3s\tremaining: 27.9s\n",
            "2000:\tlearn: 0.0021287\ttotal: 38.8s\tremaining: 7.29s\n",
            "2376:\tlearn: 0.0016875\ttotal: 46.9s\tremaining: 0us\n",
            "0:\tlearn: 1.6114570\ttotal: 6.01ms\tremaining: 12.7s\n",
            "1000:\tlearn: 0.0099096\ttotal: 5.71s\tremaining: 6.38s\n",
            "2000:\tlearn: 0.0029710\ttotal: 13.4s\tremaining: 784ms\n",
            "2117:\tlearn: 0.0027017\ttotal: 14.1s\tremaining: 0us\n",
            "0:\tlearn: 1.6535093\ttotal: 5.93ms\tremaining: 20.2s\n",
            "1000:\tlearn: 0.0168289\ttotal: 5.69s\tremaining: 13.7s\n",
            "2000:\tlearn: 0.0052887\ttotal: 13.5s\tremaining: 9.52s\n",
            "3000:\tlearn: 0.0026463\ttotal: 19.3s\tremaining: 2.63s\n",
            "3410:\tlearn: 0.0021145\ttotal: 23.6s\tremaining: 0us\n",
            "0:\tlearn: 1.5923749\ttotal: 5.91ms\tremaining: 9.16s\n",
            "1000:\tlearn: 0.0136261\ttotal: 5.8s\tremaining: 3.18s\n",
            "1549:\tlearn: 0.0068687\ttotal: 8.95s\tremaining: 0us\n",
            "0:\tlearn: 1.6870003\ttotal: 19.1ms\tremaining: 1m 16s\n",
            "1000:\tlearn: 0.0137246\ttotal: 11.4s\tremaining: 34.3s\n",
            "2000:\tlearn: 0.0041629\ttotal: 22.9s\tremaining: 22.9s\n",
            "3000:\tlearn: 0.0020889\ttotal: 34.2s\tremaining: 11.4s\n",
            "3999:\tlearn: 0.0012873\ttotal: 45.5s\tremaining: 0us\n",
            "0:\tlearn: 1.6935323\ttotal: 9.3ms\tremaining: 23.6s\n",
            "1000:\tlearn: 0.0147282\ttotal: 11.2s\tremaining: 17.3s\n",
            "2000:\tlearn: 0.0043933\ttotal: 20.9s\tremaining: 5.64s\n",
            "2541:\tlearn: 0.0028892\ttotal: 27.9s\tremaining: 0us\n",
            "0:\tlearn: 1.6836128\ttotal: 6.18ms\tremaining: 4.27s\n",
            "691:\tlearn: 0.0393261\ttotal: 4.03s\tremaining: 0us\n",
            "0:\tlearn: 1.6496249\ttotal: 9.29ms\tremaining: 32s\n",
            "1000:\tlearn: 0.0098698\ttotal: 11.4s\tremaining: 28s\n",
            "2000:\tlearn: 0.0031523\ttotal: 23s\tremaining: 16.6s\n",
            "3000:\tlearn: 0.0016456\ttotal: 34.5s\tremaining: 5.11s\n",
            "3445:\tlearn: 0.0013257\ttotal: 38.7s\tremaining: 0us\n",
            "0:\tlearn: 1.6679237\ttotal: 4.37ms\tremaining: 13.7s\n",
            "1000:\tlearn: 0.0427565\ttotal: 3.76s\tremaining: 8.05s\n",
            "2000:\tlearn: 0.0206179\ttotal: 9.5s\tremaining: 5.42s\n",
            "3000:\tlearn: 0.0121589\ttotal: 13.3s\tremaining: 623ms\n"
          ]
        },
        {
          "name": "stderr",
          "output_type": "stream",
          "text": [
            "2023-11-08 12:32:54,359 - mealpy.swarm_based.ABC.OriginalABC - INFO - >>>Problem: P, Epoch: 4, Current best: -0.9674457429048414, Global best: -0.9674457429048414, Runtime: 932.04476 seconds\n"
          ]
        },
        {
          "name": "stdout",
          "output_type": "stream",
          "text": [
            "3141:\tlearn: 0.0113713\ttotal: 13.8s\tremaining: 0us\n",
            "0:\tlearn: 1.6308655\ttotal: 13.4ms\tremaining: 35.9s\n",
            "1000:\tlearn: 0.0014738\ttotal: 19.7s\tremaining: 32.9s\n",
            "2000:\tlearn: 0.0003912\ttotal: 38.4s\tremaining: 12.9s\n",
            "2670:\tlearn: 0.0002394\ttotal: 51.5s\tremaining: 0us\n",
            "0:\tlearn: 1.6725449\ttotal: 5.83ms\tremaining: 17.2s\n",
            "1000:\tlearn: 0.0203806\ttotal: 5.74s\tremaining: 11.2s\n",
            "2000:\tlearn: 0.0066332\ttotal: 13.3s\tremaining: 6.29s\n",
            "2946:\tlearn: 0.0034685\ttotal: 18.6s\tremaining: 0us\n",
            "0:\tlearn: 1.6708822\ttotal: 12.5ms\tremaining: 37.1s\n",
            "1000:\tlearn: 0.0084387\ttotal: 20.2s\tremaining: 39.6s\n",
            "2000:\tlearn: 0.0028231\ttotal: 38.4s\tremaining: 18.6s\n",
            "2968:\tlearn: 0.0015578\ttotal: 57.8s\tremaining: 0us\n",
            "0:\tlearn: 1.6024779\ttotal: 22.4ms\tremaining: 52.6s\n",
            "1000:\tlearn: 0.0054819\ttotal: 9.22s\tremaining: 12.4s\n",
            "2000:\tlearn: 0.0017273\ttotal: 20.3s\tremaining: 3.52s\n",
            "2347:\tlearn: 0.0013491\ttotal: 23.8s\tremaining: 0us\n",
            "0:\tlearn: 1.5964207\ttotal: 19.4ms\tremaining: 1m\n",
            "1000:\tlearn: 0.0065063\ttotal: 10.9s\tremaining: 23.3s\n",
            "2000:\tlearn: 0.0021297\ttotal: 22.2s\tremaining: 12.6s\n",
            "3000:\tlearn: 0.0011745\ttotal: 33.4s\tremaining: 1.49s\n",
            "3134:\tlearn: 0.0011008\ttotal: 34.7s\tremaining: 0us\n",
            "0:\tlearn: 1.6279906\ttotal: 6.8ms\tremaining: 3.7s\n",
            "544:\tlearn: 0.0486440\ttotal: 2.05s\tremaining: 0us\n",
            "0:\tlearn: 1.5957248\ttotal: 12.6ms\tremaining: 36.4s\n",
            "1000:\tlearn: 0.0015537\ttotal: 20.4s\tremaining: 38.4s\n",
            "2000:\tlearn: 0.0004852\ttotal: 38.9s\tremaining: 17.2s\n",
            "2883:\tlearn: 0.0002779\ttotal: 55.5s\tremaining: 0us\n",
            "0:\tlearn: 1.6497475\ttotal: 5.93ms\tremaining: 19.1s\n",
            "1000:\tlearn: 0.0212360\ttotal: 7.65s\tremaining: 16.9s\n",
            "2000:\tlearn: 0.0078381\ttotal: 13.4s\tremaining: 8.17s\n",
            "3000:\tlearn: 0.0042991\ttotal: 21.1s\tremaining: 1.53s\n",
            "3218:\tlearn: 0.0038520\ttotal: 22.4s\tremaining: 0us\n",
            "0:\tlearn: 1.6734405\ttotal: 9.49ms\tremaining: 22.5s\n",
            "1000:\tlearn: 0.0114401\ttotal: 11.2s\tremaining: 15.4s\n",
            "2000:\tlearn: 0.0034979\ttotal: 22.5s\tremaining: 4.14s\n",
            "2368:\tlearn: 0.0026193\ttotal: 25.9s\tremaining: 0us\n",
            "0:\tlearn: 1.6672049\ttotal: 5.99ms\tremaining: 671ms\n",
            "112:\tlearn: 0.1965101\ttotal: 665ms\tremaining: 0us\n",
            "0:\tlearn: 1.6456671\ttotal: 5.83ms\tremaining: 15.6s\n",
            "1000:\tlearn: 0.0164281\ttotal: 6.68s\tremaining: 11.1s\n",
            "2000:\tlearn: 0.0053433\ttotal: 13.9s\tremaining: 4.64s\n",
            "2666:\tlearn: 0.0033140\ttotal: 18s\tremaining: 0us\n",
            "0:\tlearn: 1.6636282\ttotal: 3.99ms\tremaining: 15.2s\n",
            "1000:\tlearn: 0.0420549\ttotal: 5.65s\tremaining: 15.8s\n",
            "2000:\tlearn: 0.0201082\ttotal: 9.35s\tremaining: 8.39s\n",
            "3000:\tlearn: 0.0117144\ttotal: 13.1s\tremaining: 3.47s\n",
            "3797:\tlearn: 0.0082071\ttotal: 18s\tremaining: 0us\n",
            "0:\tlearn: 1.6856037\ttotal: 5.89ms\tremaining: 20.8s\n",
            "1000:\tlearn: 0.0211436\ttotal: 5.67s\tremaining: 14.3s\n",
            "2000:\tlearn: 0.0065994\ttotal: 13.3s\tremaining: 10.1s\n",
            "3000:\tlearn: 0.0031688\ttotal: 18.9s\tremaining: 3.31s\n",
            "3525:\tlearn: 0.0023468\ttotal: 21.9s\tremaining: 0us\n",
            "0:\tlearn: 1.6686529\ttotal: 9.51ms\tremaining: 38s\n",
            "1000:\tlearn: 0.0098071\ttotal: 11.3s\tremaining: 33.7s\n",
            "2000:\tlearn: 0.0028469\ttotal: 22.5s\tremaining: 22.5s\n",
            "3000:\tlearn: 0.0014250\ttotal: 33.7s\tremaining: 11.2s\n",
            "3999:\tlearn: 0.0008950\ttotal: 45s\tremaining: 0us\n",
            "0:\tlearn: 1.6209128\ttotal: 5.92ms\tremaining: 12.5s\n",
            "1000:\tlearn: 0.0119864\ttotal: 5.75s\tremaining: 6.41s\n",
            "2000:\tlearn: 0.0038041\ttotal: 13.4s\tremaining: 772ms\n",
            "2115:\tlearn: 0.0034726\ttotal: 14.1s\tremaining: 0us\n",
            "0:\tlearn: 1.6897071\ttotal: 5.88ms\tremaining: 23.5s\n",
            "1000:\tlearn: 0.0270761\ttotal: 5.71s\tremaining: 17.1s\n",
            "2000:\tlearn: 0.0097413\ttotal: 13.3s\tremaining: 13.3s\n",
            "3000:\tlearn: 0.0049722\ttotal: 19.1s\tremaining: 6.35s\n",
            "3999:\tlearn: 0.0030632\ttotal: 26.7s\tremaining: 0us\n",
            "0:\tlearn: 1.7166349\ttotal: 9.45ms\tremaining: 24.1s\n",
            "1000:\tlearn: 0.0269621\ttotal: 11.2s\tremaining: 17.4s\n",
            "2000:\tlearn: 0.0100653\ttotal: 20.6s\tremaining: 5.71s\n",
            "2555:\tlearn: 0.0068373\ttotal: 27.8s\tremaining: 0us\n",
            "0:\tlearn: 1.7896377\ttotal: 9.47ms\tremaining: 35.7s\n",
            "1000:\tlearn: 0.7532051\ttotal: 11.4s\tremaining: 31.5s\n",
            "2000:\tlearn: 0.4530404\ttotal: 21.4s\tremaining: 19s\n",
            "3000:\tlearn: 0.3203034\ttotal: 32s\tremaining: 8.25s\n",
            "3773:\tlearn: 0.2623397\ttotal: 41.3s\tremaining: 0us\n",
            "0:\tlearn: 1.5993512\ttotal: 6ms\tremaining: 17.8s\n",
            "1000:\tlearn: 0.0138811\ttotal: 5.74s\tremaining: 11.3s\n",
            "2000:\tlearn: 0.0048159\ttotal: 13.5s\tremaining: 6.52s\n",
            "2969:\tlearn: 0.0025920\ttotal: 19.6s\tremaining: 0us\n",
            "0:\tlearn: 1.6149349\ttotal: 23.1ms\tremaining: 2.28s\n",
            "99:\tlearn: 0.1234215\ttotal: 2.08s\tremaining: 0us\n",
            "0:\tlearn: 1.6489875\ttotal: 9.79ms\tremaining: 30.3s\n",
            "1000:\tlearn: 0.0185837\ttotal: 6.18s\tremaining: 12.9s\n",
            "2000:\tlearn: 0.0063695\ttotal: 13.6s\tremaining: 7.42s\n",
            "3000:\tlearn: 0.0033656\ttotal: 19.4s\tremaining: 589ms\n",
            "3091:\tlearn: 0.0031987\ttotal: 20s\tremaining: 0us\n",
            "0:\tlearn: 1.6364072\ttotal: 9.62ms\tremaining: 33.1s\n",
            "1000:\tlearn: 0.0032737\ttotal: 11.3s\tremaining: 27.4s\n",
            "2000:\tlearn: 0.0007497\ttotal: 22.4s\tremaining: 16.1s\n",
            "3000:\tlearn: 0.0003558\ttotal: 33s\tremaining: 4.82s\n",
            "3438:\tlearn: 0.0002790\ttotal: 37.7s\tremaining: 0us\n",
            "0:\tlearn: 1.6694683\ttotal: 4.23ms\tremaining: 13.1s\n",
            "1000:\tlearn: 0.0331347\ttotal: 3.76s\tremaining: 7.9s\n",
            "2000:\tlearn: 0.0128561\ttotal: 9.48s\tremaining: 5.22s\n",
            "3000:\tlearn: 0.0064949\ttotal: 13.3s\tremaining: 451ms\n",
            "3102:\tlearn: 0.0061142\ttotal: 13.7s\tremaining: 0us\n",
            "0:\tlearn: 1.6573830\ttotal: 9.55ms\tremaining: 29.8s\n",
            "1000:\tlearn: 0.0131600\ttotal: 11.3s\tremaining: 23.9s\n",
            "2000:\tlearn: 0.0044449\ttotal: 22.6s\tremaining: 12.6s\n",
            "3000:\tlearn: 0.0023398\ttotal: 32.1s\tremaining: 1.25s\n",
            "3117:\tlearn: 0.0022005\ttotal: 34.2s\tremaining: 0us\n",
            "0:\tlearn: 1.6947200\ttotal: 18.1ms\tremaining: 1m\n",
            "1000:\tlearn: 0.0126909\ttotal: 10.4s\tremaining: 24s\n",
            "2000:\tlearn: 0.0035098\ttotal: 21.6s\tremaining: 14.3s\n",
            "3000:\tlearn: 0.0016393\ttotal: 32.9s\tremaining: 3.48s\n",
            "3318:\tlearn: 0.0013598\ttotal: 35.9s\tremaining: 0us\n",
            "0:\tlearn: 1.6246700\ttotal: 3.97ms\tremaining: 11.8s\n",
            "1000:\tlearn: 0.0274978\ttotal: 5.73s\tremaining: 11.3s\n",
            "2000:\tlearn: 0.0109415\ttotal: 9.5s\tremaining: 4.59s\n",
            "2966:\tlearn: 0.0058560\ttotal: 13.1s\tremaining: 0us\n",
            "0:\tlearn: 1.6482387\ttotal: 5.95ms\tremaining: 4.22s\n",
            "709:\tlearn: 0.0248773\ttotal: 5.93s\tremaining: 0us\n",
            "0:\tlearn: 1.6575337\ttotal: 6.2ms\tremaining: 18.8s\n",
            "1000:\tlearn: 0.0098696\ttotal: 5.69s\tremaining: 11.6s\n",
            "2000:\tlearn: 0.0022172\ttotal: 13.4s\tremaining: 6.91s\n",
            "3000:\tlearn: 0.0009398\ttotal: 19s\tremaining: 222ms\n",
            "3035:\tlearn: 0.0009171\ttotal: 19.2s\tremaining: 0us\n",
            "0:\tlearn: 1.7084728\ttotal: 9.5ms\tremaining: 18.9s\n",
            "1000:\tlearn: 0.0214623\ttotal: 11.4s\tremaining: 11.2s\n",
            "1987:\tlearn: 0.0073427\ttotal: 22.7s\tremaining: 0us\n",
            "0:\tlearn: 1.5924693\ttotal: 9.47ms\tremaining: 28.5s\n",
            "1000:\tlearn: 0.0081161\ttotal: 12.2s\tremaining: 24.4s\n",
            "2000:\tlearn: 0.0027647\ttotal: 22.7s\tremaining: 11.4s\n",
            "3000:\tlearn: 0.0015422\ttotal: 33.1s\tremaining: 66.2ms\n",
            "3006:\tlearn: 0.0015368\ttotal: 33.1s\tremaining: 0us\n",
            "0:\tlearn: 1.6538656\ttotal: 5.9ms\tremaining: 19.9s\n",
            "1000:\tlearn: 0.0155113\ttotal: 7.6s\tremaining: 18s\n",
            "2000:\tlearn: 0.0047293\ttotal: 13.2s\tremaining: 9.02s\n",
            "3000:\tlearn: 0.0023213\ttotal: 20.8s\tremaining: 2.53s\n",
            "3365:\tlearn: 0.0018933\ttotal: 22.8s\tremaining: 0us\n",
            "0:\tlearn: 1.7055952\ttotal: 14.2ms\tremaining: 30.8s\n",
            "1000:\tlearn: 0.0132757\ttotal: 18.4s\tremaining: 21.5s\n",
            "2000:\tlearn: 0.0042038\ttotal: 38.7s\tremaining: 3.25s\n",
            "2168:\tlearn: 0.0036605\ttotal: 41.5s\tremaining: 0us\n",
            "0:\tlearn: 1.7626356\ttotal: 9.51ms\tremaining: 29.8s\n",
            "1000:\tlearn: 0.0661150\ttotal: 11.3s\tremaining: 24s\n",
            "2000:\tlearn: 0.0258493\ttotal: 22.5s\tremaining: 12.7s\n",
            "3000:\tlearn: 0.0129124\ttotal: 33.4s\tremaining: 1.47s\n",
            "3132:\tlearn: 0.0118999\ttotal: 35s\tremaining: 0us\n",
            "0:\tlearn: 1.6160765\ttotal: 6.01ms\tremaining: 16.2s\n",
            "1000:\tlearn: 0.0127636\ttotal: 5.69s\tremaining: 9.64s\n",
            "2000:\tlearn: 0.0041890\ttotal: 13.3s\tremaining: 4.62s\n",
            "2695:\tlearn: 0.0026344\ttotal: 17.2s\tremaining: 0us\n",
            "0:\tlearn: 1.6338689\ttotal: 5.97ms\tremaining: 19.3s\n",
            "1000:\tlearn: 0.0156599\ttotal: 6.79s\tremaining: 15.2s\n",
            "2000:\tlearn: 0.0053135\ttotal: 13.2s\tremaining: 8.18s\n",
            "3000:\tlearn: 0.0027753\ttotal: 19.9s\tremaining: 1.57s\n",
            "3237:\tlearn: 0.0024559\ttotal: 22.1s\tremaining: 0us\n",
            "0:\tlearn: 1.7180813\ttotal: 3.94ms\tremaining: 14.9s\n",
            "1000:\tlearn: 0.0580896\ttotal: 3.68s\tremaining: 10.3s\n",
            "2000:\tlearn: 0.0273331\ttotal: 7.33s\tremaining: 6.56s\n",
            "3000:\tlearn: 0.0154522\ttotal: 13s\tremaining: 3.43s\n",
            "3791:\tlearn: 0.0105703\ttotal: 15.9s\tremaining: 0us\n",
            "0:\tlearn: 1.6943428\ttotal: 9.35ms\tremaining: 36.8s\n",
            "1000:\tlearn: 0.0120180\ttotal: 11s\tremaining: 32.3s\n",
            "2000:\tlearn: 0.0032840\ttotal: 20.2s\tremaining: 19.6s\n",
            "3000:\tlearn: 0.0015236\ttotal: 31s\tremaining: 9.73s\n",
            "3941:\tlearn: 0.0009188\ttotal: 41.5s\tremaining: 0us\n",
            "0:\tlearn: 1.6100757\ttotal: 12.6ms\tremaining: 38.2s\n",
            "1000:\tlearn: 0.0040159\ttotal: 18.2s\tremaining: 36.8s\n",
            "2000:\tlearn: 0.0013646\ttotal: 38.2s\tremaining: 19.6s\n",
            "3000:\tlearn: 0.0007576\ttotal: 56.6s\tremaining: 528ms\n",
            "3028:\tlearn: 0.0007483\ttotal: 57.1s\tremaining: 0us\n",
            "0:\tlearn: 1.6521766\ttotal: 4.01ms\tremaining: 12.2s\n",
            "1000:\tlearn: 0.0353899\ttotal: 5.67s\tremaining: 11.6s\n",
            "2000:\tlearn: 0.0155409\ttotal: 9.39s\tremaining: 4.93s\n",
            "3000:\tlearn: 0.0086782\ttotal: 13.1s\tremaining: 218ms\n",
            "3050:\tlearn: 0.0084562\ttotal: 13.3s\tremaining: 0us\n",
            "0:\tlearn: 1.6799735\ttotal: 5.94ms\tremaining: 19.2s\n",
            "1000:\tlearn: 0.0237989\ttotal: 7.65s\tremaining: 17.1s\n",
            "2000:\tlearn: 0.0081137\ttotal: 13.4s\tremaining: 8.24s\n",
            "3000:\tlearn: 0.0041822\ttotal: 21.2s\tremaining: 1.64s\n"
          ]
        },
        {
          "name": "stderr",
          "output_type": "stream",
          "text": [
            "2023-11-08 12:50:40,191 - mealpy.swarm_based.ABC.OriginalABC - INFO - >>>Problem: P, Epoch: 5, Current best: -0.9674457429048414, Global best: -0.9674457429048414, Runtime: 1065.82988 seconds\n"
          ]
        },
        {
          "name": "stdout",
          "output_type": "stream",
          "text": [
            "3232:\tlearn: 0.0036751\ttotal: 22.6s\tremaining: 0us\n",
            "0:\tlearn: 1.6040390\ttotal: 9.42ms\tremaining: 37.6s\n",
            "1000:\tlearn: 0.0021013\ttotal: 11.3s\tremaining: 33.6s\n",
            "2000:\tlearn: 0.0005007\ttotal: 22.3s\tremaining: 22.2s\n",
            "3000:\tlearn: 0.0002484\ttotal: 31.6s\tremaining: 10.5s\n",
            "3992:\tlearn: 0.0001557\ttotal: 42.7s\tremaining: 0us\n",
            "0:\tlearn: 1.6446332\ttotal: 5.82ms\tremaining: 19.6s\n",
            "1000:\tlearn: 0.0120421\ttotal: 7.68s\tremaining: 18.2s\n",
            "2000:\tlearn: 0.0033924\ttotal: 13.4s\tremaining: 9.19s\n",
            "3000:\tlearn: 0.0016152\ttotal: 21s\tremaining: 2.61s\n",
            "3373:\tlearn: 0.0013059\ttotal: 23.1s\tremaining: 0us\n",
            "0:\tlearn: 1.6518835\ttotal: 10.7ms\tremaining: 32.9s\n",
            "1000:\tlearn: 0.0101126\ttotal: 11.2s\tremaining: 23.1s\n",
            "2000:\tlearn: 0.0031724\ttotal: 21.5s\tremaining: 11.4s\n",
            "3000:\tlearn: 0.0016844\ttotal: 31.7s\tremaining: 676ms\n",
            "3064:\tlearn: 0.0016318\ttotal: 32.3s\tremaining: 0us\n",
            "0:\tlearn: 1.6637395\ttotal: 6.25ms\tremaining: 16.9s\n",
            "1000:\tlearn: 0.0195607\ttotal: 7.69s\tremaining: 13.1s\n",
            "2000:\tlearn: 0.0064415\ttotal: 13.4s\tremaining: 4.76s\n",
            "2709:\tlearn: 0.0039093\ttotal: 19.4s\tremaining: 0us\n",
            "0:\tlearn: 1.6330114\ttotal: 9.45ms\tremaining: 29.1s\n",
            "1000:\tlearn: 0.0117794\ttotal: 10.8s\tremaining: 22.5s\n",
            "2000:\tlearn: 0.0042190\ttotal: 20.4s\tremaining: 11s\n",
            "3000:\tlearn: 0.0023579\ttotal: 31.5s\tremaining: 849ms\n",
            "3081:\tlearn: 0.0022623\ttotal: 32.2s\tremaining: 0us\n",
            "0:\tlearn: 1.6729913\ttotal: 3.84ms\tremaining: 1.16s\n",
            "302:\tlearn: 0.1140160\ttotal: 1.13s\tremaining: 0us\n",
            "0:\tlearn: 1.6743652\ttotal: 5.93ms\tremaining: 17.1s\n",
            "1000:\tlearn: 0.0131813\ttotal: 7.67s\tremaining: 14.4s\n",
            "2000:\tlearn: 0.0031084\ttotal: 13.4s\tremaining: 5.86s\n",
            "2878:\tlearn: 0.0013982\ttotal: 20.2s\tremaining: 0us\n",
            "0:\tlearn: 1.6155287\ttotal: 3.93ms\tremaining: 11.5s\n",
            "1000:\tlearn: 0.0237587\ttotal: 3.72s\tremaining: 7.16s\n",
            "2000:\tlearn: 0.0086490\ttotal: 7.44s\tremaining: 3.44s\n",
            "2924:\tlearn: 0.0046186\ttotal: 12.8s\tremaining: 0us\n",
            "0:\tlearn: 1.7149379\ttotal: 12.9ms\tremaining: 35.4s\n",
            "1000:\tlearn: 0.0119186\ttotal: 18.6s\tremaining: 32.3s\n",
            "2000:\tlearn: 0.0033753\ttotal: 38.8s\tremaining: 14.4s\n",
            "2742:\tlearn: 0.0019196\ttotal: 53s\tremaining: 0us\n",
            "0:\tlearn: 1.6432658\ttotal: 5.85ms\tremaining: 11.2s\n",
            "1000:\tlearn: 0.0151204\ttotal: 5.74s\tremaining: 5.27s\n",
            "1919:\tlearn: 0.0051523\ttotal: 12.9s\tremaining: 0us\n",
            "0:\tlearn: 1.7398332\ttotal: 6ms\tremaining: 14.6s\n",
            "1000:\tlearn: 0.0582691\ttotal: 5.76s\tremaining: 8.26s\n",
            "2000:\tlearn: 0.0269918\ttotal: 13.4s\tremaining: 2.92s\n",
            "2435:\tlearn: 0.0208348\ttotal: 15.9s\tremaining: 0us\n",
            "0:\tlearn: 1.6866106\ttotal: 9.41ms\tremaining: 28.8s\n",
            "1000:\tlearn: 0.0229490\ttotal: 10.9s\tremaining: 22.5s\n",
            "2000:\tlearn: 0.0090843\ttotal: 20.3s\tremaining: 10.8s\n",
            "3000:\tlearn: 0.0049871\ttotal: 30.9s\tremaining: 669ms\n",
            "3065:\tlearn: 0.0048197\ttotal: 31.5s\tremaining: 0us\n",
            "0:\tlearn: 1.6813902\ttotal: 5.98ms\tremaining: 19.4s\n",
            "1000:\tlearn: 0.0225377\ttotal: 7.54s\tremaining: 17s\n",
            "2000:\tlearn: 0.0074627\ttotal: 13.1s\tremaining: 8.21s\n",
            "3000:\tlearn: 0.0037381\ttotal: 20.6s\tremaining: 1.74s\n",
            "3253:\tlearn: 0.0032430\ttotal: 22s\tremaining: 0us\n",
            "0:\tlearn: 1.7310256\ttotal: 12.6ms\tremaining: 36s\n",
            "1000:\tlearn: 0.0221250\ttotal: 18.1s\tremaining: 33.5s\n",
            "2000:\tlearn: 0.0074998\ttotal: 38s\tremaining: 16.2s\n",
            "2854:\tlearn: 0.0040817\ttotal: 53.7s\tremaining: 0us\n",
            "0:\tlearn: 1.6355774\ttotal: 12.8ms\tremaining: 29.4s\n",
            "1000:\tlearn: 0.0042602\ttotal: 18.2s\tremaining: 23.7s\n",
            "2000:\tlearn: 0.0013841\ttotal: 38.1s\tremaining: 5.77s\n",
            "2303:\tlearn: 0.0011105\ttotal: 43s\tremaining: 0us\n",
            "0:\tlearn: 1.6817289\ttotal: 5.84ms\tremaining: 18.4s\n",
            "1000:\tlearn: 0.0263865\ttotal: 7.5s\tremaining: 16.1s\n",
            "2000:\tlearn: 0.0098809\ttotal: 13.1s\tremaining: 7.52s\n",
            "3000:\tlearn: 0.0051928\ttotal: 20.6s\tremaining: 1.04s\n",
            "3151:\tlearn: 0.0047923\ttotal: 21.4s\tremaining: 0us\n",
            "0:\tlearn: 1.7093724\ttotal: 9.56ms\tremaining: 23s\n",
            "1000:\tlearn: 0.0244200\ttotal: 9.71s\tremaining: 13.7s\n",
            "2000:\tlearn: 0.0090304\ttotal: 20s\tremaining: 4.1s\n",
            "2410:\tlearn: 0.0067578\ttotal: 25.7s\tremaining: 0us\n",
            "0:\tlearn: 1.6716112\ttotal: 12.6ms\tremaining: 50.2s\n",
            "1000:\tlearn: 0.0032889\ttotal: 18.4s\tremaining: 55.1s\n",
            "2000:\tlearn: 0.0008034\ttotal: 37s\tremaining: 36.9s\n",
            "3000:\tlearn: 0.0003905\ttotal: 56.8s\tremaining: 18.9s\n",
            "3999:\tlearn: 0.0002476\ttotal: 1m 14s\tremaining: 0us\n",
            "0:\tlearn: 1.6137786\ttotal: 5.75ms\tremaining: 13s\n",
            "1000:\tlearn: 0.0119229\ttotal: 7.53s\tremaining: 9.42s\n",
            "2000:\tlearn: 0.0038159\ttotal: 13.3s\tremaining: 1.69s\n",
            "2253:\tlearn: 0.0031535\ttotal: 14.8s\tremaining: 0us\n",
            "0:\tlearn: 1.6007829\ttotal: 9.46ms\tremaining: 1.38s\n",
            "146:\tlearn: 0.0693165\ttotal: 2.32s\tremaining: 0us\n",
            "0:\tlearn: 1.6303880\ttotal: 7.99ms\tremaining: 31.9s\n",
            "1000:\tlearn: 0.0232346\ttotal: 4.64s\tremaining: 13.9s\n",
            "2000:\tlearn: 0.0078757\ttotal: 8.33s\tremaining: 8.32s\n",
            "3000:\tlearn: 0.0038409\ttotal: 12.8s\tremaining: 4.25s\n",
            "3999:\tlearn: 0.0022925\ttotal: 17.7s\tremaining: 0us\n",
            "0:\tlearn: 1.5905770\ttotal: 12.8ms\tremaining: 39.8s\n",
            "1000:\tlearn: 0.0028399\ttotal: 18.2s\tremaining: 38.3s\n",
            "2000:\tlearn: 0.0009710\ttotal: 38.1s\tremaining: 21.1s\n",
            "3000:\tlearn: 0.0005455\ttotal: 56.1s\tremaining: 2.04s\n",
            "3109:\tlearn: 0.0005219\ttotal: 57.9s\tremaining: 0us\n",
            "0:\tlearn: 1.6088669\ttotal: 5.78ms\tremaining: 14.7s\n",
            "1000:\tlearn: 0.0133387\ttotal: 7.54s\tremaining: 11.7s\n",
            "2000:\tlearn: 0.0044988\ttotal: 13.1s\tremaining: 3.59s\n",
            "2548:\tlearn: 0.0030318\ttotal: 16.2s\tremaining: 0us\n",
            "0:\tlearn: 1.6997766\ttotal: 4.09ms\tremaining: 11.7s\n",
            "1000:\tlearn: 0.0494513\ttotal: 5.55s\tremaining: 10.4s\n",
            "2000:\tlearn: 0.0229925\ttotal: 9.23s\tremaining: 3.99s\n",
            "2866:\tlearn: 0.0141079\ttotal: 12.4s\tremaining: 0us\n",
            "0:\tlearn: 1.6961961\ttotal: 6.65ms\tremaining: 19.4s\n",
            "1000:\tlearn: 0.0249892\ttotal: 7.55s\tremaining: 14.4s\n",
            "2000:\tlearn: 0.0080773\ttotal: 13.2s\tremaining: 6s\n",
            "2912:\tlearn: 0.0041575\ttotal: 20.3s\tremaining: 0us\n",
            "0:\tlearn: 1.6611574\ttotal: 9.84ms\tremaining: 5.51s\n",
            "560:\tlearn: 0.0258462\ttotal: 5.28s\tremaining: 0us\n",
            "0:\tlearn: 1.6030166\ttotal: 5.83ms\tremaining: 17.8s\n",
            "1000:\tlearn: 0.0096661\ttotal: 7.6s\tremaining: 15.6s\n",
            "2000:\tlearn: 0.0030152\ttotal: 13.3s\tremaining: 6.99s\n",
            "3000:\tlearn: 0.0015504\ttotal: 20.9s\tremaining: 362ms\n",
            "3052:\tlearn: 0.0015068\ttotal: 21.2s\tremaining: 0us\n",
            "0:\tlearn: 1.6849877\ttotal: 4.05ms\tremaining: 9.04s\n",
            "1000:\tlearn: 0.0421748\ttotal: 3.65s\tremaining: 4.5s\n",
            "2000:\tlearn: 0.0185320\ttotal: 7.52s\tremaining: 883ms\n",
            "2235:\tlearn: 0.0158674\ttotal: 9.61s\tremaining: 0us\n",
            "0:\tlearn: 1.6829650\ttotal: 9.96ms\tremaining: 32.1s\n",
            "1000:\tlearn: 0.0241679\ttotal: 6.22s\tremaining: 13.8s\n",
            "2000:\tlearn: 0.0083120\ttotal: 13.1s\tremaining: 8.02s\n",
            "3000:\tlearn: 0.0042638\ttotal: 19.4s\tremaining: 1.45s\n",
            "3224:\tlearn: 0.0037818\ttotal: 20.7s\tremaining: 0us\n",
            "0:\tlearn: 1.5904297\ttotal: 9.79ms\tremaining: 28.7s\n",
            "1000:\tlearn: 0.0046385\ttotal: 11.1s\tremaining: 21.3s\n",
            "2000:\tlearn: 0.0014375\ttotal: 22.1s\tremaining: 10.3s\n",
            "2928:\tlearn: 0.0008072\ttotal: 31.4s\tremaining: 0us\n",
            "0:\tlearn: 1.6704905\ttotal: 16.8ms\tremaining: 59.2s\n",
            "1000:\tlearn: 0.0198824\ttotal: 6.92s\tremaining: 17.4s\n",
            "2000:\tlearn: 0.0063957\ttotal: 13.2s\tremaining: 9.98s\n",
            "3000:\tlearn: 0.0031824\ttotal: 20.4s\tremaining: 3.48s\n",
            "3512:\tlearn: 0.0024046\ttotal: 23.3s\tremaining: 0us\n",
            "0:\tlearn: 1.7135324\ttotal: 5.92ms\tremaining: 10.4s\n",
            "1000:\tlearn: 0.0376026\ttotal: 7.59s\tremaining: 5.7s\n",
            "1752:\tlearn: 0.0182648\ttotal: 11.9s\tremaining: 0us\n",
            "0:\tlearn: 1.6278710\ttotal: 6.09ms\tremaining: 19.8s\n",
            "1000:\tlearn: 0.0123108\ttotal: 7.64s\tremaining: 17.1s\n",
            "2000:\tlearn: 0.0039599\ttotal: 13.3s\tremaining: 8.26s\n",
            "3000:\tlearn: 0.0020011\ttotal: 20.9s\tremaining: 1.71s\n",
            "3245:\tlearn: 0.0017352\ttotal: 22.3s\tremaining: 0us\n",
            "0:\tlearn: 1.6729490\ttotal: 9.53ms\tremaining: 6.12s\n",
            "642:\tlearn: 0.0227684\ttotal: 5.97s\tremaining: 0us\n",
            "0:\tlearn: 1.6940080\ttotal: 6.01ms\tremaining: 17.2s\n",
            "1000:\tlearn: 0.0296533\ttotal: 7.65s\tremaining: 14.2s\n",
            "2000:\tlearn: 0.0111602\ttotal: 13.3s\tremaining: 5.73s\n",
            "2864:\tlearn: 0.0062840\ttotal: 20.2s\tremaining: 0us\n",
            "0:\tlearn: 1.7113898\ttotal: 4.34ms\tremaining: 13.2s\n",
            "1000:\tlearn: 0.0517670\ttotal: 3.74s\tremaining: 7.6s\n",
            "2000:\tlearn: 0.0228855\ttotal: 7.49s\tremaining: 3.88s\n",
            "3000:\tlearn: 0.0125020\ttotal: 13.2s\tremaining: 154ms\n",
            "3035:\tlearn: 0.0122869\ttotal: 13.3s\tremaining: 0us\n",
            "0:\tlearn: 1.5982990\ttotal: 13.9ms\tremaining: 35.8s\n",
            "1000:\tlearn: 0.0095583\ttotal: 10.6s\tremaining: 16.7s\n",
            "2000:\tlearn: 0.0034143\ttotal: 20.6s\tremaining: 5.94s\n",
            "2578:\tlearn: 0.0023750\ttotal: 27.8s\tremaining: 0us\n",
            "0:\tlearn: 1.7215859\ttotal: 3.92ms\tremaining: 11.9s\n",
            "1000:\tlearn: 0.0692710\ttotal: 3.75s\tremaining: 7.64s\n",
            "2000:\tlearn: 0.0373485\ttotal: 7.91s\tremaining: 4.11s\n",
            "3000:\tlearn: 0.0239571\ttotal: 13.2s\tremaining: 180ms\n",
            "3041:\tlearn: 0.0235846\ttotal: 13.3s\tremaining: 0us\n",
            "0:\tlearn: 1.7177090\ttotal: 3.87ms\tremaining: 14.6s\n",
            "1000:\tlearn: 0.0559134\ttotal: 3.72s\tremaining: 10.3s\n",
            "2000:\tlearn: 0.0252111\ttotal: 7.78s\tremaining: 6.94s\n",
            "3000:\tlearn: 0.0138797\ttotal: 13.1s\tremaining: 3.44s\n",
            "3785:\tlearn: 0.0093057\ttotal: 16.1s\tremaining: 0us\n",
            "0:\tlearn: 1.6546378\ttotal: 5.91ms\tremaining: 10.8s\n",
            "1000:\tlearn: 0.0158118\ttotal: 7.38s\tremaining: 6.14s\n"
          ]
        },
        {
          "name": "stderr",
          "output_type": "stream",
          "text": [
            "2023-11-08 13:06:26,847 - mealpy.swarm_based.ABC.OriginalABC - INFO - >>>Problem: P, Epoch: 6, Current best: -0.9674457429048414, Global best: -0.9674457429048414, Runtime: 946.65390 seconds\n"
          ]
        },
        {
          "name": "stdout",
          "output_type": "stream",
          "text": [
            "1832:\tlearn: 0.0056854\ttotal: 12.4s\tremaining: 0us\n",
            "0:\tlearn: 1.5900824\ttotal: 9.53ms\tremaining: 31.6s\n",
            "1000:\tlearn: 0.0040481\ttotal: 11.3s\tremaining: 26.2s\n",
            "2000:\tlearn: 0.0012218\ttotal: 22.6s\tremaining: 14.9s\n",
            "3000:\tlearn: 0.0006548\ttotal: 32s\tremaining: 3.42s\n",
            "3321:\tlearn: 0.0005627\ttotal: 36.9s\tremaining: 0us\n",
            "0:\tlearn: 1.6471996\ttotal: 5.86ms\tremaining: 18.3s\n",
            "1000:\tlearn: 0.0119007\ttotal: 5.75s\tremaining: 12.2s\n",
            "2000:\tlearn: 0.0032587\ttotal: 13.5s\tremaining: 7.58s\n",
            "3000:\tlearn: 0.0015227\ttotal: 19.3s\tremaining: 785ms\n",
            "3122:\tlearn: 0.0014126\ttotal: 20s\tremaining: 0us\n",
            "0:\tlearn: 1.6690713\ttotal: 14.7ms\tremaining: 42.5s\n",
            "1000:\tlearn: 0.0080048\ttotal: 20.3s\tremaining: 38.3s\n",
            "2000:\tlearn: 0.0026157\ttotal: 38.9s\tremaining: 17.3s\n",
            "2889:\tlearn: 0.0014856\ttotal: 55.4s\tremaining: 0us\n",
            "0:\tlearn: 1.6049309\ttotal: 5.78ms\tremaining: 13.4s\n",
            "1000:\tlearn: 0.0093600\ttotal: 7.65s\tremaining: 10.1s\n",
            "2000:\tlearn: 0.0028145\ttotal: 13.4s\tremaining: 2.11s\n",
            "2316:\tlearn: 0.0022103\ttotal: 17.1s\tremaining: 0us\n",
            "0:\tlearn: 1.5914919\ttotal: 11.3ms\tremaining: 35.1s\n",
            "1000:\tlearn: 0.0063582\ttotal: 9.43s\tremaining: 19.9s\n",
            "2000:\tlearn: 0.0021268\ttotal: 20.6s\tremaining: 11.4s\n",
            "3000:\tlearn: 0.0011757\ttotal: 31.8s\tremaining: 1.17s\n",
            "3110:\tlearn: 0.0011162\ttotal: 32.8s\tremaining: 0us\n",
            "0:\tlearn: 1.6574900\ttotal: 5.89ms\tremaining: 4.84s\n",
            "823:\tlearn: 0.0232849\ttotal: 5.85s\tremaining: 0us\n",
            "0:\tlearn: 1.6887882\ttotal: 7.86ms\tremaining: 22.6s\n",
            "1000:\tlearn: 0.0175694\ttotal: 6.74s\tremaining: 12.6s\n",
            "2000:\tlearn: 0.0046302\ttotal: 14.7s\tremaining: 6.43s\n",
            "2878:\tlearn: 0.0021992\ttotal: 20s\tremaining: 0us\n",
            "0:\tlearn: 1.6603258\ttotal: 5.95ms\tremaining: 15.3s\n",
            "1000:\tlearn: 0.0246411\ttotal: 7.89s\tremaining: 12.5s\n",
            "2000:\tlearn: 0.0098689\ttotal: 13.8s\tremaining: 4s\n",
            "2579:\tlearn: 0.0068755\ttotal: 17.3s\tremaining: 0us\n",
            "0:\tlearn: 1.7109974\ttotal: 9.76ms\tremaining: 26.2s\n",
            "1000:\tlearn: 0.0229271\ttotal: 11.8s\tremaining: 19.8s\n",
            "2000:\tlearn: 0.0080609\ttotal: 23.4s\tremaining: 8s\n",
            "2683:\tlearn: 0.0050347\ttotal: 31.9s\tremaining: 0us\n",
            "0:\tlearn: 1.6392202\ttotal: 6.19ms\tremaining: 5.18s\n",
            "837:\tlearn: 0.0188145\ttotal: 4.99s\tremaining: 0us\n",
            "0:\tlearn: 1.6901007\ttotal: 6.71ms\tremaining: 19.3s\n",
            "1000:\tlearn: 0.0279152\ttotal: 7.94s\tremaining: 14.9s\n",
            "2000:\tlearn: 0.0104123\ttotal: 13.9s\tremaining: 6.1s\n",
            "2879:\tlearn: 0.0058227\ttotal: 21.1s\tremaining: 0us\n",
            "0:\tlearn: 1.6396324\ttotal: 9.63ms\tremaining: 28.5s\n",
            "1000:\tlearn: 0.0139798\ttotal: 10.3s\tremaining: 20.2s\n",
            "2000:\tlearn: 0.0051702\ttotal: 21.4s\tremaining: 10.3s\n",
            "2963:\tlearn: 0.0028613\ttotal: 32.7s\tremaining: 0us\n",
            "0:\tlearn: 1.6858587\ttotal: 10.2ms\tremaining: 39.9s\n",
            "1000:\tlearn: 0.0145038\ttotal: 11.8s\tremaining: 34.1s\n",
            "2000:\tlearn: 0.0045306\ttotal: 23.5s\tremaining: 22.3s\n",
            "3000:\tlearn: 0.0023143\ttotal: 35.3s\tremaining: 10.6s\n",
            "3899:\tlearn: 0.0015041\ttotal: 44.9s\tremaining: 0us\n",
            "0:\tlearn: 1.7257847\ttotal: 24.9ms\tremaining: 1m 20s\n",
            "1000:\tlearn: 0.0181683\ttotal: 20.7s\tremaining: 46.3s\n",
            "2000:\tlearn: 0.0056775\ttotal: 41.4s\tremaining: 25.7s\n",
            "3000:\tlearn: 0.0027669\ttotal: 1m 2s\tremaining: 4.96s\n",
            "3240:\tlearn: 0.0024374\ttotal: 1m 6s\tremaining: 0us\n",
            "0:\tlearn: 1.5908331\ttotal: 11ms\tremaining: 16.4s\n",
            "1000:\tlearn: 0.0053075\ttotal: 12.1s\tremaining: 6.01s\n",
            "1498:\tlearn: 0.0026923\ttotal: 19s\tremaining: 0us\n",
            "0:\tlearn: 1.6711076\ttotal: 4.03ms\tremaining: 13s\n",
            "1000:\tlearn: 0.0373870\ttotal: 4.01s\tremaining: 8.87s\n",
            "2000:\tlearn: 0.0158519\ttotal: 8.05s\tremaining: 4.89s\n",
            "3000:\tlearn: 0.0084784\ttotal: 14.1s\tremaining: 1.01s\n",
            "3215:\tlearn: 0.0075226\ttotal: 15s\tremaining: 0us\n",
            "0:\tlearn: 1.7617531\ttotal: 13.3ms\tremaining: 30s\n",
            "1000:\tlearn: 0.0527247\ttotal: 19.7s\tremaining: 24.5s\n",
            "2000:\tlearn: 0.0217533\ttotal: 40.9s\tremaining: 5.05s\n",
            "2247:\tlearn: 0.0182116\ttotal: 45.3s\tremaining: 0us\n",
            "0:\tlearn: 1.6713579\ttotal: 9.75ms\tremaining: 39s\n",
            "1000:\tlearn: 0.0095870\ttotal: 11.8s\tremaining: 35.4s\n",
            "2000:\tlearn: 0.0027863\ttotal: 23.5s\tremaining: 23.5s\n",
            "3000:\tlearn: 0.0013817\ttotal: 35.2s\tremaining: 11.7s\n",
            "3999:\tlearn: 0.0008569\ttotal: 46.9s\tremaining: 0us\n",
            "0:\tlearn: 1.6202846\ttotal: 6.04ms\tremaining: 14.3s\n",
            "1000:\tlearn: 0.0064302\ttotal: 6.06s\tremaining: 8.26s\n",
            "2000:\tlearn: 0.0014288\ttotal: 14.1s\tremaining: 2.56s\n",
            "2364:\tlearn: 0.0010311\ttotal: 16.3s\tremaining: 0us\n",
            "0:\tlearn: 1.5967104\ttotal: 13.6ms\tremaining: 28.8s\n",
            "1000:\tlearn: 0.0019579\ttotal: 11.8s\tremaining: 13.3s\n",
            "2000:\tlearn: 0.0004845\ttotal: 23.6s\tremaining: 1.44s\n",
            "2122:\tlearn: 0.0004355\ttotal: 24.8s\tremaining: 0us\n",
            "0:\tlearn: 1.6719712\ttotal: 6.1ms\tremaining: 17.7s\n",
            "1000:\tlearn: 0.0279901\ttotal: 6.23s\tremaining: 11.8s\n",
            "2000:\tlearn: 0.0114073\ttotal: 14.3s\tremaining: 6.45s\n",
            "2900:\tlearn: 0.0066161\ttotal: 19.9s\tremaining: 0us\n",
            "0:\tlearn: 1.6083908\ttotal: 6.25ms\tremaining: 3.07s\n",
            "491:\tlearn: 0.0294419\ttotal: 5.18s\tremaining: 0us\n",
            "0:\tlearn: 1.6753588\ttotal: 10.5ms\tremaining: 42s\n",
            "1000:\tlearn: 0.0127617\ttotal: 11.7s\tremaining: 35s\n",
            "2000:\tlearn: 0.0041565\ttotal: 23.3s\tremaining: 23.3s\n",
            "3000:\tlearn: 0.0021331\ttotal: 35.4s\tremaining: 11.8s\n",
            "3999:\tlearn: 0.0013504\ttotal: 47.4s\tremaining: 0us\n",
            "0:\tlearn: 1.6220184\ttotal: 9.51ms\tremaining: 13.1s\n",
            "1000:\tlearn: 0.0066517\ttotal: 11.8s\tremaining: 4.44s\n",
            "1377:\tlearn: 0.0038236\ttotal: 15.5s\tremaining: 0us\n",
            "0:\tlearn: 1.6217504\ttotal: 9.7ms\tremaining: 10.5s\n",
            "1000:\tlearn: 0.0061031\ttotal: 11.7s\tremaining: 983ms\n",
            "1084:\tlearn: 0.0052994\ttotal: 12.6s\tremaining: 0us\n",
            "0:\tlearn: 1.6514083\ttotal: 7.26ms\tremaining: 17.1s\n",
            "1000:\tlearn: 0.0233906\ttotal: 7.92s\tremaining: 10.8s\n",
            "2000:\tlearn: 0.0091402\ttotal: 13.9s\tremaining: 2.5s\n",
            "2360:\tlearn: 0.0072469\ttotal: 17.9s\tremaining: 0us\n",
            "0:\tlearn: 1.7736283\ttotal: 18.8ms\tremaining: 1m 10s\n",
            "1000:\tlearn: 0.1586791\ttotal: 5.97s\tremaining: 16.5s\n",
            "2000:\tlearn: 0.0828253\ttotal: 13.8s\tremaining: 12.2s\n",
            "3000:\tlearn: 0.0558417\ttotal: 19.7s\tremaining: 5.02s\n",
            "3764:\tlearn: 0.0440053\ttotal: 25.7s\tremaining: 0us\n",
            "0:\tlearn: 1.6037826\ttotal: 17.7ms\tremaining: 37s\n",
            "1000:\tlearn: 0.0033155\ttotal: 19.8s\tremaining: 21.6s\n",
            "2000:\tlearn: 0.0011338\ttotal: 40s\tremaining: 1.78s\n",
            "2089:\tlearn: 0.0010634\ttotal: 42.4s\tremaining: 0us\n",
            "0:\tlearn: 1.6524305\ttotal: 3.91ms\tremaining: 11.4s\n",
            "1000:\tlearn: 0.0287062\ttotal: 3.9s\tremaining: 7.5s\n",
            "2000:\tlearn: 0.0106249\ttotal: 7.84s\tremaining: 3.63s\n",
            "2925:\tlearn: 0.0057071\ttotal: 13.5s\tremaining: 0us\n",
            "0:\tlearn: 1.6985882\ttotal: 3.96ms\tremaining: 14.8s\n",
            "1000:\tlearn: 0.0494887\ttotal: 3.95s\tremaining: 10.8s\n",
            "2000:\tlearn: 0.0229736\ttotal: 7.89s\tremaining: 6.88s\n",
            "3000:\tlearn: 0.0130858\ttotal: 13.9s\tremaining: 3.44s\n",
            "3746:\tlearn: 0.0091593\ttotal: 16.8s\tremaining: 0us\n",
            "0:\tlearn: 1.5905233\ttotal: 4ms\tremaining: 6.87s\n",
            "1000:\tlearn: 0.0135096\ttotal: 3.94s\tremaining: 2.82s\n",
            "1717:\tlearn: 0.0051205\ttotal: 8.76s\tremaining: 0us\n",
            "0:\tlearn: 1.7124076\ttotal: 13.4ms\tremaining: 20.9s\n",
            "1000:\tlearn: 0.0163346\ttotal: 19.1s\tremaining: 10.6s\n",
            "1554:\tlearn: 0.0082030\ttotal: 30.4s\tremaining: 0us\n",
            "0:\tlearn: 1.6230621\ttotal: 9.68ms\tremaining: 28.4s\n",
            "1000:\tlearn: 0.0117579\ttotal: 11.4s\tremaining: 22.1s\n",
            "2000:\tlearn: 0.0042732\ttotal: 22.8s\tremaining: 10.6s\n",
            "2932:\tlearn: 0.0024592\ttotal: 31.7s\tremaining: 0us\n",
            "0:\tlearn: 1.6917036\ttotal: 13.2ms\tremaining: 35s\n",
            "1000:\tlearn: 0.0127662\ttotal: 20.6s\tremaining: 33.9s\n",
            "2000:\tlearn: 0.0043119\ttotal: 39.6s\tremaining: 12.7s\n",
            "2643:\tlearn: 0.0027884\ttotal: 52.6s\tremaining: 0us\n",
            "0:\tlearn: 1.6510996\ttotal: 5.41ms\tremaining: 15.9s\n",
            "1000:\tlearn: 0.0379182\ttotal: 5.91s\tremaining: 11.4s\n",
            "2000:\tlearn: 0.0176647\ttotal: 9.85s\tremaining: 4.59s\n",
            "2933:\tlearn: 0.0105077\ttotal: 13.5s\tremaining: 0us\n",
            "0:\tlearn: 1.7216160\ttotal: 6.44ms\tremaining: 25.8s\n",
            "1000:\tlearn: 0.0317043\ttotal: 8.13s\tremaining: 24.4s\n",
            "2000:\tlearn: 0.0096600\ttotal: 14.3s\tremaining: 14.2s\n",
            "3000:\tlearn: 0.0042334\ttotal: 22.3s\tremaining: 7.42s\n",
            "3999:\tlearn: 0.0022628\ttotal: 28.4s\tremaining: 0us\n",
            "0:\tlearn: 1.7215140\ttotal: 9.64ms\tremaining: 31s\n",
            "1000:\tlearn: 0.0683423\ttotal: 5.86s\tremaining: 13s\n",
            "2000:\tlearn: 0.0361991\ttotal: 9.73s\tremaining: 5.91s\n",
            "3000:\tlearn: 0.0228269\ttotal: 14.4s\tremaining: 1.03s\n",
            "3215:\tlearn: 0.0209092\ttotal: 16.5s\tremaining: 0us\n",
            "0:\tlearn: 1.6026970\ttotal: 23.5ms\tremaining: 1m 20s\n",
            "1000:\tlearn: 0.0058984\ttotal: 10s\tremaining: 24.2s\n",
            "2000:\tlearn: 0.0018458\ttotal: 21.9s\tremaining: 15.5s\n",
            "3000:\tlearn: 0.0009905\ttotal: 33.7s\tremaining: 4.72s\n",
            "3420:\tlearn: 0.0008153\ttotal: 39s\tremaining: 0us\n",
            "0:\tlearn: 1.6150751\ttotal: 24.4ms\tremaining: 1m 11s\n",
            "1000:\tlearn: 0.0112082\ttotal: 10.8s\tremaining: 20.8s\n",
            "2000:\tlearn: 0.0039432\ttotal: 22.7s\tremaining: 10.6s\n",
            "2931:\tlearn: 0.0022850\ttotal: 33.9s\tremaining: 0us\n",
            "0:\tlearn: 1.6156735\ttotal: 10.1ms\tremaining: 23.5s\n",
            "1000:\tlearn: 0.0069936\ttotal: 12.1s\tremaining: 15.9s\n",
            "2000:\tlearn: 0.0022691\ttotal: 24.2s\tremaining: 3.8s\n"
          ]
        },
        {
          "name": "stderr",
          "output_type": "stream",
          "text": [
            "2023-11-08 13:24:35,400 - mealpy.swarm_based.ABC.OriginalABC - INFO - >>>Problem: P, Epoch: 7, Current best: -0.9674457429048414, Global best: -0.9674457429048414, Runtime: 1088.55030 seconds\n"
          ]
        },
        {
          "name": "stdout",
          "output_type": "stream",
          "text": [
            "2314:\tlearn: 0.0018159\ttotal: 27.4s\tremaining: 0us\n",
            "0:\tlearn: 1.6132180\ttotal: 10.1ms\tremaining: 34.1s\n",
            "1000:\tlearn: 0.0023728\ttotal: 12s\tremaining: 28.6s\n",
            "2000:\tlearn: 0.0005554\ttotal: 23.9s\tremaining: 16.6s\n",
            "3000:\tlearn: 0.0002704\ttotal: 35.7s\tremaining: 4.64s\n",
            "3390:\tlearn: 0.0002216\ttotal: 39.6s\tremaining: 0us\n",
            "0:\tlearn: 1.6621918\ttotal: 6.09ms\tremaining: 19.2s\n",
            "1000:\tlearn: 0.0166184\ttotal: 7.79s\tremaining: 16.7s\n",
            "2000:\tlearn: 0.0051462\ttotal: 13.9s\tremaining: 7.98s\n",
            "3000:\tlearn: 0.0025773\ttotal: 21.9s\tremaining: 1.07s\n",
            "3146:\tlearn: 0.0023740\ttotal: 22.8s\tremaining: 0us\n",
            "0:\tlearn: 1.6332090\ttotal: 13.1ms\tremaining: 44.4s\n",
            "1000:\tlearn: 0.0065205\ttotal: 19.5s\tremaining: 46.6s\n",
            "2000:\tlearn: 0.0022516\ttotal: 40.7s\tremaining: 28.4s\n",
            "3000:\tlearn: 0.0012590\ttotal: 1m\tremaining: 7.9s\n",
            "3395:\tlearn: 0.0010612\ttotal: 1m 8s\tremaining: 0us\n",
            "0:\tlearn: 1.6092954\ttotal: 10.4ms\tremaining: 27.7s\n",
            "1000:\tlearn: 0.0037728\ttotal: 11.9s\tremaining: 19.7s\n",
            "2000:\tlearn: 0.0010685\ttotal: 23s\tremaining: 7.53s\n",
            "2654:\tlearn: 0.0006709\ttotal: 30.3s\tremaining: 0us\n",
            "0:\tlearn: 1.6133609\ttotal: 9.79ms\tremaining: 17.8s\n",
            "1000:\tlearn: 0.0088149\ttotal: 11.9s\tremaining: 9.71s\n",
            "1817:\tlearn: 0.0035257\ttotal: 22s\tremaining: 0us\n",
            "0:\tlearn: 1.6591123\ttotal: 6.19ms\tremaining: 12.5s\n",
            "1000:\tlearn: 0.0179027\ttotal: 6.06s\tremaining: 6.22s\n",
            "2000:\tlearn: 0.0058135\ttotal: 14.1s\tremaining: 198ms\n",
            "2028:\tlearn: 0.0056771\ttotal: 14.3s\tremaining: 0us\n",
            "0:\tlearn: 1.7254977\ttotal: 6.09ms\tremaining: 17s\n",
            "1000:\tlearn: 0.0446352\ttotal: 6.04s\tremaining: 10.8s\n",
            "2000:\tlearn: 0.0186718\ttotal: 14.1s\tremaining: 5.59s\n",
            "2793:\tlearn: 0.0112894\ttotal: 18.9s\tremaining: 0us\n",
            "0:\tlearn: 1.6635341\ttotal: 4.15ms\tremaining: 16.6s\n",
            "1000:\tlearn: 0.0335316\ttotal: 6.03s\tremaining: 18.1s\n",
            "2000:\tlearn: 0.0131432\ttotal: 10s\tremaining: 10s\n",
            "3000:\tlearn: 0.0068611\ttotal: 14.1s\tremaining: 4.68s\n",
            "3999:\tlearn: 0.0041938\ttotal: 20.1s\tremaining: 0us\n",
            "0:\tlearn: 1.6702198\ttotal: 13.3ms\tremaining: 29.7s\n",
            "1000:\tlearn: 0.0072124\ttotal: 19.7s\tremaining: 24.2s\n",
            "2000:\tlearn: 0.0023208\ttotal: 40.7s\tremaining: 4.65s\n",
            "2229:\tlearn: 0.0019464\ttotal: 44.6s\tremaining: 0us\n",
            "0:\tlearn: 1.5908321\ttotal: 9.63ms\tremaining: 18.2s\n",
            "1000:\tlearn: 0.0051074\ttotal: 11.3s\tremaining: 10.1s\n",
            "1891:\tlearn: 0.0018118\ttotal: 22.3s\tremaining: 0us\n",
            "0:\tlearn: 1.7011651\ttotal: 11.4ms\tremaining: 34.7s\n",
            "1000:\tlearn: 0.0213515\ttotal: 9.82s\tremaining: 20s\n",
            "2000:\tlearn: 0.0074494\ttotal: 21.4s\tremaining: 11.1s\n",
            "3000:\tlearn: 0.0038919\ttotal: 32.8s\tremaining: 394ms\n",
            "3036:\tlearn: 0.0038245\ttotal: 33.2s\tremaining: 0us\n",
            "0:\tlearn: 1.5932389\ttotal: 15.8ms\tremaining: 46.7s\n",
            "1000:\tlearn: 0.0091583\ttotal: 11.7s\tremaining: 22.8s\n",
            "2000:\tlearn: 0.0033182\ttotal: 23.2s\tremaining: 11.1s\n",
            "2958:\tlearn: 0.0018914\ttotal: 34.4s\tremaining: 0us\n",
            "0:\tlearn: 1.6777144\ttotal: 9.31ms\tremaining: 37.2s\n",
            "1000:\tlearn: 0.0128220\ttotal: 10.6s\tremaining: 31.9s\n",
            "2000:\tlearn: 0.0040368\ttotal: 22s\tremaining: 21.9s\n",
            "3000:\tlearn: 0.0020701\ttotal: 33.8s\tremaining: 11.2s\n",
            "3999:\tlearn: 0.0012947\ttotal: 45.5s\tremaining: 0us\n",
            "0:\tlearn: 1.7896243\ttotal: 9.63ms\tremaining: 29.8s\n",
            "1000:\tlearn: 0.7487361\ttotal: 11.9s\tremaining: 24.9s\n",
            "2000:\tlearn: 0.4483055\ttotal: 23.7s\tremaining: 13s\n",
            "3000:\tlearn: 0.3154759\ttotal: 35.8s\tremaining: 1.17s\n",
            "3098:\tlearn: 0.3066584\ttotal: 36.8s\tremaining: 0us\n",
            "0:\tlearn: 1.5940868\ttotal: 13.6ms\tremaining: 27.6s\n",
            "1000:\tlearn: 0.0027699\ttotal: 38.9s\tremaining: 39.9s\n",
            "2000:\tlearn: 0.0009052\ttotal: 58.6s\tremaining: 790ms\n",
            "2027:\tlearn: 0.0008882\ttotal: 59.1s\tremaining: 0us\n",
            "0:\tlearn: 1.6918472\ttotal: 4.17ms\tremaining: 12.7s\n",
            "1000:\tlearn: 0.0424157\ttotal: 3.78s\tremaining: 7.74s\n",
            "2000:\tlearn: 0.0178146\ttotal: 9.57s\tremaining: 5.01s\n",
            "3000:\tlearn: 0.0094434\ttotal: 13.4s\tremaining: 214ms\n",
            "3048:\tlearn: 0.0092037\ttotal: 13.6s\tremaining: 0us\n",
            "0:\tlearn: 1.7081274\ttotal: 9.5ms\tremaining: 26.1s\n",
            "1000:\tlearn: 0.0287957\ttotal: 11.4s\tremaining: 19.9s\n",
            "2000:\tlearn: 0.0120508\ttotal: 22.7s\tremaining: 8.46s\n",
            "2746:\tlearn: 0.0075178\ttotal: 29.8s\tremaining: 0us\n",
            "0:\tlearn: 1.7005855\ttotal: 9.31ms\tremaining: 37.2s\n",
            "1000:\tlearn: 0.0159902\ttotal: 11.4s\tremaining: 34.1s\n",
            "2000:\tlearn: 0.0047247\ttotal: 23.4s\tremaining: 23.4s\n",
            "3000:\tlearn: 0.0022909\ttotal: 34.9s\tremaining: 11.6s\n",
            "3999:\tlearn: 0.0013786\ttotal: 46.1s\tremaining: 0us\n",
            "0:\tlearn: 1.6614684\ttotal: 5.89ms\tremaining: 16.1s\n",
            "1000:\tlearn: 0.0221508\ttotal: 5.66s\tremaining: 9.83s\n",
            "2000:\tlearn: 0.0079445\ttotal: 13.3s\tremaining: 4.89s\n",
            "2738:\tlearn: 0.0048816\ttotal: 17.5s\tremaining: 0us\n",
            "0:\tlearn: 1.6355083\ttotal: 6ms\tremaining: 6.76s\n",
            "1000:\tlearn: 0.0136513\ttotal: 6.82s\tremaining: 858ms\n",
            "1126:\tlearn: 0.0113329\ttotal: 8.41s\tremaining: 0us\n",
            "0:\tlearn: 1.5932389\ttotal: 9.54ms\tremaining: 16.9s\n",
            "1000:\tlearn: 0.0091583\ttotal: 9.39s\tremaining: 7.26s\n",
            "1774:\tlearn: 0.0039388\ttotal: 18.5s\tremaining: 0us\n",
            "0:\tlearn: 1.6737834\ttotal: 5.86ms\tremaining: 18.6s\n",
            "1000:\tlearn: 0.0241884\ttotal: 7.15s\tremaining: 15.6s\n",
            "2000:\tlearn: 0.0087756\ttotal: 13.4s\tremaining: 7.85s\n",
            "3000:\tlearn: 0.0046456\ttotal: 20.6s\tremaining: 1.21s\n",
            "3177:\tlearn: 0.0042220\ttotal: 22s\tremaining: 0us\n",
            "0:\tlearn: 1.6690315\ttotal: 5.8ms\tremaining: 18.5s\n",
            "1000:\tlearn: 0.0207614\ttotal: 5.72s\tremaining: 12.5s\n",
            "2000:\tlearn: 0.0070079\ttotal: 13.4s\tremaining: 7.92s\n",
            "3000:\tlearn: 0.0035792\ttotal: 19.1s\tremaining: 1.16s\n",
            "3182:\tlearn: 0.0032334\ttotal: 20.2s\tremaining: 0us\n",
            "0:\tlearn: 1.6159515\ttotal: 9.73ms\tremaining: 29.6s\n",
            "1000:\tlearn: 0.0113372\ttotal: 11.3s\tremaining: 23s\n",
            "2000:\tlearn: 0.0040304\ttotal: 22.6s\tremaining: 11.8s\n",
            "3000:\tlearn: 0.0022351\ttotal: 34.2s\tremaining: 479ms\n",
            "3042:\tlearn: 0.0021961\ttotal: 34.6s\tremaining: 0us\n",
            "0:\tlearn: 1.6226395\ttotal: 4.15ms\tremaining: 12.2s\n",
            "1000:\tlearn: 0.0237718\ttotal: 3.79s\tremaining: 7.32s\n",
            "2000:\tlearn: 0.0084607\ttotal: 8.19s\tremaining: 3.81s\n",
            "2932:\tlearn: 0.0044401\ttotal: 13.8s\tremaining: 0us\n",
            "0:\tlearn: 1.6712734\ttotal: 9.74ms\tremaining: 30.3s\n",
            "1000:\tlearn: 0.0131002\ttotal: 11.7s\tremaining: 24.8s\n",
            "2000:\tlearn: 0.0043301\ttotal: 22.4s\tremaining: 12.4s\n",
            "3000:\tlearn: 0.0022676\ttotal: 33.2s\tremaining: 1.21s\n",
            "3109:\tlearn: 0.0021478\ttotal: 34.3s\tremaining: 0us\n",
            "0:\tlearn: 1.6164190\ttotal: 24.6ms\tremaining: 51.5s\n",
            "1000:\tlearn: 0.0037675\ttotal: 20.7s\tremaining: 22.5s\n",
            "2000:\tlearn: 0.0012536\ttotal: 39.6s\tremaining: 1.78s\n",
            "2090:\tlearn: 0.0011770\ttotal: 41.8s\tremaining: 0us\n",
            "0:\tlearn: 1.5912462\ttotal: 22.7ms\tremaining: 49.2s\n",
            "1000:\tlearn: 0.0062473\ttotal: 10.7s\tremaining: 12.5s\n",
            "2000:\tlearn: 0.0020051\ttotal: 22.3s\tremaining: 1.9s\n",
            "2171:\tlearn: 0.0017564\ttotal: 24s\tremaining: 0us\n",
            "0:\tlearn: 1.6973575\ttotal: 13ms\tremaining: 50.7s\n",
            "1000:\tlearn: 0.0103127\ttotal: 21.2s\tremaining: 1m 1s\n",
            "2000:\tlearn: 0.0031500\ttotal: 40.5s\tremaining: 38.4s\n",
            "3000:\tlearn: 0.0016026\ttotal: 1m 1s\tremaining: 18.4s\n",
            "3895:\tlearn: 0.0010758\ttotal: 1m 19s\tremaining: 0us\n",
            "0:\tlearn: 1.5908098\ttotal: 6.01ms\tremaining: 16.5s\n",
            "1000:\tlearn: 0.0092368\ttotal: 7.88s\tremaining: 13.8s\n",
            "2000:\tlearn: 0.0029067\ttotal: 13.8s\tremaining: 5.14s\n",
            "2747:\tlearn: 0.0017659\ttotal: 19.8s\tremaining: 0us\n",
            "0:\tlearn: 1.5928276\ttotal: 22.3ms\tremaining: 1m 7s\n",
            "1000:\tlearn: 0.0087236\ttotal: 10.1s\tremaining: 20.4s\n",
            "2000:\tlearn: 0.0030545\ttotal: 21.8s\tremaining: 11.1s\n",
            "3000:\tlearn: 0.0016987\ttotal: 33.9s\tremaining: 271ms\n",
            "3024:\tlearn: 0.0016799\ttotal: 34.1s\tremaining: 0us\n",
            "0:\tlearn: 1.6590503\ttotal: 6.53ms\tremaining: 24.3s\n",
            "1000:\tlearn: 0.0191877\ttotal: 8.22s\tremaining: 22.3s\n",
            "2000:\tlearn: 0.0065763\ttotal: 14.4s\tremaining: 12.4s\n",
            "3000:\tlearn: 0.0034125\ttotal: 22.6s\tremaining: 5.42s\n",
            "3719:\tlearn: 0.0024061\ttotal: 27s\tremaining: 0us\n",
            "0:\tlearn: 1.6176425\ttotal: 9.6ms\tremaining: 950ms\n",
            "99:\tlearn: 0.1143061\ttotal: 1.02s\tremaining: 0us\n",
            "0:\tlearn: 1.6817835\ttotal: 10ms\tremaining: 40s\n",
            "1000:\tlearn: 0.0121511\ttotal: 12s\tremaining: 36s\n",
            "2000:\tlearn: 0.0035869\ttotal: 24.1s\tremaining: 24s\n",
            "3000:\tlearn: 0.0017506\ttotal: 36s\tremaining: 12s\n",
            "3999:\tlearn: 0.0010814\ttotal: 47.2s\tremaining: 0us\n",
            "0:\tlearn: 1.7168088\ttotal: 9.4ms\tremaining: 37.6s\n",
            "1000:\tlearn: 0.0275992\ttotal: 10.1s\tremaining: 30.3s\n",
            "2000:\tlearn: 0.0106509\ttotal: 20.4s\tremaining: 20.4s\n",
            "3000:\tlearn: 0.0056881\ttotal: 31.8s\tremaining: 10.6s\n",
            "3999:\tlearn: 0.0035366\ttotal: 43.2s\tremaining: 0us\n",
            "0:\tlearn: 1.5918368\ttotal: 9.51ms\tremaining: 24.5s\n",
            "1000:\tlearn: 0.0070524\ttotal: 11.3s\tremaining: 17.8s\n",
            "2000:\tlearn: 0.0023660\ttotal: 22.6s\tremaining: 6.49s\n",
            "2573:\tlearn: 0.0016509\ttotal: 28s\tremaining: 0us\n",
            "0:\tlearn: 1.6847257\ttotal: 9.13ms\tremaining: 28.3s\n",
            "1000:\tlearn: 0.0115775\ttotal: 11.3s\tremaining: 23.6s\n",
            "2000:\tlearn: 0.0032195\ttotal: 22.5s\tremaining: 12.3s\n",
            "3000:\tlearn: 0.0015535\ttotal: 32.9s\tremaining: 1.08s\n",
            "3099:\tlearn: 0.0014651\ttotal: 34.6s\tremaining: 0us\n",
            "0:\tlearn: 1.7351433\ttotal: 9.17ms\tremaining: 23.4s\n",
            "1000:\tlearn: 0.0298003\ttotal: 9.3s\tremaining: 14.4s\n",
            "2000:\tlearn: 0.0097640\ttotal: 20.6s\tremaining: 5.64s\n",
            "2548:\tlearn: 0.0063245\ttotal: 27.5s\tremaining: 0us\n",
            "0:\tlearn: 1.6469625\ttotal: 5.94ms\tremaining: 20.3s\n",
            "1000:\tlearn: 0.0113269\ttotal: 5.59s\tremaining: 13.5s\n",
            "2000:\tlearn: 0.0031542\ttotal: 13.1s\tremaining: 9.34s\n",
            "3000:\tlearn: 0.0014841\ttotal: 18.7s\tremaining: 2.64s\n",
            "3423:\tlearn: 0.0011556\ttotal: 21.1s\tremaining: 0us\n",
            "0:\tlearn: 1.6138611\ttotal: 9.38ms\tremaining: 29.5s\n",
            "1000:\tlearn: 0.0060889\ttotal: 11.2s\tremaining: 23.9s\n",
            "2000:\tlearn: 0.0018546\ttotal: 22.5s\tremaining: 12.8s\n",
            "3000:\tlearn: 0.0009996\ttotal: 33.8s\tremaining: 1.61s\n"
          ]
        },
        {
          "name": "stderr",
          "output_type": "stream",
          "text": [
            "2023-11-08 13:45:25,975 - mealpy.swarm_based.ABC.OriginalABC - INFO - >>>Problem: P, Epoch: 8, Current best: -0.9674457429048414, Global best: -0.9674457429048414, Runtime: 1250.57306 seconds\n"
          ]
        },
        {
          "name": "stdout",
          "output_type": "stream",
          "text": [
            "3143:\tlearn: 0.0009303\ttotal: 35.1s\tremaining: 0us\n",
            "0:\tlearn: 1.6265904\ttotal: 13.1ms\tremaining: 43.4s\n",
            "1000:\tlearn: 0.0013948\ttotal: 18.6s\tremaining: 43.3s\n",
            "2000:\tlearn: 0.0003728\ttotal: 39s\tremaining: 25.8s\n",
            "3000:\tlearn: 0.0001903\ttotal: 57.4s\tremaining: 6.17s\n",
            "3323:\tlearn: 0.0001622\ttotal: 1m 4s\tremaining: 0us\n",
            "0:\tlearn: 1.6708776\ttotal: 9.6ms\tremaining: 36.3s\n",
            "1000:\tlearn: 0.0115800\ttotal: 10.3s\tremaining: 28.5s\n",
            "2000:\tlearn: 0.0035952\ttotal: 20.5s\tremaining: 18.3s\n",
            "3000:\tlearn: 0.0018504\ttotal: 31.7s\tremaining: 8.22s\n",
            "3778:\tlearn: 0.0012666\ttotal: 40.8s\tremaining: 0us\n",
            "0:\tlearn: 1.6280776\ttotal: 12.5ms\tremaining: 42.5s\n",
            "1000:\tlearn: 0.0055228\ttotal: 18.5s\tremaining: 44.3s\n",
            "2000:\tlearn: 0.0019456\ttotal: 38.8s\tremaining: 27.1s\n",
            "3000:\tlearn: 0.0010750\ttotal: 57.2s\tremaining: 7.57s\n",
            "3397:\tlearn: 0.0009050\ttotal: 1m 5s\tremaining: 0us\n",
            "0:\tlearn: 1.5907281\ttotal: 9.54ms\tremaining: 21.2s\n",
            "1000:\tlearn: 0.0050730\ttotal: 9.39s\tremaining: 11.5s\n",
            "2000:\tlearn: 0.0016299\ttotal: 20.6s\tremaining: 2.31s\n",
            "2225:\tlearn: 0.0013721\ttotal: 22.9s\tremaining: 0us\n",
            "0:\tlearn: 1.5909422\ttotal: 17.2ms\tremaining: 57s\n",
            "1000:\tlearn: 0.0055639\ttotal: 11.1s\tremaining: 25.5s\n",
            "2000:\tlearn: 0.0018115\ttotal: 22.4s\tremaining: 14.6s\n",
            "3000:\tlearn: 0.0009992\ttotal: 33.7s\tremaining: 3.41s\n",
            "3303:\tlearn: 0.0008729\ttotal: 36.6s\tremaining: 0us\n",
            "0:\tlearn: 1.6519110\ttotal: 4.05ms\tremaining: 8.11s\n",
            "1000:\tlearn: 0.0275066\ttotal: 4.54s\tremaining: 4.54s\n",
            "2000:\tlearn: 0.0096852\ttotal: 9.54s\tremaining: 9.53ms\n",
            "2002:\tlearn: 0.0096760\ttotal: 9.55s\tremaining: 0us\n",
            "0:\tlearn: 1.6889702\ttotal: 6.01ms\tremaining: 13.7s\n",
            "1000:\tlearn: 0.0169348\ttotal: 5.76s\tremaining: 7.37s\n",
            "2000:\tlearn: 0.0042516\ttotal: 13.5s\tremaining: 1.88s\n",
            "2280:\tlearn: 0.0031991\ttotal: 15.1s\tremaining: 0us\n",
            "0:\tlearn: 1.6216532\ttotal: 5.86ms\tremaining: 15.9s\n",
            "1000:\tlearn: 0.0169157\ttotal: 6.67s\tremaining: 11.4s\n",
            "2000:\tlearn: 0.0060122\ttotal: 13.4s\tremaining: 4.78s\n",
            "2715:\tlearn: 0.0037870\ttotal: 17.4s\tremaining: 0us\n",
            "0:\tlearn: 1.7031257\ttotal: 12.8ms\tremaining: 27.1s\n",
            "1000:\tlearn: 0.0149426\ttotal: 20.3s\tremaining: 22.7s\n",
            "2000:\tlearn: 0.0051141\ttotal: 38.7s\tremaining: 2.28s\n",
            "2118:\tlearn: 0.0046579\ttotal: 40.6s\tremaining: 0us\n",
            "0:\tlearn: 1.6022936\ttotal: 12.7ms\tremaining: 24.4s\n",
            "1000:\tlearn: 0.0033084\ttotal: 20.5s\tremaining: 18.8s\n",
            "1919:\tlearn: 0.0011816\ttotal: 37.6s\tremaining: 0us\n",
            "0:\tlearn: 1.7364943\ttotal: 5.83ms\tremaining: 14s\n",
            "1000:\tlearn: 0.0562568\ttotal: 7.6s\tremaining: 10.6s\n",
            "2000:\tlearn: 0.0263022\ttotal: 13.3s\tremaining: 2.64s\n",
            "2398:\tlearn: 0.0207383\ttotal: 15.6s\tremaining: 0us\n",
            "0:\tlearn: 1.5932389\ttotal: 9.67ms\tremaining: 25.7s\n",
            "1000:\tlearn: 0.0091583\ttotal: 11.3s\tremaining: 18.8s\n",
            "2000:\tlearn: 0.0033182\ttotal: 22.6s\tremaining: 7.44s\n",
            "2658:\tlearn: 0.0022217\ttotal: 29.7s\tremaining: 0us\n",
            "0:\tlearn: 1.6526365\ttotal: 19ms\tremaining: 1m 15s\n",
            "1000:\tlearn: 0.0112760\ttotal: 10.2s\tremaining: 30.5s\n",
            "2000:\tlearn: 0.0037025\ttotal: 21.3s\tremaining: 21.3s\n",
            "3000:\tlearn: 0.0019904\ttotal: 32.5s\tremaining: 10.8s\n",
            "3999:\tlearn: 0.0012953\ttotal: 43.6s\tremaining: 0us\n",
            "0:\tlearn: 1.6167962\ttotal: 13.7ms\tremaining: 45.2s\n",
            "1000:\tlearn: 0.0069850\ttotal: 19.2s\tremaining: 44.3s\n",
            "2000:\tlearn: 0.0025383\ttotal: 39.6s\tremaining: 25.9s\n",
            "3000:\tlearn: 0.0014359\ttotal: 58.7s\tremaining: 6.02s\n",
            "3308:\tlearn: 0.0012623\ttotal: 1m 6s\tremaining: 0us\n",
            "0:\tlearn: 1.5909206\ttotal: 9.34ms\tremaining: 17.7s\n",
            "1000:\tlearn: 0.0054324\ttotal: 10.6s\tremaining: 9.43s\n",
            "1894:\tlearn: 0.0019172\ttotal: 20.4s\tremaining: 0us\n",
            "0:\tlearn: 1.6297281\ttotal: 4ms\tremaining: 15.3s\n",
            "1000:\tlearn: 0.0272348\ttotal: 5.87s\tremaining: 16.5s\n",
            "2000:\tlearn: 0.0102928\ttotal: 9.77s\tremaining: 8.88s\n",
            "3000:\tlearn: 0.0053298\ttotal: 13.6s\tremaining: 3.71s\n",
            "3817:\tlearn: 0.0035493\ttotal: 18.6s\tremaining: 0us\n",
            "0:\tlearn: 1.6243212\ttotal: 20.9ms\tremaining: 54.4s\n",
            "1000:\tlearn: 0.0084515\ttotal: 9.66s\tremaining: 15.5s\n",
            "2000:\tlearn: 0.0027881\ttotal: 21s\tremaining: 6.33s\n",
            "2603:\tlearn: 0.0018762\ttotal: 28.6s\tremaining: 0us\n",
            "0:\tlearn: 1.6650884\ttotal: 12.5ms\tremaining: 50s\n",
            "1000:\tlearn: 0.0033034\ttotal: 18.8s\tremaining: 56.3s\n",
            "2000:\tlearn: 0.0008361\ttotal: 39.4s\tremaining: 39.3s\n",
            "3000:\tlearn: 0.0004112\ttotal: 58.2s\tremaining: 19.4s\n",
            "3999:\tlearn: 0.0002620\ttotal: 1m 18s\tremaining: 0us\n",
            "0:\tlearn: 1.5904817\ttotal: 14.5ms\tremaining: 43.7s\n",
            "1000:\tlearn: 0.0048376\ttotal: 9.89s\tremaining: 19.9s\n",
            "2000:\tlearn: 0.0015272\ttotal: 21.4s\tremaining: 10.9s\n",
            "3000:\tlearn: 0.0008114\ttotal: 32.9s\tremaining: 186ms\n",
            "3017:\tlearn: 0.0008053\ttotal: 33s\tremaining: 0us\n",
            "0:\tlearn: 1.6198395\ttotal: 9.43ms\tremaining: 7.63s\n",
            "809:\tlearn: 0.0081315\ttotal: 9.61s\tremaining: 0us\n",
            "0:\tlearn: 1.6702466\ttotal: 8.69ms\tremaining: 27.1s\n",
            "1000:\tlearn: 0.0204435\ttotal: 5.88s\tremaining: 12.5s\n",
            "2000:\tlearn: 0.0068004\ttotal: 13.7s\tremaining: 7.67s\n",
            "3000:\tlearn: 0.0034324\ttotal: 19.5s\tremaining: 792ms\n",
            "3122:\tlearn: 0.0032071\ttotal: 20.2s\tremaining: 0us\n",
            "0:\tlearn: 1.6308886\ttotal: 25ms\tremaining: 1m 28s\n",
            "1000:\tlearn: 0.0020085\ttotal: 20.7s\tremaining: 52.6s\n",
            "2000:\tlearn: 0.0005588\ttotal: 39.4s\tremaining: 30.3s\n",
            "3000:\tlearn: 0.0002877\ttotal: 59.9s\tremaining: 10.8s\n",
            "3540:\tlearn: 0.0002245\ttotal: 1m 9s\tremaining: 0us\n",
            "0:\tlearn: 1.5942873\ttotal: 11.9ms\tremaining: 33.5s\n",
            "1000:\tlearn: 0.0098260\ttotal: 6.76s\tremaining: 12.2s\n",
            "2000:\tlearn: 0.0030612\ttotal: 13.8s\tremaining: 5.57s\n",
            "2810:\tlearn: 0.0017555\ttotal: 19.1s\tremaining: 0us\n",
            "0:\tlearn: 1.5962997\ttotal: 14.1ms\tremaining: 38.6s\n",
            "1000:\tlearn: 0.0089608\ttotal: 11.5s\tremaining: 20s\n",
            "2000:\tlearn: 0.0031013\ttotal: 23s\tremaining: 8.48s\n",
            "2739:\tlearn: 0.0019710\ttotal: 30s\tremaining: 0us\n",
            "0:\tlearn: 1.6063033\ttotal: 13ms\tremaining: 45.5s\n",
            "1000:\tlearn: 0.0039350\ttotal: 20.6s\tremaining: 51.5s\n",
            "2000:\tlearn: 0.0013555\ttotal: 39.4s\tremaining: 29.5s\n",
            "3000:\tlearn: 0.0007602\ttotal: 59.7s\tremaining: 9.97s\n",
            "3501:\tlearn: 0.0006173\ttotal: 1m 8s\tremaining: 0us\n",
            "0:\tlearn: 1.5932389\ttotal: 9.43ms\tremaining: 24.7s\n",
            "1000:\tlearn: 0.0091583\ttotal: 11.5s\tremaining: 18.5s\n",
            "2000:\tlearn: 0.0033182\ttotal: 22.9s\tremaining: 7.06s\n",
            "2617:\tlearn: 0.0022774\ttotal: 29.3s\tremaining: 0us\n",
            "0:\tlearn: 1.6733068\ttotal: 19.7ms\tremaining: 1m 16s\n",
            "1000:\tlearn: 0.0129844\ttotal: 11.1s\tremaining: 31.6s\n",
            "2000:\tlearn: 0.0040614\ttotal: 22.6s\tremaining: 21s\n",
            "3000:\tlearn: 0.0020816\ttotal: 34.1s\tremaining: 9.77s\n",
            "3859:\tlearn: 0.0013899\ttotal: 44.3s\tremaining: 0us\n",
            "0:\tlearn: 1.6219736\ttotal: 9.36ms\tremaining: 26.7s\n",
            "1000:\tlearn: 0.0089042\ttotal: 11.1s\tremaining: 20.5s\n",
            "2000:\tlearn: 0.0029515\ttotal: 21.1s\tremaining: 8.99s\n",
            "2852:\tlearn: 0.0017231\ttotal: 31.2s\tremaining: 0us\n",
            "0:\tlearn: 1.6763388\ttotal: 9.46ms\tremaining: 37.8s\n",
            "1000:\tlearn: 0.0122559\ttotal: 11.5s\tremaining: 34.6s\n",
            "2000:\tlearn: 0.0037359\ttotal: 23s\tremaining: 23s\n",
            "3000:\tlearn: 0.0018944\ttotal: 34.5s\tremaining: 11.5s\n",
            "3999:\tlearn: 0.0011888\ttotal: 44s\tremaining: 0us\n",
            "0:\tlearn: 1.6852511\ttotal: 15.3ms\tremaining: 57.2s\n",
            "1000:\tlearn: 0.0047406\ttotal: 20.7s\tremaining: 56.7s\n",
            "2000:\tlearn: 0.0012085\ttotal: 39.7s\tremaining: 34.4s\n",
            "3000:\tlearn: 0.0005800\ttotal: 1m\tremaining: 14.8s\n",
            "3735:\tlearn: 0.0004056\ttotal: 1m 14s\tremaining: 0us\n",
            "0:\tlearn: 1.6459375\ttotal: 10.3ms\tremaining: 29.7s\n",
            "1000:\tlearn: 0.0136012\ttotal: 11.7s\tremaining: 21.9s\n",
            "2000:\tlearn: 0.0049006\ttotal: 23.2s\tremaining: 10.2s\n",
            "2877:\tlearn: 0.0028187\ttotal: 31.5s\tremaining: 0us\n",
            "0:\tlearn: 1.6909085\ttotal: 12.8ms\tremaining: 15.6s\n",
            "1000:\tlearn: 0.0144617\ttotal: 20.7s\tremaining: 4.54s\n",
            "1220:\tlearn: 0.0109310\ttotal: 24.4s\tremaining: 0us\n",
            "0:\tlearn: 1.6611017\ttotal: 3.83ms\tremaining: 10.6s\n",
            "1000:\tlearn: 0.0360259\ttotal: 3.8s\tremaining: 6.67s\n",
            "2000:\tlearn: 0.0153269\ttotal: 9.61s\tremaining: 3.64s\n",
            "2758:\tlearn: 0.0094700\ttotal: 12.7s\tremaining: 0us\n",
            "0:\tlearn: 1.7005624\ttotal: 5.95ms\tremaining: 14.4s\n",
            "1000:\tlearn: 0.0206922\ttotal: 8.11s\tremaining: 11.5s\n",
            "2000:\tlearn: 0.0054007\ttotal: 14.1s\tremaining: 2.98s\n",
            "2422:\tlearn: 0.0036166\ttotal: 16.6s\tremaining: 0us\n",
            "0:\tlearn: 1.6899243\ttotal: 10.3ms\tremaining: 23.8s\n",
            "1000:\tlearn: 0.0184312\ttotal: 12.1s\tremaining: 15.7s\n",
            "2000:\tlearn: 0.0062299\ttotal: 24s\tremaining: 3.58s\n",
            "2299:\tlearn: 0.0049822\ttotal: 26.9s\tremaining: 0us\n",
            "0:\tlearn: 1.7848460\ttotal: 9.35ms\tremaining: 37.4s\n",
            "1000:\tlearn: 0.2977362\ttotal: 11.5s\tremaining: 34.3s\n",
            "2000:\tlearn: 0.1603569\ttotal: 23s\tremaining: 23s\n",
            "3000:\tlearn: 0.1070730\ttotal: 34.3s\tremaining: 11.4s\n",
            "3999:\tlearn: 0.0794202\ttotal: 45.5s\tremaining: 0us\n",
            "0:\tlearn: 1.5906724\ttotal: 13.1ms\tremaining: 45.2s\n",
            "1000:\tlearn: 0.0029038\ttotal: 18.3s\tremaining: 44.8s\n",
            "2000:\tlearn: 0.0010160\ttotal: 37.2s\tremaining: 26.9s\n",
            "3000:\tlearn: 0.0005742\ttotal: 56.7s\tremaining: 8.46s\n",
            "3448:\tlearn: 0.0004763\ttotal: 1m 5s\tremaining: 0us\n",
            "0:\tlearn: 1.6398378\ttotal: 33ms\tremaining: 1m 44s\n",
            "1000:\tlearn: 0.0072170\ttotal: 9.93s\tremaining: 21.5s\n",
            "2000:\tlearn: 0.0021859\ttotal: 21.4s\tremaining: 12.4s\n",
            "3000:\tlearn: 0.0011323\ttotal: 32.9s\tremaining: 1.79s\n",
            "3163:\tlearn: 0.0010440\ttotal: 34.5s\tremaining: 0us\n",
            "0:\tlearn: 1.6547623\ttotal: 4.26ms\tremaining: 9.98s\n",
            "1000:\tlearn: 0.0380282\ttotal: 5.28s\tremaining: 7.08s\n",
            "2000:\tlearn: 0.0176096\ttotal: 9.7s\tremaining: 1.66s\n",
            "2342:\tlearn: 0.0143156\ttotal: 11s\tremaining: 0us\n",
            "0:\tlearn: 1.5915184\ttotal: 6.16ms\tremaining: 15s\n",
            "1000:\tlearn: 0.0112665\ttotal: 7.18s\tremaining: 10.2s\n",
            "2000:\tlearn: 0.0036127\ttotal: 13.9s\tremaining: 2.96s\n"
          ]
        },
        {
          "name": "stderr",
          "output_type": "stream",
          "text": [
            "2023-11-08 14:09:12,646 - mealpy.swarm_based.ABC.OriginalABC - INFO - >>>Problem: P, Epoch: 9, Current best: -0.9674457429048414, Global best: -0.9674457429048414, Runtime: 1426.66876 seconds\n"
          ]
        },
        {
          "name": "stdout",
          "output_type": "stream",
          "text": [
            "2427:\tlearn: 0.0026710\ttotal: 16.4s\tremaining: 0us\n",
            "0:\tlearn: 1.6576876\ttotal: 9.59ms\tremaining: 34.7s\n",
            "1000:\tlearn: 0.0067315\ttotal: 11.8s\tremaining: 31s\n",
            "2000:\tlearn: 0.0017566\ttotal: 23.7s\tremaining: 19.2s\n",
            "3000:\tlearn: 0.0008577\ttotal: 35.3s\tremaining: 7.31s\n",
            "3622:\tlearn: 0.0006239\ttotal: 41.4s\tremaining: 0us\n",
            "0:\tlearn: 1.6844815\ttotal: 9.61ms\tremaining: 38.4s\n",
            "1000:\tlearn: 0.0153383\ttotal: 11.5s\tremaining: 34.5s\n",
            "2000:\tlearn: 0.0048944\ttotal: 23.1s\tremaining: 23s\n",
            "3000:\tlearn: 0.0025241\ttotal: 34.6s\tremaining: 11.5s\n",
            "3999:\tlearn: 0.0015776\ttotal: 46s\tremaining: 0us\n",
            "0:\tlearn: 1.5932389\ttotal: 9.51ms\tremaining: 30.9s\n",
            "1000:\tlearn: 0.0091583\ttotal: 11s\tremaining: 24.7s\n",
            "2000:\tlearn: 0.0033182\ttotal: 21.2s\tremaining: 13.2s\n",
            "3000:\tlearn: 0.0018664\ttotal: 32.7s\tremaining: 2.71s\n",
            "3249:\tlearn: 0.0016641\ttotal: 35s\tremaining: 0us\n",
            "0:\tlearn: 1.5992663\ttotal: 9.43ms\tremaining: 22.2s\n",
            "1000:\tlearn: 0.0046563\ttotal: 11.5s\tremaining: 15.5s\n",
            "2000:\tlearn: 0.0014266\ttotal: 22.9s\tremaining: 4.1s\n",
            "2358:\tlearn: 0.0011011\ttotal: 26.3s\tremaining: 0us\n",
            "0:\tlearn: 1.5917536\ttotal: 9.75ms\tremaining: 30.3s\n",
            "1000:\tlearn: 0.0068337\ttotal: 11.4s\tremaining: 24s\n",
            "2000:\tlearn: 0.0022567\ttotal: 22.9s\tremaining: 12.6s\n",
            "3000:\tlearn: 0.0012704\ttotal: 34.3s\tremaining: 1.18s\n",
            "3103:\tlearn: 0.0012078\ttotal: 35.4s\tremaining: 0us\n",
            "0:\tlearn: 1.6809772\ttotal: 5.89ms\tremaining: 12.2s\n",
            "1000:\tlearn: 0.0240243\ttotal: 6.23s\tremaining: 6.65s\n",
            "2000:\tlearn: 0.0083208\ttotal: 13.7s\tremaining: 466ms\n",
            "2068:\tlearn: 0.0078611\ttotal: 14.1s\tremaining: 0us\n",
            "0:\tlearn: 1.6960060\ttotal: 6ms\tremaining: 13s\n",
            "1000:\tlearn: 0.0219965\ttotal: 7.61s\tremaining: 8.87s\n",
            "2000:\tlearn: 0.0064794\ttotal: 13.9s\tremaining: 1.16s\n",
            "2167:\tlearn: 0.0055669\ttotal: 14.9s\tremaining: 0us\n",
            "0:\tlearn: 1.6434496\ttotal: 9.87ms\tremaining: 28.3s\n",
            "1000:\tlearn: 0.0106513\ttotal: 11.5s\tremaining: 21.4s\n",
            "2000:\tlearn: 0.0035493\ttotal: 22.9s\tremaining: 9.94s\n",
            "2867:\tlearn: 0.0020413\ttotal: 32.7s\tremaining: 0us\n",
            "0:\tlearn: 1.6950763\ttotal: 20.6ms\tremaining: 32.4s\n",
            "1000:\tlearn: 0.0231228\ttotal: 9.99s\tremaining: 5.77s\n",
            "1578:\tlearn: 0.0125399\ttotal: 17.4s\tremaining: 0us\n",
            "0:\tlearn: 1.5957053\ttotal: 13.3ms\tremaining: 27.9s\n",
            "1000:\tlearn: 0.0032342\ttotal: 19.1s\tremaining: 20.9s\n",
            "2000:\tlearn: 0.0011009\ttotal: 39.7s\tremaining: 1.88s\n",
            "2095:\tlearn: 0.0010285\ttotal: 41.3s\tremaining: 0us\n",
            "0:\tlearn: 1.6789370\ttotal: 5.96ms\tremaining: 19.1s\n",
            "1000:\tlearn: 0.0251938\ttotal: 5.81s\tremaining: 12.8s\n",
            "2000:\tlearn: 0.0090907\ttotal: 13.6s\tremaining: 8.18s\n",
            "3000:\tlearn: 0.0047567\ttotal: 19.8s\tremaining: 1.37s\n",
            "3208:\tlearn: 0.0042505\ttotal: 22.5s\tremaining: 0us\n",
            "0:\tlearn: 1.5899722\ttotal: 9.49ms\tremaining: 33.9s\n",
            "1000:\tlearn: 0.0039242\ttotal: 9.7s\tremaining: 24.9s\n",
            "2000:\tlearn: 0.0011717\ttotal: 21.2s\tremaining: 16.6s\n",
            "3000:\tlearn: 0.0006201\ttotal: 32.5s\tremaining: 6.15s\n",
            "3567:\tlearn: 0.0004754\ttotal: 39.4s\tremaining: 0us\n",
            "0:\tlearn: 1.6853509\ttotal: 22.3ms\tremaining: 1m 16s\n",
            "1000:\tlearn: 0.0130532\ttotal: 9.98s\tremaining: 24.5s\n",
            "2000:\tlearn: 0.0038483\ttotal: 21.4s\tremaining: 15.6s\n",
            "3000:\tlearn: 0.0019172\ttotal: 32.8s\tremaining: 4.97s\n",
            "3454:\tlearn: 0.0015117\ttotal: 37.1s\tremaining: 0us\n",
            "0:\tlearn: 1.7487488\ttotal: 8.32ms\tremaining: 27.2s\n",
            "1000:\tlearn: 0.0654276\ttotal: 7.75s\tremaining: 17.6s\n",
            "2000:\tlearn: 0.0288266\ttotal: 13.8s\tremaining: 8.77s\n",
            "3000:\tlearn: 0.0159444\ttotal: 21.4s\tremaining: 1.94s\n",
            "3273:\tlearn: 0.0137833\ttotal: 23s\tremaining: 0us\n",
            "0:\tlearn: 1.6265842\ttotal: 6ms\tremaining: 5.73s\n",
            "955:\tlearn: 0.0142704\ttotal: 7.46s\tremaining: 0us\n",
            "0:\tlearn: 1.6303555\ttotal: 9.62ms\tremaining: 33.3s\n",
            "1000:\tlearn: 0.0080705\ttotal: 9.53s\tremaining: 23.5s\n",
            "2000:\tlearn: 0.0025573\ttotal: 21s\tremaining: 15.3s\n",
            "3000:\tlearn: 0.0013716\ttotal: 32.3s\tremaining: 4.98s\n",
            "3463:\tlearn: 0.0011013\ttotal: 37s\tremaining: 0us\n",
            "0:\tlearn: 1.6525604\ttotal: 13.3ms\tremaining: 34.5s\n",
            "1000:\tlearn: 0.0224181\ttotal: 7.29s\tremaining: 11.5s\n",
            "2000:\tlearn: 0.0084435\ttotal: 13.8s\tremaining: 4.03s\n",
            "2583:\tlearn: 0.0057992\ttotal: 18.3s\tremaining: 0us\n",
            "0:\tlearn: 1.6767971\ttotal: 9.5ms\tremaining: 38s\n",
            "1000:\tlearn: 0.0126570\ttotal: 11.4s\tremaining: 34.3s\n",
            "2000:\tlearn: 0.0038751\ttotal: 21.3s\tremaining: 21.2s\n",
            "3000:\tlearn: 0.0019932\ttotal: 32.7s\tremaining: 10.9s\n",
            "3999:\tlearn: 0.0012544\ttotal: 44.4s\tremaining: 0us\n",
            "0:\tlearn: 1.7052380\ttotal: 9.45ms\tremaining: 24.4s\n",
            "1000:\tlearn: 0.0174222\ttotal: 11.5s\tremaining: 18.1s\n",
            "2000:\tlearn: 0.0052063\ttotal: 22.9s\tremaining: 6.63s\n",
            "2579:\tlearn: 0.0032821\ttotal: 28.4s\tremaining: 0us\n",
            "0:\tlearn: 1.5907387\ttotal: 14.8ms\tremaining: 24.9s\n",
            "1000:\tlearn: 0.0091925\ttotal: 7.78s\tremaining: 5.31s\n",
            "1683:\tlearn: 0.0038070\ttotal: 11.7s\tremaining: 0us\n",
            "0:\tlearn: 1.5932389\ttotal: 13ms\tremaining: 41.1s\n",
            "1000:\tlearn: 0.0059252\ttotal: 20.3s\tremaining: 44s\n",
            "2000:\tlearn: 0.0021939\ttotal: 39.2s\tremaining: 23s\n",
            "3000:\tlearn: 0.0012548\ttotal: 58.1s\tremaining: 3.33s\n",
            "3172:\tlearn: 0.0011697\ttotal: 1m 2s\tremaining: 0us\n",
            "0:\tlearn: 1.5993890\ttotal: 9.43ms\tremaining: 16.9s\n",
            "1000:\tlearn: 0.0051341\ttotal: 10.7s\tremaining: 8.45s\n",
            "1790:\tlearn: 0.0018898\ttotal: 18.9s\tremaining: 0us\n",
            "0:\tlearn: 1.6075392\ttotal: 13.6ms\tremaining: 22.7s\n",
            "1000:\tlearn: 0.0039783\ttotal: 20.7s\tremaining: 14s\n",
            "1678:\tlearn: 0.0018106\ttotal: 33.9s\tremaining: 0us\n",
            "0:\tlearn: 1.6716629\ttotal: 9.6ms\tremaining: 36.1s\n",
            "1000:\tlearn: 0.0135978\ttotal: 9.4s\tremaining: 25.9s\n",
            "2000:\tlearn: 0.0045395\ttotal: 20.7s\tremaining: 18.2s\n",
            "3000:\tlearn: 0.0023964\ttotal: 32s\tremaining: 8.06s\n",
            "3757:\tlearn: 0.0016776\ttotal: 41s\tremaining: 0us\n",
            "0:\tlearn: 1.6595080\ttotal: 9.17ms\tremaining: 30.7s\n",
            "1000:\tlearn: 0.0118539\ttotal: 10.5s\tremaining: 24.6s\n",
            "2000:\tlearn: 0.0038335\ttotal: 20.7s\tremaining: 14s\n",
            "3000:\tlearn: 0.0020450\ttotal: 32s\tremaining: 3.72s\n",
            "3349:\tlearn: 0.0017215\ttotal: 35.2s\tremaining: 0us\n",
            "0:\tlearn: 1.6887601\ttotal: 9.46ms\tremaining: 37.8s\n",
            "1000:\tlearn: 0.0127666\ttotal: 11.2s\tremaining: 33.6s\n",
            "2000:\tlearn: 0.0036416\ttotal: 22.6s\tremaining: 22.5s\n",
            "3000:\tlearn: 0.0017672\ttotal: 33.9s\tremaining: 11.3s\n",
            "3999:\tlearn: 0.0010786\ttotal: 45.2s\tremaining: 0us\n",
            "0:\tlearn: 1.5904536\ttotal: 9.66ms\tremaining: 16s\n",
            "1000:\tlearn: 0.0046324\ttotal: 10.8s\tremaining: 7.06s\n",
            "1652:\tlearn: 0.0019884\ttotal: 17.6s\tremaining: 0us\n",
            "0:\tlearn: 1.6935322\ttotal: 3.97ms\tremaining: 12.3s\n",
            "1000:\tlearn: 0.0532089\ttotal: 3.77s\tremaining: 7.86s\n",
            "2000:\tlearn: 0.0276906\ttotal: 9.51s\tremaining: 5.18s\n",
            "3000:\tlearn: 0.0167701\ttotal: 13.3s\tremaining: 394ms\n",
            "3089:\tlearn: 0.0161050\ttotal: 13.6s\tremaining: 0us\n",
            "0:\tlearn: 1.5988904\ttotal: 12.7ms\tremaining: 33.4s\n",
            "1000:\tlearn: 0.0036238\ttotal: 20.2s\tremaining: 32.8s\n",
            "2000:\tlearn: 0.0012278\ttotal: 39.1s\tremaining: 12.3s\n",
            "2629:\tlearn: 0.0008305\ttotal: 51.6s\tremaining: 0us\n",
            "0:\tlearn: 1.7018528\ttotal: 9.96ms\tremaining: 39.8s\n",
            "1000:\tlearn: 0.0205273\ttotal: 11.7s\tremaining: 34.9s\n",
            "2000:\tlearn: 0.0069492\ttotal: 23.2s\tremaining: 23.2s\n",
            "3000:\tlearn: 0.0035773\ttotal: 33.4s\tremaining: 11.1s\n",
            "3999:\tlearn: 0.0022137\ttotal: 45.5s\tremaining: 0us\n",
            "0:\tlearn: 1.6081593\ttotal: 10.1ms\tremaining: 27.1s\n",
            "1000:\tlearn: 0.0105276\ttotal: 12.5s\tremaining: 20.9s\n",
            "2000:\tlearn: 0.0037977\ttotal: 24.2s\tremaining: 8.14s\n",
            "2674:\tlearn: 0.0024952\ttotal: 32.6s\tremaining: 0us\n",
            "0:\tlearn: 1.6903940\ttotal: 12.7ms\tremaining: 42.3s\n",
            "1000:\tlearn: 0.0156088\ttotal: 10.5s\tremaining: 24.5s\n",
            "2000:\tlearn: 0.0049206\ttotal: 21.2s\tremaining: 14.1s\n",
            "3000:\tlearn: 0.0024673\ttotal: 33.1s\tremaining: 3.58s\n",
            "3325:\tlearn: 0.0020686\ttotal: 37.1s\tremaining: 0us\n",
            "0:\tlearn: 1.5928432\ttotal: 17.8ms\tremaining: 49s\n",
            "1000:\tlearn: 0.0088966\ttotal: 11s\tremaining: 19.2s\n",
            "2000:\tlearn: 0.0030674\ttotal: 22.7s\tremaining: 8.51s\n",
            "2751:\tlearn: 0.0019232\ttotal: 31.9s\tremaining: 0us\n",
            "0:\tlearn: 1.5908042\ttotal: 9.52ms\tremaining: 13.4s\n",
            "1000:\tlearn: 0.0051198\ttotal: 11.6s\tremaining: 4.69s\n",
            "1405:\tlearn: 0.0029017\ttotal: 15.5s\tremaining: 0us\n",
            "0:\tlearn: 1.5932389\ttotal: 9.59ms\tremaining: 33.4s\n",
            "1000:\tlearn: 0.0091583\ttotal: 11.5s\tremaining: 28.6s\n",
            "2000:\tlearn: 0.0033182\ttotal: 23s\tremaining: 17.1s\n",
            "3000:\tlearn: 0.0018664\ttotal: 33.7s\tremaining: 5.44s\n",
            "3484:\tlearn: 0.0015189\ttotal: 39s\tremaining: 0us\n",
            "0:\tlearn: 1.5973457\ttotal: 12.9ms\tremaining: 22.4s\n",
            "1000:\tlearn: 0.0032358\ttotal: 18.6s\tremaining: 13.7s\n",
            "1738:\tlearn: 0.0013349\ttotal: 32.8s\tremaining: 0us\n",
            "0:\tlearn: 1.6620857\ttotal: 18.5ms\tremaining: 53.6s\n",
            "1000:\tlearn: 0.0050334\ttotal: 11.4s\tremaining: 21.6s\n",
            "2000:\tlearn: 0.0011018\ttotal: 22.7s\tremaining: 10.2s\n",
            "2899:\tlearn: 0.0005326\ttotal: 33.1s\tremaining: 0us\n",
            "0:\tlearn: 1.6815150\ttotal: 12.9ms\tremaining: 40.3s\n",
            "1000:\tlearn: 0.0035179\ttotal: 18.7s\tremaining: 39.5s\n",
            "2000:\tlearn: 0.0008079\ttotal: 39.2s\tremaining: 21.8s\n",
            "3000:\tlearn: 0.0003765\ttotal: 57.8s\tremaining: 2.18s\n",
            "3113:\tlearn: 0.0003547\ttotal: 59.7s\tremaining: 0us\n",
            "0:\tlearn: 1.6321066\ttotal: 13ms\tremaining: 40.7s\n",
            "1000:\tlearn: 0.0048312\ttotal: 20.5s\tremaining: 43.7s\n",
            "2000:\tlearn: 0.0016423\ttotal: 39s\tremaining: 22.1s\n",
            "3000:\tlearn: 0.0008906\ttotal: 59.4s\tremaining: 2.65s\n",
            "3134:\tlearn: 0.0008411\ttotal: 1m 1s\tremaining: 0us\n",
            "0:\tlearn: 1.6380871\ttotal: 10ms\tremaining: 23.7s\n",
            "1000:\tlearn: 0.0062968\ttotal: 11.3s\tremaining: 15.4s\n",
            "2000:\tlearn: 0.0018094\ttotal: 21.8s\tremaining: 3.93s\n"
          ]
        },
        {
          "name": "stderr",
          "output_type": "stream",
          "text": [
            "2023-11-08 14:31:16,523 - mealpy.swarm_based.ABC.OriginalABC - INFO - >>>Problem: P, Epoch: 10, Current best: -0.9674457429048414, Global best: -0.9674457429048414, Runtime: 1323.87503 seconds\n"
          ]
        },
        {
          "name": "stdout",
          "output_type": "stream",
          "text": [
            "2362:\tlearn: 0.0013641\ttotal: 26.1s\tremaining: 0us\n"
          ]
        }
      ],
      "source": [
        "abc_cb_model = ABC.OriginalABC(epoch=10, pop_size=20, n_limits = 25)\n",
        "g_best_abc_cb = abc_cb_model.solve(problem_dict_cb)\n"
      ]
    },
    {
      "cell_type": "code",
      "execution_count": null,
      "metadata": {
        "colab": {
          "base_uri": "https://localhost:8080/"
        },
        "id": "eSp1bF4OPiA9",
        "outputId": "42e14a2e-b2a9-4067-ccfe-9149ffe5e5b0"
      },
      "outputs": [
        {
          "name": "stdout",
          "output_type": "stream",
          "text": [
            "Solution: [1.70559493e+03 5.98851236e+00 9.67125960e-02 2.71830630e+01\n",
            " 5.08962966e-01], Fitness: -0.9674457429048414\n"
          ]
        }
      ],
      "source": [
        "print(f\"Solution: {g_best_abc_cb.solution}, Fitness: {g_best_abc_cb.target.fitness}\")"
      ]
    },
    {
      "cell_type": "code",
      "execution_count": null,
      "metadata": {
        "colab": {
          "base_uri": "https://localhost:8080/"
        },
        "id": "bY4vEiRTYkfH",
        "outputId": "f7dde98e-1649-488b-bead-e07281f9e454"
      },
      "outputs": [
        {
          "name": "stdout",
          "output_type": "stream",
          "text": [
            "Best hyperparameters: -0.9674457429048414\n",
            "iteration: 1705\n",
            "depth: 5\n",
            "learning_rate: 0.09671259604950046\n",
            "min_data_in_leaf: 27\n",
            "l2_leaf_reg: 0.5089629662012042\n"
          ]
        }
      ],
      "source": [
        "# Now, best_hyperparameter_values is an array of hyperparameter values\n",
        "# You can print it to see the best hyperparameters\n",
        "# print(\"Best accuracy:\", -best_accuracy)\n",
        "print(\"Best hyperparameters:\", g_best_abc_cb.target.fitness)\n",
        "print(\"iteration:\", int(g_best_abc_cb.solution[0]))\n",
        "print(\"depth:\", int(g_best_abc_cb.solution[1]))\n",
        "print(\"learning_rate:\", float(g_best_abc_cb.solution[2]))\n",
        "print(\"min_data_in_leaf:\", int(g_best_abc_cb.solution[3]))\n",
        "print(\"l2_leaf_reg:\", float(g_best_abc_cb.solution[4]))\n"
      ]
    },
    {
      "cell_type": "code",
      "execution_count": null,
      "metadata": {
        "id": "PaWBMQPXRxFb"
      },
      "outputs": [],
      "source": [
        "# Define the best hyperparameters as a dictionary\n",
        "best_hyperparameters_abc_cb = {\n",
        "    'iterations': int(g_best_abc_cb.solution[0]),\n",
        "    'depth': int(g_best_abc_cb.solution[1]),\n",
        "    'learning_rate': float(g_best_abc_cb.solution[2]),\n",
        "    'min_data_in_leaf': int(g_best_abc_cb.solution[3]),\n",
        "    \"l2_leaf_reg\": float(g_best_abc_cb.solution[4]),\n",
        "    'class_weights': class_weights,  # Assuming you have class_weights defined\n",
        "    'task_type': device_type,\n",
        "    'devices': '0:1',\n",
        "    'cat_features': cat_feat_idx,\n",
        "    'verbose': 0,\n",
        "}"
      ]
    },
    {
      "cell_type": "code",
      "execution_count": null,
      "metadata": {
        "colab": {
          "base_uri": "https://localhost:8080/"
        },
        "id": "wQoRuEHwR4Zg",
        "outputId": "55717fe4-7fef-4fdb-c695-fcbf7e04b8bc"
      },
      "outputs": [
        {
          "name": "stdout",
          "output_type": "stream",
          "text": [
            "0:\tlearn: 1.5971742\ttotal: 21.8ms\tremaining: 37.1s\n",
            "1000:\tlearn: 0.0057017\ttotal: 11.4s\tremaining: 8.01s\n",
            "1704:\tlearn: 0.0023735\ttotal: 18s\tremaining: 0us\n"
          ]
        },
        {
          "data": {
            "text/plain": [
              "<catboost.core.CatBoostClassifier at 0x7c2adbea8ee0>"
            ]
          },
          "execution_count": 101,
          "metadata": {},
          "output_type": "execute_result"
        }
      ],
      "source": [
        "# Create a CatBoost classifier with the best hyperparameters\n",
        "abc_cb_model = CatBoostClassifier(**best_hyperparameters_abc_cb)\n",
        "\n",
        "# Train the model on your training data\n",
        "abc_cb_model.fit(train_pool , verbose = 1000 )"
      ]
    },
    {
      "cell_type": "code",
      "execution_count": null,
      "metadata": {
        "id": "SLZc3A0yR97q"
      },
      "outputs": [],
      "source": [
        "importances = abc_cb_model.get_feature_importance(type='PredictionValuesChange')\n",
        "feature_importances = pd.Series(importances, index=X.columns).sort_values()"
      ]
    },
    {
      "cell_type": "code",
      "execution_count": null,
      "metadata": {
        "colab": {
          "base_uri": "https://localhost:8080/",
          "height": 564
        },
        "id": "EoN1mLO_SCXR",
        "outputId": "d58dd175-1e63-466b-c468-2979d81572b9"
      },
      "outputs": [
        {
          "data": {
            "image/png": "[encoded data removed]",
            "text/plain": [
              "<Figure size 1000x600 with 1 Axes>"
            ]
          },
          "metadata": {},
          "output_type": "display_data"
        }
      ],
      "source": [
        "plt.figure(figsize=(10, 6))\n",
        "plt.barh(feature_importances.index, feature_importances.values)\n",
        "plt.title('CatBoost Feature Importance')\n",
        "plt.xlabel('Importance')\n",
        "plt.ylabel('Features')\n",
        "plt.show()"
      ]
    },
    {
      "cell_type": "markdown",
      "metadata": {},
      "source": [
        "### Sparrow Search Algorithm"
      ]
    },
    {
      "cell_type": "code",
      "execution_count": null,
      "metadata": {},
      "outputs": [],
      "source": [
        "from mealpy import FloatVar, SSA"
      ]
    },
    {
      "cell_type": "markdown",
      "metadata": {},
      "source": [
        "#### XGB"
      ]
    },
    {
      "cell_type": "code",
      "execution_count": null,
      "metadata": {},
      "outputs": [],
      "source": [
        "ssa_xgb_model = SSA.OriginalSSA(epoch=100, pop_size=50, ST = 0.8, PD = 0.2, SD = 0.1)\n",
        "g_best_ssa_xgb = ssa_xgb_model.solve(problem_dict_xgb)"
      ]
    },
    {
      "cell_type": "code",
      "execution_count": null,
      "metadata": {},
      "outputs": [],
      "source": [
        "print(f\"Solution: {g_best_ssa_xgb.solution}, Fitness: {g_best_ssa_xgb.target.fitness}\")"
      ]
    },
    {
      "cell_type": "code",
      "execution_count": null,
      "metadata": {},
      "outputs": [],
      "source": [
        "print(\"Best hyperparameters:\", g_best_ssa_xgb.target.fitness)\n",
        "print(\"n_estimators:\", int(g_best_ssa_xgb.solution[0]))\n",
        "print(\"max_depth:\", int(g_best_ssa_xgb.solution[1]))\n",
        "print(\"learning_rate:\", float(g_best_ssa_xgb.solution[2]))\n",
        "print(\"subsample:\", float(g_best_ssa_xgb.solution[3]))\n",
        "print(\"colsample_bytree:\", float(g_best_ssa_xgb.solution[4]))\n",
        "print(\"gamma:\", float(g_best_ssa_xgb.solution[5]))\n",
        "print(\"min_child_weight:\", float(g_best_ssa_xgb.solution[6]))\n",
        "print(\"reg_alpha:\", float(g_best_ssa_xgb.solution[7]))"
      ]
    },
    {
      "cell_type": "code",
      "execution_count": null,
      "metadata": {},
      "outputs": [],
      "source": [
        "# Define the best hyperparameters as a dictionary\n",
        "best_hyperparameters_ssa_xgb = {\n",
        "    'n_estimators': int(g_best_ssa_xgb.solution[0]),\n",
        "    'max_depth': int(g_best_ssa_xgb.solution[1]),\n",
        "    'learning_rate': float(g_best_ssa_xgb.solution[2]),\n",
        "    'subsample': float(g_best_ssa_xgb.solution[3]),\n",
        "    \"colsample_bytree\": float(g_best_ssa_xgb.solution[4]),\n",
        "    \"gamma\": float(g_best_ssa_xgb.solution[5]),\n",
        "    'min_child_weight': int(g_best_ssa_xgb.solution[6]),\n",
        "    'reg_alpha': float(g_best_ssa_xgb.solution[7]),\n",
        "    # 'device': 'cuda:0',\n",
        "    # 'tree_method':'gpu_hist',\n",
        "    # 'predictor': 'gpu_predictor',\n",
        "    'verbose': 0,\n",
        "}"
      ]
    },
    {
      "cell_type": "code",
      "execution_count": null,
      "metadata": {},
      "outputs": [],
      "source": [
        "# Create a XGB classifier with the best hyperparameters\n",
        "ssa_xgb_model = xgb.XGBClassifier(**best_hyperparameters_ssa_xgb)\n",
        "\n",
        "# Train the model on your training data\n",
        "ssa_xgb_model.fit(X_train, y_train, verbose = 1000 )"
      ]
    },
    {
      "cell_type": "code",
      "execution_count": null,
      "metadata": {},
      "outputs": [],
      "source": [
        "xgb.plot_importance(ssa_xgb_model)\n",
        "plt.figure(figsize = (16, 12))\n",
        "plt.show()"
      ]
    },
    {
      "cell_type": "markdown",
      "metadata": {},
      "source": [
        "#### CatBoost"
      ]
    },
    {
      "cell_type": "code",
      "execution_count": null,
      "metadata": {},
      "outputs": [],
      "source": [
        "ssa_cb_model = SSA.OriginalSSA(epoch=100, pop_size=50, ST = 0.8, PD = 0.2, SD = 0.1)\n",
        "g_best_ssa_cb = ssa_cb_model.solve(problem_dict_cb)\n"
      ]
    },
    {
      "cell_type": "code",
      "execution_count": null,
      "metadata": {},
      "outputs": [
        {
          "name": "stdout",
          "output_type": "stream",
          "text": [
            "Solution: [1.70559493e+03 5.98851236e+00 9.67125960e-02 2.71830630e+01\n",
            " 5.08962966e-01], Fitness: -0.9674457429048414\n"
          ]
        }
      ],
      "source": [
        "print(f\"Solution: {g_best_ssa_cb.solution}, Fitness: {g_best_ssa_cb.target.fitness}\")"
      ]
    },
    {
      "cell_type": "code",
      "execution_count": null,
      "metadata": {},
      "outputs": [
        {
          "name": "stdout",
          "output_type": "stream",
          "text": [
            "Best hyperparameters: -0.9674457429048414\n",
            "iteration: 1705\n",
            "depth: 5\n",
            "learning_rate: 0.09671259604950046\n",
            "min_data_in_leaf: 27\n",
            "l2_leaf_reg: 0.5089629662012042\n"
          ]
        }
      ],
      "source": [
        "# Now, best_hyperparameter_values is an array of hyperparameter values\n",
        "# You can print it to see the best hyperparameters\n",
        "# print(\"Best accuracy:\", -best_accuracy)\n",
        "print(\"Best hyperparameters:\", g_best_ssa_cb.target.fitness)\n",
        "print(\"iteration:\", int(g_best_ssa_cb.solution[0]))\n",
        "print(\"depth:\", int(g_best_ssa_cb.solution[1]))\n",
        "print(\"learning_rate:\", float(g_best_ssa_cb.solution[2]))\n",
        "print(\"min_data_in_leaf:\", int(g_best_ssa_cb.solution[3]))\n",
        "print(\"l2_leaf_reg:\", float(g_best_ssa_cb.solution[4]))\n"
      ]
    },
    {
      "cell_type": "code",
      "execution_count": null,
      "metadata": {},
      "outputs": [],
      "source": [
        "# Define the best hyperparameters as a dictionary\n",
        "best_hyperparameters_ssa_cb = {\n",
        "    'iterations': int(g_best_ssa_cb.solution[0]),\n",
        "    'depth': int(g_best_ssa_cb.solution[1]),\n",
        "    'learning_rate': float(g_best_ssa_cb.solution[2]),\n",
        "    'min_data_in_leaf': int(g_best_ssa_cb.solution[3]),\n",
        "    \"l2_leaf_reg\": float(g_best_ssa_cb.solution[4]),\n",
        "    'class_weights': class_weights,  # Assuming you have class_weights defined\n",
        "    'task_type': device_type,\n",
        "    'devices': '0:1',\n",
        "    'cat_features': cat_feat_idx,\n",
        "    'verbose': 0,\n",
        "}"
      ]
    },
    {
      "cell_type": "code",
      "execution_count": null,
      "metadata": {},
      "outputs": [
        {
          "name": "stdout",
          "output_type": "stream",
          "text": [
            "0:\tlearn: 1.5971742\ttotal: 21.8ms\tremaining: 37.1s\n",
            "1000:\tlearn: 0.0057017\ttotal: 11.4s\tremaining: 8.01s\n",
            "1704:\tlearn: 0.0023735\ttotal: 18s\tremaining: 0us\n"
          ]
        },
        {
          "data": {
            "text/plain": [
              "<catboost.core.CatBoostClassifier at 0x7c2adbea8ee0>"
            ]
          },
          "metadata": {},
          "output_type": "display_data"
        }
      ],
      "source": [
        "# Create a CatBoost classifier with the best hyperparameters\n",
        "ssa_cb_model = CatBoostClassifier(**best_hyperparameters_ssa_cb)\n",
        "\n",
        "# Train the model on your training data\n",
        "ssa_cb_model.fit(train_pool , verbose = 1000 )"
      ]
    },
    {
      "cell_type": "code",
      "execution_count": null,
      "metadata": {},
      "outputs": [],
      "source": [
        "importances = ssa_cb_model.get_feature_importance(type='PredictionValuesChange')\n",
        "feature_importances = pd.Series(importances, index=X.columns).sort_values()"
      ]
    },
    {
      "cell_type": "code",
      "execution_count": null,
      "metadata": {},
      "outputs": [
        {
          "data": {
            "image/png": "[encoded data removed]",
            "text/plain": [
              "<Figure size 1000x600 with 1 Axes>"
            ]
          },
          "metadata": {},
          "output_type": "display_data"
        }
      ],
      "source": [
        "plt.figure(figsize=(10, 6))\n",
        "plt.barh(feature_importances.index, feature_importances.values)\n",
        "plt.title('CatBoost Feature Importance')\n",
        "plt.xlabel('Importance')\n",
        "plt.ylabel('Features')\n",
        "plt.show()"
      ]
    },
    {
      "cell_type": "markdown",
      "metadata": {},
      "source": []
    },
    {
      "cell_type": "markdown",
      "metadata": {
        "id": "KeCYSwJ8Pd51"
      },
      "source": [
        "# <span style=\"color:#e74c3c;\"> Results </span>\n"
      ]
    },
    {
      "cell_type": "code",
      "execution_count": null,
      "metadata": {
        "id": "x2kgFMu6vCXP"
      },
      "outputs": [],
      "source": [
        "from sklearn.metrics import roc_curve, auc"
      ]
    },
    {
      "cell_type": "markdown",
      "metadata": {
        "id": "Iafl-4TLeAxz"
      },
      "source": [
        "### XGB Model"
      ]
    },
    {
      "cell_type": "code",
      "execution_count": null,
      "metadata": {
        "colab": {
          "base_uri": "https://localhost:8080/"
        },
        "id": "B4vy6LIMd8vA",
        "outputId": "048d2380-2a64-4ad7-dd8b-3053d0389f6c"
      },
      "outputs": [
        {
          "name": "stdout",
          "output_type": "stream",
          "text": [
            "R2 Score :0.88931\n",
            "Mean Squared Error :0.07262\n"
          ]
        }
      ],
      "source": [
        "# predictions and scores\n",
        "\n",
        "pred = xgb_model.predict(X_test)\n",
        "\n",
        "r2_sr = r2_score(y_test, pred)\n",
        "mse = mean_squared_error(y_test, pred)\n",
        "\n",
        "print('R2 Score :{0:.5f}'.format(r2_sr))\n",
        "print('Mean Squared Error :{0:.5f}'.format(mse))"
      ]
    },
    {
      "cell_type": "code",
      "execution_count": null,
      "metadata": {
        "colab": {
          "base_uri": "https://localhost:8080/"
        },
        "id": "0hTv2spid-7E",
        "outputId": "6b705d61-301c-41a9-eac6-525b13ee669d"
      },
      "outputs": [
        {
          "name": "stdout",
          "output_type": "stream",
          "text": [
            "                 precision    recall  f1-score   support\n",
            "\n",
            "           Baik       0.97      0.96      0.96       266\n",
            "Boleh Digunakan       0.97      0.97      0.97       764\n",
            "          Buruk       0.93      0.93      0.93       118\n",
            "       Marginal       0.79      0.90      0.84        30\n",
            "    Sangat Baik       1.00      1.00      1.00         5\n",
            "   Sangat Buruk       1.00      0.93      0.97        15\n",
            "\n",
            "       accuracy                           0.96      1198\n",
            "      macro avg       0.94      0.95      0.95      1198\n",
            "   weighted avg       0.96      0.96      0.96      1198\n",
            "\n"
          ]
        }
      ],
      "source": [
        "# Define a mapping dictionary from numeric labels to original labels\n",
        "class_mapping = {\n",
        "    0: 'Baik',\n",
        "    1: 'Boleh Digunakan',\n",
        "    2: 'Buruk',\n",
        "    3: 'Marginal',\n",
        "    4: 'Sangat Baik',\n",
        "    5: 'Sangat Buruk'\n",
        "}\n",
        "\n",
        "# Create a list to store the original class labels for predictions and test labels\n",
        "pred_original_labels = [class_mapping[label] for label in pred]\n",
        "y_test_original_labels = [class_mapping[label] for label in y_test]\n",
        "\n",
        "# classification report\n",
        "clf_report_xgb = classification_report(pred_original_labels, y_test_original_labels)\n",
        "\n",
        "print(clf_report_xgb)"
      ]
    },
    {
      "cell_type": "markdown",
      "metadata": {
        "id": "QERybE9yzOde"
      },
      "source": [
        "### Cat Boost Base Model"
      ]
    },
    {
      "cell_type": "code",
      "execution_count": null,
      "metadata": {
        "colab": {
          "base_uri": "https://localhost:8080/"
        },
        "id": "jIJLHxWfzYBc",
        "outputId": "363c2cb5-3660-403e-fbf0-4a617ed92e20"
      },
      "outputs": [
        {
          "name": "stdout",
          "output_type": "stream",
          "text": [
            "R2 Score :0.79389\n",
            "Mean Squared Error :0.13523\n"
          ]
        }
      ],
      "source": [
        "# predictions and scores\n",
        "\n",
        "pred = cb_model.predict(test_pool)\n",
        "\n",
        "r2_sr = r2_score(y_test, pred)\n",
        "mse = mean_squared_error(y_test, pred)\n",
        "\n",
        "print('R2 Score :{0:.5f}'.format(r2_sr))\n",
        "print('Mean Squared Error :{0:.5f}'.format(mse))"
      ]
    },
    {
      "cell_type": "code",
      "execution_count": null,
      "metadata": {
        "colab": {
          "base_uri": "https://localhost:8080/"
        },
        "id": "GGkk5yRjzZ4v",
        "outputId": "c9b9aa1d-381b-4ef4-8d92-818169753ec3"
      },
      "outputs": [
        {
          "name": "stdout",
          "output_type": "stream",
          "text": [
            "              precision    recall  f1-score   support\n",
            "\n",
            "           0       0.96      0.96      0.96       264\n",
            "           1       0.96      0.98      0.97       750\n",
            "           2       0.93      0.92      0.92       120\n",
            "           3       0.91      0.79      0.85        39\n",
            "           4       1.00      0.50      0.67        10\n",
            "           5       1.00      0.93      0.97        15\n",
            "\n",
            "    accuracy                           0.96      1198\n",
            "   macro avg       0.96      0.85      0.89      1198\n",
            "weighted avg       0.96      0.96      0.96      1198\n",
            "\n"
          ]
        }
      ],
      "source": [
        "# classification report\n",
        "\n",
        "clf_report_cb = classification_report(pred, y_test)\n",
        "\n",
        "print(clf_report_cb)"
      ]
    },
    {
      "cell_type": "markdown",
      "metadata": {
        "id": "0MitoU71zQDU"
      },
      "source": [
        "### Base With SI"
      ]
    },
    {
      "cell_type": "markdown",
      "metadata": {
        "id": "cHoTnCXSbH8A"
      },
      "source": [
        "#### XGBoost"
      ]
    },
    {
      "cell_type": "markdown",
      "metadata": {
        "id": "sMwfohuLpD2q"
      },
      "source": [
        "##### PSO"
      ]
    },
    {
      "cell_type": "code",
      "execution_count": null,
      "metadata": {
        "colab": {
          "base_uri": "https://localhost:8080/"
        },
        "id": "SVDE6QmJb_n9",
        "outputId": "b7dece66-c150-4a73-9b40-208adba8c63f"
      },
      "outputs": [
        {
          "name": "stdout",
          "output_type": "stream",
          "text": [
            "R2 Score :0.90967\n",
            "Mean Squared Error :0.05927\n"
          ]
        }
      ],
      "source": [
        "# predictions and scores\n",
        "\n",
        "pred = pso_xgb_model.predict(X_test)\n",
        "\n",
        "r2_sr = r2_score(y_test, pred)\n",
        "mse = mean_squared_error(y_test, pred)\n",
        "\n",
        "print('R2 Score :{0:.5f}'.format(r2_sr))\n",
        "print('Mean Squared Error :{0:.5f}'.format(mse))"
      ]
    },
    {
      "cell_type": "code",
      "execution_count": null,
      "metadata": {
        "colab": {
          "base_uri": "https://localhost:8080/"
        },
        "id": "Wq1W1sRXcCMT",
        "outputId": "51217ea8-1bec-413d-fb87-aa1344838e0b"
      },
      "outputs": [
        {
          "name": "stdout",
          "output_type": "stream",
          "text": [
            "              precision    recall  f1-score   support\n",
            "\n",
            "           0       0.97      0.97      0.97       262\n",
            "           1       0.98      0.97      0.98       773\n",
            "           2       0.93      0.96      0.95       114\n",
            "           3       0.79      0.93      0.86        29\n",
            "           4       1.00      1.00      1.00         5\n",
            "           5       1.00      0.93      0.97        15\n",
            "\n",
            "    accuracy                           0.97      1198\n",
            "   macro avg       0.95      0.96      0.95      1198\n",
            "weighted avg       0.97      0.97      0.97      1198\n",
            "\n"
          ]
        }
      ],
      "source": [
        "# classification report\n",
        "\n",
        "clf_report = classification_report(pred, y_test )\n",
        "\n",
        "print(clf_report)"
      ]
    },
    {
      "cell_type": "markdown",
      "metadata": {
        "id": "odNoTkQ1pJZ1"
      },
      "source": [
        "##### ABC"
      ]
    },
    {
      "cell_type": "code",
      "execution_count": null,
      "metadata": {
        "colab": {
          "base_uri": "https://localhost:8080/"
        },
        "id": "9_3CK23wpNK8",
        "outputId": "dd7e5d18-ad09-41ea-8e3c-91dcae5436ff"
      },
      "outputs": [
        {
          "name": "stdout",
          "output_type": "stream",
          "text": [
            "R2 Score :0.92366\n",
            "Mean Squared Error :0.05008\n"
          ]
        }
      ],
      "source": [
        "# predictions and scores\n",
        "\n",
        "pred = abc_xgb_model.predict(X_test)\n",
        "\n",
        "r2_sr = r2_score(y_test, pred)\n",
        "mse = mean_squared_error(y_test, pred)\n",
        "\n",
        "print('R2 Score :{0:.5f}'.format(r2_sr))\n",
        "print('Mean Squared Error :{0:.5f}'.format(mse))"
      ]
    },
    {
      "cell_type": "code",
      "execution_count": null,
      "metadata": {
        "colab": {
          "base_uri": "https://localhost:8080/"
        },
        "id": "ILj1YvdJpPQb",
        "outputId": "e69c2769-9762-405a-ab2c-c21594ca4dc7"
      },
      "outputs": [
        {
          "name": "stdout",
          "output_type": "stream",
          "text": [
            "              precision    recall  f1-score   support\n",
            "\n",
            "           0       0.96      0.98      0.97       259\n",
            "           1       0.99      0.97      0.98       776\n",
            "           2       0.93      0.96      0.95       114\n",
            "           3       0.82      0.97      0.89        29\n",
            "           4       1.00      1.00      1.00         5\n",
            "           5       1.00      0.93      0.97        15\n",
            "\n",
            "    accuracy                           0.97      1198\n",
            "   macro avg       0.95      0.97      0.96      1198\n",
            "weighted avg       0.97      0.97      0.97      1198\n",
            "\n"
          ]
        }
      ],
      "source": [
        "# classification report\n",
        "\n",
        "clf_report = classification_report(pred, y_test )\n",
        "\n",
        "print(clf_report)"
      ]
    },
    {
      "cell_type": "markdown",
      "metadata": {
        "id": "xN5H3gV_bCAJ"
      },
      "source": [
        "#### Catboost"
      ]
    },
    {
      "cell_type": "markdown",
      "metadata": {
        "id": "cn8d3zH9pP4z"
      },
      "source": [
        "#### PSO"
      ]
    },
    {
      "cell_type": "code",
      "execution_count": null,
      "metadata": {
        "colab": {
          "base_uri": "https://localhost:8080/"
        },
        "id": "lCqFV0bQPd51",
        "outputId": "ea119c56-a8b7-4439-8546-5f0c70af4017"
      },
      "outputs": [
        {
          "name": "stdout",
          "output_type": "stream",
          "text": [
            "R2 Score :0.85368\n",
            "Mean Squared Error :0.09599\n"
          ]
        }
      ],
      "source": [
        "# predictions and scores\n",
        "\n",
        "pred = pso_cb_model.predict(test_pool)\n",
        "\n",
        "r2_sr = r2_score(y_test, pred)\n",
        "mse = mean_squared_error(y_test, pred)\n",
        "\n",
        "print('R2 Score :{0:.5f}'.format(r2_sr))\n",
        "print('Mean Squared Error :{0:.5f}'.format(mse))"
      ]
    },
    {
      "cell_type": "code",
      "execution_count": null,
      "metadata": {
        "colab": {
          "base_uri": "https://localhost:8080/"
        },
        "id": "M2qxa64xPd52",
        "outputId": "af9af8f7-6429-4bf1-f105-130024252313"
      },
      "outputs": [
        {
          "name": "stdout",
          "output_type": "stream",
          "text": [
            "              precision    recall  f1-score   support\n",
            "\n",
            "           0       0.97      0.97      0.97       262\n",
            "           1       0.98      0.98      0.98       760\n",
            "           2       0.94      0.95      0.94       117\n",
            "           3       0.91      0.86      0.89        36\n",
            "           4       1.00      0.62      0.77         8\n",
            "           5       1.00      0.93      0.97        15\n",
            "\n",
            "    accuracy                           0.97      1198\n",
            "   macro avg       0.97      0.89      0.92      1198\n",
            "weighted avg       0.97      0.97      0.97      1198\n",
            "\n"
          ]
        }
      ],
      "source": [
        "# classification report\n",
        "\n",
        "clf_report = classification_report(pred, y_test )\n",
        "\n",
        "print(clf_report)"
      ]
    },
    {
      "cell_type": "markdown",
      "metadata": {
        "id": "jn_JoysypSMr"
      },
      "source": [
        "#### ABC"
      ]
    },
    {
      "cell_type": "code",
      "execution_count": null,
      "metadata": {
        "colab": {
          "base_uri": "https://localhost:8080/"
        },
        "id": "cjsEjG9spT5C",
        "outputId": "75bea0e1-4e73-4a9e-ab97-9933e3264e28"
      },
      "outputs": [
        {
          "name": "stdout",
          "output_type": "stream",
          "text": [
            "R2 Score :0.87531\n",
            "Mean Squared Error :0.08180\n"
          ]
        }
      ],
      "source": [
        "# predictions and scores\n",
        "\n",
        "pred = abc_cb_model.predict(test_pool)\n",
        "\n",
        "r2_sr = r2_score(y_test, pred)\n",
        "mse = mean_squared_error(y_test, pred)\n",
        "\n",
        "print('R2 Score :{0:.5f}'.format(r2_sr))\n",
        "print('Mean Squared Error :{0:.5f}'.format(mse))"
      ]
    },
    {
      "cell_type": "code",
      "execution_count": null,
      "metadata": {
        "colab": {
          "base_uri": "https://localhost:8080/"
        },
        "id": "dtan0HmBpV52",
        "outputId": "07c1b96c-1ca5-4511-a209-cd3376baccdb"
      },
      "outputs": [
        {
          "name": "stdout",
          "output_type": "stream",
          "text": [
            "              precision    recall  f1-score   support\n",
            "\n",
            "           0       0.97      0.97      0.97       264\n",
            "           1       0.97      0.98      0.98       759\n",
            "           2       0.93      0.94      0.94       117\n",
            "           3       0.91      0.86      0.89        36\n",
            "           4       1.00      0.71      0.83         7\n",
            "           5       1.00      0.93      0.97        15\n",
            "\n",
            "    accuracy                           0.97      1198\n",
            "   macro avg       0.96      0.90      0.93      1198\n",
            "weighted avg       0.97      0.97      0.97      1198\n",
            "\n"
          ]
        }
      ],
      "source": [
        "# classification report\n",
        "\n",
        "clf_report = classification_report(pred, y_test )\n",
        "\n",
        "print(clf_report)"
      ]
    },
    {
      "cell_type": "markdown",
      "metadata": {
        "id": "i92q2dzeyOBB"
      },
      "source": [
        "## Save Model"
      ]
    },
    {
      "cell_type": "markdown",
      "metadata": {
        "id": "oIKamVaizi8n"
      },
      "source": [
        "### Base Model"
      ]
    },
    {
      "cell_type": "code",
      "execution_count": null,
      "metadata": {
        "id": "ozKvWE__zknd"
      },
      "outputs": [],
      "source": [
        "base_model.save_model('model_catboost.cbm',format=\"cbm\")"
      ]
    },
    {
      "cell_type": "markdown",
      "metadata": {
        "id": "1t_MqOp_zgDS"
      },
      "source": [
        "### Base with SI"
      ]
    },
    {
      "cell_type": "code",
      "execution_count": null,
      "metadata": {
        "id": "NBDRx_ZIyNEC"
      },
      "outputs": [],
      "source": [
        "model.save_model(f'model_pso_catboost_{pso_iteration}iter.cbm', format=\"cbm\")"
      ]
    }
  ],
  "metadata": {
    "accelerator": "GPU",
    "colab": {
      "collapsed_sections": [
        "vp-pb3LBSG9W",
        "-7_rRRjAPFFW"
      ],
      "gpuType": "T4",
      "provenance": []
    },
    "kernelspec": {
      "display_name": "Python 3",
      "name": "python3"
    },
    "language_info": {
      "codemirror_mode": {
        "name": "ipython",
        "version": 3
      },
      "file_extension": ".py",
      "mimetype": "text/x-python",
      "name": "python",
      "nbconvert_exporter": "python",
      "pygments_lexer": "ipython3",
      "version": "3.10.13"
    }
  },
  "nbformat": 4,
  "nbformat_minor": 0
}
