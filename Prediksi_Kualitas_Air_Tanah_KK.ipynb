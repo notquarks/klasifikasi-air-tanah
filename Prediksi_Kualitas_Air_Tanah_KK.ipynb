{
  "cells": [
    {
      "cell_type": "markdown",
      "metadata": {
        "id": "vp-pb3LBSG9W"
      },
      "source": [
        "# Desc"
      ]
    },
    {
      "cell_type": "markdown",
      "metadata": {
        "id": "J_CQ0Oq9Pd5g"
      },
      "source": [
        "<b>The dataset is very unbalanced. </b> For example, C3S4 and C3S4 classes have only one sample. This situation is not good in respect of  using the oversampling methods. <br>\n",
        "\n",
        "I tried to create a new class (called the other) by combining other classes which have a small sample size.\n",
        "Finally, there are six classes to classify, named 'C2S1', 'C3S1', 'C3S2', 'C4S1', 'C4S2', 'Other'.\n",
        "\n",
        "\n",
        "## Results\n",
        "\n",
        "I have used optima for optimizing the model. The results were not very good. Although our model gained reasonable precision/recall scores in a few classes, some classes have bad scores.<br>\n",
        "\n",
        "- (Test Set) R2 score : 82.851\n",
        "- (Test Set) MAE : 0.207831\n",
        "\n",
        "| class        \t| precision \t| recall \t| f1-score \t| support \t|\n",
        "|--------------\t|-----------\t|--------\t|----------\t|---------\t|\n",
        "| 0            \t| 1.00      \t| 0.97   \t| 0.99     \t| 76      \t|\n",
        "| 1            \t| 0.97      \t| 0.99   \t| 0.98     \t| 204     \t|\n",
        "| 2            \t| 0.25      \t| 0.17   \t| 0.20     \t| 6       \t|\n",
        "| 3            \t| 0.88      \t| 0.88   \t| 0.88     \t| 26      \t|\n",
        "| 4            \t| 0.73      \t| 0.67   \t| 0.70     \t| 12      \t|\n",
        "| 5            \t| 0.62      \t| 0.62   \t| 0.62     \t| 8       \t|\n",
        "| accuracy     \t|           \t|        \t| 0.94     \t| 332     \t|\n",
        "| macro avg    \t| 0.74      \t| 0.72   \t| 0.73     \t| 332     \t|\n",
        "| weighted avg \t| 0.94      \t| 0.94   \t| 0.94     \t| 332     \t|"
      ]
    },
    {
      "cell_type": "markdown",
      "metadata": {
        "id": "sZX52tKQSSVC"
      },
      "source": [
        "# Install"
      ]
    },
    {
      "cell_type": "code",
      "execution_count": 119,
      "metadata": {
        "colab": {
          "base_uri": "https://localhost:8080/",
          "height": 1000
        },
        "id": "kgIS3TbPPum0",
        "outputId": "81178c8c-3e1b-4fe2-afbf-ae7a99a44d81"
      },
      "outputs": [],
      "source": [
        "# !pip install catboost\n",
        "# !pip install scikit-learn\n",
        "# !pip install seaborn\n",
        "# !pip install numpy\n",
        "# !pip install pandas\n",
        "# !pip install mealpy\n",
        "# !pip install pyswarms\n",
        "# !pip install imbalanced-learn\n",
        "# !pip install jupyterlab\n",
        "# !pip install jupyter_http_over_ws\n",
        "# !pip install xgboost\n",
        "# # !pip install https://s3-us-west-2.amazonaws.com/xgboost-nightly-builds/release_2.0.0/xgboost-2.0.1%2Ba408254c2f0c4a39a04430f9894579038414cb31-py3-none-manylinux2014_x86_64.whl\n",
        "# # !pip install --upgrade --no-cache-dir gdown\n",
        "# # !jupyter serverextension enable --py jupyter_http_over_ws"
      ]
    },
    {
      "cell_type": "markdown",
      "metadata": {
        "id": "oYfAu2JASLnv"
      },
      "source": [
        "# Code"
      ]
    },
    {
      "cell_type": "code",
      "execution_count": 120,
      "metadata": {
        "id": "i-ELspnDPd5m"
      },
      "outputs": [],
      "source": [
        "# Importing dependencies\n",
        "\n",
        "import warnings\n",
        "warnings.filterwarnings('ignore')\n",
        "import re\n",
        "import numpy as np\n",
        "import pandas as pd\n",
        "import matplotlib.pyplot as plt\n",
        "from sklearn.model_selection import train_test_split\n",
        "from sklearn.impute import KNNImputer, SimpleImputer\n",
        "from sklearn.preprocessing import LabelEncoder, StandardScaler, MinMaxScaler\n",
        "from sklearn.metrics import r2_score, mean_squared_error, classification_report\n",
        "from sklearn.utils.class_weight import compute_class_weight\n",
        "from sklearn import metrics\n",
        "from sklearn.preprocessing import label_binarize\n",
        "from sklearn.metrics import accuracy_score, precision_score, recall_score, f1_score\n",
        "\n",
        "from catboost import CatBoostClassifier, Pool"
      ]
    },
    {
      "cell_type": "markdown",
      "metadata": {
        "id": "A0wgVzF2Pd5p"
      },
      "source": [
        "# <span style=\"color:#e74c3c;\"> Reading </span> Data\n"
      ]
    },
    {
      "cell_type": "code",
      "execution_count": 121,
      "metadata": {
        "colab": {
          "base_uri": "https://localhost:8080/"
        },
        "id": "fgZKwf_GQy-p",
        "outputId": "d08e46e1-77f3-4cc0-8de0-77289e7c5cbe"
      },
      "outputs": [],
      "source": [
        "# !gdown 1SaxJ8KPMrV37ZsVTv5F5ava5aXtGRiSn\n",
        "# !gdown 1E6BZ-AEncUOWlsK96SFz5wBK8w7XjmVB\n",
        "# !gdown 195J88Onvr23J8HdFtO3D_Yezi97clcZ9\n",
        "# !gdown 1C4ERjxVqEnxTGxwQVz98u3gaxA_hnzrH\n",
        "# !gdown 10KFETqq39CXdFP2zTqPgRKOGqFuVlhL9\n",
        "# !gdown 1I5c33LgqPIjtSFAThzIYFYllWgrzNTT0\n",
        "# !gdown 1S6YYB6ew3CdlIT8YtMCLw-g0WJlmV6D1\n",
        "# !gdown 1Xnhm2FD-mDuX6AQ-Nqs-OHd5s5zWyn3e\n",
        "# !gdown 1oykno6YaFS6Fx9G8sI4RlqVnu36x693F\n",
        "# !gdown 1wDqaIzte9f5KLfEOTa0r9a6QrKZ34_Yx"
      ]
    },
    {
      "cell_type": "code",
      "execution_count": 122,
      "metadata": {
        "id": "BLVp95uFl-3_"
      },
      "outputs": [],
      "source": [
        "# Reading data\n",
        "\n",
        "data1 = pd.read_csv('./ground_water_quality_2018_post.csv')\n",
        "data2 = pd.read_csv('./ground_water_quality_2019_post.csv')\n",
        "data3 = pd.read_csv('./ground_water_quality_2020_post.csv')\n",
        "data4 = pd.read_csv('./ground_water_quality_2020_post.csv')\n",
        "data5 = pd.read_csv('./ground_water_quality_2020_post.csv')\n",
        "data6 = pd.read_csv('./ground_water_quality_2018_pre.csv')\n",
        "data7 = pd.read_csv('./ground_water_quality_2019_pre.csv')\n",
        "data8 = pd.read_csv('./ground_water_quality_2020_pre.csv')\n",
        "data9 = pd.read_csv('./ground_water_quality_2020_pre.csv')\n",
        "data10 = pd.read_csv('./ground_water_quality_2020_pre.csv')"
      ]
    },
    {
      "cell_type": "code",
      "execution_count": 123,
      "metadata": {
        "id": "efuW4HT3Pd5q"
      },
      "outputs": [],
      "source": [
        "\n",
        "data2.rename( columns ={ 'EC' : 'E.C', 'CO_-2 ' : 'CO3', 'HCO_ - ' :'HCO3', 'Cl -' : 'Cl',\n",
        "                        'F -' : 'F', 'NO3- ': 'NO3 ' , 'SO4-2':'SO4' , 'Na+':'Na', 'K+':'K',\n",
        "                        'Ca+2' : 'Ca', 'Mg+2':'Mg'}, inplace = True)\n",
        "\n",
        "# Create a list of column names to drop\n",
        "columns_to_drop = ['sno', 'season', 'Unnamed: 8']\n",
        "list_data = [data1, data2, data3, data4, data5, data6, data7, data8, data9, data10]\n",
        "\n",
        "# Loop through your dataframes and drop the columns if they exist\n",
        "for df in list_data:\n",
        "    for col in columns_to_drop:\n",
        "        if col in df.columns:\n",
        "            df.drop(col, axis=1, inplace=True)\n",
        "\n",
        "# creating new columns\n",
        "data1['year'] = 2018\n",
        "data2['year'] = 2019\n",
        "data3['year'] = 2020\n",
        "data4['year'] = 2021\n",
        "data5['year'] = 2022\n",
        "data6['year'] = 2018\n",
        "data7['year'] = 2019\n",
        "data8['year'] = 2020\n",
        "data9['year'] = 2021\n",
        "data10['year'] = 2022\n",
        "\n",
        "\n",
        "\n",
        "# handling and fixing outliers\n",
        "data3['pH'].iloc[261] = data3['pH'].iloc[261].replace('8..05', '8.05')\n",
        "data3['pH'] = data3['pH'].apply(pd.to_numeric)\n",
        "\n",
        "for df in list_data:\n",
        "    df['Classification'] = df['Classification'].replace(['O.G'], 'OG')"
      ]
    },
    {
      "cell_type": "code",
      "execution_count": 124,
      "metadata": {
        "id": "BHQb33xPJhPB"
      },
      "outputs": [],
      "source": [
        "data_full = pd.concat([data1, data2, data3, data4, data5, data6, data7, data8, data9, data10], axis = 0)\n",
        "data_full.to_csv('ground_water_merge.csv', index=False)"
      ]
    },
    {
      "cell_type": "code",
      "execution_count": 125,
      "metadata": {
        "colab": {
          "base_uri": "https://localhost:8080/"
        },
        "id": "eZnsMYsFRnjh",
        "outputId": "f2854309-ffb9-4658-c5ac-56c2a48bf6b1"
      },
      "outputs": [
        {
          "data": {
            "text/plain": [
              "3645"
            ]
          },
          "execution_count": 125,
          "metadata": {},
          "output_type": "execute_result"
        }
      ],
      "source": [
        "len(data_full)"
      ]
    },
    {
      "cell_type": "code",
      "execution_count": 126,
      "metadata": {
        "id": "gA_PBJQXPd5r"
      },
      "outputs": [],
      "source": [
        "# creating and applying the new_class function\n",
        "\n",
        "def new_class(X):\n",
        "    # if (X == 'C3S4') | (X == 'C2S2') | (X == 'C4S4') | (X == 'C3S3') | (X == 'C4S3') | (X == 'OG')  | (X == 'C1S1')  :\n",
        "    if (X == 'C1S1'):\n",
        "        return 'Sangat Baik'\n",
        "    elif (X == 'C1S2') | (X == 'C2S1') | (X == 'C2S2'):\n",
        "        return 'Baik'\n",
        "    elif (X == 'C1S3') | (X == 'C3S1'):\n",
        "        return 'Boleh Digunakan'\n",
        "    elif (X == 'C2S3') | (X == 'C3S2') | (X == 'C3S3'):\n",
        "        return 'Marginal'\n",
        "    elif (X == 'C1S4') | (X == 'C2S4') | (X == 'C3S4') | (X == 'C4S1') | (X == 'C4S2'):\n",
        "        return 'Buruk'\n",
        "    elif  (X == 'C4S3') | (X == 'C4S4') :\n",
        "        return 'Sangat Buruk'\n",
        "    elif ( X == 'OG') | (X == \"BELOW THE GRAPH\") :\n",
        "        return 'Other'\n",
        "    else:\n",
        "        return X\n",
        "\n",
        "data_full['Classification'] = data_full['Classification'].apply(new_class)"
      ]
    },
    {
      "cell_type": "code",
      "execution_count": 127,
      "metadata": {
        "id": "i068MshDhNpy"
      },
      "outputs": [],
      "source": [
        "def rsc_class(x):\n",
        "    if x < 1.25:\n",
        "        return 2\n",
        "    elif 1.25 <= x <= 2.5:\n",
        "        return 1\n",
        "    else:\n",
        "        return 0\n",
        "\n",
        "data_full['rsc_class'] = data_full['RSC  meq  / L'].apply(rsc_class)"
      ]
    },
    {
      "cell_type": "code",
      "execution_count": 128,
      "metadata": {
        "id": "bJXrN0mBhOP9"
      },
      "outputs": [],
      "source": [
        "def tds_class(x):\n",
        "    if x < 1000:\n",
        "        return 5\n",
        "    elif 1000 <= x < 3000:\n",
        "        return 4\n",
        "    elif 3000 <= x < 5000:\n",
        "        return 3\n",
        "    elif 5000 <= x < 7000:\n",
        "        return 2\n",
        "    elif 7000 <= x < 10000:\n",
        "        return 1\n",
        "    else:\n",
        "        return 0\n",
        "\n",
        "data_full['tds_class'] = data_full['TDS'].apply(tds_class)"
      ]
    },
    {
      "cell_type": "code",
      "execution_count": 129,
      "metadata": {
        "id": "BQZV8TftKYEk"
      },
      "outputs": [],
      "source": [
        "# cols2drop = ['district','mandal', 'village', 'lat_gis', 'long_gis', 'Classification.1', 'Unnamed: 8']\n",
        "cols2drop = ['district', 'mandal', 'village', 'Classification.1', 'temp_id', 'E.C', 'TDS', 'T.H']\n",
        "# cols2drop = ['Classification.1', 'Unnamed: 8']\n",
        "data_full_copy = data_full\n",
        "data_full = data_full[data_full['Classification'] != 'Other']\n",
        "data_full = data_full[data_full['pH'] != \"Sample Leaked Out\"]\n",
        "data_full['pH'] = data_full['pH'].replace('8..05', '8.05')\n",
        "data_full['pH'] = data_full['pH'].apply(pd.to_numeric)\n",
        "\n",
        "data_full = data_full.drop(cols2drop, axis=1)"
      ]
    },
    {
      "cell_type": "code",
      "execution_count": 130,
      "metadata": {
        "colab": {
          "base_uri": "https://localhost:8080/"
        },
        "id": "2ciKld5ILHG7",
        "outputId": "8b07afea-6127-4442-96f8-45edb62f2ba0"
      },
      "outputs": [
        {
          "data": {
            "text/plain": [
              "3630"
            ]
          },
          "execution_count": 130,
          "metadata": {},
          "output_type": "execute_result"
        }
      ],
      "source": [
        "len(data_full)"
      ]
    },
    {
      "cell_type": "code",
      "execution_count": 131,
      "metadata": {
        "colab": {
          "base_uri": "https://localhost:8080/"
        },
        "id": "koc3FHsnXvlN",
        "outputId": "c4a553ce-9019-408a-a515-7bbd62ac0a98"
      },
      "outputs": [
        {
          "name": "stdout",
          "output_type": "stream",
          "text": [
            "Classification\n",
            "Boleh Digunakan    2314\n",
            "Baik                796\n",
            "Buruk               356\n",
            "Marginal            104\n",
            "Sangat Buruk         43\n",
            "Sangat Baik          16\n",
            "Name: count, dtype: int64\n"
          ]
        }
      ],
      "source": [
        "class_distribution = data_full['Classification'].value_counts()\n",
        "# check class distribution\n",
        "print(class_distribution)"
      ]
    },
    {
      "cell_type": "code",
      "execution_count": 132,
      "metadata": {
        "colab": {
          "base_uri": "https://localhost:8080/"
        },
        "id": "HRjFR5C0Pd5s",
        "outputId": "0412d808-997f-4dfb-be16-a488934d2f29"
      },
      "outputs": [
        {
          "data": {
            "text/plain": [
              "gwl                48\n",
              "CO3               161\n",
              "HCO3                1\n",
              "Cl                  1\n",
              "F                   1\n",
              "NO3                 1\n",
              "SO4                 1\n",
              "Na                  1\n",
              "K                   1\n",
              "Ca                  1\n",
              "Mg                  1\n",
              "SAR                 1\n",
              "Classification      1\n",
              "RSC  meq  / L       1\n",
              "dtype: int64"
            ]
          },
          "execution_count": 132,
          "metadata": {},
          "output_type": "execute_result"
        }
      ],
      "source": [
        "# total null elements\n",
        "\n",
        "data_full.isnull().sum()[data_full.isnull().sum() > 0]"
      ]
    },
    {
      "cell_type": "code",
      "execution_count": 133,
      "metadata": {
        "id": "DKCPkaD3Pd5s"
      },
      "outputs": [],
      "source": [
        "# imputing null values\n",
        "\n",
        "imp_knn = KNNImputer(n_neighbors=3)\n",
        "\n",
        "data_full['CO3'] = imp_knn.fit_transform(np.array(data_full['CO3']).reshape(-1,1) )\n",
        "data_full['gwl'] = imp_knn.fit_transform(np.array(data_full['gwl']).reshape(-1,1) )"
      ]
    },
    {
      "cell_type": "code",
      "execution_count": 134,
      "metadata": {
        "colab": {
          "base_uri": "https://localhost:8080/"
        },
        "id": "toq1tT6wPd5t",
        "outputId": "2c524cca-649c-4383-d010-3139e43eff1d"
      },
      "outputs": [
        {
          "data": {
            "text/plain": [
              "HCO3              1\n",
              "Cl                1\n",
              "F                 1\n",
              "NO3               1\n",
              "SO4               1\n",
              "Na                1\n",
              "K                 1\n",
              "Ca                1\n",
              "Mg                1\n",
              "SAR               1\n",
              "Classification    1\n",
              "RSC  meq  / L     1\n",
              "dtype: int64"
            ]
          },
          "execution_count": 134,
          "metadata": {},
          "output_type": "execute_result"
        }
      ],
      "source": [
        "data_full.isnull().sum()[data_full.isnull().sum() > 0]"
      ]
    },
    {
      "cell_type": "code",
      "execution_count": 135,
      "metadata": {
        "id": "5Mx9LcyxnXxi"
      },
      "outputs": [],
      "source": [
        "data_full = data_full.dropna()"
      ]
    },
    {
      "cell_type": "code",
      "execution_count": 136,
      "metadata": {
        "colab": {
          "base_uri": "https://localhost:8080/",
          "height": 206
        },
        "id": "lkHQRdqyPd5u",
        "outputId": "b5d549b4-124f-4793-e6d5-32d7679826cb"
      },
      "outputs": [
        {
          "data": {
            "text/html": [
              "<div>\n",
              "<style scoped>\n",
              "    .dataframe tbody tr th:only-of-type {\n",
              "        vertical-align: middle;\n",
              "    }\n",
              "\n",
              "    .dataframe tbody tr th {\n",
              "        vertical-align: top;\n",
              "    }\n",
              "\n",
              "    .dataframe thead th {\n",
              "        text-align: right;\n",
              "    }\n",
              "</style>\n",
              "<table border=\"1\" class=\"dataframe\">\n",
              "  <thead>\n",
              "    <tr style=\"text-align: right;\">\n",
              "      <th></th>\n",
              "      <th>lat_gis</th>\n",
              "      <th>long_gis</th>\n",
              "      <th>gwl</th>\n",
              "      <th>pH</th>\n",
              "      <th>CO3</th>\n",
              "      <th>HCO3</th>\n",
              "      <th>Cl</th>\n",
              "      <th>F</th>\n",
              "      <th>NO3</th>\n",
              "      <th>SO4</th>\n",
              "      <th>Na</th>\n",
              "      <th>K</th>\n",
              "      <th>Ca</th>\n",
              "      <th>Mg</th>\n",
              "      <th>SAR</th>\n",
              "      <th>Classification</th>\n",
              "      <th>RSC  meq  / L</th>\n",
              "      <th>year</th>\n",
              "      <th>rsc_class</th>\n",
              "      <th>tds_class</th>\n",
              "    </tr>\n",
              "  </thead>\n",
              "  <tbody>\n",
              "    <tr>\n",
              "      <th>0</th>\n",
              "      <td>19.668300</td>\n",
              "      <td>78.524700</td>\n",
              "      <td>5.09</td>\n",
              "      <td>8.28</td>\n",
              "      <td>0.0</td>\n",
              "      <td>220.0</td>\n",
              "      <td>60.0</td>\n",
              "      <td>0.44</td>\n",
              "      <td>42.276818</td>\n",
              "      <td>46.0</td>\n",
              "      <td>49.0</td>\n",
              "      <td>4.0</td>\n",
              "      <td>48.0</td>\n",
              "      <td>38.896</td>\n",
              "      <td>1.273328</td>\n",
              "      <td>Baik</td>\n",
              "      <td>-1.198684</td>\n",
              "      <td>2018</td>\n",
              "      <td>2</td>\n",
              "      <td>5</td>\n",
              "    </tr>\n",
              "    <tr>\n",
              "      <th>1</th>\n",
              "      <td>19.458888</td>\n",
              "      <td>78.350833</td>\n",
              "      <td>5.10</td>\n",
              "      <td>8.29</td>\n",
              "      <td>0.0</td>\n",
              "      <td>230.0</td>\n",
              "      <td>80.0</td>\n",
              "      <td>0.56</td>\n",
              "      <td>100.659091</td>\n",
              "      <td>68.0</td>\n",
              "      <td>42.0</td>\n",
              "      <td>5.0</td>\n",
              "      <td>56.0</td>\n",
              "      <td>63.206</td>\n",
              "      <td>0.913166</td>\n",
              "      <td>Boleh Digunakan</td>\n",
              "      <td>-3.397862</td>\n",
              "      <td>2018</td>\n",
              "      <td>2</td>\n",
              "      <td>5</td>\n",
              "    </tr>\n",
              "    <tr>\n",
              "      <th>2</th>\n",
              "      <td>19.525555</td>\n",
              "      <td>78.512222</td>\n",
              "      <td>4.98</td>\n",
              "      <td>7.69</td>\n",
              "      <td>0.0</td>\n",
              "      <td>200.0</td>\n",
              "      <td>30.0</td>\n",
              "      <td>0.66</td>\n",
              "      <td>41.471545</td>\n",
              "      <td>44.0</td>\n",
              "      <td>45.0</td>\n",
              "      <td>2.0</td>\n",
              "      <td>24.0</td>\n",
              "      <td>38.896</td>\n",
              "      <td>1.319284</td>\n",
              "      <td>Baik</td>\n",
              "      <td>-0.398684</td>\n",
              "      <td>2018</td>\n",
              "      <td>2</td>\n",
              "      <td>5</td>\n",
              "    </tr>\n",
              "    <tr>\n",
              "      <th>3</th>\n",
              "      <td>19.730555</td>\n",
              "      <td>78.640000</td>\n",
              "      <td>5.75</td>\n",
              "      <td>8.09</td>\n",
              "      <td>0.0</td>\n",
              "      <td>160.0</td>\n",
              "      <td>10.0</td>\n",
              "      <td>0.58</td>\n",
              "      <td>10.669864</td>\n",
              "      <td>35.0</td>\n",
              "      <td>27.0</td>\n",
              "      <td>1.0</td>\n",
              "      <td>32.0</td>\n",
              "      <td>19.448</td>\n",
              "      <td>0.928155</td>\n",
              "      <td>Baik</td>\n",
              "      <td>0.000658</td>\n",
              "      <td>2018</td>\n",
              "      <td>2</td>\n",
              "      <td>5</td>\n",
              "    </tr>\n",
              "    <tr>\n",
              "      <th>4</th>\n",
              "      <td>19.495665</td>\n",
              "      <td>78.852654</td>\n",
              "      <td>2.15</td>\n",
              "      <td>8.21</td>\n",
              "      <td>0.0</td>\n",
              "      <td>300.0</td>\n",
              "      <td>340.0</td>\n",
              "      <td>2.56</td>\n",
              "      <td>128.843636</td>\n",
              "      <td>280.0</td>\n",
              "      <td>298.0</td>\n",
              "      <td>5.0</td>\n",
              "      <td>56.0</td>\n",
              "      <td>92.378</td>\n",
              "      <td>5.682664</td>\n",
              "      <td>Buruk</td>\n",
              "      <td>-4.396875</td>\n",
              "      <td>2018</td>\n",
              "      <td>2</td>\n",
              "      <td>4</td>\n",
              "    </tr>\n",
              "  </tbody>\n",
              "</table>\n",
              "</div>"
            ],
            "text/plain": [
              "     lat_gis   long_gis   gwl    pH  CO3   HCO3     Cl     F        NO3   \\\n",
              "0  19.668300  78.524700  5.09  8.28  0.0  220.0   60.0  0.44   42.276818   \n",
              "1  19.458888  78.350833  5.10  8.29  0.0  230.0   80.0  0.56  100.659091   \n",
              "2  19.525555  78.512222  4.98  7.69  0.0  200.0   30.0  0.66   41.471545   \n",
              "3  19.730555  78.640000  5.75  8.09  0.0  160.0   10.0  0.58   10.669864   \n",
              "4  19.495665  78.852654  2.15  8.21  0.0  300.0  340.0  2.56  128.843636   \n",
              "\n",
              "     SO4     Na    K    Ca      Mg       SAR   Classification  RSC  meq  / L  \\\n",
              "0   46.0   49.0  4.0  48.0  38.896  1.273328             Baik      -1.198684   \n",
              "1   68.0   42.0  5.0  56.0  63.206  0.913166  Boleh Digunakan      -3.397862   \n",
              "2   44.0   45.0  2.0  24.0  38.896  1.319284             Baik      -0.398684   \n",
              "3   35.0   27.0  1.0  32.0  19.448  0.928155             Baik       0.000658   \n",
              "4  280.0  298.0  5.0  56.0  92.378  5.682664            Buruk      -4.396875   \n",
              "\n",
              "   year  rsc_class  tds_class  \n",
              "0  2018          2          5  \n",
              "1  2018          2          5  \n",
              "2  2018          2          5  \n",
              "3  2018          2          5  \n",
              "4  2018          2          4  "
            ]
          },
          "execution_count": 136,
          "metadata": {},
          "output_type": "execute_result"
        }
      ],
      "source": [
        "data_full.head()"
      ]
    },
    {
      "cell_type": "code",
      "execution_count": 137,
      "metadata": {
        "id": "K1XXNGupPd5v"
      },
      "outputs": [],
      "source": [
        "# creating train data and target\n",
        "\n",
        "X = data_full.copy()\n",
        "X.drop('Classification', axis= 1, inplace = True)\n",
        "\n",
        "y = data_full['Classification']"
      ]
    },
    {
      "cell_type": "code",
      "execution_count": 138,
      "metadata": {
        "colab": {
          "base_uri": "https://localhost:8080/"
        },
        "id": "hDNGUrC9dCcr",
        "outputId": "0f4fd337-4318-4081-9fed-d936315f3942"
      },
      "outputs": [
        {
          "data": {
            "text/plain": [
              "lat_gis          float64\n",
              "long_gis         float64\n",
              "gwl              float64\n",
              "pH               float64\n",
              "CO3              float64\n",
              "HCO3             float64\n",
              "Cl               float64\n",
              "F                float64\n",
              "NO3              float64\n",
              "SO4              float64\n",
              "Na               float64\n",
              "K                float64\n",
              "Ca               float64\n",
              "Mg               float64\n",
              "SAR              float64\n",
              "RSC  meq  / L    float64\n",
              "year               int64\n",
              "rsc_class          int64\n",
              "tds_class          int64\n",
              "dtype: object"
            ]
          },
          "execution_count": 138,
          "metadata": {},
          "output_type": "execute_result"
        }
      ],
      "source": [
        "X.dtypes"
      ]
    },
    {
      "cell_type": "code",
      "execution_count": 139,
      "metadata": {
        "colab": {
          "base_uri": "https://localhost:8080/"
        },
        "id": "L5PkSPLaVfTX",
        "outputId": "fa99d76b-0346-4939-feff-d780422cf550"
      },
      "outputs": [
        {
          "data": {
            "text/plain": [
              "Classification\n",
              "Boleh Digunakan    2314\n",
              "Baik                796\n",
              "Buruk               356\n",
              "Marginal            104\n",
              "Sangat Buruk         43\n",
              "Sangat Baik          16\n",
              "Name: count, dtype: int64"
            ]
          },
          "execution_count": 139,
          "metadata": {},
          "output_type": "execute_result"
        }
      ],
      "source": [
        "pd.value_counts(y)"
      ]
    },
    {
      "cell_type": "code",
      "execution_count": 140,
      "metadata": {
        "colab": {
          "base_uri": "https://localhost:8080/"
        },
        "id": "poUi6FwbPd5w",
        "outputId": "eb4e50e6-1f99-4a50-b4b0-5dfa79156730"
      },
      "outputs": [
        {
          "data": {
            "text/plain": [
              "array(['Baik', 'Boleh Digunakan', 'Buruk', 'Marginal', 'Sangat Baik',\n",
              "       'Sangat Buruk'], dtype=object)"
            ]
          },
          "execution_count": 140,
          "metadata": {},
          "output_type": "execute_result"
        }
      ],
      "source": [
        "LB = LabelEncoder()\n",
        "y = LB.fit_transform(y)\n",
        "LB.classes_"
      ]
    },
    {
      "cell_type": "code",
      "execution_count": 141,
      "metadata": {
        "colab": {
          "base_uri": "https://localhost:8080/"
        },
        "id": "hXfWrh9Bk_Ym",
        "outputId": "d4617b8e-15df-497b-8051-97b914b3f730"
      },
      "outputs": [
        {
          "data": {
            "text/plain": [
              "array(['Baik', 'Boleh Digunakan', 'Buruk', 'Marginal', 'Sangat Baik',\n",
              "       'Sangat Buruk'], dtype=object)"
            ]
          },
          "execution_count": 141,
          "metadata": {},
          "output_type": "execute_result"
        }
      ],
      "source": [
        "original_classes = LB.inverse_transform(y)\n",
        "np.unique(original_classes)"
      ]
    },
    {
      "cell_type": "code",
      "execution_count": 142,
      "metadata": {
        "colab": {
          "base_uri": "https://localhost:8080/"
        },
        "id": "_pVWhXdQPd5w",
        "outputId": "312d2e8c-6724-4832-e682-2d4cf1179051"
      },
      "outputs": [
        {
          "data": {
            "text/plain": [
              "array([], dtype=int64)"
            ]
          },
          "execution_count": 142,
          "metadata": {},
          "output_type": "execute_result"
        }
      ],
      "source": [
        "# categorical features\n",
        "\n",
        "cat_feat_idx =  np.where(X.dtypes == 'object')[0]\n",
        "cat_feat_idx"
      ]
    },
    {
      "cell_type": "code",
      "execution_count": 143,
      "metadata": {
        "id": "MDLJYzGBPd5x"
      },
      "outputs": [],
      "source": [
        "# scaling numerical data\n",
        "\n",
        "MX = MinMaxScaler()\n",
        "X.iloc[:, 3:21] = MX.fit_transform(X.iloc[:, 3:21])"
      ]
    },
    {
      "cell_type": "code",
      "execution_count": 144,
      "metadata": {
        "colab": {
          "base_uri": "https://localhost:8080/"
        },
        "id": "8YsIRO15Pd5y",
        "outputId": "9d62104f-544f-4a20-c60f-f3993efaca9d"
      },
      "outputs": [
        {
          "name": "stdout",
          "output_type": "stream",
          "text": [
            "(2431, 19)\n",
            "(1198, 19)\n"
          ]
        }
      ],
      "source": [
        "X_train, X_test, y_train, y_test = train_test_split(X,y, test_size = 0.33 , shuffle = True, stratify=y, random_state= 42)\n",
        "\n",
        "print(X_train.shape)\n",
        "print(X_test.shape)"
      ]
    },
    {
      "cell_type": "code",
      "execution_count": 145,
      "metadata": {
        "id": "OiD8oErKUj7Q"
      },
      "outputs": [],
      "source": [
        "# balancing class\n",
        "from imblearn.over_sampling import SMOTE\n",
        "from imblearn.combine import SMOTEENN\n",
        "\n",
        "smote = SMOTE()\n",
        "X_train, y_train = smote.fit_resample(X_train, y_train)\n",
        "#SMOTE Training data"
      ]
    },
    {
      "cell_type": "code",
      "execution_count": 146,
      "metadata": {
        "colab": {
          "base_uri": "https://localhost:8080/"
        },
        "id": "LhJ91BNWaIuV",
        "outputId": "90e6621b-59e0-40db-d0e7-9fad4d965951"
      },
      "outputs": [
        {
          "data": {
            "text/plain": [
              "array([0, 1, 2, 3, 4, 5])"
            ]
          },
          "execution_count": 146,
          "metadata": {},
          "output_type": "execute_result"
        }
      ],
      "source": [
        "y_class = np.unique(y_train)\n",
        "y_class"
      ]
    },
    {
      "cell_type": "code",
      "execution_count": 147,
      "metadata": {
        "colab": {
          "base_uri": "https://localhost:8080/"
        },
        "id": "TCPEy5BCPd5z",
        "outputId": "a5547db1-398f-4219-964c-d2fcececeff3"
      },
      "outputs": [
        {
          "data": {
            "text/plain": [
              "{0: 1.0, 1: 1.0, 2: 1.0, 3: 1.0, 4: 1.0, 5: 1.0}"
            ]
          },
          "execution_count": 147,
          "metadata": {},
          "output_type": "execute_result"
        }
      ],
      "source": [
        "# creating class weights\n",
        "\n",
        "unique_classes = np.unique(y)\n",
        "weights = compute_class_weight(class_weight='balanced', classes=unique_classes, y=y_train)\n",
        "class_weights = dict(zip(unique_classes, weights))\n",
        "class_weights"
      ]
    },
    {
      "cell_type": "code",
      "execution_count": 148,
      "metadata": {
        "id": "QnOsbuVSPd50"
      },
      "outputs": [],
      "source": [
        "# creating pools for training and testing\n",
        "\n",
        "train_pool = Pool(X_train, y_train, cat_features = cat_feat_idx)\n",
        "test_pool = Pool(X_test, y_test, cat_features = cat_feat_idx)"
      ]
    },
    {
      "cell_type": "code",
      "execution_count": 149,
      "metadata": {
        "id": "xmGJyYr2qBn2"
      },
      "outputs": [],
      "source": [
        "device_type = 'GPU'"
      ]
    },
    {
      "cell_type": "markdown",
      "metadata": {
        "id": "-7_rRRjAPFFW"
      },
      "source": [
        "## Base"
      ]
    },
    {
      "cell_type": "markdown",
      "metadata": {
        "id": "pEvnthqQPd5z"
      },
      "source": [
        "### <span style=\"color:#e74c3c;\"> CatBoost </span> Classifier\n"
      ]
    },
    {
      "cell_type": "code",
      "execution_count": 150,
      "metadata": {
        "colab": {
          "base_uri": "https://localhost:8080/"
        },
        "id": "rNki7Eu4Pd50",
        "outputId": "cc5ba125-441c-40d4-e37b-ef6027ca4262"
      },
      "outputs": [
        {
          "name": "stdout",
          "output_type": "stream",
          "text": [
            "Learning rate set to 0.102295\n",
            "0:\tlearn: 1.4101238\ttotal: 7.49ms\tremaining: 7.49s\n"
          ]
        },
        {
          "name": "stdout",
          "output_type": "stream",
          "text": [
            "999:\tlearn: 0.0043293\ttotal: 6.93s\tremaining: 0us\n"
          ]
        },
        {
          "data": {
            "text/plain": [
              "<catboost.core.CatBoostClassifier at 0x25cb9f45e10>"
            ]
          },
          "execution_count": 150,
          "metadata": {},
          "output_type": "execute_result"
        }
      ],
      "source": [
        "# cb_model = CatBoostClassifier(iterations= 6000, task_type=device_type, devices='0:1', learning_rate = 0.0039, depth=5, l2_leaf_reg=0.3, min_data_in_leaf = 27, class_weights=class_weights)\n",
        "cb_model = CatBoostClassifier(task_type=device_type, devices='0:1', class_weights=class_weights)\n",
        "\n",
        "cb_model.fit(train_pool, verbose = 1000 )"
      ]
    },
    {
      "cell_type": "code",
      "execution_count": 151,
      "metadata": {
        "id": "cbc1UrRihqJB"
      },
      "outputs": [],
      "source": [
        "importances = cb_model.get_feature_importance(type='PredictionValuesChange')\n",
        "feature_importances = pd.Series(importances, index=X.columns).sort_values()"
      ]
    },
    {
      "cell_type": "code",
      "execution_count": 152,
      "metadata": {
        "colab": {
          "base_uri": "https://localhost:8080/",
          "height": 564
        },
        "id": "zmF3cQpfhrCB",
        "outputId": "b23a4e21-3d80-4d3f-b11b-8bba776ed289"
      },
      "outputs": [
        {
          "data": {
            "image/png": "[encoded data removed]",
            "text/plain": [
              "<Figure size 1000x600 with 1 Axes>"
            ]
          },
          "metadata": {},
          "output_type": "display_data"
        }
      ],
      "source": [
        "plt.figure(figsize=(10, 6))\n",
        "plt.barh(feature_importances.index, feature_importances.values)\n",
        "plt.title('CatBoost Feature Importance')\n",
        "plt.xlabel('Importance')\n",
        "plt.ylabel('Features')\n",
        "plt.show()"
      ]
    },
    {
      "cell_type": "markdown",
      "metadata": {
        "id": "gokQWeUG_KO0"
      },
      "source": [
        "## Swarm Intelligence"
      ]
    },
    {
      "cell_type": "markdown",
      "metadata": {
        "id": "arC8ECety4qC"
      },
      "source": [
        "### PSO"
      ]
    },
    {
      "cell_type": "code",
      "execution_count": 153,
      "metadata": {
        "id": "hXotDRTg3INJ"
      },
      "outputs": [],
      "source": [
        "import pyswarms as ps\n",
        "from mealpy import FloatVar, PSO"
      ]
    },
    {
      "cell_type": "code",
      "execution_count": 154,
      "metadata": {},
      "outputs": [],
      "source": [
        "labels = [0, 1, 2, 3, 4, 5]"
      ]
    },
    {
      "cell_type": "code",
      "execution_count": 155,
      "metadata": {
        "id": "th9fcuGREipa"
      },
      "outputs": [],
      "source": [
        "# Define the hyperparameter search space\n",
        "hyperparameter_ranges_cb = {\n",
        "    'iterations': (100, 5000),  # Reduce the range of boosting iterations\n",
        "    'depth': (2, 8),           # Reduce the range of tree depth\n",
        "    'learning_rate': (0.001, 0.1),  # Reduce the learning rate range\n",
        "    'min_data_in_leaf': (20, 35),\n",
        "    'l2_leaf_reg': (1, 16),      # Reduce the range of regularization strength\n",
        "}"
      ]
    },
    {
      "cell_type": "code",
      "execution_count": 156,
      "metadata": {
        "id": "AT4EMj7l6bRr"
      },
      "outputs": [],
      "source": [
        "def objective_function_cb(x):\n",
        "    # Round the elements of x to integers\n",
        "    # x = x.astype(int)\n",
        "    x = x.reshape(-1)  # Ensure x is a 1D array\n",
        "    params = {\n",
        "        'iterations': int(x[0]),\n",
        "        'depth': int(x[1]),\n",
        "        'learning_rate': float(x[2]),\n",
        "        'min_data_in_leaf': int(x[3]),\n",
        "        'l2_leaf_reg': float(x[4]),\n",
        "        'loss_function': 'MultiClass',\n",
        "        'one_hot_max_size': 254,\n",
        "        'class_weights': class_weights,\n",
        "        'task_type': device_type,\n",
        "        'devices': '0:1',\n",
        "        'cat_features': cat_feat_idx,\n",
        "        'verbose': 0,\n",
        "    }\n",
        "\n",
        "    cbof_model = CatBoostClassifier(**params)\n",
        "    cbof_model.fit(train_pool)\n",
        "    y_pred = cbof_model.predict(X_test)\n",
        "    #Accuracy\n",
        "    accuracy = accuracy_score(y_test, y_pred)\n",
        "    #Precision\n",
        "    precision = precision_score(y_test, y_pred, average=\"macro\")\n",
        "    #Recall\n",
        "    recall = recall_score(y_test, y_pred, average=\"macro\")\n",
        "    #f1-score\n",
        "    f1score = f1_score(y_test, y_pred, average=\"macro\")\n",
        "    auroc_list = []\n",
        "    ytest_bin = label_binarize(y_test, classes=labels)\n",
        "    ypreds_bin = label_binarize(y_pred, classes=labels)\n",
        "    roc_auc_score = metrics.roc_auc_score(ytest_bin, ypreds_bin, average='macro', multi_class='ovo')\n",
        "    # print('AUC:', roc_auc_score)\n",
        "    \n",
        "    return f1score, accuracy"
      ]
    },
    {
      "cell_type": "code",
      "execution_count": 157,
      "metadata": {
        "id": "w3rsHYFGNapv"
      },
      "outputs": [],
      "source": [
        "problem_dict_cb = {\n",
        "    \"bounds\": FloatVar(lb=(100, 2, 0.001, 20, 0.1), ub=(5000, 8, 0.1, 35, 1.0), name=\"delta\"),\n",
        "    \"minmax\": \"max\",\n",
        "    \"obj_func\": objective_function_cb,\n",
        "    \"obj_weights\": [0.7,0.3]\n",
        "}"
      ]
    },
    {
      "cell_type": "markdown",
      "metadata": {
        "id": "lMSWtCnykQsI"
      },
      "source": [
        "#### OF Catboost"
      ]
    },
    {
      "cell_type": "code",
      "execution_count": 158,
      "metadata": {
        "colab": {
          "base_uri": "https://localhost:8080/"
        },
        "id": "tXNW3xtW78El",
        "outputId": "e35c1b80-18ec-4cb3-dcf3-a0000057a275"
      },
      "outputs": [
        {
          "name": "stderr",
          "output_type": "stream",
          "text": [
            "2023-11-09 13:48:00,294 - mealpy.swarm_based.PSO.OriginalPSO - INFO - Solving 2-objective optimization problem with weights: [0.7 0.3].\n"
          ]
        },
        {
          "name": "stdout",
          "output_type": "stream",
          "text": [
            "AUC: 0.9665420685064127\n",
            "AUC: 0.9623304802777372\n",
            "AUC: 0.9680317497649501\n",
            "AUC: 0.9673422134410311\n",
            "AUC: 0.9724946033311265\n",
            "AUC: 0.9684281529716398\n",
            "AUC: 0.9700098227879049\n",
            "AUC: 0.9718445503686105\n",
            "AUC: 0.9710204786099649\n",
            "AUC: 0.966647969324809\n",
            "AUC: 0.969297527050188\n",
            "AUC: 0.9758566327508239\n",
            "AUC: 0.9696388658187778\n",
            "AUC: 0.9610520819189179\n",
            "AUC: 0.9666383097737891\n",
            "AUC: 0.9708988492040613\n",
            "AUC: 0.9749987754754281\n",
            "AUC: 0.9675404150443758\n",
            "AUC: 0.9696601500478755\n",
            "AUC: 0.9660625827696356\n",
            "AUC: 0.9663438669030678\n",
            "AUC: 0.9698404012804379\n",
            "AUC: 0.9680668184628448\n",
            "AUC: 0.9720761426231282\n",
            "AUC: 0.9722321803655335\n",
            "AUC: 0.9705642496061092\n",
            "AUC: 0.9710767139356428\n",
            "AUC: 0.9735636137015472\n",
            "AUC: 0.9708904783981857\n",
            "AUC: 0.9729486773274973\n",
            "AUC: 0.9687388204378166\n",
            "AUC: 0.9705762156719969\n",
            "AUC: 0.9742243329107646\n",
            "AUC: 0.9665301024405251\n",
            "AUC: 0.9697319400805297\n",
            "AUC: 0.9720650674307659\n",
            "AUC: 0.9717901770835892\n",
            "AUC: 0.9703623543501715\n",
            "AUC: 0.9557816517832315\n",
            "AUC: 0.9727466177181148\n"
          ]
        },
        {
          "name": "stderr",
          "output_type": "stream",
          "text": [
            "2023-11-09 13:58:20,973 - mealpy.swarm_based.PSO.OriginalPSO - INFO - >>>Problem: P, Epoch: 1, Current best: 0.9220284081761427, Global best: 0.9220284081761427, Runtime: 258.95996 seconds\n"
          ]
        },
        {
          "name": "stdout",
          "output_type": "stream",
          "text": [
            "AUC: 0.970762451209454\n",
            "AUC: 0.9707449168605068\n",
            "AUC: 0.9687388204378166\n",
            "AUC: 0.9702343319499637\n",
            "AUC: 0.9686143885090969\n",
            "AUC: 0.9675860337319865\n",
            "AUC: 0.9695132630024802\n",
            "AUC: 0.9716594988794247\n",
            "AUC: 0.9712629494731\n",
            "AUC: 0.96987062201423\n",
            "AUC: 0.9729592031408578\n",
            "AUC: 0.9714919769989963\n",
            "AUC: 0.9688209609183174\n",
            "AUC: 0.9685581531834191\n",
            "AUC: 0.9686199567921566\n",
            "AUC: 0.9710390998969584\n",
            "AUC: 0.973161642211798\n",
            "AUC: 0.9705066887727148\n",
            "AUC: 0.9727770588713608\n",
            "AUC: 0.967975855827082\n"
          ]
        },
        {
          "name": "stderr",
          "output_type": "stream",
          "text": [
            "2023-11-09 14:03:57,843 - mealpy.swarm_based.PSO.OriginalPSO - INFO - >>>Problem: P, Epoch: 2, Current best: 0.9220284081761427, Global best: 0.9220284081761427, Runtime: 336.86692 seconds\n"
          ]
        },
        {
          "name": "stdout",
          "output_type": "stream",
          "text": [
            "AUC: 0.9678686168595\n",
            "AUC: 0.9736019251204486\n",
            "AUC: 0.9705522835402216\n",
            "AUC: 0.9714865549155717\n",
            "AUC: 0.9684097891229242\n",
            "AUC: 0.9587433832276292\n",
            "AUC: 0.9708629510063984\n",
            "AUC: 0.9711026190904658\n",
            "AUC: 0.9685166867026965\n",
            "AUC: 0.966659455136973\n",
            "AUC: 0.9726596722408004\n",
            "AUC: 0.9720290579944603\n",
            "AUC: 0.9690288767260916\n",
            "AUC: 0.9684217551888118\n",
            "AUC: 0.972395918459743\n",
            "AUC: 0.9707568829263944\n",
            "AUC: 0.9703429453707574\n",
            "AUC: 0.9678686168595\n",
            "AUC: 0.9717239588113432\n",
            "AUC: 0.9676933084843703\n"
          ]
        },
        {
          "name": "stderr",
          "output_type": "stream",
          "text": [
            "2023-11-09 14:07:56,870 - mealpy.swarm_based.PSO.OriginalPSO - INFO - >>>Problem: P, Epoch: 3, Current best: 0.9225192066506649, Global best: 0.9225192066506649, Runtime: 239.02461 seconds\n"
          ]
        },
        {
          "name": "stdout",
          "output_type": "stream",
          "text": [
            "AUC: 0.9711413200671964\n",
            "AUC: 0.9696988510246061\n",
            "AUC: 0.9721556081680922\n",
            "AUC: 0.9712255740040859\n",
            "AUC: 0.9737597331010331\n",
            "AUC: 0.9699237439010465\n",
            "AUC: 0.9697219536566131\n",
            "AUC: 0.965591147275675\n",
            "AUC: 0.9684281529716398\n",
            "AUC: 0.9720170919285726\n",
            "AUC: 0.9650612027842139\n",
            "AUC: 0.9698850865620633\n",
            "AUC: 0.9674402954844648\n",
            "AUC: 0.970915095064116\n",
            "AUC: 0.9680492841138975\n",
            "AUC: 0.9670107808487035\n",
            "AUC: 0.9716219772107756\n",
            "AUC: 0.9712255740040859\n",
            "AUC: 0.9744631714950637\n",
            "AUC: 0.9683085933843775\n"
          ]
        },
        {
          "name": "stderr",
          "output_type": "stream",
          "text": [
            "2023-11-09 14:12:32,265 - mealpy.swarm_based.PSO.OriginalPSO - INFO - >>>Problem: P, Epoch: 4, Current best: 0.9227599465911736, Global best: 0.9227599465911736, Runtime: 275.39425 seconds\n"
          ]
        },
        {
          "name": "stdout",
          "output_type": "stream",
          "text": [
            "AUC: 0.9733547768477792\n",
            "AUC: 0.9678686168595\n",
            "AUC: 0.9665420685064127\n",
            "AUC: 0.9697928404889041\n",
            "AUC: 0.9690704770796117\n",
            "AUC: 0.9735805428617351\n",
            "AUC: 0.9707006476007165\n",
            "AUC: 0.9709670505956268\n",
            "AUC: 0.968337630277816\n",
            "AUC: 0.966660760101941\n",
            "AUC: 0.9718308563911154\n",
            "AUC: 0.9714344531844258\n",
            "AUC: 0.9697058963227653\n",
            "AUC: 0.9721695472570276\n",
            "AUC: 0.9669940547349252\n",
            "AUC: 0.9702430930891444\n",
            "AUC: 0.9711237857182491\n",
            "AUC: 0.9689370220411613\n",
            "AUC: 0.9749861618942092\n",
            "AUC: 0.9681194585285108\n"
          ]
        },
        {
          "name": "stderr",
          "output_type": "stream",
          "text": [
            "2023-11-09 14:18:25,909 - mealpy.swarm_based.PSO.OriginalPSO - INFO - >>>Problem: P, Epoch: 5, Current best: 0.9227599465911736, Global best: 0.9227599465911736, Runtime: 353.64105 seconds\n"
          ]
        },
        {
          "name": "stdout",
          "output_type": "stream",
          "text": [
            "AUC: 0.9718364246741751\n",
            "AUC: 0.9745331431248085\n",
            "AUC: 0.9647571826861977\n",
            "AUC: 0.9727652443128562\n",
            "AUC: 0.9665301024405251\n",
            "AUC: 0.9692544286779757\n",
            "AUC: 0.9679073178362305\n",
            "AUC: 0.962965688943679\n",
            "AUC: 0.9714344531844258\n",
            "AUC: 0.9673422134410311\n",
            "AUC: 0.9657949171620794\n",
            "AUC: 0.9698115841657361\n",
            "AUC: 0.9591843613024066\n",
            "AUC: 0.9692935515531428\n",
            "AUC: 0.9735685767958476\n",
            "AUC: 0.9684281529716398\n",
            "AUC: 0.9613001210651126\n",
            "AUC: 0.9678510825105526\n",
            "AUC: 0.9746143383346261\n",
            "AUC: 0.9685637214664786\n"
          ]
        },
        {
          "name": "stderr",
          "output_type": "stream",
          "text": [
            "2023-11-09 14:23:35,621 - mealpy.swarm_based.PSO.OriginalPSO - INFO - >>>Problem: P, Epoch: 6, Current best: 0.9227599465911736, Global best: 0.9227599465911736, Runtime: 309.71017 seconds\n"
          ]
        },
        {
          "name": "stdout",
          "output_type": "stream",
          "text": [
            "AUC: 0.9713219873215938\n",
            "AUC: 0.9714575558164328\n",
            "AUC: 0.9698811110650182\n",
            "AUC: 0.9704705278290261\n",
            "AUC: 0.9656086816246222\n",
            "AUC: 0.9685581531834191\n",
            "AUC: 0.973411012173457\n",
            "AUC: 0.9759740193813843\n",
            "AUC: 0.9722041146392262\n",
            "AUC: 0.961026964412786\n",
            "AUC: 0.9736163942005541\n",
            "AUC: 0.9698850865620633\n",
            "AUC: 0.9686024224432094\n",
            "AUC: 0.9717611779844503\n",
            "AUC: 0.9705706473889372\n",
            "AUC: 0.9680541612438786\n",
            "AUC: 0.9668576567403179\n",
            "AUC: 0.9720826017797134\n",
            "AUC: 0.9718420155330095\n",
            "AUC: 0.9696609359098964\n"
          ]
        },
        {
          "name": "stderr",
          "output_type": "stream",
          "text": [
            "2023-11-09 14:28:45,305 - mealpy.swarm_based.PSO.OriginalPSO - INFO - >>>Problem: P, Epoch: 7, Current best: 0.9227599465911736, Global best: 0.9227599465911736, Runtime: 309.68137 seconds\n"
          ]
        },
        {
          "name": "stdout",
          "output_type": "stream",
          "text": [
            "AUC: 0.9693740992476293\n",
            "AUC: 0.9698247163306779\n",
            "AUC: 0.9716326547877706\n",
            "AUC: 0.9711145851563535\n",
            "AUC: 0.9703619567348042\n",
            "AUC: 0.9682299513682949\n",
            "AUC: 0.9699496926936169\n",
            "AUC: 0.9695891876845901\n",
            "AUC: 0.9722121059835444\n",
            "AUC: 0.9686263545749846\n",
            "AUC: 0.9675143276488641\n",
            "AUC: 0.9717906783992855\n",
            "AUC: 0.96720815295228\n",
            "AUC: 0.9685904563773217\n",
            "AUC: 0.9680373180480099\n",
            "AUC: 0.9581248462858194\n",
            "AUC: 0.9685701192493066\n",
            "AUC: 0.972518915699935\n",
            "AUC: 0.9690246137226315\n",
            "AUC: 0.9745393589231995\n"
          ]
        },
        {
          "name": "stderr",
          "output_type": "stream",
          "text": [
            "2023-11-09 14:35:38,112 - mealpy.swarm_based.PSO.OriginalPSO - INFO - >>>Problem: P, Epoch: 8, Current best: 0.9227599465911736, Global best: 0.9227599465911736, Runtime: 412.80585 seconds\n"
          ]
        },
        {
          "name": "stdout",
          "output_type": "stream",
          "text": [
            "AUC: 0.9727770588713608\n",
            "AUC: 0.9464929657616543\n",
            "AUC: 0.9691457126952944\n",
            "AUC: 0.9714865549155717\n",
            "AUC: 0.967090809959467\n",
            "AUC: 0.9684948289218346\n",
            "AUC: 0.9722584879242474\n",
            "AUC: 0.9703939556315849\n",
            "AUC: 0.9741406841626343\n",
            "AUC: 0.9716044428618282\n",
            "AUC: 0.9706922767948408\n",
            "AUC: 0.9668407699067019\n",
            "AUC: 0.9718308563911154\n",
            "AUC: 0.9665188746685618\n",
            "AUC: 0.9670788438935793\n",
            "AUC: 0.9682299513682949\n",
            "AUC: 0.9677927337284861\n",
            "AUC: 0.9711237857182491\n",
            "AUC: 0.9720234473848287\n",
            "AUC: 0.9698102485617478\n"
          ]
        },
        {
          "name": "stderr",
          "output_type": "stream",
          "text": [
            "2023-11-09 14:42:05,402 - mealpy.swarm_based.PSO.OriginalPSO - INFO - >>>Problem: P, Epoch: 9, Current best: 0.9227599465911736, Global best: 0.9227599465911736, Runtime: 387.28629 seconds\n"
          ]
        },
        {
          "name": "stdout",
          "output_type": "stream",
          "text": [
            "AUC: 0.9684456873205871\n",
            "AUC: 0.9721917590155092\n",
            "AUC: 0.9729927948236531\n",
            "AUC: 0.9717620074842186\n",
            "AUC: 0.9672890115628117\n",
            "AUC: 0.935428123868382\n",
            "AUC: 0.969185061187356\n",
            "AUC: 0.9661224714618722\n",
            "AUC: 0.9722577007510512\n",
            "AUC: 0.9702978466111989\n",
            "AUC: 0.972075707988937\n",
            "AUC: 0.9730907597849963\n",
            "AUC: 0.9705706473889372\n",
            "AUC: 0.9713917403569946\n",
            "AUC: 0.9706806954982584\n",
            "AUC: 0.968800624046554\n",
            "AUC: 0.9683120918487959\n",
            "AUC: 0.9726477061749127\n",
            "AUC: 0.9762973004287799\n",
            "AUC: 0.967272686541749\n"
          ]
        },
        {
          "name": "stderr",
          "output_type": "stream",
          "text": [
            "2023-11-09 14:47:05,076 - mealpy.swarm_based.PSO.OriginalPSO - INFO - >>>Problem: P, Epoch: 10, Current best: 0.9227599465911736, Global best: 0.9227599465911736, Runtime: 299.67283 seconds\n"
          ]
        },
        {
          "name": "stdout",
          "output_type": "stream",
          "text": [
            "AUC: 0.9699975524248953\n",
            "AUC: 0.9720170919285726\n",
            "AUC: 0.9715011775608918\n",
            "AUC: 0.9715498355394088\n",
            "AUC: 0.9640400262945751\n",
            "AUC: 0.9715975490710521\n",
            "AUC: 0.9682299513682949\n",
            "AUC: 0.9702599799227604\n",
            "AUC: 0.9729752604747056\n",
            "AUC: 0.9638639159217308\n",
            "AUC: 0.9734047963750662\n",
            "AUC: 0.946769471082831\n",
            "AUC: 0.969185061187356\n",
            "AUC: 0.9676532222950175\n",
            "AUC: 0.970225558740197\n",
            "AUC: 0.9676704152561552\n",
            "AUC: 0.9684284943594493\n",
            "AUC: 0.9698733877744736\n",
            "AUC: 0.9689370220411613\n",
            "AUC: 0.9691143613138449\n"
          ]
        },
        {
          "name": "stderr",
          "output_type": "stream",
          "text": [
            "2023-11-09 14:52:15,175 - mealpy.swarm_based.PSO.OriginalPSO - INFO - >>>Problem: P, Epoch: 11, Current best: 0.9227599465911736, Global best: 0.9227599465911736, Runtime: 310.09702 seconds\n"
          ]
        },
        {
          "name": "stdout",
          "output_type": "stream",
          "text": [
            "AUC: 0.9710554249180211\n",
            "AUC: 0.9695723008509741\n",
            "AUC: 0.9752718389991922\n",
            "AUC: 0.9695126154871488\n",
            "AUC: 0.9744281027971691\n",
            "AUC: 0.97377874446508\n",
            "AUC: 0.9532704250199746\n",
            "AUC: 0.968360292967884\n",
            "AUC: 0.969410260191318\n",
            "AUC: 0.9664949425367867\n",
            "AUC: 0.967454679303863\n",
            "AUC: 0.9715749424469933\n",
            "AUC: 0.9583286161722239\n",
            "AUC: 0.9677776542237372\n",
            "AUC: 0.9683774859290216\n",
            "AUC: 0.9713767408436484\n",
            "AUC: 0.9710386909512975\n",
            "AUC: 0.9690993254468432\n",
            "AUC: 0.9554224677496491\n",
            "AUC: 0.9733492085647195\n"
          ]
        },
        {
          "name": "stderr",
          "output_type": "stream",
          "text": [
            "2023-11-09 14:57:59,598 - mealpy.swarm_based.PSO.OriginalPSO - INFO - >>>Problem: P, Epoch: 12, Current best: 0.9229167748812417, Global best: 0.9229167748812417, Runtime: 344.42117 seconds\n"
          ]
        },
        {
          "name": "stdout",
          "output_type": "stream",
          "text": [
            "AUC: 0.9732579093296708\n",
            "AUC: 0.972144514978179\n",
            "AUC: 0.9702723262256813\n",
            "AUC: 0.9720581736399897\n",
            "AUC: 0.9723733171434321\n",
            "AUC: 0.9721575811911399\n",
            "AUC: 0.9718477432247314\n",
            "AUC: 0.9723783841107957\n",
            "AUC: 0.9688897551134247\n",
            "AUC: 0.9729272849725122\n",
            "AUC: 0.9706687294323708\n",
            "AUC: 0.9687914605034824\n",
            "AUC: 0.9727945932203083\n",
            "AUC: 0.9617397034539374\n",
            "AUC: 0.9678581278087117\n",
            "AUC: 0.9666665004351324\n",
            "AUC: 0.9668464765364512\n",
            "AUC: 0.967090809959467\n",
            "AUC: 0.9683380937992124\n",
            "AUC: 0.9680668184628448\n"
          ]
        },
        {
          "name": "stderr",
          "output_type": "stream",
          "text": [
            "2023-11-09 15:04:36,924 - mealpy.swarm_based.PSO.OriginalPSO - INFO - >>>Problem: P, Epoch: 13, Current best: 0.9233650052070219, Global best: 0.9233650052070219, Runtime: 397.32344 seconds\n"
          ]
        },
        {
          "name": "stdout",
          "output_type": "stream",
          "text": [
            "AUC: 0.9633445578014211\n",
            "AUC: 0.9709375501807918\n",
            "AUC: 0.9712392427019677\n",
            "AUC: 0.9739424825592895\n",
            "AUC: 0.9714344531844258\n",
            "AUC: 0.9716446208536582\n",
            "AUC: 0.9720170919285726\n",
            "AUC: 0.9680991216567474\n",
            "AUC: 0.9652243151469154\n",
            "AUC: 0.9701862102481352\n",
            "AUC: 0.969095349949798\n",
            "AUC: 0.9725548138975979\n",
            "AUC: 0.9735108644550702\n",
            "AUC: 0.9705762156719969\n",
            "AUC: 0.9686979512929078\n",
            "AUC: 0.9683599515800743\n",
            "AUC: 0.9709029404720214\n",
            "AUC: 0.9715805107300529\n",
            "AUC: 0.9737442809559448\n",
            "AUC: 0.9708667716270534\n"
          ]
        },
        {
          "name": "stderr",
          "output_type": "stream",
          "text": [
            "2023-11-09 15:09:00,823 - mealpy.swarm_based.PSO.OriginalPSO - INFO - >>>Problem: P, Epoch: 14, Current best: 0.9233650052070219, Global best: 0.9233650052070219, Runtime: 263.89638 seconds\n"
          ]
        },
        {
          "name": "stdout",
          "output_type": "stream",
          "text": [
            "AUC: 0.9675647274131843\n",
            "AUC: 0.9713100212557061\n",
            "AUC: 0.9576736895570752\n",
            "AUC: 0.9637501899065296\n",
            "AUC: 0.9707955839031249\n",
            "AUC: 0.9711062513693017\n",
            "AUC: 0.971488143169314\n",
            "AUC: 0.9671443920747195\n",
            "AUC: 0.970906413342195\n",
            "AUC: 0.9709606528127989\n",
            "AUC: 0.9720290579944603\n",
            "AUC: 0.971265751995916\n",
            "AUC: 0.9680492841138975\n",
            "AUC: 0.9687443887208763\n",
            "AUC: 0.9722097252488577\n",
            "AUC: 0.9728202703106494\n",
            "AUC: 0.9690585110137241\n",
            "AUC: 0.9600045151809676\n",
            "AUC: 0.9689868595840112\n",
            "AUC: 0.9712482176469686\n"
          ]
        },
        {
          "name": "stderr",
          "output_type": "stream",
          "text": [
            "2023-11-09 15:13:23,438 - mealpy.swarm_based.PSO.OriginalPSO - INFO - >>>Problem: P, Epoch: 15, Current best: 0.924425345870929, Global best: 0.924425345870929, Runtime: 262.61328 seconds\n"
          ]
        },
        {
          "name": "stdout",
          "output_type": "stream",
          "text": [
            "AUC: 0.9713989619229261\n",
            "AUC: 0.9663438669030678\n",
            "AUC: 0.971519382000945\n",
            "AUC: 0.9720747619427782\n",
            "AUC: 0.9703380246030289\n",
            "AUC: 0.9685581531834191\n",
            "AUC: 0.9254116866657495\n",
            "AUC: 0.9720307859060676\n",
            "AUC: 0.9666834037448239\n",
            "AUC: 0.9665540345723004\n",
            "AUC: 0.9722096829222858\n",
            "AUC: 0.9680724237647285\n",
            "AUC: 0.9688652301781077\n",
            "AUC: 0.9698759230189916\n",
            "AUC: 0.9705561041608766\n",
            "AUC: 0.9748582862128607\n",
            "AUC: 0.9734054438903974\n",
            "AUC: 0.9729632944088179\n",
            "AUC: 0.967576693479072\n",
            "AUC: 0.971773144050338\n"
          ]
        },
        {
          "name": "stderr",
          "output_type": "stream",
          "text": [
            "2023-11-09 15:18:23,351 - mealpy.swarm_based.PSO.OriginalPSO - INFO - >>>Problem: P, Epoch: 16, Current best: 0.9255808352269637, Global best: 0.9255808352269637, Runtime: 299.91031 seconds\n"
          ]
        },
        {
          "name": "stdout",
          "output_type": "stream",
          "text": [
            "AUC: 0.9718711086027643\n",
            "AUC: 0.9725548138975979\n",
            "AUC: 0.9516883815084461\n",
            "AUC: 0.9678061220976838\n",
            "AUC: 0.9698921318602225\n",
            "AUC: 0.9652284064148757\n",
            "AUC: 0.9670945156826459\n",
            "AUC: 0.9729688626918777\n",
            "AUC: 0.9566425035485211\n",
            "AUC: 0.9673325848809996\n",
            "AUC: 0.9730502398861324\n",
            "AUC: 0.9681354000914436\n",
            "AUC: 0.9678215820957177\n",
            "AUC: 0.9733574260616321\n",
            "AUC: 0.9739128359448195\n",
            "AUC: 0.9711293540013087\n",
            "AUC: 0.9691724039683899\n",
            "AUC: 0.9717987788141076\n",
            "AUC: 0.9735405110695403\n",
            "AUC: 0.9720115236455129\n"
          ]
        },
        {
          "name": "stderr",
          "output_type": "stream",
          "text": [
            "2023-11-09 15:21:47,155 - mealpy.swarm_based.PSO.OriginalPSO - INFO - >>>Problem: P, Epoch: 17, Current best: 0.9255808352269637, Global best: 0.9255808352269637, Runtime: 203.80208 seconds\n"
          ]
        },
        {
          "name": "stdout",
          "output_type": "stream",
          "text": [
            "AUC: 0.9705409875654398\n",
            "AUC: 0.9756520333646511\n",
            "AUC: 0.9615423238579983\n",
            "AUC: 0.9718308563911154\n",
            "AUC: 0.9644917117033138\n",
            "AUC: 0.9714639535992607\n",
            "AUC: 0.9714688743669893\n",
            "AUC: 0.9731961057209332\n",
            "AUC: 0.9630127080217715\n",
            "AUC: 0.9689253973630834\n",
            "AUC: 0.969297527050188\n",
            "AUC: 0.9688771962439953\n",
            "AUC: 0.9682474857172423\n",
            "AUC: 0.9682179853024072\n",
            "AUC: 0.9708464711089454\n",
            "AUC: 0.969328198352601\n",
            "AUC: 0.9744336710802287\n",
            "AUC: 0.9681684891473671\n",
            "AUC: 0.9728403394951979\n",
            "AUC: 0.9720691936597184\n"
          ]
        },
        {
          "name": "stderr",
          "output_type": "stream",
          "text": [
            "2023-11-09 15:25:51,636 - mealpy.swarm_based.PSO.OriginalPSO - INFO - >>>Problem: P, Epoch: 18, Current best: 0.9255808352269637, Global best: 0.9255808352269637, Runtime: 244.47864 seconds\n"
          ]
        },
        {
          "name": "stdout",
          "output_type": "stream",
          "text": [
            "AUC: 0.9717851101162257\n",
            "AUC: 0.9726413083920847\n",
            "AUC: 0.9724045877964466\n",
            "AUC: 0.9663087069993295\n",
            "AUC: 0.9686994283080073\n",
            "AUC: 0.9706268827146151\n",
            "AUC: 0.9733652658985673\n",
            "AUC: 0.9728028530437927\n",
            "AUC: 0.9719470332848744\n",
            "AUC: 0.9733596976155076\n",
            "AUC: 0.9722152935319174\n",
            "AUC: 0.9733772319644549\n",
            "AUC: 0.9657612281589212\n",
            "AUC: 0.9721464446250206\n",
            "AUC: 0.9678151888451619\n",
            "AUC: 0.9716326547877706\n",
            "AUC: 0.9719769139367426\n",
            "AUC: 0.9689868595840112\n",
            "AUC: 0.9740374140731741\n",
            "AUC: 0.969840817302273\n"
          ]
        },
        {
          "name": "stderr",
          "output_type": "stream",
          "text": [
            "2023-11-09 15:29:55,722 - mealpy.swarm_based.PSO.OriginalPSO - INFO - >>>Problem: P, Epoch: 19, Current best: 0.9255808352269637, Global best: 0.9255808352269637, Runtime: 244.08407 seconds\n"
          ]
        },
        {
          "name": "stdout",
          "output_type": "stream",
          "text": [
            "AUC: 0.9718427801304311\n",
            "AUC: 0.9727346516522272\n",
            "AUC: 0.9735854636294636\n",
            "AUC: 0.9595593247595673\n",
            "AUC: 0.9716564275108835\n",
            "AUC: 0.9671559779035738\n",
            "AUC: 0.9717906783992855\n",
            "AUC: 0.9693214591819633\n",
            "AUC: 0.9576349885803447\n",
            "AUC: 0.9716219772107756\n",
            "AUC: 0.9691927844779005\n",
            "AUC: 0.9737442809559448\n",
            "AUC: 0.9695772216187025\n",
            "AUC: 0.9707568829263944\n",
            "AUC: 0.9662820632943303\n",
            "AUC: 0.9668463381897615\n",
            "AUC: 0.9714344531844258\n",
            "AUC: 0.9677629290165292\n",
            "AUC: 0.975061408583934\n",
            "AUC: 0.9696829094616733\n"
          ]
        },
        {
          "name": "stderr",
          "output_type": "stream",
          "text": [
            "2023-11-09 15:34:00,045 - mealpy.swarm_based.PSO.OriginalPSO - INFO - >>>Problem: P, Epoch: 20, Current best: 0.9255808352269637, Global best: 0.9255808352269637, Runtime: 244.32168 seconds\n"
          ]
        },
        {
          "name": "stdout",
          "output_type": "stream",
          "text": [
            "AUC: 0.9716044428618282\n"
          ]
        }
      ],
      "source": [
        "model_pso_cb = PSO.OriginalPSO(epoch=20, pop_size=20, c1=2.05, c2=2.05, w=0.7)\n",
        "g_best_pso_cb = model_pso_cb.solve(problem_dict_cb)"
      ]
    },
    {
      "cell_type": "code",
      "execution_count": 159,
      "metadata": {
        "colab": {
          "base_uri": "https://localhost:8080/"
        },
        "id": "5sxFH-BJCFAA",
        "outputId": "47429e70-8ede-4052-8bd1-966557b4eca2"
      },
      "outputs": [
        {
          "name": "stdout",
          "output_type": "stream",
          "text": [
            "Solution: [2.49385363e+03 4.07868515e+00 7.94144115e-02 3.46478784e+01\n",
            " 2.15894489e-01], Fitness: 0.9255808352269637\n"
          ]
        }
      ],
      "source": [
        "print(f\"Solution: {g_best_pso_cb.solution}, Fitness: {g_best_pso_cb.target.fitness}\")"
      ]
    },
    {
      "cell_type": "code",
      "execution_count": 160,
      "metadata": {
        "colab": {
          "base_uri": "https://localhost:8080/"
        },
        "id": "GwWGoZVyS2sy",
        "outputId": "20aa8dc8-bdc1-46d8-8a75-b916371cc45b"
      },
      "outputs": [
        {
          "data": {
            "text/plain": [
              "5"
            ]
          },
          "execution_count": 160,
          "metadata": {},
          "output_type": "execute_result"
        }
      ],
      "source": [
        "len(g_best_pso_cb.solution)"
      ]
    },
    {
      "cell_type": "code",
      "execution_count": 161,
      "metadata": {
        "colab": {
          "base_uri": "https://localhost:8080/"
        },
        "id": "LOKmIRfv002E",
        "outputId": "2974437e-ebb3-4304-9efc-059f0411b361"
      },
      "outputs": [
        {
          "name": "stdout",
          "output_type": "stream",
          "text": [
            "Best hyperparameters: 0.9255808352269637\n",
            "iteration: 2493\n",
            "depth: 4\n",
            "learning_rate: 0.07941441148515573\n",
            "min_data_in_leaf: 34\n",
            "l2_leaf_reg: 0.21589448894296503\n"
          ]
        }
      ],
      "source": [
        "# Now, best_hyperparameter_values is an array of hyperparameter values\n",
        "# You can print it to see the best hyperparameters\n",
        "# print(\"Best accuracy:\", -best_accuracy)\n",
        "print(\"Best hyperparameters:\", g_best_pso_cb.target.fitness)\n",
        "print(\"iteration:\", int(g_best_pso_cb.solution[0]))\n",
        "print(\"depth:\", int(g_best_pso_cb.solution[1]))\n",
        "print(\"learning_rate:\", float(g_best_pso_cb.solution[2]))\n",
        "print(\"min_data_in_leaf:\", int(g_best_pso_cb.solution[3]))\n",
        "print(\"l2_leaf_reg:\", float(g_best_pso_cb.solution[4]))\n"
      ]
    },
    {
      "cell_type": "code",
      "execution_count": 162,
      "metadata": {
        "id": "MPhHWVAiTulR"
      },
      "outputs": [],
      "source": [
        "# Define the best hyperparameters as a dictionary\n",
        "best_hyperparameters_pso_cb = {\n",
        "    'iterations': int(g_best_pso_cb.solution[0]),\n",
        "    'depth': int(g_best_pso_cb.solution[1]),\n",
        "    'learning_rate': float(g_best_pso_cb.solution[2]),\n",
        "    'min_data_in_leaf': int(g_best_pso_cb.solution[3]),\n",
        "    \"l2_leaf_reg\": float(g_best_pso_cb.solution[4]),\n",
        "    'class_weights': class_weights,  # Assuming you have class_weights defined\n",
        "    'task_type': device_type,\n",
        "    'devices': '0:1',\n",
        "    'cat_features': cat_feat_idx,\n",
        "    'verbose': 0,\n",
        "}"
      ]
    },
    {
      "cell_type": "code",
      "execution_count": 163,
      "metadata": {
        "colab": {
          "base_uri": "https://localhost:8080/"
        },
        "id": "8JBBVKkGE9a3",
        "outputId": "91011d8b-a1fa-4d59-f7e1-ed37626326e5"
      },
      "outputs": [
        {
          "name": "stdout",
          "output_type": "stream",
          "text": [
            "0:\tlearn: 1.5347540\ttotal: 4.99ms\tremaining: 12.4s\n",
            "1000:\tlearn: 0.0039336\ttotal: 4.88s\tremaining: 7.27s\n",
            "2000:\tlearn: 0.0008260\ttotal: 10.2s\tremaining: 2.5s\n",
            "2492:\tlearn: 0.0005182\ttotal: 12.9s\tremaining: 0us\n"
          ]
        },
        {
          "data": {
            "text/plain": [
              "<catboost.core.CatBoostClassifier at 0x25cb8be47c0>"
            ]
          },
          "execution_count": 163,
          "metadata": {},
          "output_type": "execute_result"
        }
      ],
      "source": [
        "# Create a CatBoost classifier with the best hyperparameters\n",
        "pso_cb_model = CatBoostClassifier(**best_hyperparameters_pso_cb)\n",
        "\n",
        "# Train the model on your training data\n",
        "pso_cb_model.fit(train_pool , verbose = 1000 )"
      ]
    },
    {
      "cell_type": "code",
      "execution_count": 164,
      "metadata": {
        "id": "UN_tthzdc4MS"
      },
      "outputs": [],
      "source": [
        "importances = pso_cb_model.get_feature_importance(type='PredictionValuesChange')\n",
        "feature_importances = pd.Series(importances, index=X.columns).sort_values()"
      ]
    },
    {
      "cell_type": "code",
      "execution_count": 165,
      "metadata": {
        "colab": {
          "base_uri": "https://localhost:8080/",
          "height": 564
        },
        "id": "rUk4A-klc_vD",
        "outputId": "3dca98ee-6707-45c8-8b9b-c9d2fc733e53"
      },
      "outputs": [
        {
          "data": {
            "image/png": "[encoded data removed]",
            "text/plain": [
              "<Figure size 1000x600 with 1 Axes>"
            ]
          },
          "metadata": {},
          "output_type": "display_data"
        }
      ],
      "source": [
        "plt.figure(figsize=(10, 6))\n",
        "plt.barh(feature_importances.index, feature_importances.values)\n",
        "plt.title('CatBoost Feature Importance')\n",
        "plt.xlabel('Importance')\n",
        "plt.ylabel('Features')\n",
        "plt.show()"
      ]
    },
    {
      "cell_type": "markdown",
      "metadata": {},
      "source": [
        "### Sparrow Search Algorithm"
      ]
    },
    {
      "cell_type": "code",
      "execution_count": 172,
      "metadata": {},
      "outputs": [],
      "source": [
        "from mealpy import FloatVar, SSA"
      ]
    },
    {
      "cell_type": "markdown",
      "metadata": {},
      "source": [
        "#### CatBoost"
      ]
    },
    {
      "cell_type": "code",
      "execution_count": 174,
      "metadata": {},
      "outputs": [
        {
          "name": "stderr",
          "output_type": "stream",
          "text": [
            "2023-11-09 17:15:04,394 - mealpy.swarm_based.SSA.OriginalSSA - INFO - Solving 2-objective optimization problem with weights: [0.7 0.3].\n"
          ]
        },
        {
          "name": "stdout",
          "output_type": "stream",
          "text": [
            "AUC: 0.9614963284622985\n",
            "AUC: 0.922838437548133\n",
            "AUC: 0.9729752604747056\n",
            "AUC: 0.9692156538479851\n",
            "AUC: 0.9684281529716398\n",
            "AUC: 0.9720290579944603\n",
            "AUC: 0.9687575256743418\n",
            "AUC: 0.9733716636813953\n",
            "AUC: 0.9699546373814493\n",
            "AUC: 0.9694405847981732\n",
            "AUC: 0.9636535803459233\n",
            "AUC: 0.9734054438903974\n",
            "AUC: 0.9690135942386026\n",
            "AUC: 0.9760246136203765\n",
            "AUC: 0.9599102912962371\n",
            "AUC: 0.9732192083529402\n",
            "AUC: 0.9680139208817474\n",
            "AUC: 0.9680548523969571\n",
            "AUC: 0.9676359940735918\n",
            "AUC: 0.9680268289972216\n",
            "AUC: 0.9683655198631338\n",
            "AUC: 0.968044363346169\n",
            "AUC: 0.9765573056408624\n",
            "AUC: 0.9685461871175315\n",
            "AUC: 0.9698970526279509\n",
            "AUC: 0.9715146206418789\n",
            "AUC: 0.9625769563230202\n",
            "AUC: 0.9690993254468432\n",
            "AUC: 0.9712418198641407\n",
            "AUC: 0.9704019462004273\n",
            "AUC: 0.9708988492040613\n",
            "AUC: 0.9680492841138975\n",
            "AUC: 0.9689425903242209\n",
            "AUC: 0.9717851101162257\n",
            "AUC: 0.9719046260657406\n",
            "AUC: 0.9720339787621887\n",
            "AUC: 0.9588466858036412\n",
            "AUC: 0.9689198290800237\n",
            "AUC: 0.9659418042074748\n",
            "AUC: 0.9712255740040859\n",
            "AUC: 0.9703724457855923\n",
            "AUC: 0.965806883227967\n",
            "AUC: 0.9720177620196785\n",
            "AUC: 0.9712250726883899\n",
            "AUC: 0.9603714529338147\n",
            "AUC: 0.970202937673089\n",
            "AUC: 0.9716551099044465\n",
            "AUC: 0.9712777180618036\n",
            "AUC: 0.9718483907400627\n",
            "AUC: 0.971451987533373\n",
            "AUC: 0.9722152935319174\n",
            "AUC: 0.9680741680581259\n",
            "AUC: 0.9718308563911154\n",
            "AUC: 0.9682474857172423\n",
            "AUC: 0.9682355196513547\n",
            "AUC: 0.9700027404709216\n",
            "AUC: 0.9708518144402789\n",
            "AUC: 0.9750494425180464\n"
          ]
        },
        {
          "name": "stderr",
          "output_type": "stream",
          "text": [
            "2023-11-09 17:30:30,552 - mealpy.swarm_based.SSA.OriginalSSA - INFO - >>>Problem: P, Epoch: 1, Current best: 0.925327674046763, Global best: 0.925327674046763, Runtime: 569.33884 seconds\n"
          ]
        },
        {
          "name": "stdout",
          "output_type": "stream",
          "text": [
            "AUC: 0.970768848992282\n",
            "AUC: 0.9729153189066246\n",
            "AUC: 0.9721556081680922\n",
            "AUC: 0.9675354942766474\n",
            "AUC: 0.9705706473889372\n",
            "AUC: 0.9731834193360883\n",
            "AUC: 0.9714312603283047\n",
            "AUC: 0.9698426357051821\n",
            "AUC: 0.9715082228590509\n",
            "AUC: 0.9684847248966036\n",
            "AUC: 0.969966340701311\n",
            "AUC: 0.9655854380345047\n",
            "AUC: 0.9708862356228424\n",
            "AUC: 0.9730449388813707\n",
            "AUC: 0.9594919576562937\n",
            "AUC: 0.9676654944884268\n",
            "AUC: 0.9730329728154831\n",
            "AUC: 0.9686024224432094\n",
            "AUC: 0.9716044428618282\n",
            "AUC: 0.9717851101162257\n",
            "AUC: 0.974491383421006\n",
            "AUC: 0.968416186905752\n",
            "AUC: 0.9729272849725122\n",
            "AUC: 0.968637491141104\n",
            "AUC: 0.9745476187466839\n",
            "AUC: 0.9708868831381735\n",
            "AUC: 0.9688125901124417\n",
            "AUC: 0.969327027465023\n",
            "AUC: 0.9741475832611585\n",
            "AUC: 0.970768848992282\n",
            "AUC: 0.9720170919285726\n",
            "AUC: 0.9753896103990581\n",
            "AUC: 0.972406449837103\n",
            "AUC: 0.9727814478463391\n",
            "AUC: 0.9678686168595\n",
            "AUC: 0.9686199567921566\n",
            "AUC: 0.9735634675019121\n",
            "AUC: 0.971206714147422\n"
          ]
        },
        {
          "name": "stderr",
          "output_type": "stream",
          "text": [
            "2023-11-09 17:38:58,238 - mealpy.swarm_based.SSA.OriginalSSA - INFO - >>>Problem: P, Epoch: 2, Current best: 0.9255690922428321, Global best: 0.9255690922428321, Runtime: 507.68345 seconds\n"
          ]
        },
        {
          "name": "stdout",
          "output_type": "stream",
          "text": [
            "AUC: 0.9705691703738376\n",
            "AUC: 0.9673597477899785\n",
            "AUC: 0.9710555843266836\n",
            "AUC: 0.9716557574197776\n",
            "AUC: 0.9747255944606567\n",
            "AUC: 0.9677896202896248\n",
            "AUC: 0.971451987533373\n",
            "AUC: 0.973914312959919\n",
            "AUC: 0.9744548377080119\n",
            "AUC: 0.9718252457814839\n",
            "AUC: 0.9706978450779005\n",
            "AUC: 0.9644157636699534\n",
            "AUC: 0.9684337212546995\n",
            "AUC: 0.9724543095683814\n",
            "AUC: 0.9725788572680161\n",
            "AUC: 0.9714688743669893\n",
            "AUC: 0.9680492841138975\n",
            "AUC: 0.9588925531571938\n",
            "AUC: 0.9718364246741751\n",
            "AUC: 0.9723251822325764\n",
            "AUC: 0.9685581531834191\n",
            "AUC: 0.9643721231345609\n",
            "AUC: 0.9703988763993133\n",
            "AUC: 0.9718188903252277\n",
            "AUC: 0.9670509375759343\n",
            "AUC: 0.9751858405126536\n",
            "AUC: 0.9725280792430065\n",
            "AUC: 0.9717113452301241\n",
            "AUC: 0.9686263545749846\n",
            "AUC: 0.9710675503925712\n",
            "AUC: 0.967839116444665\n",
            "AUC: 0.970284292291569\n",
            "AUC: 0.9715131436267795\n",
            "AUC: 0.9748751730464768\n",
            "AUC: 0.9753601099842232\n",
            "AUC: 0.9708960466812453\n",
            "AUC: 0.9682179853024072\n",
            "AUC: 0.9746650053772443\n"
          ]
        },
        {
          "name": "stderr",
          "output_type": "stream",
          "text": [
            "2023-11-09 17:46:04,690 - mealpy.swarm_based.SSA.OriginalSSA - INFO - >>>Problem: P, Epoch: 3, Current best: 0.9255690922428321, Global best: 0.9255690922428321, Runtime: 426.44995 seconds\n"
          ]
        },
        {
          "name": "stdout",
          "output_type": "stream",
          "text": [
            "AUC: 0.9713339533874814\n",
            "AUC: 0.9728028530437927\n",
            "AUC: 0.9727708125959159\n",
            "AUC: 0.9716565869195458\n",
            "AUC: 0.9708785123322979\n",
            "AUC: 0.9719833117195704\n",
            "AUC: 0.9679827727128569\n",
            "AUC: 0.9688350452291176\n",
            "AUC: 0.9697927981623323\n",
            "AUC: 0.971458385316201\n",
            "AUC: 0.9752851305727964\n",
            "AUC: 0.9710675503925712\n",
            "AUC: 0.9695126154871488\n",
            "AUC: 0.9697754232220474\n",
            "AUC: 0.9631738273308482\n",
            "AUC: 0.971497691481691\n",
            "AUC: 0.9706595835238848\n",
            "AUC: 0.9726596722408004\n",
            "AUC: 0.9732424571845822\n",
            "AUC: 0.9670558583436627\n",
            "AUC: 0.9720826017797134\n",
            "AUC: 0.9455487877686277\n",
            "AUC: 0.9750494425180464\n",
            "AUC: 0.9706687294323708\n",
            "AUC: 0.972406449837103\n",
            "AUC: 0.9753720760501108\n",
            "AUC: 0.9730489143784159\n",
            "AUC: 0.9682623881203635\n",
            "AUC: 0.9748110629228716\n",
            "AUC: 0.9734561109330157\n",
            "AUC: 0.9726046514404478\n",
            "AUC: 0.972671638306688\n",
            "AUC: 0.9719777434365108\n",
            "AUC: 0.9728417741837255\n",
            "AUC: 0.9688181583955014\n",
            "AUC: 0.9722321803655335\n",
            "AUC: 0.972406449837103\n",
            "AUC: 0.9714332011210525\n"
          ]
        },
        {
          "name": "stderr",
          "output_type": "stream",
          "text": [
            "2023-11-09 17:53:11,163 - mealpy.swarm_based.SSA.OriginalSSA - INFO - >>>Problem: P, Epoch: 4, Current best: 0.9255690922428321, Global best: 0.9255690922428321, Runtime: 426.47249 seconds\n"
          ]
        },
        {
          "name": "stdout",
          "output_type": "stream",
          "text": [
            "AUC: 0.9712601837128564\n",
            "AUC: 0.9706831132517691\n",
            "AUC: 0.9705481922722613\n",
            "AUC: 0.9685581531834191\n",
            "AUC: 0.9705347491912742\n",
            "AUC: 0.973208719302152\n",
            "AUC: 0.973178529045414\n",
            "AUC: 0.9750924972525113\n",
            "AUC: 0.9709486867469113\n",
            "AUC: 0.9716861985730237\n",
            "AUC: 0.9717481536891442\n",
            "AUC: 0.9697996180998484\n",
            "AUC: 0.9719324061072819\n",
            "AUC: 0.962998849973873\n",
            "AUC: 0.9559980611956367\n",
            "AUC: 0.970872339910113\n",
            "AUC: 0.9727290833691674\n",
            "AUC: 0.9723502145114251\n",
            "AUC: 0.9606280045851063\n",
            "AUC: 0.9682945574998484\n",
            "AUC: 0.9686642260519469\n",
            "AUC: 0.9723919437381735\n",
            "AUC: 0.9755743689214157\n",
            "AUC: 0.9746769714431319\n",
            "AUC: 0.9700860906882242\n",
            "AUC: 0.9730667530244851\n",
            "AUC: 0.9739769460684248\n",
            "AUC: 0.972920239674353\n",
            "AUC: 0.9725308817658226\n",
            "AUC: 0.9744963041887345\n",
            "AUC: 0.9748807413295365\n",
            "AUC: 0.972920239674353\n",
            "AUC: 0.9691878637101721\n",
            "AUC: 0.9709375501807918\n",
            "AUC: 0.9678510825105526\n",
            "AUC: 0.9670733926926101\n",
            "AUC: 0.9612502835222627\n",
            "AUC: 0.9759476694960983\n"
          ]
        },
        {
          "name": "stderr",
          "output_type": "stream",
          "text": [
            "2023-11-09 17:59:16,327 - mealpy.swarm_based.SSA.OriginalSSA - INFO - >>>Problem: P, Epoch: 5, Current best: 0.9261695028790167, Global best: 0.9261695028790167, Runtime: 365.16020 seconds\n"
          ]
        },
        {
          "name": "stdout",
          "output_type": "stream",
          "text": [
            "AUC: 0.9716501891367179\n",
            "AUC: 0.971153286133084\n",
            "AUC: 0.9719749409136947\n",
            "AUC: 0.9689306242583333\n",
            "AUC: 0.9739382450916944\n",
            "AUC: 0.9714921231986313\n",
            "AUC: 0.9715499520857994\n",
            "AUC: 0.9699412782499938\n",
            "AUC: 0.9588638173397807\n",
            "AUC: 0.9737962788140274\n",
            "AUC: 0.9692480308951478\n",
            "AUC: 0.9703547520279826\n",
            "AUC: 0.9734396217147666\n",
            "AUC: 0.9716997767796038\n",
            "AUC: 0.971265751995916\n",
            "AUC: 0.9615560377130734\n",
            "AUC: 0.9714237756074308\n",
            "AUC: 0.9741054692651047\n",
            "AUC: 0.9689868595840112\n",
            "AUC: 0.9670558583436627\n",
            "AUC: 0.9717906783992855\n",
            "AUC: 0.9757751397856542\n",
            "AUC: 0.9715082228590509\n",
            "AUC: 0.9718280538682994\n",
            "AUC: 0.9677617562985517\n",
            "AUC: 0.9737723466822521\n",
            "AUC: 0.9690634317814525\n",
            "AUC: 0.9725698500208512\n",
            "AUC: 0.9758738998214732\n",
            "AUC: 0.9713831386264764\n",
            "AUC: 0.9657731942248087\n",
            "AUC: 0.9753720760501108\n",
            "AUC: 0.9757614339586412\n",
            "AUC: 0.9716912655403872\n",
            "AUC: 0.9677091162328857\n",
            "AUC: 0.9741013779971444\n",
            "AUC: 0.9736423464704728\n",
            "AUC: 0.9729153189066246\n"
          ]
        },
        {
          "name": "stderr",
          "output_type": "stream",
          "text": [
            "2023-11-09 18:05:19,092 - mealpy.swarm_based.SSA.OriginalSSA - INFO - >>>Problem: P, Epoch: 6, Current best: 0.9261695028790167, Global best: 0.9261695028790167, Runtime: 362.76294 seconds\n"
          ]
        },
        {
          "name": "stdout",
          "output_type": "stream",
          "text": [
            "AUC: 0.9739198812429787\n",
            "AUC: 0.9713100212557061\n",
            "AUC: 0.9742861365195021\n",
            "AUC: 0.9684420920605751\n",
            "AUC: 0.9727047710003589\n",
            "AUC: 0.9712454151241526\n",
            "AUC: 0.9706566039578209\n",
            "AUC: 0.9709039161714248\n",
            "AUC: 0.9702480138568728\n",
            "AUC: 0.9604634296255488\n",
            "AUC: 0.9698642242314021\n",
            "AUC: 0.9730959861610221\n",
            "AUC: 0.9729979041175884\n",
            "AUC: 0.9699120839626804\n",
            "AUC: 0.9705066887727148\n",
            "AUC: 0.9717787123333977\n",
            "AUC: 0.9656901173530062\n",
            "AUC: 0.9694633818218829\n",
            "AUC: 0.9702426717099318\n",
            "AUC: 0.9691758976442845\n",
            "AUC: 0.972909750623565\n",
            "AUC: 0.9716799522975786\n",
            "AUC: 0.9744618830061711\n",
            "AUC: 0.9732192083529402\n",
            "AUC: 0.9726046514404478\n",
            "AUC: 0.970768848992282\n",
            "AUC: 0.9718308563911154\n",
            "AUC: 0.9742805682364425\n",
            "AUC: 0.9720957823709262\n",
            "AUC: 0.9711357517841366\n",
            "AUC: 0.970281489768753\n",
            "AUC: 0.9753720760501108\n",
            "AUC: 0.9766667062348523\n",
            "AUC: 0.971647386613902\n",
            "AUC: 0.9702332948768032\n",
            "AUC: 0.9752074661295612\n",
            "AUC: 0.9694457683119276\n",
            "AUC: 0.9721744680247562\n"
          ]
        },
        {
          "name": "stderr",
          "output_type": "stream",
          "text": [
            "2023-11-09 18:11:28,954 - mealpy.swarm_based.SSA.OriginalSSA - INFO - >>>Problem: P, Epoch: 7, Current best: 0.9270284912847897, Global best: 0.9270284912847897, Runtime: 369.85943 seconds\n"
          ]
        },
        {
          "name": "stdout",
          "output_type": "stream",
          "text": [
            "AUC: 0.9695827899017622\n",
            "AUC: 0.9713395216705413\n",
            "AUC: 0.9679368182510655\n",
            "AUC: 0.9682250306005664\n",
            "AUC: 0.9716501891367179\n",
            "AUC: 0.973347883057003\n",
            "AUC: 0.9729395137844258\n",
            "AUC: 0.967478952823448\n",
            "AUC: 0.9707126136666041\n",
            "AUC: 0.9738873394794058\n",
            "AUC: 0.9717795418331661\n",
            "AUC: 0.9707519621586659\n",
            "AUC: 0.938229590373919\n",
            "AUC: 0.961766167717475\n",
            "AUC: 0.9668919172030436\n",
            "AUC: 0.9716326547877706\n",
            "AUC: 0.9690820583761939\n",
            "AUC: 0.962614412833071\n",
            "AUC: 0.973529875819117\n",
            "AUC: 0.9629537228777912\n",
            "AUC: 0.9684281529716398\n",
            "AUC: 0.9709375501807918\n",
            "AUC: 0.9716782125364535\n",
            "AUC: 0.9691878637101721\n",
            "AUC: 0.9727290833691674\n",
            "AUC: 0.9725603821806575\n",
            "AUC: 0.9692584828552482\n",
            "AUC: 0.9741631816058819\n",
            "AUC: 0.9709944330218009\n",
            "AUC: 0.9745082702546223\n",
            "AUC: 0.9730667530244851\n",
            "AUC: 0.9705762156719969\n",
            "AUC: 0.9683683271744737\n",
            "AUC: 0.975061408583934\n",
            "AUC: 0.9766667062348523\n",
            "AUC: 0.9712593542130881\n",
            "AUC: 0.9689657299750519\n",
            "AUC: 0.9743212052173967\n"
          ]
        },
        {
          "name": "stderr",
          "output_type": "stream",
          "text": [
            "2023-11-09 18:20:07,600 - mealpy.swarm_based.SSA.OriginalSSA - INFO - >>>Problem: P, Epoch: 8, Current best: 0.9270284912847897, Global best: 0.9270284912847897, Runtime: 518.64426 seconds\n"
          ]
        },
        {
          "name": "stdout",
          "output_type": "stream",
          "text": [
            "AUC: 0.9717970761821132\n",
            "AUC: 0.9682355196513547\n",
            "AUC: 0.9701126714981525\n",
            "AUC: 0.9683774859290216\n",
            "AUC: 0.9716487121216185\n",
            "AUC: 0.9702615315665958\n",
            "AUC: 0.9677405207003176\n",
            "AUC: 0.9730065058481067\n",
            "AUC: 0.9610292987449528\n",
            "AUC: 0.9658953409032597\n",
            "AUC: 0.9729703397069772\n",
            "AUC: 0.972648535674681\n",
            "AUC: 0.9679966374293082\n",
            "AUC: 0.9682474857172423\n",
            "AUC: 0.9700111112767974\n",
            "AUC: 0.972094567845601\n",
            "AUC: 0.9609482204904429\n",
            "AUC: 0.9720106941457446\n",
            "AUC: 0.9737280774224617\n",
            "AUC: 0.971073948175399\n",
            "AUC: 0.9702723262256813\n",
            "AUC: 0.9700804790236687\n",
            "AUC: 0.9686143885090969\n",
            "AUC: 0.9746600846095159\n",
            "AUC: 0.9722152935319174\n",
            "AUC: 0.9745476187466839\n",
            "AUC: 0.9683120918487959\n",
            "AUC: 0.9716311777726712\n",
            "AUC: 0.9729634406084532\n",
            "AUC: 0.9695329523589122\n",
            "AUC: 0.9731503594460434\n",
            "AUC: 0.9686263545749846\n",
            "AUC: 0.9741512155399943\n",
            "AUC: 0.9753896103990581\n",
            "AUC: 0.9714273708674427\n",
            "AUC: 0.9748863096125961\n",
            "AUC: 0.9723649463375564\n",
            "AUC: 0.9743036708684495\n"
          ]
        },
        {
          "name": "stderr",
          "output_type": "stream",
          "text": [
            "2023-11-09 18:28:33,871 - mealpy.swarm_based.SSA.OriginalSSA - INFO - >>>Problem: P, Epoch: 9, Current best: 0.9270284912847897, Global best: 0.9270284912847897, Runtime: 506.26905 seconds\n"
          ]
        },
        {
          "name": "stdout",
          "output_type": "stream",
          "text": [
            "AUC: 0.9700617783194155\n",
            "AUC: 0.9732985463106251\n",
            "AUC: 0.971497691481691\n",
            "AUC: 0.9716501891367179\n",
            "AUC: 0.973078409485503\n",
            "AUC: 0.9733492085647195\n",
            "AUC: 0.9684217551888118\n",
            "AUC: 0.971206714147422\n",
            "AUC: 0.9685529262881691\n",
            "AUC: 0.9753856303697407\n",
            "AUC: 0.9730329728154831\n",
            "AUC: 0.9716861985730237\n",
            "AUC: 0.9685904563773217\n",
            "AUC: 0.9013881486676486\n",
            "AUC: 0.9710886800015305\n",
            "AUC: 0.9585979430248649\n",
            "AUC: 0.9680492841138975\n",
            "AUC: 0.9717081523740033\n",
            "AUC: 0.9746825397261917\n",
            "AUC: 0.9725941623896598\n",
            "AUC: 0.967164482523867\n",
            "AUC: 0.9714237756074308\n",
            "AUC: 0.9703429030441856\n",
            "AUC: 0.9750733746498216\n",
            "AUC: 0.9731135205099695\n",
            "AUC: 0.9676704152561552\n",
            "AUC: 0.9732824889767774\n",
            "AUC: 0.9743423718451799\n",
            "AUC: 0.9710970508074062\n",
            "AUC: 0.9722202142996458\n",
            "AUC: 0.9717064244623957\n",
            "AUC: 0.971265751995916\n",
            "AUC: 0.9744858151379464\n",
            "AUC: 0.9690016281727148\n",
            "AUC: 0.9716536328893469\n",
            "AUC: 0.9736392764131071\n",
            "AUC: 0.9750669768669936\n",
            "AUC: 0.9718829581222613\n"
          ]
        },
        {
          "name": "stderr",
          "output_type": "stream",
          "text": [
            "2023-11-09 18:35:09,341 - mealpy.swarm_based.SSA.OriginalSSA - INFO - >>>Problem: P, Epoch: 10, Current best: 0.9270284912847897, Global best: 0.9270284912847897, Runtime: 395.46816 seconds\n"
          ]
        },
        {
          "name": "stdout",
          "output_type": "stream",
          "text": [
            "AUC: 0.9703675250178638\n",
            "AUC: 0.9716846103192814\n",
            "AUC: 0.9705706473889372\n",
            "AUC: 0.9660601968375082\n",
            "AUC: 0.9678510825105526\n",
            "AUC: 0.9727652443128562\n",
            "AUC: 0.9729465895596389\n",
            "AUC: 0.9678566507936123\n",
            "AUC: 0.9713219873215938\n",
            "AUC: 0.9707799855584014\n",
            "AUC: 0.9721977168563982\n",
            "AUC: 0.9739705482855969\n",
            "AUC: 0.9723677488603725\n",
            "AUC: 0.9698921318602225\n",
            "AUC: 0.9708988492040613\n",
            "AUC: 0.9701598603628493\n",
            "AUC: 0.9718069242593401\n",
            "AUC: 0.9681723773742071\n",
            "AUC: 0.9687324226549886\n",
            "AUC: 0.972022012696301\n",
            "AUC: 0.9703850593668112\n",
            "AUC: 0.9672890115628117\n",
            "AUC: 0.9644747949283433\n",
            "AUC: 0.9743494171433391\n",
            "AUC: 0.9720515131111359\n",
            "AUC: 0.9717675757672782\n",
            "AUC: 0.9747268089859821\n",
            "AUC: 0.9744794173551184\n",
            "AUC: 0.9738967786109717\n",
            "AUC: 0.9757565131909128\n",
            "AUC: 0.971438695959769\n",
            "AUC: 0.9715257572079983\n",
            "AUC: 0.974371872260015\n",
            "AUC: 0.973941047870762\n",
            "AUC: 0.9683663493629021\n",
            "AUC: 0.9698998551507669\n",
            "AUC: 0.9753960081818861\n",
            "AUC: 0.9722174117768297\n"
          ]
        },
        {
          "name": "stderr",
          "output_type": "stream",
          "text": [
            "2023-11-09 18:44:17,191 - mealpy.swarm_based.SSA.OriginalSSA - INFO - >>>Problem: P, Epoch: 11, Current best: 0.9270284912847897, Global best: 0.9270284912847897, Runtime: 547.84738 seconds\n"
          ]
        },
        {
          "name": "stdout",
          "output_type": "stream",
          "text": [
            "AUC: 0.9608908110541243\n",
            "AUC: 0.9712777180618036\n",
            "AUC: 0.9716431438385588\n",
            "AUC: 0.9724495045715681\n",
            "AUC: 0.9735108644550702\n",
            "AUC: 0.9713044529726464\n",
            "AUC: 0.9710667434685775\n",
            "AUC: 0.9733998756073378\n",
            "AUC: 0.9677217298141046\n",
            "AUC: 0.9709030866716567\n",
            "AUC: 0.9695131459203896\n",
            "AUC: 0.9730090406837077\n",
            "AUC: 0.9637424970930392\n",
            "AUC: 0.9754736257662774\n",
            "AUC: 0.9673665258098395\n",
            "AUC: 0.9265032971741279\n",
            "AUC: 0.9706204849317871\n",
            "AUC: 0.9596901592596385\n",
            "AUC: 0.9736985770076269\n",
            "AUC: 0.9705017984820404\n",
            "AUC: 0.9747595143275238\n",
            "AUC: 0.9717008561793361\n",
            "AUC: 0.9741296641429057\n",
            "AUC: 0.9679248521851779\n",
            "AUC: 0.9745525395144123\n",
            "AUC: 0.9695723008509741\n",
            "AUC: 0.9597120896928922\n",
            "AUC: 0.9745356526807963\n",
            "AUC: 0.9745476187466839\n",
            "AUC: 0.9688707984611673\n",
            "AUC: 0.9753840421159984\n",
            "AUC: 0.9742876135346016\n",
            "AUC: 0.9732634776127305\n",
            "AUC: 0.9737336457055216\n",
            "AUC: 0.9710675503925712\n",
            "AUC: 0.9748632069805891\n",
            "AUC: 0.975173874446766\n",
            "AUC: 0.9716551099044465\n"
          ]
        },
        {
          "name": "stderr",
          "output_type": "stream",
          "text": [
            "2023-11-09 18:50:30,096 - mealpy.swarm_based.SSA.OriginalSSA - INFO - >>>Problem: P, Epoch: 12, Current best: 0.9270284912847897, Global best: 0.9270284912847897, Runtime: 372.90284 seconds\n"
          ]
        },
        {
          "name": "stdout",
          "output_type": "stream",
          "text": [
            "AUC: 0.97377874446508\n",
            "AUC: 0.9686101457337536\n",
            "AUC: 0.9718469137249631\n",
            "AUC: 0.9738861010339765\n",
            "AUC: 0.9716557574197776\n",
            "AUC: 0.9704849116484243\n",
            "AUC: 0.9748632069805891\n",
            "AUC: 0.9715561983612444\n",
            "AUC: 0.971153286133084\n",
            "AUC: 0.9687379909380484\n",
            "AUC: 0.9737400434883495\n",
            "AUC: 0.9703379822764572\n",
            "AUC: 0.9623469827509648\n",
            "AUC: 0.9674841797186979\n",
            "AUC: 0.9731145704291917\n",
            "AUC: 0.9683774859290216\n",
            "AUC: 0.9682355196513547\n",
            "AUC: 0.9702614153867638\n",
            "AUC: 0.973566714755191\n",
            "AUC: 0.9595103215050093\n",
            "AUC: 0.9742925343023301\n",
            "AUC: 0.97076312130056\n",
            "AUC: 0.9692064903049135\n",
            "AUC: 0.9729272849725122\n",
            "AUC: 0.9723677488603725\n",
            "AUC: 0.9716382230708303\n",
            "AUC: 0.975044521750318\n",
            "AUC: 0.9722082482337582\n",
            "AUC: 0.9745033494868937\n",
            "AUC: 0.9746881080092513\n",
            "AUC: 0.9716446208536582\n",
            "AUC: 0.9702655482058201\n",
            "AUC: 0.9766547401689648\n",
            "AUC: 0.9734736452819629\n",
            "AUC: 0.9735756220940067\n",
            "AUC: 0.9719749409136947\n",
            "AUC: 0.9751858405126536\n",
            "AUC: 0.9729029726037037\n"
          ]
        },
        {
          "name": "stderr",
          "output_type": "stream",
          "text": [
            "2023-11-09 18:58:31,686 - mealpy.swarm_based.SSA.OriginalSSA - INFO - >>>Problem: P, Epoch: 13, Current best: 0.9272689372765472, Global best: 0.9272689372765472, Runtime: 481.58834 seconds\n"
          ]
        },
        {
          "name": "stdout",
          "output_type": "stream",
          "text": [
            "AUC: 0.9750733746498216\n",
            "AUC: 0.9712994898783461\n",
            "AUC: 0.9728339417123699\n",
            "AUC: 0.9714392145434919\n",
            "AUC: 0.9705586813230496\n",
            "AUC: 0.9714639535992607\n",
            "AUC: 0.972022354603335\n",
            "AUC: 0.9672721247291957\n",
            "AUC: 0.9678686168595\n",
            "AUC: 0.969043228467855\n",
            "AUC: 0.9703547520279826\n",
            "AUC: 0.9732192083529402\n",
            "AUC: 0.9677281275969326\n",
            "AUC: 0.9720339787621887\n",
            "AUC: 0.9696474928289093\n",
            "AUC: 0.9721520129080803\n",
            "AUC: 0.9705881817378845\n",
            "AUC: 0.9668913457434761\n",
            "AUC: 0.969811316887438\n",
            "AUC: 0.9695034519440773\n",
            "AUC: 0.9715082228590509\n",
            "AUC: 0.9719713456536828\n",
            "AUC: 0.9728172368631909\n",
            "AUC: 0.9752651784703387\n",
            "AUC: 0.9722321803655335\n",
            "AUC: 0.9675404150443758\n",
            "AUC: 0.9698878890848793\n",
            "AUC: 0.9707744172753415\n",
            "AUC: 0.9704357264094293\n",
            "AUC: 0.9729915063347604\n",
            "AUC: 0.9713444424382697\n",
            "AUC: 0.9718483907400627\n",
            "AUC: 0.9718357771588438\n",
            "AUC: 0.9703955484175993\n",
            "AUC: 0.9731015544440819\n",
            "AUC: 0.9720395470452483\n",
            "AUC: 0.9681055194395753\n",
            "AUC: 0.9734616792160753\n"
          ]
        },
        {
          "name": "stderr",
          "output_type": "stream",
          "text": [
            "2023-11-09 19:05:30,922 - mealpy.swarm_based.SSA.OriginalSSA - INFO - >>>Problem: P, Epoch: 14, Current best: 0.9272689372765472, Global best: 0.9272689372765472, Runtime: 419.23342 seconds\n"
          ]
        },
        {
          "name": "stdout",
          "output_type": "stream",
          "text": [
            "AUC: 0.9717408456449593\n",
            "AUC: 0.9720395470452483\n",
            "AUC: 0.9718533115077911\n",
            "AUC: 0.9709016149643049\n",
            "AUC: 0.9684217551888118\n",
            "AUC: 0.9698186241561474\n",
            "AUC: 0.9714397158591881\n",
            "AUC: 0.9711325589280158\n",
            "AUC: 0.9718788318933088\n",
            "AUC: 0.9716606781875061\n",
            "AUC: 0.9720395470452483\n",
            "AUC: 0.9657538193560556\n",
            "AUC: 0.9694957286535328\n",
            "AUC: 0.9711413200671964\n",
            "AUC: 0.9691808184120129\n",
            "AUC: 0.9710724711602996\n",
            "AUC: 0.9715975490710521\n",
            "AUC: 0.9682559903375355\n",
            "AUC: 0.9684217551888118\n",
            "AUC: 0.9737978300489457\n",
            "AUC: 0.9705129350481597\n",
            "AUC: 0.973914312959919\n",
            "AUC: 0.9699736248253922\n",
            "AUC: 0.9742812157517736\n",
            "AUC: 0.9746032017685068\n",
            "AUC: 0.9700258801217526\n",
            "AUC: 0.9743092391515091\n",
            "AUC: 0.9737034977753553\n",
            "AUC: 0.9741807159548294\n",
            "AUC: 0.971627044178139\n",
            "AUC: 0.9707435913527901\n",
            "AUC: 0.9737336457055216\n",
            "AUC: 0.9717239588113432\n",
            "AUC: 0.9697016535474221\n",
            "AUC: 0.9743663039769553\n",
            "AUC: 0.9694853553736597\n",
            "AUC: 0.9718828119226263\n",
            "AUC: 0.9735028784184999\n"
          ]
        },
        {
          "name": "stderr",
          "output_type": "stream",
          "text": [
            "2023-11-09 19:12:52,829 - mealpy.swarm_based.SSA.OriginalSSA - INFO - >>>Problem: P, Epoch: 15, Current best: 0.9272689372765472, Global best: 0.9272689372765472, Runtime: 441.90527 seconds\n"
          ]
        },
        {
          "name": "stdout",
          "output_type": "stream",
          "text": [
            "AUC: 0.9743774405430746\n",
            "AUC: 0.9702922783281392\n",
            "AUC: 0.966258398440853\n",
            "AUC: 0.9705762156719969\n",
            "AUC: 0.9728354187274695\n",
            "AUC: 0.9696149336870025\n",
            "AUC: 0.9707303736324461\n",
            "AUC: 0.9690823884337099\n",
            "AUC: 0.9728270479215938\n",
            "AUC: 0.9459886307353395\n",
            "AUC: 0.9587879580957169\n",
            "AUC: 0.9735916794278546\n",
            "AUC: 0.971451987533373\n",
            "AUC: 0.9633445578014211\n",
            "AUC: 0.9715302506235979\n",
            "AUC: 0.9733423094661955\n",
            "AUC: 0.973920710742747\n",
            "AUC: 0.9703253740029861\n",
            "AUC: 0.9710009054333647\n",
            "AUC: 0.9730195297344958\n",
            "AUC: 0.9659354064246468\n",
            "AUC: 0.9720826017797134\n",
            "AUC: 0.9752209092105483\n",
            "AUC: 0.9691758976442845\n",
            "AUC: 0.9716501891367179\n",
            "AUC: 0.9716606781875061\n",
            "AUC: 0.9708693487892264\n",
            "AUC: 0.971451987533373\n",
            "AUC: 0.9715321549908262\n",
            "AUC: 0.9757565131909128\n",
            "AUC: 0.9722377486485931\n",
            "AUC: 0.9713001731784794\n",
            "AUC: 0.9748927073954241\n",
            "AUC: 0.9712713202789757\n",
            "AUC: 0.9712629494731\n",
            "AUC: 0.9689868595840112\n",
            "AUC: 0.9758738998214732\n",
            "AUC: 0.9751858405126536\n"
          ]
        },
        {
          "name": "stderr",
          "output_type": "stream",
          "text": [
            "2023-11-09 19:19:57,808 - mealpy.swarm_based.SSA.OriginalSSA - INFO - >>>Problem: P, Epoch: 16, Current best: 0.9272689372765472, Global best: 0.9272689372765472, Runtime: 424.97721 seconds\n"
          ]
        },
        {
          "name": "stdout",
          "output_type": "stream",
          "text": [
            "AUC: 0.973411012173457\n",
            "AUC: 0.9673477817240906\n",
            "AUC: 0.9725484161147699\n",
            "AUC: 0.970874917072286\n",
            "AUC: 0.9667721882781031\n",
            "AUC: 0.9732247766359999\n",
            "AUC: 0.9711357517841366\n",
            "AUC: 0.9714178336291077\n",
            "AUC: 0.9703709687704928\n",
            "AUC: 0.9636204827910476\n",
            "AUC: 0.9705586813230496\n",
            "AUC: 0.9737280774224617\n",
            "AUC: 0.9703169976331109\n",
            "AUC: 0.9688515482711986\n",
            "AUC: 0.9680387950631092\n",
            "AUC: 0.966705110206019\n",
            "AUC: 0.9739367680765948\n",
            "AUC: 0.9691298209972472\n",
            "AUC: 0.9732247766359999\n",
            "AUC: 0.9705706473889372\n",
            "AUC: 0.966145665299723\n",
            "AUC: 0.9720596506550893\n",
            "AUC: 0.9716326547877706\n",
            "AUC: 0.973281841461446\n",
            "AUC: 0.974371872260015\n",
            "AUC: 0.9739699007702657\n",
            "AUC: 0.9741512155399943\n",
            "AUC: 0.9713275556046536\n",
            "AUC: 0.9755702776534556\n",
            "AUC: 0.9759596355619861\n",
            "AUC: 0.9718413454419035\n",
            "AUC: 0.972903352840737\n",
            "AUC: 0.9724887307509449\n",
            "AUC: 0.9735682724987256\n",
            "AUC: 0.9718828119226263\n",
            "AUC: 0.9748807413295365\n",
            "AUC: 0.9714569083011017\n",
            "AUC: 0.9699736248253922\n"
          ]
        },
        {
          "name": "stderr",
          "output_type": "stream",
          "text": [
            "2023-11-09 19:27:11,140 - mealpy.swarm_based.SSA.OriginalSSA - INFO - >>>Problem: P, Epoch: 17, Current best: 0.9272689372765472, Global best: 0.9272689372765472, Runtime: 433.33048 seconds\n"
          ]
        },
        {
          "name": "stdout",
          "output_type": "stream",
          "text": [
            "AUC: 0.9748751730464768\n",
            "AUC: 0.9694917531564876\n",
            "AUC: 0.9712601837128564\n",
            "AUC: 0.9723621805773127\n",
            "AUC: 0.9733436402816599\n",
            "AUC: 0.9700448914857995\n",
            "AUC: 0.9676879496051024\n",
            "AUC: 0.9711253369531674\n",
            "AUC: 0.9714464192503134\n",
            "AUC: 0.9689545563901087\n",
            "AUC: 0.9705404266551451\n",
            "AUC: 0.9732192083529402\n",
            "AUC: 0.9715082228590509\n",
            "AUC: 0.9685581531834191\n",
            "AUC: 0.9714006729754238\n",
            "AUC: 0.9613199269679354\n",
            "AUC: 0.974335589036795\n",
            "AUC: 0.972264098533879\n",
            "AUC: 0.9757231419275715\n",
            "AUC: 0.9737562470218325\n",
            "AUC: 0.9711357517841366\n",
            "AUC: 0.9683774859290216\n",
            "AUC: 0.9755702776534556\n",
            "AUC: 0.9751978065785413\n",
            "AUC: 0.9746769714431319\n",
            "AUC: 0.9720395470452483\n",
            "AUC: 0.9746840167412912\n",
            "AUC: 0.9745525395144123\n",
            "AUC: 0.9707070453835445\n",
            "AUC: 0.9744225345141094\n",
            "AUC: 0.9705881817378845\n",
            "AUC: 0.9710555843266836\n",
            "AUC: 0.9716861985730237\n",
            "AUC: 0.9740894119312568\n",
            "AUC: 0.9714633060839296\n",
            "AUC: 0.9747507411177572\n",
            "AUC: 0.971969372630635\n",
            "AUC: 0.9757346990477983\n"
          ]
        },
        {
          "name": "stderr",
          "output_type": "stream",
          "text": [
            "2023-11-09 19:35:40,313 - mealpy.swarm_based.SSA.OriginalSSA - INFO - >>>Problem: P, Epoch: 18, Current best: 0.9272689372765472, Global best: 0.9272689372765472, Runtime: 509.17052 seconds\n"
          ]
        },
        {
          "name": "stdout",
          "output_type": "stream",
          "text": [
            "AUC: 0.9725280792430065\n",
            "AUC: 0.9718539590231224\n",
            "AUC: 0.9714639535992607\n",
            "AUC: 0.9737432438827843\n",
            "AUC: 0.9731496814536582\n",
            "AUC: 0.9737667783991925\n",
            "AUC: 0.9689355013883145\n",
            "AUC: 0.9687460787114012\n",
            "AUC: 0.9709053582255321\n",
            "AUC: 0.9723530346688266\n",
            "AUC: 0.9730210067495954\n",
            "AUC: 0.9681865425992614\n",
            "AUC: 0.9712587066977568\n",
            "AUC: 0.9647810961247855\n",
            "AUC: 0.9673597477899785\n",
            "AUC: 0.9723034470259408\n",
            "AUC: 0.9414324450826378\n",
            "AUC: 0.9707144333806887\n",
            "AUC: 0.9727770588713608\n",
            "AUC: 0.971288854627923\n",
            "AUC: 0.962965688943679\n",
            "AUC: 0.9671510571358454\n",
            "AUC: 0.9700980567541118\n",
            "AUC: 0.9737907105309677\n",
            "AUC: 0.9694647557558705\n",
            "AUC: 0.9729153189066246\n",
            "AUC: 0.9746840167412912\n",
            "AUC: 0.9733928303091784\n",
            "AUC: 0.9657642432482456\n",
            "AUC: 0.9738405480738176\n",
            "AUC: 0.9709550845297392\n",
            "AUC: 0.9732136400698805\n",
            "AUC: 0.9748751730464768\n",
            "AUC: 0.9746825397261917\n",
            "AUC: 0.9726046514404478\n",
            "AUC: 0.9745525395144123\n",
            "AUC: 0.971411809541543\n",
            "AUC: 0.9705586813230496\n"
          ]
        },
        {
          "name": "stderr",
          "output_type": "stream",
          "text": [
            "2023-11-09 19:42:43,785 - mealpy.swarm_based.SSA.OriginalSSA - INFO - >>>Problem: P, Epoch: 19, Current best: 0.9272689372765472, Global best: 0.9272689372765472, Runtime: 423.47027 seconds\n"
          ]
        },
        {
          "name": "stdout",
          "output_type": "stream",
          "text": [
            "AUC: 0.9723621805773127\n",
            "AUC: 0.9698691449991305\n",
            "AUC: 0.9685756875323664\n",
            "AUC: 0.9761904028490077\n",
            "AUC: 0.9738855997182805\n",
            "AUC: 0.9686770526085913\n",
            "AUC: 0.9716206887218829\n",
            "AUC: 0.9591075205154919\n",
            "AUC: 0.9723566122942531\n",
            "AUC: 0.9745273928573118\n",
            "AUC: 0.9410830766397306\n",
            "AUC: 0.9735580454184877\n",
            "AUC: 0.970845819061342\n",
            "AUC: 0.9679073178362305\n",
            "AUC: 0.9711076860578293\n",
            "AUC: 0.9686024224432094\n",
            "AUC: 0.9691112915127308\n",
            "AUC: 0.9667576873766143\n",
            "AUC: 0.9764526677171138\n",
            "AUC: 0.9737210321243026\n",
            "AUC: 0.9573495742213876\n",
            "AUC: 0.9716446208536582\n",
            "AUC: 0.9713339533874814\n",
            "AUC: 0.9709550845297392\n",
            "AUC: 0.9746705736603042\n",
            "AUC: 0.9731240095607575\n",
            "AUC: 0.9750227076072034\n",
            "AUC: 0.9714695218823204\n",
            "AUC: 0.9713795111361643\n",
            "AUC: 0.9718477432247314\n",
            "AUC: 0.9739769460684248\n",
            "AUC: 0.9743494171433391\n",
            "AUC: 0.9751978065785413\n",
            "AUC: 0.9731015544440819\n",
            "AUC: 0.9725308817658226\n",
            "AUC: 0.9740117474880213\n",
            "AUC: 0.9702723262256813\n",
            "AUC: 0.9720410240603479\n"
          ]
        },
        {
          "name": "stderr",
          "output_type": "stream",
          "text": [
            "2023-11-09 19:49:19,052 - mealpy.swarm_based.SSA.OriginalSSA - INFO - >>>Problem: P, Epoch: 20, Current best: 0.9272689372765472, Global best: 0.9272689372765472, Runtime: 395.26520 seconds\n"
          ]
        },
        {
          "name": "stdout",
          "output_type": "stream",
          "text": [
            "AUC: 0.9744907359056748\n"
          ]
        }
      ],
      "source": [
        "model_ssa_cb = SSA.OriginalSSA(epoch=20, pop_size=20, ST = 0.8, PD = 0.2, SD = 0.1)\n",
        "g_best_ssa_cb = model_ssa_cb.solve(problem_dict_cb)\n"
      ]
    },
    {
      "cell_type": "code",
      "execution_count": 175,
      "metadata": {},
      "outputs": [
        {
          "name": "stdout",
          "output_type": "stream",
          "text": [
            "Solution: [1.65798611e+03 4.86504012e+00 7.93158570e-02 3.33805085e+01\n",
            " 6.75798073e-01], Fitness: 0.9272689372765472\n"
          ]
        }
      ],
      "source": [
        "print(f\"Solution: {g_best_ssa_cb.solution}, Fitness: {g_best_ssa_cb.target.fitness}\")"
      ]
    },
    {
      "cell_type": "code",
      "execution_count": 177,
      "metadata": {},
      "outputs": [
        {
          "name": "stdout",
          "output_type": "stream",
          "text": [
            "Best hyperparameters: 0.9272689372765472\n",
            "iteration: 1657\n",
            "depth: 4\n",
            "learning_rate: 0.07931585702784189\n",
            "min_data_in_leaf: 33\n",
            "l2_leaf_reg: 0.6757980733743492\n"
          ]
        }
      ],
      "source": [
        "# Now, best_hyperparameter_values is an array of hyperparameter values\n",
        "# You can print it to see the best hyperparameters\n",
        "# print(\"Best accuracy:\", -best_accuracy)\n",
        "print(\"Best hyperparameters:\", g_best_ssa_cb.target.fitness)\n",
        "print(\"iteration:\", int(g_best_ssa_cb.solution[0]))\n",
        "print(\"depth:\", int(g_best_ssa_cb.solution[1]))\n",
        "print(\"learning_rate:\", float(g_best_ssa_cb.solution[2]))\n",
        "print(\"min_data_in_leaf:\", int(g_best_ssa_cb.solution[3]))\n",
        "print(\"l2_leaf_reg:\", float(g_best_ssa_cb.solution[4]))\n"
      ]
    },
    {
      "cell_type": "code",
      "execution_count": 178,
      "metadata": {},
      "outputs": [],
      "source": [
        "# Define the best hyperparameters as a dictionary\n",
        "best_hyperparameters_ssa_cb = {\n",
        "    'iterations': int(g_best_ssa_cb.solution[0]),\n",
        "    'depth': int(g_best_ssa_cb.solution[1]),\n",
        "    'learning_rate': float(g_best_ssa_cb.solution[2]),\n",
        "    'min_data_in_leaf': int(g_best_ssa_cb.solution[3]),\n",
        "    \"l2_leaf_reg\": float(g_best_ssa_cb.solution[4]),\n",
        "    'class_weights': class_weights,  # Assuming you have class_weights defined\n",
        "    'task_type': device_type,\n",
        "    'devices': '0:1',\n",
        "    'cat_features': cat_feat_idx,\n",
        "    'verbose': 0,\n",
        "}"
      ]
    },
    {
      "cell_type": "code",
      "execution_count": 179,
      "metadata": {},
      "outputs": [
        {
          "name": "stdout",
          "output_type": "stream",
          "text": [
            "0:\tlearn: 1.5357753\ttotal: 5.99ms\tremaining: 9.93s\n",
            "1000:\tlearn: 0.0062413\ttotal: 4.64s\tremaining: 3.04s\n",
            "1656:\tlearn: 0.0025864\ttotal: 7.67s\tremaining: 0us\n"
          ]
        },
        {
          "data": {
            "text/plain": [
              "<catboost.core.CatBoostClassifier at 0x25cd585f9a0>"
            ]
          },
          "execution_count": 179,
          "metadata": {},
          "output_type": "execute_result"
        }
      ],
      "source": [
        "# Create a CatBoost classifier with the best hyperparameters\n",
        "ssa_cb_model = CatBoostClassifier(**best_hyperparameters_ssa_cb)\n",
        "\n",
        "# Train the model on your training data\n",
        "ssa_cb_model.fit(train_pool , verbose = 1000 )"
      ]
    },
    {
      "cell_type": "code",
      "execution_count": 180,
      "metadata": {},
      "outputs": [],
      "source": [
        "importances = ssa_cb_model.get_feature_importance(type='PredictionValuesChange')\n",
        "feature_importances = pd.Series(importances, index=X.columns).sort_values()"
      ]
    },
    {
      "cell_type": "code",
      "execution_count": 181,
      "metadata": {},
      "outputs": [
        {
          "data": {
            "image/png": "[encoded data removed]",
            "text/plain": [
              "<Figure size 1000x600 with 1 Axes>"
            ]
          },
          "metadata": {},
          "output_type": "display_data"
        }
      ],
      "source": [
        "plt.figure(figsize=(10, 6))\n",
        "plt.barh(feature_importances.index, feature_importances.values)\n",
        "plt.title('CatBoost Feature Importance')\n",
        "plt.xlabel('Importance')\n",
        "plt.ylabel('Features')\n",
        "plt.show()"
      ]
    },
    {
      "cell_type": "markdown",
      "metadata": {
        "id": "KeCYSwJ8Pd51"
      },
      "source": [
        "# <span style=\"color:#e74c3c;\"> Results </span>\n"
      ]
    },
    {
      "cell_type": "code",
      "execution_count": 182,
      "metadata": {
        "id": "x2kgFMu6vCXP"
      },
      "outputs": [],
      "source": [
        "from sklearn.metrics import roc_curve, auc"
      ]
    },
    {
      "cell_type": "markdown",
      "metadata": {
        "id": "QERybE9yzOde"
      },
      "source": [
        "### Cat Boost Base Model"
      ]
    },
    {
      "cell_type": "code",
      "execution_count": 183,
      "metadata": {
        "colab": {
          "base_uri": "https://localhost:8080/"
        },
        "id": "jIJLHxWfzYBc",
        "outputId": "363c2cb5-3660-403e-fbf0-4a617ed92e20"
      },
      "outputs": [
        {
          "name": "stdout",
          "output_type": "stream",
          "text": [
            "R2 Score :0.80534\n",
            "Mean Squared Error :0.12771\n"
          ]
        }
      ],
      "source": [
        "# predictions and scores\n",
        "\n",
        "pred = cb_model.predict(test_pool)\n",
        "\n",
        "r2_sr = r2_score(y_test, pred)\n",
        "mse = mean_squared_error(y_test, pred)\n",
        "\n",
        "print('R2 Score :{0:.5f}'.format(r2_sr))\n",
        "print('Mean Squared Error :{0:.5f}'.format(mse))"
      ]
    },
    {
      "cell_type": "code",
      "execution_count": 184,
      "metadata": {
        "colab": {
          "base_uri": "https://localhost:8080/"
        },
        "id": "GGkk5yRjzZ4v",
        "outputId": "c9b9aa1d-381b-4ef4-8d92-818169753ec3"
      },
      "outputs": [
        {
          "name": "stdout",
          "output_type": "stream",
          "text": [
            "              precision    recall  f1-score   support\n",
            "\n",
            "           0       0.96      0.96      0.96       264\n",
            "           1       0.96      0.98      0.97       749\n",
            "           2       0.94      0.90      0.92       124\n",
            "           3       0.88      0.81      0.85        37\n",
            "           4       1.00      0.56      0.71         9\n",
            "           5       1.00      0.93      0.97        15\n",
            "\n",
            "    accuracy                           0.96      1198\n",
            "   macro avg       0.96      0.86      0.90      1198\n",
            "weighted avg       0.96      0.96      0.96      1198\n",
            "\n"
          ]
        }
      ],
      "source": [
        "# classification report\n",
        "\n",
        "clf_report_cb = classification_report(pred, y_test)\n",
        "\n",
        "print(clf_report_cb)"
      ]
    },
    {
      "cell_type": "markdown",
      "metadata": {
        "id": "0MitoU71zQDU"
      },
      "source": [
        "### Base With SI"
      ]
    },
    {
      "cell_type": "markdown",
      "metadata": {
        "id": "xN5H3gV_bCAJ"
      },
      "source": [
        "#### Catboost"
      ]
    },
    {
      "cell_type": "markdown",
      "metadata": {
        "id": "cn8d3zH9pP4z"
      },
      "source": [
        "#### PSO"
      ]
    },
    {
      "cell_type": "code",
      "execution_count": 185,
      "metadata": {
        "colab": {
          "base_uri": "https://localhost:8080/"
        },
        "id": "lCqFV0bQPd51",
        "outputId": "ea119c56-a8b7-4439-8546-5f0c70af4017"
      },
      "outputs": [
        {
          "name": "stdout",
          "output_type": "stream",
          "text": [
            "R2 Score :0.83460\n",
            "Mean Squared Error :0.10851\n"
          ]
        }
      ],
      "source": [
        "# predictions and scores\n",
        "\n",
        "pred = pso_cb_model.predict(test_pool)\n",
        "\n",
        "r2_sr = r2_score(y_test, pred)\n",
        "mse = mean_squared_error(y_test, pred)\n",
        "\n",
        "print('R2 Score :{0:.5f}'.format(r2_sr))\n",
        "print('Mean Squared Error :{0:.5f}'.format(mse))"
      ]
    },
    {
      "cell_type": "code",
      "execution_count": 186,
      "metadata": {
        "colab": {
          "base_uri": "https://localhost:8080/"
        },
        "id": "M2qxa64xPd52",
        "outputId": "af9af8f7-6429-4bf1-f105-130024252313"
      },
      "outputs": [
        {
          "name": "stdout",
          "output_type": "stream",
          "text": [
            "              precision    recall  f1-score   support\n",
            "\n",
            "           0       0.96      0.97      0.97       261\n",
            "           1       0.97      0.98      0.98       760\n",
            "           2       0.94      0.93      0.93       120\n",
            "           3       0.88      0.91      0.90        33\n",
            "           4       1.00      0.56      0.71         9\n",
            "           5       1.00      0.93      0.97        15\n",
            "\n",
            "    accuracy                           0.97      1198\n",
            "   macro avg       0.96      0.88      0.91      1198\n",
            "weighted avg       0.97      0.97      0.97      1198\n",
            "\n"
          ]
        }
      ],
      "source": [
        "# classification report\n",
        "\n",
        "clf_report = classification_report(pred, y_test )\n",
        "\n",
        "print(clf_report)"
      ]
    },
    {
      "cell_type": "code",
      "execution_count": 188,
      "metadata": {},
      "outputs": [
        {
          "data": {
            "image/png": "[encoded data removed]",
            "text/plain": [
              "<Figure size 640x480 with 2 Axes>"
            ]
          },
          "metadata": {},
          "output_type": "display_data"
        },
        {
          "data": {
            "image/png": "[encoded data removed]",
            "text/plain": [
              "<Figure size 640x480 with 2 Axes>"
            ]
          },
          "metadata": {},
          "output_type": "display_data"
        }
      ],
      "source": [
        "model_pso_cb.history.save_global_objectives_chart(filename=\"pso/goc\")\n",
        "model_pso_cb.history.save_local_objectives_chart(filename=\"pso/loc\")"
      ]
    },
    {
      "cell_type": "code",
      "execution_count": 189,
      "metadata": {},
      "outputs": [
        {
          "data": {
            "image/png": "[encoded data removed]",
            "text/plain": [
              "<Figure size 640x480 with 1 Axes>"
            ]
          },
          "metadata": {},
          "output_type": "display_data"
        },
        {
          "data": {
            "image/png": "[encoded data removed]",
            "text/plain": [
              "<Figure size 640x480 with 1 Axes>"
            ]
          },
          "metadata": {},
          "output_type": "display_data"
        }
      ],
      "source": [
        "model_pso_cb.history.save_runtime_chart(filename=\"pso/rtc\")\n",
        "model_pso_cb.history.save_exploration_exploitation_chart(filename=\"pso/eec\")"
      ]
    },
    {
      "cell_type": "markdown",
      "metadata": {
        "id": "jn_JoysypSMr"
      },
      "source": [
        "#### SSA"
      ]
    },
    {
      "cell_type": "code",
      "execution_count": null,
      "metadata": {
        "colab": {
          "base_uri": "https://localhost:8080/"
        },
        "id": "cjsEjG9spT5C",
        "outputId": "75bea0e1-4e73-4a9e-ab97-9933e3264e28"
      },
      "outputs": [
        {
          "name": "stdout",
          "output_type": "stream",
          "text": [
            "R2 Score :0.87531\n",
            "Mean Squared Error :0.08180\n"
          ]
        }
      ],
      "source": [
        "# predictions and scores\n",
        "\n",
        "pred = ssa_cb_model.predict(test_pool)\n",
        "\n",
        "r2_sr = r2_score(y_test, pred)\n",
        "mse = mean_squared_error(y_test, pred)\n",
        "\n",
        "print('R2 Score :{0:.5f}'.format(r2_sr))\n",
        "print('Mean Squared Error :{0:.5f}'.format(mse))"
      ]
    },
    {
      "cell_type": "code",
      "execution_count": null,
      "metadata": {
        "colab": {
          "base_uri": "https://localhost:8080/"
        },
        "id": "dtan0HmBpV52",
        "outputId": "07c1b96c-1ca5-4511-a209-cd3376baccdb"
      },
      "outputs": [
        {
          "name": "stdout",
          "output_type": "stream",
          "text": [
            "              precision    recall  f1-score   support\n",
            "\n",
            "           0       0.97      0.97      0.97       264\n",
            "           1       0.97      0.98      0.98       759\n",
            "           2       0.93      0.94      0.94       117\n",
            "           3       0.91      0.86      0.89        36\n",
            "           4       1.00      0.71      0.83         7\n",
            "           5       1.00      0.93      0.97        15\n",
            "\n",
            "    accuracy                           0.97      1198\n",
            "   macro avg       0.96      0.90      0.93      1198\n",
            "weighted avg       0.97      0.97      0.97      1198\n",
            "\n"
          ]
        }
      ],
      "source": [
        "# classification report\n",
        "\n",
        "clf_report = classification_report(pred, y_test )\n",
        "\n",
        "print(clf_report)"
      ]
    },
    {
      "cell_type": "code",
      "execution_count": null,
      "metadata": {},
      "outputs": [],
      "source": [
        "model_ssa_cb.history.save_global_objectives_chart(filename=\"ssa/goc\")\n",
        "model_ssa_cb.history.save_local_objectives_chart(filename=\"ssa/loc\")"
      ]
    },
    {
      "cell_type": "code",
      "execution_count": null,
      "metadata": {},
      "outputs": [],
      "source": [
        "model_ssa_cb.history.save_runtime_chart(filename=\"ssa/rtc\")\n",
        "model_ssa_cb.history.save_exploration_exploitation_chart(filename=\"ssa/eec\")"
      ]
    },
    {
      "cell_type": "markdown",
      "metadata": {
        "id": "i92q2dzeyOBB"
      },
      "source": [
        "## Save Model"
      ]
    },
    {
      "cell_type": "markdown",
      "metadata": {
        "id": "oIKamVaizi8n"
      },
      "source": [
        "### Base Model"
      ]
    },
    {
      "cell_type": "code",
      "execution_count": null,
      "metadata": {
        "id": "ozKvWE__zknd"
      },
      "outputs": [],
      "source": [
        "cb_model.save_model('model_catboost.cbm',format=\"cbm\")"
      ]
    },
    {
      "cell_type": "markdown",
      "metadata": {
        "id": "1t_MqOp_zgDS"
      },
      "source": [
        "### Base with SI"
      ]
    },
    {
      "cell_type": "code",
      "execution_count": null,
      "metadata": {
        "id": "NBDRx_ZIyNEC"
      },
      "outputs": [],
      "source": [
        "pso_cb_model.save_model(f'model_pso_catboost_iter.cbm', format=\"cbm\")"
      ]
    }
  ],
  "metadata": {
    "accelerator": "GPU",
    "colab": {
      "collapsed_sections": [
        "vp-pb3LBSG9W",
        "-7_rRRjAPFFW"
      ],
      "gpuType": "T4",
      "provenance": []
    },
    "kernelspec": {
      "display_name": "Python 3",
      "name": "python3"
    },
    "language_info": {
      "codemirror_mode": {
        "name": "ipython",
        "version": 3
      },
      "file_extension": ".py",
      "mimetype": "text/x-python",
      "name": "python",
      "nbconvert_exporter": "python",
      "pygments_lexer": "ipython3",
      "version": "3.10.13"
    }
  },
  "nbformat": 4,
  "nbformat_minor": 0
}
